{
 "cells": [
  {
   "cell_type": "markdown",
   "id": "7f1e90bd-b877-47fc-8844-57b2ddfa3c66",
   "metadata": {},
   "source": [
    "# Data Science Lab Project SS24\n",
    "# APA-IT Informations Technologie GmbH\n",
    "# News article classification\n",
    "## Team members:\n",
    "- Nurzhanat Zhussup\n",
    "- Mariia\n",
    "- Gregor\n",
    "- Danylo"
   ]
  },
  {
   "cell_type": "markdown",
   "id": "b726f224-dda4-4eaa-9d07-83d99dc23bb6",
   "metadata": {},
   "source": [
    "### Data import and preprcoessing"
   ]
  },
  {
   "cell_type": "code",
   "execution_count": 2,
   "id": "979780d0-009f-4479-b9dc-f3df54a5be2f",
   "metadata": {},
   "outputs": [],
   "source": [
    "import pandas as pd\n",
    "import numpy as np\n",
    "import matplotlib.pyplot as plt\n",
    "import seaborn as sns\n",
    "%matplotlib inline"
   ]
  },
  {
   "cell_type": "code",
   "execution_count": 3,
   "id": "fc555fe2-1339-414e-84b7-d0e86215e446",
   "metadata": {},
   "outputs": [],
   "source": [
    "interview = pd.read_json('./export_20240314/interview.jsonl', lines=True)\n",
    "letters = pd.read_json('./export_20240314/leserbrief.jsonl', lines=True)\n",
    "comments = pd.read_json('./export_20240314/meinung.jsonl', lines=True)"
   ]
  },
  {
   "cell_type": "markdown",
   "id": "4a4225cd-b12c-4d1a-b834-acd841a03bed",
   "metadata": {},
   "source": [
    "#### In this part we will take the date that was labeled as relevant and concat all data into 1 df"
   ]
  },
  {
   "cell_type": "code",
   "execution_count": 4,
   "id": "193a608c-c2f3-43cb-af48-858b355ddca0",
   "metadata": {},
   "outputs": [],
   "source": [
    "data = [interview, letters, comments]\n",
    "\n",
    "# Extract data from list values in \"labels\" column\n",
    "for i in range(len(data)):\n",
    "    data[i]['labels'] = data[i]['labels'].apply(lambda x: x[0])\n",
    "\n",
    "interview = data[0]\n",
    "letters = data[1]\n",
    "comments = data[2]"
   ]
  },
  {
   "cell_type": "code",
   "execution_count": 5,
   "id": "4d99be59-aaa6-41a2-99b7-1327fca022ef",
   "metadata": {},
   "outputs": [
    {
     "name": "stdout",
     "output_type": "stream",
     "text": [
      "Data 0:\n",
      "Unique labels: ['RELEVANT' 'NONRELEVANT']\n",
      "Data 1:\n",
      "Unique labels: ['RELEVANT' 'NONRELEVANT']\n",
      "Data 2:\n",
      "Unique labels: ['RELEVANT' 'NONRELEVANT']\n"
     ]
    }
   ],
   "source": [
    "for i, d in enumerate(data):\n",
    "    print(f\"Data {i}:\\nUnique labels: {d['labels'].unique()}\")"
   ]
  },
  {
   "cell_type": "code",
   "execution_count": 6,
   "id": "80956df3-50a7-4b54-befe-aecb2d2e6a58",
   "metadata": {},
   "outputs": [],
   "source": [
    "# Filter the datasets to include only relevant data\n",
    "for i in range(len(data)):\n",
    "    data[i] = data[i][data[i]['labels'] == 'RELEVANT']"
   ]
  },
  {
   "cell_type": "code",
   "execution_count": 7,
   "id": "be914c5b-603e-4b9d-8515-1b2310f84cb2",
   "metadata": {},
   "outputs": [],
   "source": [
    "# Rewrite the label values in each dataset\n",
    "for i in range(len(data)):\n",
    "    if i == 0:\n",
    "        data[i].loc[:, 'labels'] = 'interview'\n",
    "    elif i == 1:\n",
    "        data[i].loc[:, 'labels'] = 'letter'\n",
    "    else:\n",
    "        data[i].loc[:, 'labels'] = 'comment'"
   ]
  },
  {
   "cell_type": "code",
   "execution_count": 8,
   "id": "000c11f6-c564-43ce-9f71-77fe20a7c788",
   "metadata": {},
   "outputs": [
    {
     "name": "stdout",
     "output_type": "stream",
     "text": [
      "Data 0:\n",
      "Unique labels: ['interview']\n",
      "Data 1:\n",
      "Unique labels: ['letter']\n",
      "Data 2:\n",
      "Unique labels: ['comment']\n"
     ]
    }
   ],
   "source": [
    "for i, d in enumerate(data):\n",
    "    print(f\"Data {i}:\\nUnique labels: {d['labels'].unique()}\")"
   ]
  },
  {
   "cell_type": "code",
   "execution_count": 9,
   "id": "85ddf892-a4b5-4468-85ab-097c06a6f878",
   "metadata": {},
   "outputs": [
    {
     "data": {
      "text/html": [
       "<div>\n",
       "<style scoped>\n",
       "    .dataframe tbody tr th:only-of-type {\n",
       "        vertical-align: middle;\n",
       "    }\n",
       "\n",
       "    .dataframe tbody tr th {\n",
       "        vertical-align: top;\n",
       "    }\n",
       "\n",
       "    .dataframe thead th {\n",
       "        text-align: right;\n",
       "    }\n",
       "</style>\n",
       "<table border=\"1\" class=\"dataframe\">\n",
       "  <thead>\n",
       "    <tr style=\"text-align: right;\">\n",
       "      <th></th>\n",
       "      <th>labels</th>\n",
       "      <th>text</th>\n",
       "      <th>unikey</th>\n",
       "      <th>recname</th>\n",
       "      <th>recstamp</th>\n",
       "    </tr>\n",
       "  </thead>\n",
       "  <tbody>\n",
       "    <tr>\n",
       "      <th>0</th>\n",
       "      <td>interview</td>\n",
       "      <td>Zwei Jubiläen als Stresstest\\n\\ninterviewLento...</td>\n",
       "      <td>2.099312e+18</td>\n",
       "      <td>KRONE_2023123115001241154</td>\n",
       "      <td>2023-12-31T00:00:00Z</td>\n",
       "    </tr>\n",
       "    <tr>\n",
       "      <th>1</th>\n",
       "      <td>interview</td>\n",
       "      <td>Leserbrief: \"Klimawandel oder Klimakrise\"\\n\\n ...</td>\n",
       "      <td>6.326778e+18</td>\n",
       "      <td>KRONE_2023123115001241348</td>\n",
       "      <td>2023-12-31T00:00:00Z</td>\n",
       "    </tr>\n",
       "    <tr>\n",
       "      <th>2</th>\n",
       "      <td>interview</td>\n",
       "      <td>„Kaum eine Woche unter 80 Arbeitsstunden!“\\n\\n...</td>\n",
       "      <td>1.018152e+19</td>\n",
       "      <td>KRONE_2023123115001241763</td>\n",
       "      <td>2023-12-31T00:00:00Z</td>\n",
       "    </tr>\n",
       "    <tr>\n",
       "      <th>3</th>\n",
       "      <td>interview</td>\n",
       "      <td>„Check this out! This is paradise!“\\n\\nDer US-...</td>\n",
       "      <td>2.242322e+18</td>\n",
       "      <td>KRONE_2023123115001241958</td>\n",
       "      <td>2023-12-31T00:00:00Z</td>\n",
       "    </tr>\n",
       "    <tr>\n",
       "      <th>4</th>\n",
       "      <td>interview</td>\n",
       "      <td>„Es War eine extreme hochschaubahn“\\n\\n   Der ...</td>\n",
       "      <td>1.969262e+18</td>\n",
       "      <td>KRONE_2023123115001240272</td>\n",
       "      <td>2023-12-31T00:00:00Z</td>\n",
       "    </tr>\n",
       "    <tr>\n",
       "      <th>...</th>\n",
       "      <td>...</td>\n",
       "      <td>...</td>\n",
       "      <td>...</td>\n",
       "      <td>...</td>\n",
       "      <td>...</td>\n",
       "    </tr>\n",
       "    <tr>\n",
       "      <th>6755</th>\n",
       "      <td>comment</td>\n",
       "      <td>Die Schulpolitik macht Ferien in Skandinavien\\...</td>\n",
       "      <td>8.403356e+18</td>\n",
       "      <td>PRESSE_20230702000000059</td>\n",
       "      <td>2023-07-02T00:00:00Z</td>\n",
       "    </tr>\n",
       "    <tr>\n",
       "      <th>6756</th>\n",
       "      <td>comment</td>\n",
       "      <td>Kreative Köpfe statt Normaldenker, frische Neu...</td>\n",
       "      <td>9.137500e+18</td>\n",
       "      <td>PRESSE_20230701000000151</td>\n",
       "      <td>2023-07-01T00:00:00Z</td>\n",
       "    </tr>\n",
       "    <tr>\n",
       "      <th>6757</th>\n",
       "      <td>comment</td>\n",
       "      <td>Schilling, Daphne und Lire\\n\\n   Daphne? Das w...</td>\n",
       "      <td>1.125905e+19</td>\n",
       "      <td>PRESSE_20230701000000142</td>\n",
       "      <td>2023-07-01T00:00:00Z</td>\n",
       "    </tr>\n",
       "    <tr>\n",
       "      <th>6758</th>\n",
       "      <td>comment</td>\n",
       "      <td>EU-Regierungen verlernen Demokratie\\n\\nGetroff...</td>\n",
       "      <td>6.232365e+18</td>\n",
       "      <td>PRESSE_20230701000000016</td>\n",
       "      <td>2023-07-01T00:00:00Z</td>\n",
       "    </tr>\n",
       "    <tr>\n",
       "      <th>6759</th>\n",
       "      <td>comment</td>\n",
       "      <td>Hohe Schulden allein sind nicht das Problem\\n\\...</td>\n",
       "      <td>3.467124e+18</td>\n",
       "      <td>PRESSE_20230701000000033</td>\n",
       "      <td>2023-07-01T00:00:00Z</td>\n",
       "    </tr>\n",
       "  </tbody>\n",
       "</table>\n",
       "<p>6760 rows × 5 columns</p>\n",
       "</div>"
      ],
      "text/plain": [
       "         labels                                               text  \\\n",
       "0     interview  Zwei Jubiläen als Stresstest\\n\\ninterviewLento...   \n",
       "1     interview  Leserbrief: \"Klimawandel oder Klimakrise\"\\n\\n ...   \n",
       "2     interview  „Kaum eine Woche unter 80 Arbeitsstunden!“\\n\\n...   \n",
       "3     interview  „Check this out! This is paradise!“\\n\\nDer US-...   \n",
       "4     interview  „Es War eine extreme hochschaubahn“\\n\\n   Der ...   \n",
       "...         ...                                                ...   \n",
       "6755    comment  Die Schulpolitik macht Ferien in Skandinavien\\...   \n",
       "6756    comment  Kreative Köpfe statt Normaldenker, frische Neu...   \n",
       "6757    comment  Schilling, Daphne und Lire\\n\\n   Daphne? Das w...   \n",
       "6758    comment  EU-Regierungen verlernen Demokratie\\n\\nGetroff...   \n",
       "6759    comment  Hohe Schulden allein sind nicht das Problem\\n\\...   \n",
       "\n",
       "            unikey                    recname              recstamp  \n",
       "0     2.099312e+18  KRONE_2023123115001241154  2023-12-31T00:00:00Z  \n",
       "1     6.326778e+18  KRONE_2023123115001241348  2023-12-31T00:00:00Z  \n",
       "2     1.018152e+19  KRONE_2023123115001241763  2023-12-31T00:00:00Z  \n",
       "3     2.242322e+18  KRONE_2023123115001241958  2023-12-31T00:00:00Z  \n",
       "4     1.969262e+18  KRONE_2023123115001240272  2023-12-31T00:00:00Z  \n",
       "...            ...                        ...                   ...  \n",
       "6755  8.403356e+18   PRESSE_20230702000000059  2023-07-02T00:00:00Z  \n",
       "6756  9.137500e+18   PRESSE_20230701000000151  2023-07-01T00:00:00Z  \n",
       "6757  1.125905e+19   PRESSE_20230701000000142  2023-07-01T00:00:00Z  \n",
       "6758  6.232365e+18   PRESSE_20230701000000016  2023-07-01T00:00:00Z  \n",
       "6759  3.467124e+18   PRESSE_20230701000000033  2023-07-01T00:00:00Z  \n",
       "\n",
       "[6760 rows x 5 columns]"
      ]
     },
     "execution_count": 9,
     "metadata": {},
     "output_type": "execute_result"
    }
   ],
   "source": [
    "# Concat data into 1 df\n",
    "df = pd.concat(data, ignore_index=True)\n",
    "df"
   ]
  },
  {
   "cell_type": "markdown",
   "id": "f8631eab-016f-45aa-9cc9-7f168f891874",
   "metadata": {},
   "source": [
    "### Text preprocessing\n",
    "\n",
    "**In the letters most of the texts contain \"Lesebrief\" at the beginning. This would be the cheating if we input this in our model. Therefore in this part we are going to inspect our text data and remove such labels in the texts.**"
   ]
  },
  {
   "cell_type": "code",
   "execution_count": 10,
   "id": "bbf808b2-1bad-4195-8331-1d7cfc0a50bf",
   "metadata": {},
   "outputs": [
    {
     "name": "stdout",
     "output_type": "stream",
     "text": [
      "Results for letter: \n",
      "True     4047\n",
      "False      63\n",
      "Name: count, dtype: int64\n",
      "\n",
      "Results for comment: \n",
      "False    662\n",
      "True       3\n",
      "Name: count, dtype: int64\n",
      "\n",
      "Results for interview: \n",
      "False    1922\n",
      "True       63\n",
      "Name: count, dtype: int64\n",
      "\n",
      "Total results: \n",
      "True     4113\n",
      "False    2647\n",
      "Name: count, dtype: int64\n"
     ]
    }
   ],
   "source": [
    "words = ['leserpost', 'leserbrief']\n",
    "labels = ['letter', 'comment', 'interview']\n",
    "total = []\n",
    "\n",
    "for label in labels:\n",
    "    bool_results = []\n",
    "    for val in df[df['labels'] == label]['text']:\n",
    "        found = False\n",
    "        for word in words:\n",
    "            if word in val.lower():\n",
    "                found = True\n",
    "                break  # Exit the loop if any word is found\n",
    "        bool_results.append(found)\n",
    "        total.append(found)\n",
    "    print(f\"Results for {label}: \")\n",
    "    print(f\"{pd.Series(bool_results).value_counts()}\\n\")\n",
    "\n",
    "print(f\"Total results: \\n{pd.Series(total).value_counts()}\")"
   ]
  },
  {
   "cell_type": "code",
   "execution_count": 11,
   "id": "8397fee9-9f98-47d8-bbbf-293094aa8bc5",
   "metadata": {},
   "outputs": [
    {
     "name": "stdout",
     "output_type": "stream",
     "text": [
      "Results for NONRELEVANT data in letters:\n",
      "False    166947\n",
      "True        134\n",
      "Name: count, dtype: int64\n"
     ]
    }
   ],
   "source": [
    "bool_results = []\n",
    "for val in letters[letters['labels'] == 'NONRELEVANT']['text']:\n",
    "    found = False\n",
    "    for word in words:\n",
    "        if word in val.lower():\n",
    "            found = True\n",
    "            break\n",
    "    bool_results.append(found)\n",
    "print(f\"Results for NONRELEVANT data in letters:\\n{pd.Series(bool_results).value_counts()}\")"
   ]
  },
  {
   "cell_type": "markdown",
   "id": "0d011c2c-4624-4c20-a98c-888c6d8ec70f",
   "metadata": {},
   "source": [
    "**The text sure needs to be preprocessed, because the majority of the predefined words are found in the labeled letters data but not found in unlabeled data. Therefore, in order to avoid cheating, we need to remove these words**"
   ]
  },
  {
   "cell_type": "code",
   "execution_count": 12,
   "id": "a2f8b7b7-c226-4ec8-ac0e-56473023c8eb",
   "metadata": {},
   "outputs": [
    {
     "name": "stdout",
     "output_type": "stream",
     "text": [
      "Text number 0\n",
      "Leserbrief: \"Rechtsruck in Europa?\"\n",
      "\n",
      "   Fast schockiert berichten die Medien vom Rechtsruck der Politik\n",
      "in Europa. Offenbar lässt es sich jetzt nicht mehr unter den Teppich\n",
      "kehren, dass die Menschen von einer Politik genug haben, die sie\n",
      "nicht mehr verstehen. Jahrzehntelang haben selbst ernannte\n",
      "Besserwisser die Bevölkerung mit ihren teils abstrusen\n",
      "Weltanschauungen in Geiselhaft genommen. Was ist daraus entstanden?\n",
      "Zum Beispiel eine unkontrollierte Zuwanderung, die zum Untergang der\n",
      "eigenen Kultur führen kann, eine Verhunzung der Sprache bis zur\n",
      "Unkenntlichkeit, Schutz von Tätern und Alleinlassen von Opfern,\n",
      "gezielte „Entbildung“ der Gesellschaft, eine gezielte Enteignung der\n",
      "individuellen Eigenverantwortung und vieles mehr. Dafür hat\n",
      "Korruption, Lobbyismus und Freunderlwirtschaft ein Ausmaß erreicht,\n",
      "das zum Himmel stinkt.\n",
      "\n",
      "\n",
      "   Bei all dem redet man sich oft auf einen Zwang hinaus, den man\n",
      "sich selbst verordnet hat. Globalisierung und Multikulti können\n",
      "letztlich auch nur funktionieren, wenn sich jede Kultur und jeder\n",
      "Player an Mindeststandards in Bezug auf die Existenz und das\n",
      "Nebeneinander hält und sich dazu bekennt. Selbstverleugnung und\n",
      "Selbstaufgabe im Sinne von selbstzerstörerischer Toleranz kann nicht\n",
      "funktionieren, ohne dass dabei jemand den Kürzeren zieht.\n",
      "\n",
      "\n",
      "   Die moralischen Eliten müssen sich wohl nicht mit den\n",
      "Alltagssorgen des kleinen Mannes herumschlagen, sonst gäbe es vieles\n",
      "nicht, was man aktuell nur noch hinter vorgehaltener Hand als „nicht\n",
      "normal“ bezeichnet. Daher bin ich davon überzeugt, dass die\n",
      "selbstherrlichen und sich selbst belügenden Besserwisser Wegbereiter\n",
      "für den derzeitigen Rechtsschwenk waren und sind.\n",
      "\n",
      "Text number 1\n",
      "Leserbrief: \"Danke!\"\n",
      "\n",
      "   Zum Jahreswechsel möchte ich den Exekutivbeamten, den Zollbeamten\n",
      "sowie auch dem Bundesheer ganz herzlich Danke sagen für ihren\n",
      "Einsatz und ihre Bereitschaft, immer für uns Österreicher da zu\n",
      "sein! Es wird leider immer schwieriger und brutaler – darum nochmals\n",
      "Danke!\n",
      "\n",
      "Text number 2\n",
      "Leserbrief: \"„Reiches Land Österreich“\"\n",
      "\n",
      "   Mit der Behauptung, Österreich sei ein reiches Land, versuchen\n",
      "unsere Politiker, großzügige Euro-Millionen-Überweisungen an das\n",
      "Ausland vor den heimischen Steuerzahlern zu rechtfertigen.\n",
      "\n",
      "\n",
      "   Wenn es aber darum geht, notleidenden Landsleuten finanziell\n",
      "unter die Arme zu greifen, zeigt sich unsere Regierung um einiges\n",
      "weniger spendabel.\n",
      "\n",
      "\n",
      "   Um diese Schieflage etwas abzufedern, hat der ORF bereits vor\n",
      "genau 50 Jahren dankenswerterweise die Spendenaktion „Licht ins\n",
      "Dunkel“ initiiert. Viele Prominente, aber auch einfache Mitbürger\n",
      "haben sich auch dieses Jahr wieder in den Dienst der guten Sache\n",
      "gestellt und bis Sonntag, 24. Dezember 2023, einen Betrag in der\n",
      "Höhe von ungefähr 18,5 Millionen Euro für die Unterstützung\n",
      "bedürftiger Menschen im Lande gesammelt. Da die Aktion „Licht ins\n",
      "Dunkel“ noch einige Zeit lang weiterläuft, kann durchaus ein\n",
      "Ergebnis um die 20 Millionen Euro erzielt werden.\n",
      "\n",
      "\n",
      "   Wie üblich, wird diese Summe wohl auch diesmal von der\n",
      "Bundesregierung verdoppelt. Das wäre dann immerhin ein Zuschuss aus\n",
      "Budgetmitteln in Höhe von 8,5 Prozent jenes Betrages von insgesamt\n",
      "235 Millionen Euro, den österreichische Politiker im Rahmen der\n",
      "beiden letzten Klimakonferenzen 2022 und 2023 freiwillig und generös\n",
      "ans Ausland gespendet haben.\n",
      "\n",
      "\n",
      "   Nobel, nobel !\n",
      "\n"
     ]
    }
   ],
   "source": [
    "for i, val in enumerate(df[df['labels'] == 'letter']['text']):\n",
    "    if i == 3:\n",
    "        break\n",
    "    print(f\"Text number {i}\")\n",
    "    print(val)"
   ]
  },
  {
   "cell_type": "code",
   "execution_count": 13,
   "id": "64074c2e-5ea4-4c8d-87cd-e1ca85c26c7b",
   "metadata": {},
   "outputs": [
    {
     "name": "stdout",
     "output_type": "stream",
     "text": [
      "Text number 3980\n",
      "LESERPOST\n",
      "\n",
      "Leserbriefe bitte an: Die Presse, Hainburger Straße 33, A-1030 Wien\n",
      "oder an leserbriefe@diepresse.com\n",
      "\n",
      "Zeitgemäße demokratische Prinzipien?\n",
      "\n",
      "„Massive EU-Skepsis…?“, LB von Friederike Pacik, 11.12.Diesem\n",
      "treffenden Leserbriefzur EU-Skepsis sei die Frage nachgereicht, wie\n",
      "es den EU-Bürgern mit den gegenwärtigen Entscheidungsregeln etwa im\n",
      "Förderwesen der Union geht. Immerhin zahlen alle Mitgliedsländer\n",
      "erhebliche Summen in die Brüsseler Gemeinschaftskasse. Wenn dann bei\n",
      "der Mittelverteilung laufend der Eindruck entsteht, dass große\n",
      "Nettoempfänger sich unverblümt und trickreich auf Kosten aller\n",
      "EU-Steuerzahler aus den Fördertöpfen bedienen, wird der wachsende\n",
      "Unmut gegen das System auch aus dieser Sicht verständlich. Zur\n",
      "Trickkiste zählt etwa die für wichtige Entscheidungen erforderliche\n",
      "Einstimmigkeit als möglicher „Hebel zum Geld“. Mittlerweile ist es\n",
      "weithin sichtbar, wie einfach es ist, große Vorhaben der Union auch\n",
      "nur mit einer einzigen Gegenstimme zu blockieren. Da drängt sich die\n",
      "Frage auf, wie es in den Unionsregeln um zeitgemäße demokratische\n",
      "Prinzipien bestellt ist. In keinem der EU-Mitgliedsstaaten selbst\n",
      "wäre es vorstellbar, dass eine parlamentarische Minorität\n",
      "Mehrheitsentscheidungen verhindert oder mit Drohkulissen für sich\n",
      "Zugeständnisse erzwingt.\n",
      "\n",
      "Dr. Stefan B. Szalachy, M.A., 2340 Mödling\n",
      "\n",
      "Benko hat rechtlich mögliche Gestaltungen genutzt\n",
      "\n",
      "„Der verklärte journalistische Blick aufs Unternehmer-,Genie‘ Benko”,\n",
      "„Quergeschrieben“ von Anneliese Rohrer, 9.12.Der Unternehmer René\n",
      "Benko hat sich keiner „fragwürdigen Konstruktionen“ bedient, sondern\n",
      "die rechtlich möglichen Gestaltungen unseres liberalen\n",
      "Wirtschaftssystems in Anspruch genommen. Er hat nicht eine „Art\n",
      "Pyramidenunternehmen“ errichtet, sondern – völlig üblich – für jede\n",
      "seiner Betriebsstätten eine eigene Gesellschaft gegründet. Auch stand\n",
      "ihm, wie jedem Unternehmer, die Form der Kapitalaufbringung offen–\n",
      "sei es als Fremd-, Beteiligungs- oder Eigenkapital. Wenn ein\n",
      "ehemaliger Gesellschafter als Kapitalgeber nach geraumer Zeit wieder\n",
      "aussteigt, bedeutet dies lediglich, dass dieser das künftige Risiko\n",
      "anders einschätzt als verbliebene Investoren. Warum sollte daraus\n",
      "schon auf einen wirtschaftlichen Misserfolg geschlossen werden\n",
      "müssen?\n",
      "\n",
      "Auch der Ruf nach „ausreichender öffentlicher Kontrolle“ erscheint\n",
      "unnötig. Die geltenden Rechnungslegungs-, Prüfungs-\n",
      "undPublizitätsvorschriften sind mit ausreichenden Sanktionen\n",
      "verknüpft, die zu verhängen sind. Es darf auch nicht übersehen\n",
      "werden, dass sich die wirtschaftlichen Rahmenbedingungen durch\n",
      "Inflation, Zinserhöhungen und Energiekrise massiv verändert haben.\n",
      "Dies traf auch Benkos Unternehmungen.Ihn deshalb mit „Donald Trump\n",
      "und dessen manipulierten Immobilienbewertungen“ gleichzusetzen,zeugt\n",
      "von einem verkennenden Blick.\n",
      "\n",
      "Dkfm. Dr. Johannes Weinberger BA, 3100 St. Pölten\n",
      "\n",
      "Auch die Gewerkschaft hatte über 30 Jahre Zeit\n",
      "\n",
      "„ÖGB: Wegschauen bei Frauenpensionen“, 7.12.Seit dem\n",
      "parlamentarischen Beschluss im Jahr 1992, das\n",
      "Frauenpensionsantrittsalter durch Bundesverfassungsgesetz ab 2024\n",
      "sukzessive ansteigen zu lassen,müsste dieser Umstand allen Menschen\n",
      "in diesem Land bekannt sein.\n",
      "\n",
      "Dieser Gesetzesbeschluss hatte bestimmte Gründe, so unter anderem die\n",
      "Mehrfachbelastung von Frauen, doch wurden auch fatale Auswirkungen\n",
      "für die Frauen, wie eine deutlich geringere Pension wegen der\n",
      "kürzeren Lebensarbeitszeit, nicht entsprechend berücksichtigt. Ganz\n",
      "abgesehen davon, dass man(n) das als grobe Ungleichheit gegenüber dem\n",
      "männlichen Teil der arbeitenden Bevölkerung ansehen konnte!\n",
      "\n",
      "Es hat bei der Absicherung der Frauen sicherlichVersäumnisse seitens\n",
      "der Politik gegeben, die sich auf den „Beschlusslorbeeren“ des Jahres\n",
      "1992 ausgeruht hat, doch was hat der ÖGB all die Jahre für die Frauen\n",
      "gefordert oder gar durchgesetzt? Wenn nun die Vizepräsidentin des ÖGB\n",
      "bemängelt, dass derzeit niemand auf diese Anhebung vorbereitet sei,\n",
      "dann grenzt dies ans Lächerliche! Auch die Gewerkschaft hatte ja nur\n",
      "mehr als dreißig Jahre Zeit für die entsprechende Vorbereitung!\n",
      "\n",
      "HR Dr. Peter Kotynski, 3040 Neulengbach\n",
      "\n",
      "Abwanderung ins billigere Ausland wird steigen\n",
      "\n",
      "IV-PräsidentKnill: „Rucksack voller schwerer Steine für die\n",
      "Industrie“, von David Freudenthaler, 11.12.IV-Präsident Knill macht\n",
      "sich Sorgen um den Wohlstand in Österreich und Europa. Zu Recht? Die\n",
      "vergleichsweise überschießenden Energiepreise sind nicht nur für die\n",
      "energieintensiven Betriebe ein Problem. Jeder Bäcker, jede\n",
      "Kfz-Werkstatt, jeder Haushalt, etc. stöhnt schon seit zwei Jahren,\n",
      "und es ist keine Erleichterung in Sicht. Die Arbeitskosten waren\n",
      "immer schon bei den höchsten in Europa, und jetzt noch einmal knapp\n",
      "zehn Prozent oben drauf. Die Steuerpolitik führt dazu, dass 20\n",
      "Prozent der Bevölkerung, vereinfacht formuliert, die anderen 80\n",
      "Prozent mittragen dürfen – wie lange noch? Und was die arbeitende\n",
      "Bevölkerung von morgen betrifft, die kann häufig kaum Deutsch lesen\n",
      "und sprechen und wartet auf die 32-Stunden-Woche und mehr Urlaub für\n",
      "die gesunde Work-Life-Balance.\n",
      "\n",
      "Fazit: Ein gut geführter Betrieb muss nachhaltige Lösungen suchen,\n",
      "damit er in diesem Kontext überleben kann. Also wird die Abwanderung\n",
      "der Betriebe ins billigere Ausland immer mehr werden, auch weil es\n",
      "keine alternative Perspektive von der österreichischen\n",
      "Wirtschaftspolitik gibt. Die voraussichtliche Rezession 2024,\n",
      "aufgrund der engen wirtschaftlichen Beziehungen zum schwächelnden\n",
      "Deutschland, wird diesen Prozess wohl beschleunigen.\n",
      "\n",
      "Toni Matosic, 1130 Wien\n",
      "\n",
      "Ankunft geht nur, wenn die Tür offen ist\n",
      "\n",
      "„Warum wir gerade heute starke Kirchen brauchen“, Gastkolumne von\n",
      "GeorgVetter, 11.12.Magno cum gaudio habe ich Ihren Beitrag gelesen,\n",
      "den ich hundertprozentig unterschreiben kann. Als praktizierender\n",
      "Katholik und Kirchenmusiker möchte ich noch hinzufügen: Weihnachten\n",
      "ist ein Geburtstagsfest, und zwar jenes unseres Herrn Jesus Christus,\n",
      "keine Geschenkeorgie für Angehörige!\n",
      "\n",
      "Wenn wir jemandem etwas schenken sollten, dann dem neugeborenen Kind\n",
      "in Bethlehem, und zwar unser Herz. Ankunft (Advent) kann nur\n",
      "geschehen, wenn die Tür offen ist. Die Tür unseres Herzens.\n",
      "\n",
      "Und ja: Es braucht die Kirche(n), in denen selbstbestimmte Menschen\n",
      "ihr Werk tun – auch zum Kilmaschutz! Wir leiden nicht so sehr unter\n",
      "Priestermangel, sondern unter Gläubigenmangel (siehe\n",
      "Kirchenaustrittszahlen), den ich seit Jahrzehnten schmerzlich\n",
      "beobachte. Wie sangen die Engel an der Krippe? „…et in terra pax\n",
      "hominibus“. Aber eben auch „…bonae voluntatis“! Kriegsherren zählen\n",
      "da wohl nicht dazu!\n",
      "\n",
      "Mag. Gerhard Schmiedpeter, 1220 Wien\n"
     ]
    }
   ],
   "source": [
    "count = 0\n",
    "for i, val in enumerate(df[df['labels'] == 'letter']['text']):\n",
    "    if \"leserpost\" in val.lower():\n",
    "        print(f\"Text number {i}\")\n",
    "        print(val)\n",
    "        count += 1\n",
    "    if count == 1:\n",
    "        break\n"
   ]
  },
  {
   "cell_type": "code",
   "execution_count": 14,
   "id": "96051760-5fe7-4d2b-af60-354e1f883b4f",
   "metadata": {},
   "outputs": [
    {
     "name": "stdout",
     "output_type": "stream",
     "text": [
      "Word 'Leserpost' in letter: \n",
      "False    4021\n",
      "True       89\n",
      "Name: count, dtype: int64\n",
      "\n",
      "Word 'Leserpost' in comment: \n",
      "False    665\n",
      "Name: count, dtype: int64\n",
      "\n",
      "Word 'Leserpost' in interview: \n",
      "False    1985\n",
      "Name: count, dtype: int64\n",
      "\n"
     ]
    }
   ],
   "source": [
    "for label in labels:\n",
    "    bool_results = []\n",
    "    for val in df[df['labels'] == label]['text']:\n",
    "        found = False\n",
    "        if 'leserpost' in val.lower():\n",
    "            found = True\n",
    "        bool_results.append(found)\n",
    "    print(f\"Word 'Leserpost' in {label}: \")\n",
    "    print(f\"{pd.Series(bool_results).value_counts()}\\n\")"
   ]
  },
  {
   "cell_type": "markdown",
   "id": "7c087788-b9e8-4481-8edb-907a3b5e3793",
   "metadata": {},
   "source": [
    "**The word \"leserpost\" appears rather rarely than \"leserbrief\". But it's only found in letter label, so it makes sense to remove these 2 words to avoid cheating.**"
   ]
  },
  {
   "cell_type": "code",
   "execution_count": 15,
   "id": "42ad65ce-8618-4a3d-b7bc-3cdfcbdf1ae8",
   "metadata": {},
   "outputs": [],
   "source": [
    "# Loop through each text at each row and replace the word with \"\" if the word i\n",
    "for i in range(len(df)):\n",
    "    text = df.at[i, 'text'].lower()\n",
    "    for word in words:\n",
    "        text = text.replace(word, '')\n",
    "    df.at[i, 'text'] = text"
   ]
  },
  {
   "cell_type": "code",
   "execution_count": 16,
   "id": "c23abf22-e92d-43d8-bd29-f7ec66cd70e7",
   "metadata": {},
   "outputs": [
    {
     "name": "stdout",
     "output_type": "stream",
     "text": [
      "Results for letter: \n",
      "False    4110\n",
      "Name: count, dtype: int64\n",
      "\n",
      "Results for comment: \n",
      "False    665\n",
      "Name: count, dtype: int64\n",
      "\n",
      "Results for interview: \n",
      "False    1985\n",
      "Name: count, dtype: int64\n",
      "\n"
     ]
    }
   ],
   "source": [
    "for label in labels:\n",
    "    bool_results = []\n",
    "    for val in df[df['labels'] == label]['text']:\n",
    "        found = False\n",
    "        for word in words:\n",
    "            if word in val.lower():\n",
    "                found = True\n",
    "                break\n",
    "        bool_results.append(found)\n",
    "        total.append(found)\n",
    "    print(f\"Results for {label}: \")\n",
    "    print(f\"{pd.Series(bool_results).value_counts()}\\n\")"
   ]
  },
  {
   "cell_type": "markdown",
   "id": "1fd59a77-422b-4d60-998d-56fb572e5c7f",
   "metadata": {},
   "source": [
    "### Modelling\n",
    "#### In this section we will try 4 basic models. Then we will take the best performing models and fine tune them\n",
    "\n",
    "Models in this section:\n",
    "- Logistic Regression\n",
    "- Random Forest\n",
    "- Decision Tree Classifier\n",
    "- Support Vector Classifier"
   ]
  },
  {
   "cell_type": "code",
   "execution_count": 174,
   "id": "a09b4e96-73aa-45af-9def-c2956716b125",
   "metadata": {},
   "outputs": [
    {
     "name": "stdout",
     "output_type": "stream",
     "text": [
      "<class 'pandas.core.frame.DataFrame'>\n",
      "RangeIndex: 6760 entries, 0 to 6759\n",
      "Data columns (total 2 columns):\n",
      " #   Column  Non-Null Count  Dtype \n",
      "---  ------  --------------  ----- \n",
      " 0   text    6760 non-null   object\n",
      " 1   labels  6760 non-null   object\n",
      "dtypes: object(2)\n",
      "memory usage: 105.8+ KB\n"
     ]
    }
   ],
   "source": [
    "ml_df = df[['text', 'labels']]\n",
    "ml_df.info()"
   ]
  },
  {
   "cell_type": "code",
   "execution_count": 59,
   "id": "aedbf262-ac90-4c73-958e-f44efabd30a0",
   "metadata": {},
   "outputs": [
    {
     "name": "stderr",
     "output_type": "stream",
     "text": [
      "[nltk_data] Downloading package punkt to\n",
      "[nltk_data]     /Users/ibragimzhussup/nltk_data...\n",
      "[nltk_data]   Package punkt is already up-to-date!\n",
      "[nltk_data] Downloading package stopwords to\n",
      "[nltk_data]     /Users/ibragimzhussup/nltk_data...\n",
      "[nltk_data]   Package stopwords is already up-to-date!\n"
     ]
    },
    {
     "data": {
      "text/plain": [
       "True"
      ]
     },
     "execution_count": 59,
     "metadata": {},
     "output_type": "execute_result"
    }
   ],
   "source": [
    "from sklearn.model_selection import train_test_split\n",
    "from sklearn.feature_extraction.text import TfidfVectorizer\n",
    "from sklearn.ensemble import RandomForestClassifier\n",
    "from sklearn.linear_model import LogisticRegression\n",
    "from sklearn.naive_bayes import MultinomialNB\n",
    "from sklearn.tree import DecisionTreeClassifier\n",
    "from sklearn.svm import SVC\n",
    "from sklearn.metrics import accuracy_score, classification_report\n",
    "from sklearn.metrics import precision_recall_fscore_support as score\n",
    "import re\n",
    "import nltk\n",
    "from nltk.corpus import stopwords\n",
    "from nltk.tokenize import word_tokenize\n",
    "from nltk.stem import SnowballStemmer\n",
    "nltk.download('punkt')\n",
    "nltk.download('stopwords')"
   ]
  },
  {
   "cell_type": "code",
   "execution_count": 60,
   "id": "26d44908-ce8a-4dae-8e6c-434b15c05356",
   "metadata": {},
   "outputs": [],
   "source": [
    "stop_words = set(stopwords.words('german'))\n",
    "stemmer = SnowballStemmer(\"german\")\n",
    "\n",
    "def preprocess_text(text):\n",
    "    # Remove URLs\n",
    "    text = re.sub(r'http\\S+', '', text)\n",
    "    # Tokenization and lowercasing\n",
    "    words = word_tokenize(text.lower())\n",
    "    # Removing stopwords and Stemming\n",
    "    cleaned_words = [stemmer.stem(word) for word in words if word.isalnum() and word.lower() not in stop_words]\n",
    "    return ' '.join(cleaned_words)"
   ]
  },
  {
   "cell_type": "code",
   "execution_count": 61,
   "id": "474f7c4b-5ac5-4b41-8ca4-a5d400541304",
   "metadata": {},
   "outputs": [],
   "source": [
    "ml_df.loc[:,'text'] = ml_df['text'].apply(preprocess_text)"
   ]
  },
  {
   "cell_type": "code",
   "execution_count": 175,
   "id": "807b06d6-f94b-408b-99ac-4ae3fb046e93",
   "metadata": {},
   "outputs": [
    {
     "name": "stderr",
     "output_type": "stream",
     "text": [
      "/var/folders/8c/_sr2kqv935l1jvwxjljct8680000gn/T/ipykernel_20396/4037707208.py:1: SettingWithCopyWarning: \n",
      "A value is trying to be set on a copy of a slice from a DataFrame.\n",
      "Try using .loc[row_indexer,col_indexer] = value instead\n",
      "\n",
      "See the caveats in the documentation: https://pandas.pydata.org/pandas-docs/stable/user_guide/indexing.html#returning-a-view-versus-a-copy\n",
      "  ml_df.loc[:,'label_ids'] = ml_df['labels'].factorize()[0]\n"
     ]
    },
    {
     "data": {
      "text/html": [
       "<div>\n",
       "<style scoped>\n",
       "    .dataframe tbody tr th:only-of-type {\n",
       "        vertical-align: middle;\n",
       "    }\n",
       "\n",
       "    .dataframe tbody tr th {\n",
       "        vertical-align: top;\n",
       "    }\n",
       "\n",
       "    .dataframe thead th {\n",
       "        text-align: right;\n",
       "    }\n",
       "</style>\n",
       "<table border=\"1\" class=\"dataframe\">\n",
       "  <thead>\n",
       "    <tr style=\"text-align: right;\">\n",
       "      <th></th>\n",
       "      <th>labels</th>\n",
       "      <th>label_ids</th>\n",
       "    </tr>\n",
       "  </thead>\n",
       "  <tbody>\n",
       "    <tr>\n",
       "      <th>0</th>\n",
       "      <td>interview</td>\n",
       "      <td>0</td>\n",
       "    </tr>\n",
       "    <tr>\n",
       "      <th>1985</th>\n",
       "      <td>letter</td>\n",
       "      <td>1</td>\n",
       "    </tr>\n",
       "    <tr>\n",
       "      <th>6095</th>\n",
       "      <td>comment</td>\n",
       "      <td>2</td>\n",
       "    </tr>\n",
       "  </tbody>\n",
       "</table>\n",
       "</div>"
      ],
      "text/plain": [
       "         labels  label_ids\n",
       "0     interview          0\n",
       "1985     letter          1\n",
       "6095    comment          2"
      ]
     },
     "execution_count": 175,
     "metadata": {},
     "output_type": "execute_result"
    }
   ],
   "source": [
    "ml_df.loc[:,'label_ids'] = ml_df['labels'].factorize()[0]\n",
    "ml_df[['labels', 'label_ids']].drop_duplicates()"
   ]
  },
  {
   "cell_type": "code",
   "execution_count": 63,
   "id": "9bbba7f1-6f99-4e45-bf1c-170617fceffb",
   "metadata": {},
   "outputs": [],
   "source": [
    "X = ml_df['text']\n",
    "y = ml_df['label_ids']\n",
    "\n",
    "\n",
    "X_train, X_test, y_train, y_test = train_test_split(X,y, test_size=0.2, random_state=42)"
   ]
  },
  {
   "cell_type": "code",
   "execution_count": 64,
   "id": "dad397d2-8a0a-4e39-8438-b54dd2ed2f40",
   "metadata": {},
   "outputs": [
    {
     "data": {
      "image/png": "[encoded data removed]",
      "text/plain": [
       "<Figure size 640x480 with 2 Axes>"
      ]
     },
     "metadata": {},
     "output_type": "display_data"
    }
   ],
   "source": [
    "fig, ax = plt.subplots(ncols=2)\n",
    "\n",
    "y_train.value_counts().plot(kind='pie', ax=ax[0], title='y train', autopct='%1.1f%%')\n",
    "y_test.value_counts().plot(kind='pie', ax=ax[1], title='y test', autopct='%1.1f%%')\n",
    "for i in range(2):\n",
    "    ax[i].set_ylabel(\"\")"
   ]
  },
  {
   "cell_type": "code",
   "execution_count": 65,
   "id": "bd2eab2e-5975-48c2-af75-3f962a4e5c7a",
   "metadata": {},
   "outputs": [],
   "source": [
    "# Vectorizing text data\n",
    "vectorizer = TfidfVectorizer()\n",
    "X_train_vectorized = vectorizer.fit_transform(X_train)\n",
    "X_test_vectorized = vectorizer.transform(X_test)"
   ]
  },
  {
   "cell_type": "code",
   "execution_count": 126,
   "id": "3eb2290b-29e3-4ba8-a33b-a88ab8a146fd",
   "metadata": {},
   "outputs": [],
   "source": [
    "#create list of model and accuracy dicts\n",
    "perform_list = [ ]\n",
    "\n",
    "def run_model(model_name):\n",
    "    mdl=''\n",
    "    if model_name == 'Logistic Regression':\n",
    "        mdl = LogisticRegression()\n",
    "    \n",
    "    elif model_name == 'Random Forest':\n",
    "        mdl = RandomForestClassifier()\n",
    "    \n",
    "    elif model_name == 'Naive Bayes':\n",
    "        mdl = MultinomialNB(alpha=1.0,fit_prior=True)\n",
    "    \n",
    "    elif model_name == 'Support Vector Classifer':\n",
    "        mdl = SVC()\n",
    "    \n",
    "    elif model_name == 'Decision Tree Classifier':\n",
    "        mdl = DecisionTreeClassifier()\n",
    "\n",
    "    mdl.fit(X_train_vectorized, y_train_encoded)\n",
    "    y_pred = mdl.predict(X_test_vectorized)\n",
    "    \n",
    "    # Performance metrics\n",
    "    accuracy = round(accuracy_score(y_test_encoded, y_pred), 2)\n",
    "    # Get precision, recall, f1 scores\n",
    "    precision, recall, f1score, support = score(y_test_encoded, y_pred, average='weighted')\n",
    "    print(f\"{model_name}\\n{classification_report(y_test_encoded, y_pred)}\\n\")\n",
    "\n",
    "    # Add performance parameters to list\n",
    "    perform_list.append(dict([\n",
    "    ('Model', model_name),\n",
    "    ('Test Accuracy', round(accuracy, 2)),\n",
    "    ('Precision', round(precision, 2)),\n",
    "    ('Recall', round(recall, 2)),\n",
    "    ('F1', round(f1score, 2))]))"
   ]
  },
  {
   "cell_type": "code",
   "execution_count": 127,
   "id": "6cfcced8-4e41-4277-bd3e-d2c17476339b",
   "metadata": {},
   "outputs": [
    {
     "name": "stdout",
     "output_type": "stream",
     "text": [
      "Logistic Regression\n",
      "              precision    recall  f1-score   support\n",
      "\n",
      "           0       0.61      0.13      0.21       135\n",
      "           1       0.89      0.81      0.85       412\n",
      "           2       0.83      0.98      0.90       805\n",
      "\n",
      "    accuracy                           0.84      1352\n",
      "   macro avg       0.78      0.64      0.65      1352\n",
      "weighted avg       0.83      0.84      0.81      1352\n",
      "\n",
      "\n",
      "Random Forest\n",
      "              precision    recall  f1-score   support\n",
      "\n",
      "           0       0.00      0.00      0.00       135\n",
      "           1       0.85      0.72      0.78       412\n",
      "           2       0.78      0.96      0.86       805\n",
      "\n",
      "    accuracy                           0.79      1352\n",
      "   macro avg       0.54      0.56      0.54      1352\n",
      "weighted avg       0.72      0.79      0.75      1352\n",
      "\n",
      "\n",
      "Naive Bayes\n",
      "              precision    recall  f1-score   support\n",
      "\n",
      "           0       0.00      0.00      0.00       135\n",
      "           1       0.95      0.58      0.72       412\n",
      "           2       0.73      0.99      0.84       805\n",
      "\n",
      "    accuracy                           0.77      1352\n",
      "   macro avg       0.56      0.52      0.52      1352\n",
      "weighted avg       0.72      0.77      0.72      1352\n",
      "\n",
      "\n"
     ]
    },
    {
     "name": "stderr",
     "output_type": "stream",
     "text": [
      "/Users/ibragimzhussup/anaconda3/lib/python3.11/site-packages/sklearn/metrics/_classification.py:1509: UndefinedMetricWarning: Precision is ill-defined and being set to 0.0 in labels with no predicted samples. Use `zero_division` parameter to control this behavior.\n",
      "  _warn_prf(average, modifier, f\"{metric.capitalize()} is\", len(result))\n",
      "/Users/ibragimzhussup/anaconda3/lib/python3.11/site-packages/sklearn/metrics/_classification.py:1509: UndefinedMetricWarning: Precision is ill-defined and being set to 0.0 in labels with no predicted samples. Use `zero_division` parameter to control this behavior.\n",
      "  _warn_prf(average, modifier, f\"{metric.capitalize()} is\", len(result))\n",
      "/Users/ibragimzhussup/anaconda3/lib/python3.11/site-packages/sklearn/metrics/_classification.py:1509: UndefinedMetricWarning: Precision is ill-defined and being set to 0.0 in labels with no predicted samples. Use `zero_division` parameter to control this behavior.\n",
      "  _warn_prf(average, modifier, f\"{metric.capitalize()} is\", len(result))\n",
      "/Users/ibragimzhussup/anaconda3/lib/python3.11/site-packages/sklearn/metrics/_classification.py:1509: UndefinedMetricWarning: Precision is ill-defined and being set to 0.0 in labels with no predicted samples. Use `zero_division` parameter to control this behavior.\n",
      "  _warn_prf(average, modifier, f\"{metric.capitalize()} is\", len(result))\n"
     ]
    },
    {
     "name": "stdout",
     "output_type": "stream",
     "text": [
      "Support Vector Classifer\n",
      "              precision    recall  f1-score   support\n",
      "\n",
      "           0       0.30      0.04      0.08       135\n",
      "           1       0.91      0.78      0.84       412\n",
      "           2       0.81      0.98      0.89       805\n",
      "\n",
      "    accuracy                           0.83      1352\n",
      "   macro avg       0.67      0.60      0.60      1352\n",
      "weighted avg       0.79      0.83      0.79      1352\n",
      "\n",
      "\n",
      "Decision Tree Classifier\n",
      "              precision    recall  f1-score   support\n",
      "\n",
      "           0       0.35      0.36      0.35       135\n",
      "           1       0.77      0.68      0.72       412\n",
      "           2       0.82      0.86      0.84       805\n",
      "\n",
      "    accuracy                           0.76      1352\n",
      "   macro avg       0.64      0.63      0.64      1352\n",
      "weighted avg       0.75      0.76      0.75      1352\n",
      "\n",
      "\n"
     ]
    }
   ],
   "source": [
    "model_names = ['Logistic Regression', 'Random Forest', 'Naive Bayes', \n",
    "               'Support Vector Classifer','Decision Tree Classifier']\n",
    "\n",
    "for m in model_names:\n",
    "    run_model(m)"
   ]
  },
  {
   "cell_type": "code",
   "execution_count": 128,
   "id": "206e379a-cbd9-407e-b6ed-04d7d07485bc",
   "metadata": {},
   "outputs": [
    {
     "data": {
      "text/html": [
       "<div>\n",
       "<style scoped>\n",
       "    .dataframe tbody tr th:only-of-type {\n",
       "        vertical-align: middle;\n",
       "    }\n",
       "\n",
       "    .dataframe tbody tr th {\n",
       "        vertical-align: top;\n",
       "    }\n",
       "\n",
       "    .dataframe thead th {\n",
       "        text-align: right;\n",
       "    }\n",
       "</style>\n",
       "<table border=\"1\" class=\"dataframe\">\n",
       "  <thead>\n",
       "    <tr style=\"text-align: right;\">\n",
       "      <th></th>\n",
       "      <th>Test Accuracy</th>\n",
       "      <th>Precision</th>\n",
       "      <th>Recall</th>\n",
       "      <th>F1</th>\n",
       "    </tr>\n",
       "    <tr>\n",
       "      <th>Model</th>\n",
       "      <th></th>\n",
       "      <th></th>\n",
       "      <th></th>\n",
       "      <th></th>\n",
       "    </tr>\n",
       "  </thead>\n",
       "  <tbody>\n",
       "    <tr>\n",
       "      <th>Logistic Regression</th>\n",
       "      <td>0.84</td>\n",
       "      <td>0.83</td>\n",
       "      <td>0.84</td>\n",
       "      <td>0.81</td>\n",
       "    </tr>\n",
       "    <tr>\n",
       "      <th>Random Forest</th>\n",
       "      <td>0.79</td>\n",
       "      <td>0.72</td>\n",
       "      <td>0.79</td>\n",
       "      <td>0.75</td>\n",
       "    </tr>\n",
       "    <tr>\n",
       "      <th>Naive Bayes</th>\n",
       "      <td>0.77</td>\n",
       "      <td>0.72</td>\n",
       "      <td>0.77</td>\n",
       "      <td>0.72</td>\n",
       "    </tr>\n",
       "    <tr>\n",
       "      <th>Support Vector Classifer</th>\n",
       "      <td>0.83</td>\n",
       "      <td>0.79</td>\n",
       "      <td>0.83</td>\n",
       "      <td>0.79</td>\n",
       "    </tr>\n",
       "    <tr>\n",
       "      <th>Decision Tree Classifier</th>\n",
       "      <td>0.76</td>\n",
       "      <td>0.75</td>\n",
       "      <td>0.76</td>\n",
       "      <td>0.75</td>\n",
       "    </tr>\n",
       "  </tbody>\n",
       "</table>\n",
       "</div>"
      ],
      "text/plain": [
       "                          Test Accuracy  Precision  Recall    F1\n",
       "Model                                                           \n",
       "Logistic Regression                0.84       0.83    0.84  0.81\n",
       "Random Forest                      0.79       0.72    0.79  0.75\n",
       "Naive Bayes                        0.77       0.72    0.77  0.72\n",
       "Support Vector Classifer           0.83       0.79    0.83  0.79\n",
       "Decision Tree Classifier           0.76       0.75    0.76  0.75"
      ]
     },
     "execution_count": 128,
     "metadata": {},
     "output_type": "execute_result"
    }
   ],
   "source": [
    "# Create Dataframe of Model, Accuracy, Precision, Recall, and F1\n",
    "model_performance = pd.DataFrame(data=perform_list)\n",
    "model_performance = model_performance[['Model', 'Test Accuracy', 'Precision', 'Recall', 'F1']]\n",
    "model_performance = model_performance.set_index('Model')\n",
    "model_performance"
   ]
  },
  {
   "cell_type": "code",
   "execution_count": 129,
   "id": "7e500897-5b0c-42d6-8619-eed2433dbff9",
   "metadata": {},
   "outputs": [
    {
     "data": {
      "image/png": "[encoded data removed]",
      "text/plain": [
       "<Figure size 800x800 with 4 Axes>"
      ]
     },
     "metadata": {},
     "output_type": "display_data"
    }
   ],
   "source": [
    "fig, ax = plt.subplots(nrows=2, ncols=2, figsize=(8,8))\n",
    "\n",
    "model_performance['Test Accuracy'].sort_values(ascending=False).plot(kind='bar', ax=ax[0,0], rot=45, title=\"Test accuracy\", xlabel=\"\")\n",
    "model_performance['Precision'].sort_values(ascending=False).plot(kind='bar', ax=ax[0,1], rot=45, title=\"Precision\", xlabel=\"\")\n",
    "model_performance['Recall'].sort_values(ascending=False).plot(kind='bar', ax=ax[1,0], rot=45, title=\"Recall\", xlabel=\"\")\n",
    "model_performance['F1'].sort_values(ascending=False).plot(kind='bar', ax=ax[1,1], rot=45, title=\"F1\", xlabel=\"\")\n",
    "fig.tight_layout()\n"
   ]
  },
  {
   "cell_type": "markdown",
   "id": "d7b74b7b-b397-4cf6-8e03-f841929a6546",
   "metadata": {},
   "source": [
    "**Surprisingly \"Logistic Regression\" have done the best job out of all models. But overall all models have done good job in predicting interview and letter but done terrible job in predicting comment. We will take top 2 models which are Logistic regression and SVC and fine tune them to see if the results get better** "
   ]
  },
  {
   "cell_type": "markdown",
   "id": "2bc458b8-4374-4c22-b038-d0cbdf8ad60b",
   "metadata": {},
   "source": [
    "### Fine tuning of top 2 models\n",
    "\n",
    "Models in this section:\n",
    "- Logistic Regression\n",
    "- Support Vector Classifier"
   ]
  },
  {
   "cell_type": "markdown",
   "id": "0acee03c-d6ae-4bd7-bc2d-99b7afcb7cb8",
   "metadata": {},
   "source": [
    "**In the fine tuning process we will use Randomized Search Cross-Validator to find the best hyperparameters possible.**\n",
    "\n",
    "**We will use Accuracy score to monitor the progress of CV**"
   ]
  },
  {
   "cell_type": "code",
   "execution_count": 55,
   "id": "22734364-b268-45bc-ae30-684e2b758530",
   "metadata": {},
   "outputs": [],
   "source": [
    "from sklearn.model_selection import RandomizedSearchCV\n",
    "from scipy.stats import uniform, randint, loguniform\n",
    "import warnings\n",
    "import time"
   ]
  },
  {
   "cell_type": "code",
   "execution_count": 56,
   "id": "9594e3c1-fe14-4f4e-b646-91f1b26360d8",
   "metadata": {},
   "outputs": [],
   "source": [
    "def convert_time(seconds):\n",
    "    seconds = seconds % (24 * 3600)\n",
    "    hour = seconds // 3600\n",
    "    seconds %= 3600\n",
    "    minutes = seconds // 60\n",
    "    seconds %= 60\n",
    "     \n",
    "    return \"%d:%02d:%02d\" % (hour, minutes, seconds)"
   ]
  },
  {
   "cell_type": "markdown",
   "id": "e4783625-8928-43b7-a790-22fa35d7c86e",
   "metadata": {},
   "source": [
    "*Optionally paste n_jobs = -1 in RandomizedSearchCV() function to use all available CPUs in order to speed up the process*\n",
    "\n",
    "*or define exact number of CPUs* "
   ]
  },
  {
   "cell_type": "code",
   "execution_count": 41,
   "id": "7b120323-a47d-421e-8406-2a0f7bec1251",
   "metadata": {},
   "outputs": [
    {
     "name": "stdout",
     "output_type": "stream",
     "text": [
      "Best Parameters for Logistic Regression: {'C': 79.23526217687179, 'max_iter': 637, 'penalty': 'l2', 'solver': 'newton-cg'}\n",
      "Best Accuracy Score for Logistic Regression: 0.8670507728005663\n",
      "Total runtime: 0:08:05\n"
     ]
    }
   ],
   "source": [
    "# Track runtime\n",
    "start_t = time.time()\n",
    "\n",
    "with warnings.catch_warnings():\n",
    "    # Ignore warnings while running this chunk of code\n",
    "    warnings.simplefilter(\"ignore\")\n",
    "    \n",
    "    # Define hyperparameters grid for Logistic Regression\n",
    "    param_dist_lr = {\n",
    "        'C': loguniform(1e-5, 100),  # Continuous loguniform distribution between 0.00001 and 100\n",
    "        'penalty': ['none', 'l1', 'l2', 'elasticnet'], # Define different penalties\n",
    "        'solver': ['newton-cg', 'lbfgs', 'liblinear', 'saga'],  # Define different solvers\n",
    "        'max_iter': randint(100, 1000) # Define maximum iterations in our LogReg model\n",
    "    }\n",
    "    \n",
    "    # Instantiate Logistic Regression classifier\n",
    "    lr = LogisticRegression()\n",
    "    \n",
    "    # Perform random search\n",
    "    random_search_lr = RandomizedSearchCV(estimator=lr, param_distributions=param_dist_lr, n_iter=50, cv=5, scoring='accuracy', random_state=123)\n",
    "    random_search_lr.fit(X_train_vectorized, y_train_encoded)\n",
    "    \n",
    "    # Get best parameters and best scores\n",
    "    best_params_lr = random_search_lr.best_params_\n",
    "    best_accuracy_lr = random_search_lr.best_score_\n",
    "    \n",
    "    print(\"Best Parameters for Logistic Regression:\", best_params_lr)\n",
    "    print(\"Best Accuracy Score for Logistic Regression:\", best_accuracy_lr)\n",
    "\n",
    "end_t = time.time()\n",
    "runtime = end_t - start_t\n",
    "print(f\"Total runtime: {convert_time(runtime)}\")"
   ]
  },
  {
   "cell_type": "code",
   "execution_count": 73,
   "id": "f9b9d2e9-bef4-4b39-bdae-039290eb5bf5",
   "metadata": {},
   "outputs": [
    {
     "name": "stdout",
     "output_type": "stream",
     "text": [
      "Best Parameters for SVC: {'C': 1.2686679007539894, 'degree': 4, 'gamma': 'scale', 'kernel': 'rbf'}\n",
      "Best Accuracy Score for SVC: 0.831734496538257\n",
      "Total runtime: 0:07:13\n"
     ]
    }
   ],
   "source": [
    "# Define hyperparameters grid for SVC\n",
    "start_t = time.time()\n",
    "\n",
    "with warnings.catch_warnings():\n",
    "    warnings.simplefilter(\"ignore\")\n",
    "    \n",
    "    param_dist_svc = {\n",
    "        'C': loguniform(1e-5, 100),  # Continuous uniform distribution between 0.1 and 100\n",
    "        'gamma': ['scale', 'auto'],\n",
    "        'kernel': ['linear', 'rbf', 'poly'],\n",
    "        'degree': randint(1, 10)  # Additional parameter for SVC\n",
    "    }\n",
    "    \n",
    "    # Instantiate SVC classifier\n",
    "    svc = SVC()\n",
    "    \n",
    "    # Perform random search\n",
    "    random_search_svc = RandomizedSearchCV(estimator=svc, param_distributions=param_dist_svc, n_iter=10, cv=5, \n",
    "                                           scoring='accuracy', random_state=123, n_jobs=4)\n",
    "    random_search_svc.fit(X_train_vectorized, y_train_encoded)\n",
    "    \n",
    "    # Get best parameters and best scores\n",
    "    best_params_svc = random_search_svc.best_params_\n",
    "    best_accuracy_svc = random_search_svc.best_score_\n",
    "    \n",
    "    print(\"Best Parameters for SVC:\", best_params_svc)\n",
    "    print(\"Best Accuracy Score for SVC:\", best_accuracy_svc)\n",
    "\n",
    "end_t = time.time()\n",
    "runtime = end_t - start_t\n",
    "print(f\"Total runtime: {convert_time(runtime)}\")"
   ]
  },
  {
   "cell_type": "markdown",
   "id": "c6155558-8a77-4fee-901e-7aafaef0e9cc",
   "metadata": {},
   "source": [
    "### Neural Networks for Natural Language Processing\n",
    "\n",
    "#### Recurrent neural networks (LSTM) for text classification"
   ]
  },
  {
   "cell_type": "code",
   "execution_count": 66,
   "id": "fc27bf19-64cf-4245-95fd-751035a0cc07",
   "metadata": {},
   "outputs": [],
   "source": [
    "from tensorflow.keras.preprocessing.text import Tokenizer\n",
    "from tensorflow.keras.preprocessing.sequence import pad_sequences\n",
    "from tensorflow.keras.layers import Embedding, LSTM, Dense, Dropout, GlobalMaxPool1D, Bidirectional\n",
    "from tensorflow.keras.models import Sequential\n",
    "from tensorflow.keras.callbacks import EarlyStopping\n",
    "from tensorflow import keras"
   ]
  },
  {
   "cell_type": "code",
   "execution_count": 67,
   "id": "0eb8ff69-fa92-4489-b794-a3724a982e56",
   "metadata": {},
   "outputs": [
    {
     "name": "stdout",
     "output_type": "stream",
     "text": [
      "Maximum number of words in a text: 1766\n",
      "Maximum length used: 441\n"
     ]
    }
   ],
   "source": [
    "max_words = 10000 # Max number of words to use in the vocabulary\n",
    "max_num_words = 0\n",
    "for val in X_train:\n",
    "    if len(val.split()) > max_num_words:\n",
    "        max_num_words = len(val.split())\n",
    "print(f\"Maximum number of words in a text: {max_num_words}\")\n",
    "max_len = int(round(max_num_words/4,2)) # We take the max_num_words / 4 as the max_len becuase of the comp. resources\n",
    "print(f\"Maximum length used: {max_len}\")\n",
    "embedding_dim = 200 # Usually chosen between 50 and 300\n",
    "num_classes = len(set(ml_df['labels'])) # Number of classes"
   ]
  },
  {
   "cell_type": "code",
   "execution_count": 271,
   "id": "47c745e4-fac6-48d2-aadf-7009d133681e",
   "metadata": {},
   "outputs": [],
   "source": [
    "tokenizer = Tokenizer(num_words=max_words)\n",
    "tokenizer.fit_on_texts(X_train)\n",
    "sequences = tokenizer.texts_to_sequences(X_train)\n",
    "test_seq = tokenizer.texts_to_sequences(X_test)"
   ]
  },
  {
   "cell_type": "code",
   "execution_count": 272,
   "id": "6953fa5e-2cf8-4a37-9db7-b7143d16cd4b",
   "metadata": {},
   "outputs": [],
   "source": [
    "X_train_lstm = pad_sequences(sequences, maxlen=max_len)\n",
    "y_train_lstm = keras.utils.to_categorical(y_train, num_classes)\n",
    "X_test_lstm = pad_sequences(test_seq, maxlen=max_len)\n",
    "y_test_lstm = keras.utils.to_categorical(y_test, num_classes)"
   ]
  },
  {
   "cell_type": "code",
   "execution_count": 372,
   "id": "1c0e08ea-210d-4d5e-b430-ff1d96cf320b",
   "metadata": {},
   "outputs": [],
   "source": [
    "model = Sequential()\n",
    "\n",
    "model.add(Embedding(max_words, embedding_dim, input_length=max_len))\n",
    "model.add(LSTM(128, return_sequences=True))\n",
    "model.add(Dropout(0.5))\n",
    "#model.add(LSTM(512, return_sequences=True))\n",
    "\n",
    "model.add(GlobalMaxPool1D())\n",
    "model.add(Dropout(0.4))\n",
    "model.add(Dense(256, activation='relu'))\n",
    "model.add(Dropout(0.4))\n",
    "model.add(Dense(128, activation='relu'))\n",
    "model.add(Dropout(0.4))\n",
    "\n",
    "model.add(Dense(num_classes, activation='softmax'))\n",
    "\n",
    "model.compile(loss='categorical_crossentropy', optimizer='adam', metrics=['accuracy'])"
   ]
  },
  {
   "cell_type": "code",
   "execution_count": 373,
   "id": "e8d1505d-7dd7-406b-88b0-dc4e2af7d789",
   "metadata": {},
   "outputs": [],
   "source": [
    "early_stop = EarlyStopping(monitor='val_loss', patience=3, restore_best_weights=True)"
   ]
  },
  {
   "cell_type": "code",
   "execution_count": 374,
   "id": "dedf63d5-9cab-4b47-810f-897c30c9658a",
   "metadata": {},
   "outputs": [
    {
     "name": "stdout",
     "output_type": "stream",
     "text": [
      "Model: \"sequential_43\"\n",
      "_________________________________________________________________\n",
      " Layer (type)                Output Shape              Param #   \n",
      "=================================================================\n",
      " embedding_44 (Embedding)    (None, 363, 200)          2000000   \n",
      "                                                                 \n",
      " lstm_71 (LSTM)              (None, 363, 128)          168448    \n",
      "                                                                 \n",
      " dropout_86 (Dropout)        (None, 363, 128)          0         \n",
      "                                                                 \n",
      " global_max_pooling1d_20 (G  (None, 128)               0         \n",
      " lobalMaxPooling1D)                                              \n",
      "                                                                 \n",
      " dropout_87 (Dropout)        (None, 128)               0         \n",
      "                                                                 \n",
      " dense_97 (Dense)            (None, 256)               33024     \n",
      "                                                                 \n",
      " dropout_88 (Dropout)        (None, 256)               0         \n",
      "                                                                 \n",
      " dense_98 (Dense)            (None, 128)               32896     \n",
      "                                                                 \n",
      " dropout_89 (Dropout)        (None, 128)               0         \n",
      "                                                                 \n",
      " dense_99 (Dense)            (None, 3)                 387       \n",
      "                                                                 \n",
      "=================================================================\n",
      "Total params: 2234755 (8.52 MB)\n",
      "Trainable params: 2234755 (8.52 MB)\n",
      "Non-trainable params: 0 (0.00 Byte)\n",
      "_________________________________________________________________\n"
     ]
    }
   ],
   "source": [
    "model.summary()"
   ]
  },
  {
   "cell_type": "code",
   "execution_count": 375,
   "id": "84940454-d6b4-48bf-bafc-a3a89c88561e",
   "metadata": {},
   "outputs": [
    {
     "name": "stdout",
     "output_type": "stream",
     "text": [
      "Epoch 1/100\n",
      "85/85 [==============================] - 49s 545ms/step - loss: 0.6520 - accuracy: 0.7544 - val_loss: 0.4994 - val_accuracy: 0.8454\n",
      "Epoch 2/100\n",
      "85/85 [==============================] - 47s 549ms/step - loss: 0.3832 - accuracy: 0.8617 - val_loss: 0.5594 - val_accuracy: 0.8129\n",
      "Epoch 3/100\n",
      "85/85 [==============================] - 51s 597ms/step - loss: 0.2669 - accuracy: 0.9072 - val_loss: 0.4368 - val_accuracy: 0.8247\n",
      "Epoch 4/100\n",
      "85/85 [==============================] - 47s 553ms/step - loss: 0.1882 - accuracy: 0.9399 - val_loss: 0.4173 - val_accuracy: 0.8291\n",
      "Epoch 5/100\n",
      "85/85 [==============================] - 49s 580ms/step - loss: 0.1328 - accuracy: 0.9571 - val_loss: 0.4575 - val_accuracy: 0.8484\n",
      "Epoch 6/100\n",
      "85/85 [==============================] - 48s 561ms/step - loss: 0.1574 - accuracy: 0.9497 - val_loss: 0.4765 - val_accuracy: 0.8536\n",
      "Epoch 7/100\n",
      "85/85 [==============================] - 48s 570ms/step - loss: 0.1132 - accuracy: 0.9684 - val_loss: 0.4500 - val_accuracy: 0.8543\n"
     ]
    },
    {
     "data": {
      "text/plain": [
       "<keras.src.callbacks.History at 0x141169810>"
      ]
     },
     "execution_count": 375,
     "metadata": {},
     "output_type": "execute_result"
    }
   ],
   "source": [
    "model.fit(X_train_lstm, y_train_lstm, batch_size=64, \n",
    "          epochs=100, callbacks=[early_stop], validation_data=(X_test_lstm, y_test_lstm))"
   ]
  },
  {
   "cell_type": "code",
   "execution_count": 377,
   "id": "96b1464e-ab40-4bd3-bcf9-57d220f32a2d",
   "metadata": {},
   "outputs": [
    {
     "data": {
      "text/plain": [
       "<Axes: >"
      ]
     },
     "execution_count": 377,
     "metadata": {},
     "output_type": "execute_result"
    },
    {
     "data": {
      "image/png": "[encoded data removed]",
      "text/plain": [
       "<Figure size 640x480 with 1 Axes>"
      ]
     },
     "metadata": {},
     "output_type": "display_data"
    }
   ],
   "source": [
    "pd.DataFrame(model.history.history)[['loss', 'val_loss']].plot()"
   ]
  },
  {
   "cell_type": "code",
   "execution_count": 378,
   "id": "5f26a409-7b33-430f-be5c-091a79972f89",
   "metadata": {},
   "outputs": [
    {
     "name": "stdout",
     "output_type": "stream",
     "text": [
      "43/43 [==============================] - 4s 91ms/step\n"
     ]
    }
   ],
   "source": [
    "preds = np.argmax(model.predict(X_test_lstm), axis=1)"
   ]
  },
  {
   "cell_type": "code",
   "execution_count": 379,
   "id": "1c9a7514-1acb-4519-bef4-b2a2886aa8fe",
   "metadata": {},
   "outputs": [
    {
     "name": "stdout",
     "output_type": "stream",
     "text": [
      "              precision    recall  f1-score   support\n",
      "\n",
      "           0       0.89      0.83      0.85       412\n",
      "           1       0.92      0.87      0.89       805\n",
      "           2       0.39      0.58      0.46       135\n",
      "\n",
      "    accuracy                           0.83      1352\n",
      "   macro avg       0.73      0.76      0.74      1352\n",
      "weighted avg       0.85      0.83      0.84      1352\n",
      "\n"
     ]
    }
   ],
   "source": [
    "print(classification_report(y_test, preds))"
   ]
  },
  {
   "cell_type": "code",
   "execution_count": 339,
   "id": "09cb97ed-e59a-4617-8abe-5d234e0c134b",
   "metadata": {},
   "outputs": [],
   "source": [
    "### SAVING THE MODEL ###\n",
    "\n",
    "# model.save(filepath=\"./models/second_lstm_model.h5\")\n",
    "# model.save_weights(filepath=\"./models/second_lstm_model_weights\")"
   ]
  },
  {
   "cell_type": "markdown",
   "id": "9639c0b5-02ad-48dd-8d96-76926acbcb75",
   "metadata": {},
   "source": [
    "#### Convolutional neural networks (CNN) for text classification"
   ]
  },
  {
   "cell_type": "code",
   "execution_count": 333,
   "id": "ffe68f66-9cd1-4473-a69a-5b23e24dcbf7",
   "metadata": {},
   "outputs": [],
   "source": [
    "from tensorflow.keras.layers import Conv1D, Flatten, MaxPooling1D"
   ]
  },
  {
   "cell_type": "code",
   "execution_count": 392,
   "id": "4d662735-1693-4412-8a61-f7f8470f9c96",
   "metadata": {},
   "outputs": [],
   "source": [
    "filters = 30\n",
    "kernel_size = 3\n",
    "\n",
    "# Before was 16 and 3\n",
    "\n",
    "## If no improvements recreate the video cnn"
   ]
  },
  {
   "cell_type": "code",
   "execution_count": 393,
   "id": "88b94818-2bda-4019-b536-82d8522afd92",
   "metadata": {},
   "outputs": [],
   "source": [
    "cnn = Sequential()\n",
    "\n",
    "cnn.add(Embedding(max_words, embedding_dim, input_length=max_len))\n",
    "cnn.add(Dropout(0.5))\n",
    "cnn.add(Conv1D(filters=filters, kernel_size=kernel_size, padding='valid', activation='relu'))\n",
    "cnn.add(MaxPooling1D())\n",
    "cnn.add(Conv1D(filters=filters, kernel_size=kernel_size, padding='valid', activation='relu'))\n",
    "cnn.add(MaxPooling1D())\n",
    "cnn.add(Conv1D(filters=filters, kernel_size=kernel_size, padding='valid', activation='relu'))\n",
    "cnn.add(MaxPooling1D())\n",
    "cnn.add(Flatten())\n",
    "cnn.add(Dense(128, activation='relu'))\n",
    "cnn.add(Dense(256, activation='relu'))\n",
    "cnn.add(Dropout(0.5))\n",
    "cnn.add(Dense(num_classes, activation='softmax'))\n",
    "\n",
    "cnn.compile(loss='categorical_crossentropy', optimizer='adam', metrics=['accuracy'])"
   ]
  },
  {
   "cell_type": "code",
   "execution_count": 394,
   "id": "fcc7b64f-edd3-41df-8ec4-1670d127272c",
   "metadata": {},
   "outputs": [
    {
     "name": "stdout",
     "output_type": "stream",
     "text": [
      "Epoch 1/10\n",
      "85/85 [==============================] - 13s 132ms/step - loss: 0.5804 - accuracy: 0.7739 - val_loss: 0.4427 - val_accuracy: 0.8247\n",
      "Epoch 2/10\n",
      "85/85 [==============================] - 11s 132ms/step - loss: 0.3213 - accuracy: 0.8798 - val_loss: 0.3945 - val_accuracy: 0.8521\n",
      "Epoch 3/10\n",
      "85/85 [==============================] - 12s 143ms/step - loss: 0.2057 - accuracy: 0.9351 - val_loss: 0.4409 - val_accuracy: 0.8351\n",
      "Epoch 4/10\n",
      "85/85 [==============================] - 12s 144ms/step - loss: 0.1427 - accuracy: 0.9567 - val_loss: 0.5340 - val_accuracy: 0.8203\n",
      "Epoch 5/10\n",
      "85/85 [==============================] - 11s 132ms/step - loss: 0.1105 - accuracy: 0.9665 - val_loss: 0.5822 - val_accuracy: 0.8195\n"
     ]
    },
    {
     "data": {
      "text/plain": [
       "<keras.src.callbacks.History at 0x17637cf50>"
      ]
     },
     "execution_count": 394,
     "metadata": {},
     "output_type": "execute_result"
    }
   ],
   "source": [
    "cnn.fit(X_train_lstm, y_train_lstm, batch_size=64, epochs=10, \n",
    "        validation_data=(X_test_lstm, y_test_lstm), callbacks=[early_stop])"
   ]
  },
  {
   "cell_type": "code",
   "execution_count": 395,
   "id": "169e10aa-a797-40f9-a0c2-2b172417fc7f",
   "metadata": {},
   "outputs": [
    {
     "data": {
      "text/plain": [
       "<Axes: >"
      ]
     },
     "execution_count": 395,
     "metadata": {},
     "output_type": "execute_result"
    },
    {
     "data": {
      "image/png": "[encoded data removed]",
      "text/plain": [
       "<Figure size 640x480 with 1 Axes>"
      ]
     },
     "metadata": {},
     "output_type": "display_data"
    }
   ],
   "source": [
    "pd.DataFrame(cnn.history.history)[['loss', 'val_loss']].plot()"
   ]
  },
  {
   "cell_type": "code",
   "execution_count": 396,
   "id": "73933c54-f92d-4bae-815b-0082ce1c0ca0",
   "metadata": {},
   "outputs": [
    {
     "name": "stdout",
     "output_type": "stream",
     "text": [
      "43/43 [==============================] - 0s 8ms/step\n"
     ]
    }
   ],
   "source": [
    "cnn_preds = np.argmax(cnn.predict(X_test_lstm), axis=1)"
   ]
  },
  {
   "cell_type": "code",
   "execution_count": 397,
   "id": "93cc2974-df7b-482d-b735-8fb4985229f7",
   "metadata": {},
   "outputs": [
    {
     "name": "stdout",
     "output_type": "stream",
     "text": [
      "              precision    recall  f1-score   support\n",
      "\n",
      "           0       0.94      0.78      0.85       412\n",
      "           1       0.87      0.96      0.91       805\n",
      "           2       0.46      0.39      0.42       135\n",
      "\n",
      "    accuracy                           0.85      1352\n",
      "   macro avg       0.76      0.71      0.73      1352\n",
      "weighted avg       0.85      0.85      0.85      1352\n",
      "\n"
     ]
    }
   ],
   "source": [
    "print(classification_report(y_test, cnn_preds))"
   ]
  },
  {
   "cell_type": "code",
   "execution_count": 371,
   "id": "6b85268f-6cec-4fef-b522-6e752462ff1a",
   "metadata": {},
   "outputs": [],
   "source": [
    "### SAVE THE CNN MODEL ###\n",
    "\n",
    "# cnn.save(filepath=\"./models/57_cnn_model.keras\")\n",
    "# cnn.save_weights(filepath=\"./models/57_cnn_model_weights\")"
   ]
  },
  {
   "cell_type": "markdown",
   "id": "1219c6e3-274e-4ff0-af38-27f0e5a4021c",
   "metadata": {},
   "source": [
    "## Transformers (LLMs)"
   ]
  },
  {
   "cell_type": "code",
   "execution_count": 176,
   "id": "8b33f90e-cde4-4385-9a80-386aad04cf9b",
   "metadata": {},
   "outputs": [
    {
     "data": {
      "text/html": [
       "<div>\n",
       "<style scoped>\n",
       "    .dataframe tbody tr th:only-of-type {\n",
       "        vertical-align: middle;\n",
       "    }\n",
       "\n",
       "    .dataframe tbody tr th {\n",
       "        vertical-align: top;\n",
       "    }\n",
       "\n",
       "    .dataframe thead th {\n",
       "        text-align: right;\n",
       "    }\n",
       "</style>\n",
       "<table border=\"1\" class=\"dataframe\">\n",
       "  <thead>\n",
       "    <tr style=\"text-align: right;\">\n",
       "      <th></th>\n",
       "      <th>text</th>\n",
       "      <th>labels</th>\n",
       "      <th>label_ids</th>\n",
       "    </tr>\n",
       "  </thead>\n",
       "  <tbody>\n",
       "    <tr>\n",
       "      <th>0</th>\n",
       "      <td>zwei jubiläen als stresstest\\n\\ninterviewlento...</td>\n",
       "      <td>interview</td>\n",
       "      <td>0</td>\n",
       "    </tr>\n",
       "    <tr>\n",
       "      <th>1</th>\n",
       "      <td>: \"klimawandel oder klimakrise\"\\n\\n   ist nich...</td>\n",
       "      <td>interview</td>\n",
       "      <td>0</td>\n",
       "    </tr>\n",
       "    <tr>\n",
       "      <th>2</th>\n",
       "      <td>„kaum eine woche unter 80 arbeitsstunden!“\\n\\n...</td>\n",
       "      <td>interview</td>\n",
       "      <td>0</td>\n",
       "    </tr>\n",
       "    <tr>\n",
       "      <th>3</th>\n",
       "      <td>„check this out! this is paradise!“\\n\\nder us-...</td>\n",
       "      <td>interview</td>\n",
       "      <td>0</td>\n",
       "    </tr>\n",
       "    <tr>\n",
       "      <th>4</th>\n",
       "      <td>„es war eine extreme hochschaubahn“\\n\\n   der ...</td>\n",
       "      <td>interview</td>\n",
       "      <td>0</td>\n",
       "    </tr>\n",
       "    <tr>\n",
       "      <th>...</th>\n",
       "      <td>...</td>\n",
       "      <td>...</td>\n",
       "      <td>...</td>\n",
       "    </tr>\n",
       "    <tr>\n",
       "      <th>6755</th>\n",
       "      <td>die schulpolitik macht ferien in skandinavien\\...</td>\n",
       "      <td>comment</td>\n",
       "      <td>2</td>\n",
       "    </tr>\n",
       "    <tr>\n",
       "      <th>6756</th>\n",
       "      <td>kreative köpfe statt normaldenker, frische neu...</td>\n",
       "      <td>comment</td>\n",
       "      <td>2</td>\n",
       "    </tr>\n",
       "    <tr>\n",
       "      <th>6757</th>\n",
       "      <td>schilling, daphne und lire\\n\\n   daphne? das w...</td>\n",
       "      <td>comment</td>\n",
       "      <td>2</td>\n",
       "    </tr>\n",
       "    <tr>\n",
       "      <th>6758</th>\n",
       "      <td>eu-regierungen verlernen demokratie\\n\\ngetroff...</td>\n",
       "      <td>comment</td>\n",
       "      <td>2</td>\n",
       "    </tr>\n",
       "    <tr>\n",
       "      <th>6759</th>\n",
       "      <td>hohe schulden allein sind nicht das problem\\n\\...</td>\n",
       "      <td>comment</td>\n",
       "      <td>2</td>\n",
       "    </tr>\n",
       "  </tbody>\n",
       "</table>\n",
       "<p>6760 rows × 3 columns</p>\n",
       "</div>"
      ],
      "text/plain": [
       "                                                   text     labels  label_ids\n",
       "0     zwei jubiläen als stresstest\\n\\ninterviewlento...  interview          0\n",
       "1     : \"klimawandel oder klimakrise\"\\n\\n   ist nich...  interview          0\n",
       "2     „kaum eine woche unter 80 arbeitsstunden!“\\n\\n...  interview          0\n",
       "3     „check this out! this is paradise!“\\n\\nder us-...  interview          0\n",
       "4     „es war eine extreme hochschaubahn“\\n\\n   der ...  interview          0\n",
       "...                                                 ...        ...        ...\n",
       "6755  die schulpolitik macht ferien in skandinavien\\...    comment          2\n",
       "6756  kreative köpfe statt normaldenker, frische neu...    comment          2\n",
       "6757  schilling, daphne und lire\\n\\n   daphne? das w...    comment          2\n",
       "6758  eu-regierungen verlernen demokratie\\n\\ngetroff...    comment          2\n",
       "6759  hohe schulden allein sind nicht das problem\\n\\...    comment          2\n",
       "\n",
       "[6760 rows x 3 columns]"
      ]
     },
     "execution_count": 176,
     "metadata": {},
     "output_type": "execute_result"
    }
   ],
   "source": [
    "ml_df"
   ]
  },
  {
   "cell_type": "code",
   "execution_count": 177,
   "id": "d667e953-ea94-414b-8764-b02feda8746e",
   "metadata": {},
   "outputs": [],
   "source": [
    "import string\n",
    "\n",
    "def remove_special_characters(text):\n",
    "    translator = str.maketrans('', '', string.punctuation)\n",
    "    return text.translate(translator)"
   ]
  },
  {
   "cell_type": "code",
   "execution_count": 178,
   "id": "0e7cff25-3988-495e-aed5-530c0334bf76",
   "metadata": {},
   "outputs": [],
   "source": [
    "# Apply the function to the 'text' column\n",
    "ml_df.loc[:,'text'] = ml_df['text'].apply(remove_special_characters)"
   ]
  },
  {
   "cell_type": "code",
   "execution_count": 179,
   "id": "b613822b-1f31-4855-9943-8d33ddc75b03",
   "metadata": {},
   "outputs": [
    {
     "data": {
      "text/html": [
       "<div>\n",
       "<style scoped>\n",
       "    .dataframe tbody tr th:only-of-type {\n",
       "        vertical-align: middle;\n",
       "    }\n",
       "\n",
       "    .dataframe tbody tr th {\n",
       "        vertical-align: top;\n",
       "    }\n",
       "\n",
       "    .dataframe thead th {\n",
       "        text-align: right;\n",
       "    }\n",
       "</style>\n",
       "<table border=\"1\" class=\"dataframe\">\n",
       "  <thead>\n",
       "    <tr style=\"text-align: right;\">\n",
       "      <th></th>\n",
       "      <th>text</th>\n",
       "      <th>labels</th>\n",
       "      <th>label_ids</th>\n",
       "    </tr>\n",
       "  </thead>\n",
       "  <tbody>\n",
       "    <tr>\n",
       "      <th>0</th>\n",
       "      <td>zwei jubiläen als stresstest\\n\\ninterviewlento...</td>\n",
       "      <td>interview</td>\n",
       "      <td>0</td>\n",
       "    </tr>\n",
       "    <tr>\n",
       "      <th>1</th>\n",
       "      <td>klimawandel oder klimakrise\\n\\n   ist nicht e...</td>\n",
       "      <td>interview</td>\n",
       "      <td>0</td>\n",
       "    </tr>\n",
       "    <tr>\n",
       "      <th>2</th>\n",
       "      <td>„kaum eine woche unter 80 arbeitsstunden“\\n\\nl...</td>\n",
       "      <td>interview</td>\n",
       "      <td>0</td>\n",
       "    </tr>\n",
       "    <tr>\n",
       "      <th>3</th>\n",
       "      <td>„check this out this is paradise“\\n\\nder usame...</td>\n",
       "      <td>interview</td>\n",
       "      <td>0</td>\n",
       "    </tr>\n",
       "    <tr>\n",
       "      <th>4</th>\n",
       "      <td>„es war eine extreme hochschaubahn“\\n\\n   der ...</td>\n",
       "      <td>interview</td>\n",
       "      <td>0</td>\n",
       "    </tr>\n",
       "    <tr>\n",
       "      <th>...</th>\n",
       "      <td>...</td>\n",
       "      <td>...</td>\n",
       "      <td>...</td>\n",
       "    </tr>\n",
       "    <tr>\n",
       "      <th>6755</th>\n",
       "      <td>die schulpolitik macht ferien in skandinavien\\...</td>\n",
       "      <td>comment</td>\n",
       "      <td>2</td>\n",
       "    </tr>\n",
       "    <tr>\n",
       "      <th>6756</th>\n",
       "      <td>kreative köpfe statt normaldenker frische neug...</td>\n",
       "      <td>comment</td>\n",
       "      <td>2</td>\n",
       "    </tr>\n",
       "    <tr>\n",
       "      <th>6757</th>\n",
       "      <td>schilling daphne und lire\\n\\n   daphne das war...</td>\n",
       "      <td>comment</td>\n",
       "      <td>2</td>\n",
       "    </tr>\n",
       "    <tr>\n",
       "      <th>6758</th>\n",
       "      <td>euregierungen verlernen demokratie\\n\\ngetroffe...</td>\n",
       "      <td>comment</td>\n",
       "      <td>2</td>\n",
       "    </tr>\n",
       "    <tr>\n",
       "      <th>6759</th>\n",
       "      <td>hohe schulden allein sind nicht das problem\\n\\...</td>\n",
       "      <td>comment</td>\n",
       "      <td>2</td>\n",
       "    </tr>\n",
       "  </tbody>\n",
       "</table>\n",
       "<p>6760 rows × 3 columns</p>\n",
       "</div>"
      ],
      "text/plain": [
       "                                                   text     labels  label_ids\n",
       "0     zwei jubiläen als stresstest\\n\\ninterviewlento...  interview          0\n",
       "1      klimawandel oder klimakrise\\n\\n   ist nicht e...  interview          0\n",
       "2     „kaum eine woche unter 80 arbeitsstunden“\\n\\nl...  interview          0\n",
       "3     „check this out this is paradise“\\n\\nder usame...  interview          0\n",
       "4     „es war eine extreme hochschaubahn“\\n\\n   der ...  interview          0\n",
       "...                                                 ...        ...        ...\n",
       "6755  die schulpolitik macht ferien in skandinavien\\...    comment          2\n",
       "6756  kreative köpfe statt normaldenker frische neug...    comment          2\n",
       "6757  schilling daphne und lire\\n\\n   daphne das war...    comment          2\n",
       "6758  euregierungen verlernen demokratie\\n\\ngetroffe...    comment          2\n",
       "6759  hohe schulden allein sind nicht das problem\\n\\...    comment          2\n",
       "\n",
       "[6760 rows x 3 columns]"
      ]
     },
     "execution_count": 179,
     "metadata": {},
     "output_type": "execute_result"
    }
   ],
   "source": [
    "ml_df"
   ]
  },
  {
   "cell_type": "code",
   "execution_count": 180,
   "id": "732869dc-88d1-48ae-9b7e-c29703ea15c2",
   "metadata": {},
   "outputs": [],
   "source": [
    "from transformers import AutoTokenizer"
   ]
  },
  {
   "cell_type": "code",
   "execution_count": 181,
   "id": "b9a7081f-3996-4c07-a2c3-b299222aefea",
   "metadata": {},
   "outputs": [],
   "source": [
    "tokenizer = AutoTokenizer.from_pretrained(\"bert-base-german-cased\")"
   ]
  },
  {
   "cell_type": "code",
   "execution_count": 182,
   "id": "bb5fd2eb-2d28-4210-9a1a-6de36a705eff",
   "metadata": {},
   "outputs": [],
   "source": [
    "seqlen = ml_df['text'].apply(lambda x: len(x.split()))"
   ]
  },
  {
   "cell_type": "code",
   "execution_count": 183,
   "id": "f7b53612-7f5a-4d19-b54b-c53d3a29ea28",
   "metadata": {},
   "outputs": [
    {
     "data": {
      "text/plain": [
       "<Axes: ylabel='Frequency'>"
      ]
     },
     "execution_count": 183,
     "metadata": {},
     "output_type": "execute_result"
    },
    {
     "data": {
      "image/png": "[encoded data removed]",
      "text/plain": [
       "<Figure size 640x480 with 1 Axes>"
      ]
     },
     "metadata": {},
     "output_type": "display_data"
    }
   ],
   "source": [
    "seqlen.plot(kind=\"hist\")"
   ]
  },
  {
   "cell_type": "markdown",
   "id": "1d84fd40-8306-477f-8f06-c1334a4b12e4",
   "metadata": {},
   "source": [
    "To speed up the process I'll use max_len predefined as seq_len. Normally would use seq_len = ca. 1500"
   ]
  },
  {
   "cell_type": "code",
   "execution_count": 184,
   "id": "8c4bef98-32b6-4df2-9f2b-a85d5c15506b",
   "metadata": {},
   "outputs": [],
   "source": [
    "seq_len = max_len"
   ]
  },
  {
   "cell_type": "code",
   "execution_count": 185,
   "id": "fcf08c37-1b9f-42dd-b0f4-76c06274905f",
   "metadata": {},
   "outputs": [],
   "source": [
    "tokens = tokenizer.encode_plus(ml_df.loc[1,\"text\"], max_length=seq_len, truncation=True, padding=\"max_length\",\n",
    "                              add_special_tokens=True, return_token_type_ids=False, return_attention_mask=True,\n",
    "                              return_tensors=\"tf\")"
   ]
  },
  {
   "cell_type": "code",
   "execution_count": 186,
   "id": "ecdb768e-4e74-480b-89d9-7549984e3325",
   "metadata": {},
   "outputs": [
    {
     "data": {
      "text/plain": [
       "{'input_ids': <tf.Tensor: shape=(1, 441), dtype=int32, numpy=\n",
       "array([[    3,   714,  3988, 16922,   309,   714,  3988, 10184,   127,\n",
       "          149, 15601,  7704,   789,  4441,   232,   142, 13049,   747,\n",
       "          592,     7,  6247,  3998, 10070,  1195,   144,    30,  2037,\n",
       "        26911,  5288,  7852,  1900,   444,  4762,  7654, 26897, 12412,\n",
       "         2636,  8042,  1812,  3376,   114,   312,   282,    42, 13558,\n",
       "          160,   380,   266,  2324,   230, 13883,    57, 23000,    42,\n",
       "         6699,  4300,  1885,    39,  4905, 26898,  1760,  6488,   262,\n",
       "         5128,  2860,  1234, 12046,  1762, 21004,  2455, 14226,   232,\n",
       "         2099,  3291,   850,  4543,   789,  4441,  1113,  5367,   127,\n",
       "          961,   127,    93,  1717,   731,   379,    21,  3861,  1627,\n",
       "         3522,  1136,  3988,  9671,    39, 20551,   188, 10330,   309,\n",
       "          188, 11084, 19884, 19546,     2,  3146,   155,  4493,  9561,\n",
       "        26897, 23888,   155, 13989, 10133,  4731,    27,   221,  2776,\n",
       "            7,   155,  7313,  7879, 21647,  2239, 10236, 22765, 17422,\n",
       "          104,    21,  8452,  2456,    81,  1693,    30,  6892, 26898,\n",
       "         4838,     7,    21,   454,  5145,  1500, 12840,  2776,     7,\n",
       "           42,    93,  7325, 26897,  3975,  1323,    21,  3861,  2275,\n",
       "         1149,  2980,    19,  3422,  1913,   834,   714,  3988, 16922,\n",
       "          309,   714,  3988, 10184,   127,  9431,   225,   445,   461,\n",
       "          127,   461,     2,    96,  3579,     2,     2,   106,  4547,\n",
       "           65,   127,   356, 25805,   221,    93, 25922,     2,  7556,\n",
       "           68,     2,   127,  7930,   149,   383,  2795,   266,  1080,\n",
       "        15141,   127,    81,  9665,   229,  4835,   281,  1958,   540,\n",
       "        11625, 26902, 16922,  4877,  1072,   153,   178,   726,   127,\n",
       "        16966,     2,   155,   281,   801,    88,    21,  4670,  1748,\n",
       "          172,     2,  2026,  2099,    93, 15852,     4,     0,     0,\n",
       "            0,     0,     0,     0,     0,     0,     0,     0,     0,\n",
       "            0,     0,     0,     0,     0,     0,     0,     0,     0,\n",
       "            0,     0,     0,     0,     0,     0,     0,     0,     0,\n",
       "            0,     0,     0,     0,     0,     0,     0,     0,     0,\n",
       "            0,     0,     0,     0,     0,     0,     0,     0,     0,\n",
       "            0,     0,     0,     0,     0,     0,     0,     0,     0,\n",
       "            0,     0,     0,     0,     0,     0,     0,     0,     0,\n",
       "            0,     0,     0,     0,     0,     0,     0,     0,     0,\n",
       "            0,     0,     0,     0,     0,     0,     0,     0,     0,\n",
       "            0,     0,     0,     0,     0,     0,     0,     0,     0,\n",
       "            0,     0,     0,     0,     0,     0,     0,     0,     0,\n",
       "            0,     0,     0,     0,     0,     0,     0,     0,     0,\n",
       "            0,     0,     0,     0,     0,     0,     0,     0,     0,\n",
       "            0,     0,     0,     0,     0,     0,     0,     0,     0,\n",
       "            0,     0,     0,     0,     0,     0,     0,     0,     0,\n",
       "            0,     0,     0,     0,     0,     0,     0,     0,     0,\n",
       "            0,     0,     0,     0,     0,     0,     0,     0,     0,\n",
       "            0,     0,     0,     0,     0,     0,     0,     0,     0,\n",
       "            0,     0,     0,     0,     0,     0,     0,     0,     0,\n",
       "            0,     0,     0,     0,     0,     0,     0,     0,     0,\n",
       "            0,     0,     0,     0,     0,     0,     0,     0,     0,\n",
       "            0,     0,     0,     0,     0,     0,     0,     0,     0,\n",
       "            0,     0,     0,     0,     0,     0,     0,     0,     0]],\n",
       "      dtype=int32)>, 'attention_mask': <tf.Tensor: shape=(1, 441), dtype=int32, numpy=\n",
       "array([[1, 1, 1, 1, 1, 1, 1, 1, 1, 1, 1, 1, 1, 1, 1, 1, 1, 1, 1, 1, 1, 1,\n",
       "        1, 1, 1, 1, 1, 1, 1, 1, 1, 1, 1, 1, 1, 1, 1, 1, 1, 1, 1, 1, 1, 1,\n",
       "        1, 1, 1, 1, 1, 1, 1, 1, 1, 1, 1, 1, 1, 1, 1, 1, 1, 1, 1, 1, 1, 1,\n",
       "        1, 1, 1, 1, 1, 1, 1, 1, 1, 1, 1, 1, 1, 1, 1, 1, 1, 1, 1, 1, 1, 1,\n",
       "        1, 1, 1, 1, 1, 1, 1, 1, 1, 1, 1, 1, 1, 1, 1, 1, 1, 1, 1, 1, 1, 1,\n",
       "        1, 1, 1, 1, 1, 1, 1, 1, 1, 1, 1, 1, 1, 1, 1, 1, 1, 1, 1, 1, 1, 1,\n",
       "        1, 1, 1, 1, 1, 1, 1, 1, 1, 1, 1, 1, 1, 1, 1, 1, 1, 1, 1, 1, 1, 1,\n",
       "        1, 1, 1, 1, 1, 1, 1, 1, 1, 1, 1, 1, 1, 1, 1, 1, 1, 1, 1, 1, 1, 1,\n",
       "        1, 1, 1, 1, 1, 1, 1, 1, 1, 1, 1, 1, 1, 1, 1, 1, 1, 1, 1, 1, 1, 1,\n",
       "        1, 1, 1, 1, 1, 1, 1, 1, 1, 1, 1, 1, 1, 1, 1, 1, 1, 1, 1, 1, 1, 1,\n",
       "        1, 1, 1, 1, 1, 1, 1, 1, 1, 1, 1, 1, 0, 0, 0, 0, 0, 0, 0, 0, 0, 0,\n",
       "        0, 0, 0, 0, 0, 0, 0, 0, 0, 0, 0, 0, 0, 0, 0, 0, 0, 0, 0, 0, 0, 0,\n",
       "        0, 0, 0, 0, 0, 0, 0, 0, 0, 0, 0, 0, 0, 0, 0, 0, 0, 0, 0, 0, 0, 0,\n",
       "        0, 0, 0, 0, 0, 0, 0, 0, 0, 0, 0, 0, 0, 0, 0, 0, 0, 0, 0, 0, 0, 0,\n",
       "        0, 0, 0, 0, 0, 0, 0, 0, 0, 0, 0, 0, 0, 0, 0, 0, 0, 0, 0, 0, 0, 0,\n",
       "        0, 0, 0, 0, 0, 0, 0, 0, 0, 0, 0, 0, 0, 0, 0, 0, 0, 0, 0, 0, 0, 0,\n",
       "        0, 0, 0, 0, 0, 0, 0, 0, 0, 0, 0, 0, 0, 0, 0, 0, 0, 0, 0, 0, 0, 0,\n",
       "        0, 0, 0, 0, 0, 0, 0, 0, 0, 0, 0, 0, 0, 0, 0, 0, 0, 0, 0, 0, 0, 0,\n",
       "        0, 0, 0, 0, 0, 0, 0, 0, 0, 0, 0, 0, 0, 0, 0, 0, 0, 0, 0, 0, 0, 0,\n",
       "        0, 0, 0, 0, 0, 0, 0, 0, 0, 0, 0, 0, 0, 0, 0, 0, 0, 0, 0, 0, 0, 0,\n",
       "        0]], dtype=int32)>}"
      ]
     },
     "execution_count": 186,
     "metadata": {},
     "output_type": "execute_result"
    }
   ],
   "source": [
    "tokens"
   ]
  },
  {
   "cell_type": "code",
   "execution_count": 187,
   "id": "eb8ea520-bd74-4af2-bb6c-83586a508d5d",
   "metadata": {},
   "outputs": [],
   "source": [
    "Xids = np.zeros((len(ml_df), seq_len))\n",
    "Xmask = np.zeros((len(ml_df), seq_len))"
   ]
  },
  {
   "cell_type": "code",
   "execution_count": 188,
   "id": "5420d5b2-f98c-4ab4-86f9-6ab0b3006c81",
   "metadata": {},
   "outputs": [],
   "source": [
    "for i, seq in enumerate(ml_df['text']):\n",
    "    tokens = tokenizer.encode_plus(seq, max_length=seq_len, truncation=True, padding=\"max_length\",\n",
    "                              add_special_tokens=True, return_token_type_ids=False, return_attention_mask=True,\n",
    "                              return_tensors=\"tf\")\n",
    "    Xids[i,:], Xmask[i,:] = tokens['input_ids'], tokens['attention_mask']"
   ]
  },
  {
   "cell_type": "code",
   "execution_count": 189,
   "id": "bfccb1ea-bce3-4831-b79b-a6aac98fc4bf",
   "metadata": {},
   "outputs": [
    {
     "data": {
      "text/plain": [
       "array([[3.0000e+00, 3.8200e+02, 2.6618e+04, ..., 0.0000e+00, 0.0000e+00,\n",
       "        0.0000e+00],\n",
       "       [3.0000e+00, 7.1400e+02, 3.9880e+03, ..., 0.0000e+00, 0.0000e+00,\n",
       "        0.0000e+00],\n",
       "       [3.0000e+00, 2.0000e+00, 2.8960e+03, ..., 9.3700e+02, 6.8000e+01,\n",
       "        4.0000e+00],\n",
       "       ...,\n",
       "       [3.0000e+00, 2.0500e+02, 3.1800e+02, ..., 0.0000e+00, 0.0000e+00,\n",
       "        0.0000e+00],\n",
       "       [3.0000e+00, 4.5400e+02, 2.4010e+03, ..., 0.0000e+00, 0.0000e+00,\n",
       "        0.0000e+00],\n",
       "       [3.0000e+00, 4.1540e+03, 1.4123e+04, ..., 2.8700e+02, 1.3040e+03,\n",
       "        4.0000e+00]])"
      ]
     },
     "execution_count": 189,
     "metadata": {},
     "output_type": "execute_result"
    }
   ],
   "source": [
    "Xids"
   ]
  },
  {
   "cell_type": "code",
   "execution_count": 190,
   "id": "7b1659ec-c90b-4d16-9e89-405fc4ed8e18",
   "metadata": {},
   "outputs": [],
   "source": [
    "arr = ml_df['label_ids'].values\n",
    "labels = np.zeros((arr.size, arr.max()+1))"
   ]
  },
  {
   "cell_type": "code",
   "execution_count": 191,
   "id": "4eceb630-fe8c-4884-8afa-2baebe04e1f8",
   "metadata": {},
   "outputs": [],
   "source": [
    "labels[np.arange(arr.size),arr] = 1"
   ]
  },
  {
   "cell_type": "code",
   "execution_count": 192,
   "id": "a54465d1-ee41-4a85-94a6-9866630d97ae",
   "metadata": {},
   "outputs": [
    {
     "data": {
      "text/plain": [
       "array([[1., 0., 0.],\n",
       "       [1., 0., 0.],\n",
       "       [1., 0., 0.],\n",
       "       ...,\n",
       "       [0., 0., 1.],\n",
       "       [0., 0., 1.],\n",
       "       [0., 0., 1.]])"
      ]
     },
     "execution_count": 192,
     "metadata": {},
     "output_type": "execute_result"
    }
   ],
   "source": [
    "labels"
   ]
  },
  {
   "cell_type": "code",
   "execution_count": 193,
   "id": "ddb1e4ad-805c-40ca-808a-59a8921c32fb",
   "metadata": {},
   "outputs": [],
   "source": [
    "with open('xids.npy', 'wb') as f:\n",
    "    np.save(f, Xids)\n",
    "\n",
    "with open('xmask.npy', 'wb') as f:\n",
    "    np.save(f, Xmask)\n",
    "\n",
    "with open('labels.npy', 'wb') as f:\n",
    "    np.save(f, labels)\n",
    "\n",
    "del Xids, Xmask, labels"
   ]
  },
  {
   "cell_type": "code",
   "execution_count": 194,
   "id": "d233c36b-7335-42ed-aa62-0fc9be607619",
   "metadata": {},
   "outputs": [],
   "source": [
    "with open('xids.npy', 'rb') as f:\n",
    "    Xids = np.load(f)\n",
    "\n",
    "with open('xmask.npy', 'rb') as f:\n",
    "    Xmask = np.load(f)\n",
    "\n",
    "with open('labels.npy', 'rb') as f:\n",
    "    labels = np.load(f)"
   ]
  },
  {
   "cell_type": "code",
   "execution_count": 195,
   "id": "cf5bb784-c2ae-4b63-b039-039bac607b37",
   "metadata": {},
   "outputs": [
    {
     "data": {
      "text/plain": [
       "(array([[3.0000e+00, 3.8200e+02, 2.6618e+04, ..., 0.0000e+00, 0.0000e+00,\n",
       "         0.0000e+00],\n",
       "        [3.0000e+00, 7.1400e+02, 3.9880e+03, ..., 0.0000e+00, 0.0000e+00,\n",
       "         0.0000e+00],\n",
       "        [3.0000e+00, 2.0000e+00, 2.8960e+03, ..., 9.3700e+02, 6.8000e+01,\n",
       "         4.0000e+00],\n",
       "        ...,\n",
       "        [3.0000e+00, 2.0500e+02, 3.1800e+02, ..., 0.0000e+00, 0.0000e+00,\n",
       "         0.0000e+00],\n",
       "        [3.0000e+00, 4.5400e+02, 2.4010e+03, ..., 0.0000e+00, 0.0000e+00,\n",
       "         0.0000e+00],\n",
       "        [3.0000e+00, 4.1540e+03, 1.4123e+04, ..., 2.8700e+02, 1.3040e+03,\n",
       "         4.0000e+00]]),\n",
       " array([[1., 1., 1., ..., 0., 0., 0.],\n",
       "        [1., 1., 1., ..., 0., 0., 0.],\n",
       "        [1., 1., 1., ..., 1., 1., 1.],\n",
       "        ...,\n",
       "        [1., 1., 1., ..., 0., 0., 0.],\n",
       "        [1., 1., 1., ..., 0., 0., 0.],\n",
       "        [1., 1., 1., ..., 1., 1., 1.]]),\n",
       " array([[1., 0., 0.],\n",
       "        [1., 0., 0.],\n",
       "        [1., 0., 0.],\n",
       "        ...,\n",
       "        [0., 0., 1.],\n",
       "        [0., 0., 1.],\n",
       "        [0., 0., 1.]]))"
      ]
     },
     "execution_count": 195,
     "metadata": {},
     "output_type": "execute_result"
    }
   ],
   "source": [
    "Xids, Xmask, labels"
   ]
  },
  {
   "cell_type": "code",
   "execution_count": 196,
   "id": "92511187-7669-4922-9741-e7a7f71f61ea",
   "metadata": {},
   "outputs": [],
   "source": [
    "import tensorflow as tf"
   ]
  },
  {
   "cell_type": "code",
   "execution_count": 197,
   "id": "93c39171-6fb6-45bd-b1e9-2c6482abba46",
   "metadata": {},
   "outputs": [],
   "source": [
    "dataset = tf.data.Dataset.from_tensor_slices((Xids, Xmask, labels))"
   ]
  },
  {
   "cell_type": "code",
   "execution_count": 198,
   "id": "b66d9262-2762-4430-8eac-ac45001a730a",
   "metadata": {},
   "outputs": [
    {
     "name": "stdout",
     "output_type": "stream",
     "text": [
      "(<tf.Tensor: shape=(441,), dtype=float64, numpy=\n",
      "array([3.0000e+00, 3.8200e+02, 2.6618e+04, 1.2600e+02, 2.6923e+04,\n",
      "       7.0000e+00, 1.5300e+02, 1.4565e+04, 1.2490e+03, 2.8400e+02,\n",
      "       2.5560e+03, 4.8920e+03, 2.9410e+03, 1.4481e+04, 2.6902e+04,\n",
      "       4.2000e+01, 3.1940e+03, 5.8270e+03, 8.8440e+03, 1.4000e+01,\n",
      "       5.7260e+03, 5.1680e+03, 2.6903e+04, 8.6530e+03, 4.5200e+02,\n",
      "       1.0840e+03, 1.4400e+02, 1.4800e+02, 4.8270e+03, 2.0400e+02,\n",
      "       3.9000e+01, 5.2300e+02, 9.9850e+03, 6.9600e+02, 5.1000e+01,\n",
      "       4.2000e+01, 1.5500e+02, 1.9584e+04, 1.2654e+04, 2.0500e+02,\n",
      "       9.7880e+03, 1.7625e+04, 4.2000e+01, 2.4204e+04, 3.8530e+03,\n",
      "       5.7900e+02, 5.0000e+01, 3.0000e+01, 8.1000e+01, 1.6680e+03,\n",
      "       5.7260e+03, 5.1680e+03, 2.6903e+04, 8.6530e+03, 4.5200e+02,\n",
      "       1.8000e+02, 2.0371e+04, 1.4400e+02, 2.0400e+02, 3.9000e+01,\n",
      "       5.2300e+02, 9.9850e+03, 6.9600e+02, 5.1000e+01, 3.0000e+01,\n",
      "       5.6900e+02, 4.0530e+03, 2.0010e+03, 8.0000e+00, 1.6200e+02,\n",
      "       2.0000e+00, 1.9000e+01, 8.1800e+02, 2.6902e+04, 2.2750e+03,\n",
      "       2.5934e+04, 2.6902e+04, 2.0000e+00, 2.1180e+03, 6.7750e+03,\n",
      "       1.4250e+03, 1.7800e+02, 9.3000e+01, 5.6900e+02, 4.0530e+03,\n",
      "       2.2400e+02, 5.6680e+03, 5.7260e+03, 6.6700e+02, 3.9000e+01,\n",
      "       7.3090e+03, 2.7220e+03, 2.0600e+02, 3.8700e+02, 2.6902e+04,\n",
      "       5.3300e+02, 1.4350e+03, 2.1000e+01, 1.8454e+04, 3.6900e+03,\n",
      "       1.4000e+01, 1.8530e+04, 6.0000e+00, 1.9979e+04, 1.2800e+02,\n",
      "       3.2080e+03, 1.2870e+03, 1.8321e+04, 8.4280e+03, 4.9800e+02,\n",
      "       2.4260e+03, 1.0710e+04, 2.4806e+04, 8.3500e+03, 5.9300e+02,\n",
      "       1.1400e+02, 1.8330e+03, 3.0100e+02, 2.4000e+02, 4.1200e+02,\n",
      "       2.1000e+01, 7.3270e+03, 9.6800e+02, 1.7800e+02, 2.3414e+04,\n",
      "       5.9000e+01, 3.1800e+02, 7.4000e+02, 4.5400e+02, 6.0320e+03,\n",
      "       2.2900e+02, 1.2700e+02, 3.0000e+01, 4.0600e+03, 1.0682e+04,\n",
      "       2.7000e+01, 2.1000e+01, 1.1958e+04, 8.3500e+03, 5.9300e+02,\n",
      "       6.0200e+02, 6.9250e+03, 2.3200e+02, 4.7400e+02, 2.6830e+03,\n",
      "       3.9000e+03, 1.9400e+02, 9.3000e+01, 5.2300e+02, 9.9850e+03,\n",
      "       6.9600e+02, 5.1000e+01, 8.8000e+01, 1.1940e+03, 1.0600e+02,\n",
      "       5.6900e+02, 4.0530e+03, 2.2400e+02, 4.2000e+01, 1.0600e+02,\n",
      "       3.1940e+03, 5.8270e+03, 3.0000e+01, 1.1400e+02, 8.3290e+03,\n",
      "       8.3300e+02, 5.7000e+01, 1.1500e+02, 1.1445e+04, 7.4500e+02,\n",
      "       1.1100e+02, 6.4300e+03, 2.6897e+04, 1.5610e+03, 1.2700e+02,\n",
      "       2.9280e+03, 1.0380e+03, 6.8000e+01, 8.1000e+01, 8.6000e+01,\n",
      "       1.7043e+04, 1.6698e+04, 4.7310e+03, 1.8400e+02, 9.9020e+03,\n",
      "       2.0000e+00, 1.9000e+01, 8.1800e+02, 2.6902e+04, 2.2750e+03,\n",
      "       2.5934e+04, 2.6902e+04, 2.0000e+00, 1.5500e+02, 1.8321e+04,\n",
      "       2.6762e+04, 2.0400e+02, 1.8997e+04, 8.1800e+02, 2.3528e+04,\n",
      "       3.0000e+01, 1.0600e+02, 4.8930e+03, 1.1430e+03, 6.9440e+03,\n",
      "       1.0600e+02, 2.0000e+00, 1.9668e+04, 1.7500e+02, 2.0000e+00,\n",
      "       8.4710e+03, 2.6907e+04, 2.6917e+04, 6.6980e+03, 3.5700e+03,\n",
      "       1.3890e+04, 2.6898e+04, 5.7260e+03, 5.1680e+03, 2.6903e+04,\n",
      "       8.6530e+03, 4.5200e+02, 3.5700e+02, 3.0300e+02, 1.3460e+03,\n",
      "       6.9730e+03, 1.3860e+03, 2.0800e+02, 1.1580e+03, 9.1000e+01,\n",
      "       8.3290e+03, 1.6000e+01, 6.4580e+03, 2.6906e+04, 8.6530e+03,\n",
      "       4.5200e+02, 2.1880e+04, 2.1300e+02, 2.0990e+03, 2.5400e+02,\n",
      "       9.4070e+03, 2.6902e+04, 1.3600e+03, 2.1700e+02, 1.0774e+04,\n",
      "       8.4590e+03, 2.6800e+02, 4.7760e+03, 9.3000e+01, 1.8500e+02,\n",
      "       2.0000e+00, 2.5000e+01, 8.3680e+03, 2.0880e+03, 6.2240e+03,\n",
      "       2.6911e+04, 2.0000e+00, 1.0600e+02, 3.1940e+03, 5.8270e+03,\n",
      "       1.1690e+03, 7.3920e+03, 3.0000e+01, 1.6698e+04, 4.7310e+03,\n",
      "       2.7000e+01, 1.9400e+02, 5.0000e+01, 1.4380e+03, 2.6898e+04,\n",
      "       2.6908e+04, 1.6550e+04, 7.8500e+02, 1.3600e+03, 2.1700e+02,\n",
      "       2.6911e+04, 1.8472e+04, 4.7500e+02, 1.3012e+04, 2.0683e+04,\n",
      "       2.2100e+02, 3.9000e+01, 1.9516e+04, 5.4920e+03, 8.4280e+03,\n",
      "       2.7230e+03, 1.8100e+02, 8.7000e+02, 4.5410e+03, 2.7200e+03,\n",
      "       7.4490e+03, 9.6100e+02, 2.5611e+04, 5.0000e+01, 7.9800e+02,\n",
      "       8.3290e+03, 2.0900e+02, 1.6030e+04, 5.9100e+03, 3.3000e+02,\n",
      "       1.7800e+02, 8.6000e+01, 1.1958e+04, 1.3600e+03, 1.4872e+04,\n",
      "       2.6898e+04, 2.3200e+02, 4.6570e+03, 3.8200e+02, 2.6618e+04,\n",
      "       1.2600e+02, 2.6923e+04, 7.0000e+00, 4.7800e+02, 9.1900e+02,\n",
      "       2.0000e+00, 9.3000e+01, 3.1940e+03, 5.8270e+03, 1.9200e+02,\n",
      "       2.1860e+03, 8.3290e+03, 2.6897e+04, 3.7780e+03, 9.3000e+01,\n",
      "       5.6900e+02, 4.0530e+03, 2.2400e+02, 1.0463e+04, 1.4800e+02,\n",
      "       8.3290e+03, 2.6897e+04, 2.3200e+02, 2.7100e+03, 2.0990e+03,\n",
      "       2.0470e+03, 4.2000e+01, 9.5790e+03, 1.7262e+04, 4.2000e+01,\n",
      "       2.6890e+03, 2.0370e+03, 9.2000e+01, 1.9300e+02, 8.6000e+01,\n",
      "       1.4565e+04, 1.2490e+03, 2.8400e+02, 6.9290e+03, 8.8570e+03,\n",
      "       2.8700e+02, 2.1300e+02, 4.7600e+02, 1.1347e+04, 8.0000e+01,\n",
      "       1.0600e+02, 2.0000e+00, 2.3216e+04, 7.9240e+03, 1.3320e+03,\n",
      "       1.4800e+02, 4.6170e+03, 2.0000e+00, 1.1690e+03, 2.4669e+04,\n",
      "       1.7900e+03, 3.2770e+03, 1.1500e+02, 3.0000e+01, 6.8720e+03,\n",
      "       1.0405e+04, 2.5336e+04, 4.2990e+03, 8.0000e+00, 2.6907e+04,\n",
      "       4.2000e+01, 9.3000e+01, 2.2750e+03, 4.1550e+03, 3.4400e+02,\n",
      "       1.3320e+03, 1.5300e+02, 1.3600e+03, 1.7200e+02, 1.0073e+04,\n",
      "       3.7710e+03, 1.4000e+01, 4.0580e+03, 1.1690e+03, 2.2750e+03,\n",
      "       4.1550e+03, 3.4400e+02, 6.0200e+02, 1.0183e+04, 4.8780e+03,\n",
      "       1.8024e+04, 1.5300e+02, 1.9850e+03, 2.9790e+03, 9.6400e+02,\n",
      "       1.4000e+01, 2.9630e+03, 1.1400e+02, 1.6290e+04, 1.6698e+04,\n",
      "       4.7310e+03, 1.5400e+02, 9.0740e+03, 2.0000e+00, 3.0000e+01,\n",
      "       5.3620e+03, 1.4500e+02, 2.1000e+01, 1.9589e+04, 6.0000e+00,\n",
      "       2.0000e+00, 2.8700e+02, 2.3200e+02, 1.7800e+02, 2.1000e+01,\n",
      "       6.8720e+03, 1.0405e+04, 1.3400e+03, 4.0000e+00, 0.0000e+00,\n",
      "       0.0000e+00, 0.0000e+00, 0.0000e+00, 0.0000e+00, 0.0000e+00,\n",
      "       0.0000e+00, 0.0000e+00, 0.0000e+00, 0.0000e+00, 0.0000e+00,\n",
      "       0.0000e+00, 0.0000e+00, 0.0000e+00, 0.0000e+00, 0.0000e+00,\n",
      "       0.0000e+00])>, <tf.Tensor: shape=(441,), dtype=float64, numpy=\n",
      "array([1., 1., 1., 1., 1., 1., 1., 1., 1., 1., 1., 1., 1., 1., 1., 1., 1.,\n",
      "       1., 1., 1., 1., 1., 1., 1., 1., 1., 1., 1., 1., 1., 1., 1., 1., 1.,\n",
      "       1., 1., 1., 1., 1., 1., 1., 1., 1., 1., 1., 1., 1., 1., 1., 1., 1.,\n",
      "       1., 1., 1., 1., 1., 1., 1., 1., 1., 1., 1., 1., 1., 1., 1., 1., 1.,\n",
      "       1., 1., 1., 1., 1., 1., 1., 1., 1., 1., 1., 1., 1., 1., 1., 1., 1.,\n",
      "       1., 1., 1., 1., 1., 1., 1., 1., 1., 1., 1., 1., 1., 1., 1., 1., 1.,\n",
      "       1., 1., 1., 1., 1., 1., 1., 1., 1., 1., 1., 1., 1., 1., 1., 1., 1.,\n",
      "       1., 1., 1., 1., 1., 1., 1., 1., 1., 1., 1., 1., 1., 1., 1., 1., 1.,\n",
      "       1., 1., 1., 1., 1., 1., 1., 1., 1., 1., 1., 1., 1., 1., 1., 1., 1.,\n",
      "       1., 1., 1., 1., 1., 1., 1., 1., 1., 1., 1., 1., 1., 1., 1., 1., 1.,\n",
      "       1., 1., 1., 1., 1., 1., 1., 1., 1., 1., 1., 1., 1., 1., 1., 1., 1.,\n",
      "       1., 1., 1., 1., 1., 1., 1., 1., 1., 1., 1., 1., 1., 1., 1., 1., 1.,\n",
      "       1., 1., 1., 1., 1., 1., 1., 1., 1., 1., 1., 1., 1., 1., 1., 1., 1.,\n",
      "       1., 1., 1., 1., 1., 1., 1., 1., 1., 1., 1., 1., 1., 1., 1., 1., 1.,\n",
      "       1., 1., 1., 1., 1., 1., 1., 1., 1., 1., 1., 1., 1., 1., 1., 1., 1.,\n",
      "       1., 1., 1., 1., 1., 1., 1., 1., 1., 1., 1., 1., 1., 1., 1., 1., 1.,\n",
      "       1., 1., 1., 1., 1., 1., 1., 1., 1., 1., 1., 1., 1., 1., 1., 1., 1.,\n",
      "       1., 1., 1., 1., 1., 1., 1., 1., 1., 1., 1., 1., 1., 1., 1., 1., 1.,\n",
      "       1., 1., 1., 1., 1., 1., 1., 1., 1., 1., 1., 1., 1., 1., 1., 1., 1.,\n",
      "       1., 1., 1., 1., 1., 1., 1., 1., 1., 1., 1., 1., 1., 1., 1., 1., 1.,\n",
      "       1., 1., 1., 1., 1., 1., 1., 1., 1., 1., 1., 1., 1., 1., 1., 1., 1.,\n",
      "       1., 1., 1., 1., 1., 1., 1., 1., 1., 1., 1., 1., 1., 1., 1., 1., 1.,\n",
      "       1., 1., 1., 1., 1., 1., 1., 1., 1., 1., 1., 1., 1., 1., 1., 1., 1.,\n",
      "       1., 1., 1., 1., 1., 1., 1., 1., 1., 1., 1., 1., 1., 1., 1., 1., 1.,\n",
      "       1., 1., 1., 1., 1., 1., 1., 1., 1., 1., 1., 1., 1., 1., 1., 1., 0.,\n",
      "       0., 0., 0., 0., 0., 0., 0., 0., 0., 0., 0., 0., 0., 0., 0., 0.])>, <tf.Tensor: shape=(3,), dtype=float64, numpy=array([1., 0., 0.])>)\n"
     ]
    }
   ],
   "source": [
    "for i in dataset.take(1):\n",
    "    print(i)"
   ]
  },
  {
   "cell_type": "code",
   "execution_count": 199,
   "id": "e25dbadb-c21c-47f4-8e20-100056758a0c",
   "metadata": {},
   "outputs": [],
   "source": [
    "def map_func(input_ids, masks, labels):\n",
    "    return {'input_ids': input_ids, 'attention_mask': masks}, labels"
   ]
  },
  {
   "cell_type": "code",
   "execution_count": 200,
   "id": "7526af66-5bde-49bd-a033-df1d80e44622",
   "metadata": {},
   "outputs": [],
   "source": [
    "dataset = dataset.map(map_func)"
   ]
  },
  {
   "cell_type": "code",
   "execution_count": 201,
   "id": "663766dd-e757-43ba-b037-b2648ff53f29",
   "metadata": {},
   "outputs": [
    {
     "name": "stdout",
     "output_type": "stream",
     "text": [
      "({'input_ids': <tf.Tensor: shape=(441,), dtype=float64, numpy=\n",
      "array([3.0000e+00, 3.8200e+02, 2.6618e+04, 1.2600e+02, 2.6923e+04,\n",
      "       7.0000e+00, 1.5300e+02, 1.4565e+04, 1.2490e+03, 2.8400e+02,\n",
      "       2.5560e+03, 4.8920e+03, 2.9410e+03, 1.4481e+04, 2.6902e+04,\n",
      "       4.2000e+01, 3.1940e+03, 5.8270e+03, 8.8440e+03, 1.4000e+01,\n",
      "       5.7260e+03, 5.1680e+03, 2.6903e+04, 8.6530e+03, 4.5200e+02,\n",
      "       1.0840e+03, 1.4400e+02, 1.4800e+02, 4.8270e+03, 2.0400e+02,\n",
      "       3.9000e+01, 5.2300e+02, 9.9850e+03, 6.9600e+02, 5.1000e+01,\n",
      "       4.2000e+01, 1.5500e+02, 1.9584e+04, 1.2654e+04, 2.0500e+02,\n",
      "       9.7880e+03, 1.7625e+04, 4.2000e+01, 2.4204e+04, 3.8530e+03,\n",
      "       5.7900e+02, 5.0000e+01, 3.0000e+01, 8.1000e+01, 1.6680e+03,\n",
      "       5.7260e+03, 5.1680e+03, 2.6903e+04, 8.6530e+03, 4.5200e+02,\n",
      "       1.8000e+02, 2.0371e+04, 1.4400e+02, 2.0400e+02, 3.9000e+01,\n",
      "       5.2300e+02, 9.9850e+03, 6.9600e+02, 5.1000e+01, 3.0000e+01,\n",
      "       5.6900e+02, 4.0530e+03, 2.0010e+03, 8.0000e+00, 1.6200e+02,\n",
      "       2.0000e+00, 1.9000e+01, 8.1800e+02, 2.6902e+04, 2.2750e+03,\n",
      "       2.5934e+04, 2.6902e+04, 2.0000e+00, 2.1180e+03, 6.7750e+03,\n",
      "       1.4250e+03, 1.7800e+02, 9.3000e+01, 5.6900e+02, 4.0530e+03,\n",
      "       2.2400e+02, 5.6680e+03, 5.7260e+03, 6.6700e+02, 3.9000e+01,\n",
      "       7.3090e+03, 2.7220e+03, 2.0600e+02, 3.8700e+02, 2.6902e+04,\n",
      "       5.3300e+02, 1.4350e+03, 2.1000e+01, 1.8454e+04, 3.6900e+03,\n",
      "       1.4000e+01, 1.8530e+04, 6.0000e+00, 1.9979e+04, 1.2800e+02,\n",
      "       3.2080e+03, 1.2870e+03, 1.8321e+04, 8.4280e+03, 4.9800e+02,\n",
      "       2.4260e+03, 1.0710e+04, 2.4806e+04, 8.3500e+03, 5.9300e+02,\n",
      "       1.1400e+02, 1.8330e+03, 3.0100e+02, 2.4000e+02, 4.1200e+02,\n",
      "       2.1000e+01, 7.3270e+03, 9.6800e+02, 1.7800e+02, 2.3414e+04,\n",
      "       5.9000e+01, 3.1800e+02, 7.4000e+02, 4.5400e+02, 6.0320e+03,\n",
      "       2.2900e+02, 1.2700e+02, 3.0000e+01, 4.0600e+03, 1.0682e+04,\n",
      "       2.7000e+01, 2.1000e+01, 1.1958e+04, 8.3500e+03, 5.9300e+02,\n",
      "       6.0200e+02, 6.9250e+03, 2.3200e+02, 4.7400e+02, 2.6830e+03,\n",
      "       3.9000e+03, 1.9400e+02, 9.3000e+01, 5.2300e+02, 9.9850e+03,\n",
      "       6.9600e+02, 5.1000e+01, 8.8000e+01, 1.1940e+03, 1.0600e+02,\n",
      "       5.6900e+02, 4.0530e+03, 2.2400e+02, 4.2000e+01, 1.0600e+02,\n",
      "       3.1940e+03, 5.8270e+03, 3.0000e+01, 1.1400e+02, 8.3290e+03,\n",
      "       8.3300e+02, 5.7000e+01, 1.1500e+02, 1.1445e+04, 7.4500e+02,\n",
      "       1.1100e+02, 6.4300e+03, 2.6897e+04, 1.5610e+03, 1.2700e+02,\n",
      "       2.9280e+03, 1.0380e+03, 6.8000e+01, 8.1000e+01, 8.6000e+01,\n",
      "       1.7043e+04, 1.6698e+04, 4.7310e+03, 1.8400e+02, 9.9020e+03,\n",
      "       2.0000e+00, 1.9000e+01, 8.1800e+02, 2.6902e+04, 2.2750e+03,\n",
      "       2.5934e+04, 2.6902e+04, 2.0000e+00, 1.5500e+02, 1.8321e+04,\n",
      "       2.6762e+04, 2.0400e+02, 1.8997e+04, 8.1800e+02, 2.3528e+04,\n",
      "       3.0000e+01, 1.0600e+02, 4.8930e+03, 1.1430e+03, 6.9440e+03,\n",
      "       1.0600e+02, 2.0000e+00, 1.9668e+04, 1.7500e+02, 2.0000e+00,\n",
      "       8.4710e+03, 2.6907e+04, 2.6917e+04, 6.6980e+03, 3.5700e+03,\n",
      "       1.3890e+04, 2.6898e+04, 5.7260e+03, 5.1680e+03, 2.6903e+04,\n",
      "       8.6530e+03, 4.5200e+02, 3.5700e+02, 3.0300e+02, 1.3460e+03,\n",
      "       6.9730e+03, 1.3860e+03, 2.0800e+02, 1.1580e+03, 9.1000e+01,\n",
      "       8.3290e+03, 1.6000e+01, 6.4580e+03, 2.6906e+04, 8.6530e+03,\n",
      "       4.5200e+02, 2.1880e+04, 2.1300e+02, 2.0990e+03, 2.5400e+02,\n",
      "       9.4070e+03, 2.6902e+04, 1.3600e+03, 2.1700e+02, 1.0774e+04,\n",
      "       8.4590e+03, 2.6800e+02, 4.7760e+03, 9.3000e+01, 1.8500e+02,\n",
      "       2.0000e+00, 2.5000e+01, 8.3680e+03, 2.0880e+03, 6.2240e+03,\n",
      "       2.6911e+04, 2.0000e+00, 1.0600e+02, 3.1940e+03, 5.8270e+03,\n",
      "       1.1690e+03, 7.3920e+03, 3.0000e+01, 1.6698e+04, 4.7310e+03,\n",
      "       2.7000e+01, 1.9400e+02, 5.0000e+01, 1.4380e+03, 2.6898e+04,\n",
      "       2.6908e+04, 1.6550e+04, 7.8500e+02, 1.3600e+03, 2.1700e+02,\n",
      "       2.6911e+04, 1.8472e+04, 4.7500e+02, 1.3012e+04, 2.0683e+04,\n",
      "       2.2100e+02, 3.9000e+01, 1.9516e+04, 5.4920e+03, 8.4280e+03,\n",
      "       2.7230e+03, 1.8100e+02, 8.7000e+02, 4.5410e+03, 2.7200e+03,\n",
      "       7.4490e+03, 9.6100e+02, 2.5611e+04, 5.0000e+01, 7.9800e+02,\n",
      "       8.3290e+03, 2.0900e+02, 1.6030e+04, 5.9100e+03, 3.3000e+02,\n",
      "       1.7800e+02, 8.6000e+01, 1.1958e+04, 1.3600e+03, 1.4872e+04,\n",
      "       2.6898e+04, 2.3200e+02, 4.6570e+03, 3.8200e+02, 2.6618e+04,\n",
      "       1.2600e+02, 2.6923e+04, 7.0000e+00, 4.7800e+02, 9.1900e+02,\n",
      "       2.0000e+00, 9.3000e+01, 3.1940e+03, 5.8270e+03, 1.9200e+02,\n",
      "       2.1860e+03, 8.3290e+03, 2.6897e+04, 3.7780e+03, 9.3000e+01,\n",
      "       5.6900e+02, 4.0530e+03, 2.2400e+02, 1.0463e+04, 1.4800e+02,\n",
      "       8.3290e+03, 2.6897e+04, 2.3200e+02, 2.7100e+03, 2.0990e+03,\n",
      "       2.0470e+03, 4.2000e+01, 9.5790e+03, 1.7262e+04, 4.2000e+01,\n",
      "       2.6890e+03, 2.0370e+03, 9.2000e+01, 1.9300e+02, 8.6000e+01,\n",
      "       1.4565e+04, 1.2490e+03, 2.8400e+02, 6.9290e+03, 8.8570e+03,\n",
      "       2.8700e+02, 2.1300e+02, 4.7600e+02, 1.1347e+04, 8.0000e+01,\n",
      "       1.0600e+02, 2.0000e+00, 2.3216e+04, 7.9240e+03, 1.3320e+03,\n",
      "       1.4800e+02, 4.6170e+03, 2.0000e+00, 1.1690e+03, 2.4669e+04,\n",
      "       1.7900e+03, 3.2770e+03, 1.1500e+02, 3.0000e+01, 6.8720e+03,\n",
      "       1.0405e+04, 2.5336e+04, 4.2990e+03, 8.0000e+00, 2.6907e+04,\n",
      "       4.2000e+01, 9.3000e+01, 2.2750e+03, 4.1550e+03, 3.4400e+02,\n",
      "       1.3320e+03, 1.5300e+02, 1.3600e+03, 1.7200e+02, 1.0073e+04,\n",
      "       3.7710e+03, 1.4000e+01, 4.0580e+03, 1.1690e+03, 2.2750e+03,\n",
      "       4.1550e+03, 3.4400e+02, 6.0200e+02, 1.0183e+04, 4.8780e+03,\n",
      "       1.8024e+04, 1.5300e+02, 1.9850e+03, 2.9790e+03, 9.6400e+02,\n",
      "       1.4000e+01, 2.9630e+03, 1.1400e+02, 1.6290e+04, 1.6698e+04,\n",
      "       4.7310e+03, 1.5400e+02, 9.0740e+03, 2.0000e+00, 3.0000e+01,\n",
      "       5.3620e+03, 1.4500e+02, 2.1000e+01, 1.9589e+04, 6.0000e+00,\n",
      "       2.0000e+00, 2.8700e+02, 2.3200e+02, 1.7800e+02, 2.1000e+01,\n",
      "       6.8720e+03, 1.0405e+04, 1.3400e+03, 4.0000e+00, 0.0000e+00,\n",
      "       0.0000e+00, 0.0000e+00, 0.0000e+00, 0.0000e+00, 0.0000e+00,\n",
      "       0.0000e+00, 0.0000e+00, 0.0000e+00, 0.0000e+00, 0.0000e+00,\n",
      "       0.0000e+00, 0.0000e+00, 0.0000e+00, 0.0000e+00, 0.0000e+00,\n",
      "       0.0000e+00])>, 'attention_mask': <tf.Tensor: shape=(441,), dtype=float64, numpy=\n",
      "array([1., 1., 1., 1., 1., 1., 1., 1., 1., 1., 1., 1., 1., 1., 1., 1., 1.,\n",
      "       1., 1., 1., 1., 1., 1., 1., 1., 1., 1., 1., 1., 1., 1., 1., 1., 1.,\n",
      "       1., 1., 1., 1., 1., 1., 1., 1., 1., 1., 1., 1., 1., 1., 1., 1., 1.,\n",
      "       1., 1., 1., 1., 1., 1., 1., 1., 1., 1., 1., 1., 1., 1., 1., 1., 1.,\n",
      "       1., 1., 1., 1., 1., 1., 1., 1., 1., 1., 1., 1., 1., 1., 1., 1., 1.,\n",
      "       1., 1., 1., 1., 1., 1., 1., 1., 1., 1., 1., 1., 1., 1., 1., 1., 1.,\n",
      "       1., 1., 1., 1., 1., 1., 1., 1., 1., 1., 1., 1., 1., 1., 1., 1., 1.,\n",
      "       1., 1., 1., 1., 1., 1., 1., 1., 1., 1., 1., 1., 1., 1., 1., 1., 1.,\n",
      "       1., 1., 1., 1., 1., 1., 1., 1., 1., 1., 1., 1., 1., 1., 1., 1., 1.,\n",
      "       1., 1., 1., 1., 1., 1., 1., 1., 1., 1., 1., 1., 1., 1., 1., 1., 1.,\n",
      "       1., 1., 1., 1., 1., 1., 1., 1., 1., 1., 1., 1., 1., 1., 1., 1., 1.,\n",
      "       1., 1., 1., 1., 1., 1., 1., 1., 1., 1., 1., 1., 1., 1., 1., 1., 1.,\n",
      "       1., 1., 1., 1., 1., 1., 1., 1., 1., 1., 1., 1., 1., 1., 1., 1., 1.,\n",
      "       1., 1., 1., 1., 1., 1., 1., 1., 1., 1., 1., 1., 1., 1., 1., 1., 1.,\n",
      "       1., 1., 1., 1., 1., 1., 1., 1., 1., 1., 1., 1., 1., 1., 1., 1., 1.,\n",
      "       1., 1., 1., 1., 1., 1., 1., 1., 1., 1., 1., 1., 1., 1., 1., 1., 1.,\n",
      "       1., 1., 1., 1., 1., 1., 1., 1., 1., 1., 1., 1., 1., 1., 1., 1., 1.,\n",
      "       1., 1., 1., 1., 1., 1., 1., 1., 1., 1., 1., 1., 1., 1., 1., 1., 1.,\n",
      "       1., 1., 1., 1., 1., 1., 1., 1., 1., 1., 1., 1., 1., 1., 1., 1., 1.,\n",
      "       1., 1., 1., 1., 1., 1., 1., 1., 1., 1., 1., 1., 1., 1., 1., 1., 1.,\n",
      "       1., 1., 1., 1., 1., 1., 1., 1., 1., 1., 1., 1., 1., 1., 1., 1., 1.,\n",
      "       1., 1., 1., 1., 1., 1., 1., 1., 1., 1., 1., 1., 1., 1., 1., 1., 1.,\n",
      "       1., 1., 1., 1., 1., 1., 1., 1., 1., 1., 1., 1., 1., 1., 1., 1., 1.,\n",
      "       1., 1., 1., 1., 1., 1., 1., 1., 1., 1., 1., 1., 1., 1., 1., 1., 1.,\n",
      "       1., 1., 1., 1., 1., 1., 1., 1., 1., 1., 1., 1., 1., 1., 1., 1., 0.,\n",
      "       0., 0., 0., 0., 0., 0., 0., 0., 0., 0., 0., 0., 0., 0., 0., 0.])>}, <tf.Tensor: shape=(3,), dtype=float64, numpy=array([1., 0., 0.])>)\n"
     ]
    }
   ],
   "source": [
    "for i in dataset.take(1):\n",
    "    print(i)"
   ]
  },
  {
   "cell_type": "code",
   "execution_count": 202,
   "id": "cbd645e1-5039-48ab-b776-2e26e25ddee8",
   "metadata": {},
   "outputs": [],
   "source": [
    "dataset = dataset.shuffle(100000).batch(32)"
   ]
  },
  {
   "cell_type": "code",
   "execution_count": 203,
   "id": "807b4b9a-7a9c-464f-863b-91a939e7ec3e",
   "metadata": {},
   "outputs": [],
   "source": [
    "ds_len = len(list(dataset))"
   ]
  },
  {
   "cell_type": "code",
   "execution_count": 204,
   "id": "08d17876-2124-4aed-ad3c-4e08c7a27046",
   "metadata": {},
   "outputs": [
    {
     "data": {
      "text/plain": [
       "212"
      ]
     },
     "execution_count": 204,
     "metadata": {},
     "output_type": "execute_result"
    }
   ],
   "source": [
    "ds_len"
   ]
  },
  {
   "cell_type": "code",
   "execution_count": 205,
   "id": "fbee3c52-85cc-4d61-a500-e599b1b74f33",
   "metadata": {},
   "outputs": [],
   "source": [
    "split = .8\n",
    "\n",
    "train = dataset.take(round(ds_len*split))\n",
    "test = dataset.skip(round(ds_len*split))\n",
    "\n",
    "del dataset"
   ]
  },
  {
   "cell_type": "code",
   "execution_count": 206,
   "id": "6bb847d4-fd60-454a-a175-38d98ee5cd45",
   "metadata": {},
   "outputs": [],
   "source": [
    "from transformers import TFAutoModel"
   ]
  },
  {
   "cell_type": "code",
   "execution_count": 207,
   "id": "b550a9a5-90ff-481d-a118-0fef5fe8b0de",
   "metadata": {},
   "outputs": [
    {
     "data": {
      "application/vnd.jupyter.widget-view+json": {
       "model_id": "984ca016d77e49ae9d4a374621655689",
       "version_major": 2,
       "version_minor": 0
      },
      "text/plain": [
       "Downloading model.safetensors:   0%|          | 0.00/439M [00:00<?, ?B/s]"
      ]
     },
     "metadata": {},
     "output_type": "display_data"
    },
    {
     "name": "stderr",
     "output_type": "stream",
     "text": [
      "Some weights of the PyTorch model were not used when initializing the TF 2.0 model TFBertModel: ['cls.predictions.transform.dense.bias', 'cls.seq_relationship.bias', 'cls.predictions.bias', 'cls.predictions.transform.dense.weight', 'cls.predictions.transform.LayerNorm.weight', 'cls.seq_relationship.weight', 'cls.predictions.transform.LayerNorm.bias']\n",
      "- This IS expected if you are initializing TFBertModel from a PyTorch model trained on another task or with another architecture (e.g. initializing a TFBertForSequenceClassification model from a BertForPreTraining model).\n",
      "- This IS NOT expected if you are initializing TFBertModel from a PyTorch model that you expect to be exactly identical (e.g. initializing a TFBertForSequenceClassification model from a BertForSequenceClassification model).\n",
      "All the weights of TFBertModel were initialized from the PyTorch model.\n",
      "If your task is similar to the task the model of the checkpoint was trained on, you can already use TFBertModel for predictions without further training.\n"
     ]
    }
   ],
   "source": [
    "bert = TFAutoModel.from_pretrained('bert-base-german-cased')"
   ]
  },
  {
   "cell_type": "code",
   "execution_count": 208,
   "id": "d59e7019-753d-40d7-bf99-1f36ca585e69",
   "metadata": {},
   "outputs": [],
   "source": [
    "input_ids = tf.keras.layers.Input(shape=(seq_len,), name='input_ids', dtype='int32')\n",
    "mask = tf.keras.layers.Input(shape=(seq_len,), name='attention_mask', dtype='int32')\n",
    "\n",
    "embeddings = bert(input_ids, attention_mask=mask)[0]\n",
    "\n",
    "X = tf.keras.layers.GlobalMaxPool1D()(embeddings)\n",
    "X = tf.keras.layers.BatchNormalization()(X)\n",
    "X = tf.keras.layers.Dense(128, activation='relu')(X)\n",
    "X = tf.keras.layers.Dropout(.1)(X)\n",
    "X = tf.keras.layers.Dense(32, activation='relu')(X)\n",
    "X = tf.keras.layers.Dense(3, activation='softmax', name='outputs')(X)\n",
    "\n",
    "model = tf.keras.Model(inputs=[input_ids, mask], outputs=X)\n",
    "\n",
    "model.layers[2].trainable = False #Freeze bert model"
   ]
  },
  {
   "cell_type": "code",
   "execution_count": 209,
   "id": "bb452e45-97f8-40d9-a83e-81a936212a7c",
   "metadata": {},
   "outputs": [
    {
     "name": "stdout",
     "output_type": "stream",
     "text": [
      "Model: \"model_8\"\n",
      "__________________________________________________________________________________________________\n",
      " Layer (type)                Output Shape                 Param #   Connected to                  \n",
      "==================================================================================================\n",
      " input_ids (InputLayer)      [(None, 441)]                0         []                            \n",
      "                                                                                                  \n",
      " attention_mask (InputLayer  [(None, 441)]                0         []                            \n",
      " )                                                                                                \n",
      "                                                                                                  \n",
      " tf_bert_model_1 (TFBertMod  TFBaseModelOutputWithPooli   1090813   ['input_ids[0][0]',           \n",
      " el)                         ngAndCrossAttentions(last_   44         'attention_mask[0][0]']      \n",
      "                             hidden_state=(None, 441, 7                                           \n",
      "                             68),                                                                 \n",
      "                              pooler_output=(None, 768)                                           \n",
      "                             , past_key_values=None, hi                                           \n",
      "                             dden_states=None, attentio                                           \n",
      "                             ns=None, cross_attentions=                                           \n",
      "                             None)                                                                \n",
      "                                                                                                  \n",
      " global_max_pooling1d_9 (Gl  (None, 768)                  0         ['tf_bert_model_1[0][0]']     \n",
      " obalMaxPooling1D)                                                                                \n",
      "                                                                                                  \n",
      " batch_normalization_8 (Bat  (None, 768)                  3072      ['global_max_pooling1d_9[0][0]\n",
      " chNormalization)                                                   ']                            \n",
      "                                                                                                  \n",
      " dense_18 (Dense)            (None, 128)                  98432     ['batch_normalization_8[0][0]'\n",
      "                                                                    ]                             \n",
      "                                                                                                  \n",
      " dropout_82 (Dropout)        (None, 128)                  0         ['dense_18[0][0]']            \n",
      "                                                                                                  \n",
      " dense_19 (Dense)            (None, 32)                   4128      ['dropout_82[0][0]']          \n",
      "                                                                                                  \n",
      " outputs (Dense)             (None, 3)                    99        ['dense_19[0][0]']            \n",
      "                                                                                                  \n",
      "==================================================================================================\n",
      "Total params: 109187075 (416.52 MB)\n",
      "Trainable params: 104195 (407.01 KB)\n",
      "Non-trainable params: 109082880 (416.12 MB)\n",
      "__________________________________________________________________________________________________\n"
     ]
    }
   ],
   "source": [
    "model.summary()"
   ]
  },
  {
   "cell_type": "code",
   "execution_count": 210,
   "id": "e037ced6-977d-4b32-b24a-4337caea2bc3",
   "metadata": {},
   "outputs": [],
   "source": [
    "optimizer = tf.keras.optimizers.Adam(0.01)\n",
    "loss = tf.keras.losses.CategoricalCrossentropy()\n",
    "acc = tf.keras.metrics.CategoricalAccuracy('accuracy')\n",
    "\n",
    "model.compile(optimizer=optimizer, loss=loss, metrics=[acc])"
   ]
  },
  {
   "cell_type": "code",
   "execution_count": 211,
   "id": "f4dda339-01a3-4b41-bff0-ed4503eb35e2",
   "metadata": {},
   "outputs": [
    {
     "name": "stdout",
     "output_type": "stream",
     "text": [
      "Epoch 1/3\n",
      "  6/170 [>.............................] - ETA: 1:01:28 - loss: 1.7785 - accuracy: 0.6667"
     ]
    },
    {
     "ename": "KeyboardInterrupt",
     "evalue": "",
     "output_type": "error",
     "traceback": [
      "\u001b[0;31m---------------------------------------------------------------------------\u001b[0m",
      "\u001b[0;31mKeyboardInterrupt\u001b[0m                         Traceback (most recent call last)",
      "Cell \u001b[0;32mIn[211], line 1\u001b[0m\n\u001b[0;32m----> 1\u001b[0m history \u001b[38;5;241m=\u001b[39m model\u001b[38;5;241m.\u001b[39mfit(\n\u001b[1;32m      2\u001b[0m     train,\n\u001b[1;32m      3\u001b[0m     validation_data\u001b[38;5;241m=\u001b[39mtest,\n\u001b[1;32m      4\u001b[0m     epochs \u001b[38;5;241m=\u001b[39m \u001b[38;5;241m3\u001b[39m\n\u001b[1;32m      5\u001b[0m )\n",
      "File \u001b[0;32m~/anaconda3/lib/python3.11/site-packages/keras/src/utils/traceback_utils.py:65\u001b[0m, in \u001b[0;36mfilter_traceback.<locals>.error_handler\u001b[0;34m(*args, **kwargs)\u001b[0m\n\u001b[1;32m     63\u001b[0m filtered_tb \u001b[38;5;241m=\u001b[39m \u001b[38;5;28;01mNone\u001b[39;00m\n\u001b[1;32m     64\u001b[0m \u001b[38;5;28;01mtry\u001b[39;00m:\n\u001b[0;32m---> 65\u001b[0m     \u001b[38;5;28;01mreturn\u001b[39;00m fn(\u001b[38;5;241m*\u001b[39margs, \u001b[38;5;241m*\u001b[39m\u001b[38;5;241m*\u001b[39mkwargs)\n\u001b[1;32m     66\u001b[0m \u001b[38;5;28;01mexcept\u001b[39;00m \u001b[38;5;167;01mException\u001b[39;00m \u001b[38;5;28;01mas\u001b[39;00m e:\n\u001b[1;32m     67\u001b[0m     filtered_tb \u001b[38;5;241m=\u001b[39m _process_traceback_frames(e\u001b[38;5;241m.\u001b[39m__traceback__)\n",
      "File \u001b[0;32m~/anaconda3/lib/python3.11/site-packages/keras/src/engine/training.py:1783\u001b[0m, in \u001b[0;36mModel.fit\u001b[0;34m(self, x, y, batch_size, epochs, verbose, callbacks, validation_split, validation_data, shuffle, class_weight, sample_weight, initial_epoch, steps_per_epoch, validation_steps, validation_batch_size, validation_freq, max_queue_size, workers, use_multiprocessing)\u001b[0m\n\u001b[1;32m   1775\u001b[0m \u001b[38;5;28;01mwith\u001b[39;00m tf\u001b[38;5;241m.\u001b[39mprofiler\u001b[38;5;241m.\u001b[39mexperimental\u001b[38;5;241m.\u001b[39mTrace(\n\u001b[1;32m   1776\u001b[0m     \u001b[38;5;124m\"\u001b[39m\u001b[38;5;124mtrain\u001b[39m\u001b[38;5;124m\"\u001b[39m,\n\u001b[1;32m   1777\u001b[0m     epoch_num\u001b[38;5;241m=\u001b[39mepoch,\n\u001b[0;32m   (...)\u001b[0m\n\u001b[1;32m   1780\u001b[0m     _r\u001b[38;5;241m=\u001b[39m\u001b[38;5;241m1\u001b[39m,\n\u001b[1;32m   1781\u001b[0m ):\n\u001b[1;32m   1782\u001b[0m     callbacks\u001b[38;5;241m.\u001b[39mon_train_batch_begin(step)\n\u001b[0;32m-> 1783\u001b[0m     tmp_logs \u001b[38;5;241m=\u001b[39m \u001b[38;5;28mself\u001b[39m\u001b[38;5;241m.\u001b[39mtrain_function(iterator)\n\u001b[1;32m   1784\u001b[0m     \u001b[38;5;28;01mif\u001b[39;00m data_handler\u001b[38;5;241m.\u001b[39mshould_sync:\n\u001b[1;32m   1785\u001b[0m         context\u001b[38;5;241m.\u001b[39masync_wait()\n",
      "File \u001b[0;32m~/anaconda3/lib/python3.11/site-packages/tensorflow/python/util/traceback_utils.py:150\u001b[0m, in \u001b[0;36mfilter_traceback.<locals>.error_handler\u001b[0;34m(*args, **kwargs)\u001b[0m\n\u001b[1;32m    148\u001b[0m filtered_tb \u001b[38;5;241m=\u001b[39m \u001b[38;5;28;01mNone\u001b[39;00m\n\u001b[1;32m    149\u001b[0m \u001b[38;5;28;01mtry\u001b[39;00m:\n\u001b[0;32m--> 150\u001b[0m   \u001b[38;5;28;01mreturn\u001b[39;00m fn(\u001b[38;5;241m*\u001b[39margs, \u001b[38;5;241m*\u001b[39m\u001b[38;5;241m*\u001b[39mkwargs)\n\u001b[1;32m    151\u001b[0m \u001b[38;5;28;01mexcept\u001b[39;00m \u001b[38;5;167;01mException\u001b[39;00m \u001b[38;5;28;01mas\u001b[39;00m e:\n\u001b[1;32m    152\u001b[0m   filtered_tb \u001b[38;5;241m=\u001b[39m _process_traceback_frames(e\u001b[38;5;241m.\u001b[39m__traceback__)\n",
      "File \u001b[0;32m~/anaconda3/lib/python3.11/site-packages/tensorflow/python/eager/polymorphic_function/polymorphic_function.py:831\u001b[0m, in \u001b[0;36mFunction.__call__\u001b[0;34m(self, *args, **kwds)\u001b[0m\n\u001b[1;32m    828\u001b[0m compiler \u001b[38;5;241m=\u001b[39m \u001b[38;5;124m\"\u001b[39m\u001b[38;5;124mxla\u001b[39m\u001b[38;5;124m\"\u001b[39m \u001b[38;5;28;01mif\u001b[39;00m \u001b[38;5;28mself\u001b[39m\u001b[38;5;241m.\u001b[39m_jit_compile \u001b[38;5;28;01melse\u001b[39;00m \u001b[38;5;124m\"\u001b[39m\u001b[38;5;124mnonXla\u001b[39m\u001b[38;5;124m\"\u001b[39m\n\u001b[1;32m    830\u001b[0m \u001b[38;5;28;01mwith\u001b[39;00m OptionalXlaContext(\u001b[38;5;28mself\u001b[39m\u001b[38;5;241m.\u001b[39m_jit_compile):\n\u001b[0;32m--> 831\u001b[0m   result \u001b[38;5;241m=\u001b[39m \u001b[38;5;28mself\u001b[39m\u001b[38;5;241m.\u001b[39m_call(\u001b[38;5;241m*\u001b[39margs, \u001b[38;5;241m*\u001b[39m\u001b[38;5;241m*\u001b[39mkwds)\n\u001b[1;32m    833\u001b[0m new_tracing_count \u001b[38;5;241m=\u001b[39m \u001b[38;5;28mself\u001b[39m\u001b[38;5;241m.\u001b[39mexperimental_get_tracing_count()\n\u001b[1;32m    834\u001b[0m without_tracing \u001b[38;5;241m=\u001b[39m (tracing_count \u001b[38;5;241m==\u001b[39m new_tracing_count)\n",
      "File \u001b[0;32m~/anaconda3/lib/python3.11/site-packages/tensorflow/python/eager/polymorphic_function/polymorphic_function.py:867\u001b[0m, in \u001b[0;36mFunction._call\u001b[0;34m(self, *args, **kwds)\u001b[0m\n\u001b[1;32m    864\u001b[0m   \u001b[38;5;28mself\u001b[39m\u001b[38;5;241m.\u001b[39m_lock\u001b[38;5;241m.\u001b[39mrelease()\n\u001b[1;32m    865\u001b[0m   \u001b[38;5;66;03m# In this case we have created variables on the first call, so we run the\u001b[39;00m\n\u001b[1;32m    866\u001b[0m   \u001b[38;5;66;03m# defunned version which is guaranteed to never create variables.\u001b[39;00m\n\u001b[0;32m--> 867\u001b[0m   \u001b[38;5;28;01mreturn\u001b[39;00m tracing_compilation\u001b[38;5;241m.\u001b[39mcall_function(\n\u001b[1;32m    868\u001b[0m       args, kwds, \u001b[38;5;28mself\u001b[39m\u001b[38;5;241m.\u001b[39m_no_variable_creation_config\n\u001b[1;32m    869\u001b[0m   )\n\u001b[1;32m    870\u001b[0m \u001b[38;5;28;01melif\u001b[39;00m \u001b[38;5;28mself\u001b[39m\u001b[38;5;241m.\u001b[39m_variable_creation_config \u001b[38;5;129;01mis\u001b[39;00m \u001b[38;5;129;01mnot\u001b[39;00m \u001b[38;5;28;01mNone\u001b[39;00m:\n\u001b[1;32m    871\u001b[0m   \u001b[38;5;66;03m# Release the lock early so that multiple threads can perform the call\u001b[39;00m\n\u001b[1;32m    872\u001b[0m   \u001b[38;5;66;03m# in parallel.\u001b[39;00m\n\u001b[1;32m    873\u001b[0m   \u001b[38;5;28mself\u001b[39m\u001b[38;5;241m.\u001b[39m_lock\u001b[38;5;241m.\u001b[39mrelease()\n",
      "File \u001b[0;32m~/anaconda3/lib/python3.11/site-packages/tensorflow/python/eager/polymorphic_function/tracing_compilation.py:139\u001b[0m, in \u001b[0;36mcall_function\u001b[0;34m(args, kwargs, tracing_options)\u001b[0m\n\u001b[1;32m    137\u001b[0m bound_args \u001b[38;5;241m=\u001b[39m function\u001b[38;5;241m.\u001b[39mfunction_type\u001b[38;5;241m.\u001b[39mbind(\u001b[38;5;241m*\u001b[39margs, \u001b[38;5;241m*\u001b[39m\u001b[38;5;241m*\u001b[39mkwargs)\n\u001b[1;32m    138\u001b[0m flat_inputs \u001b[38;5;241m=\u001b[39m function\u001b[38;5;241m.\u001b[39mfunction_type\u001b[38;5;241m.\u001b[39munpack_inputs(bound_args)\n\u001b[0;32m--> 139\u001b[0m \u001b[38;5;28;01mreturn\u001b[39;00m function\u001b[38;5;241m.\u001b[39m_call_flat(  \u001b[38;5;66;03m# pylint: disable=protected-access\u001b[39;00m\n\u001b[1;32m    140\u001b[0m     flat_inputs, captured_inputs\u001b[38;5;241m=\u001b[39mfunction\u001b[38;5;241m.\u001b[39mcaptured_inputs\n\u001b[1;32m    141\u001b[0m )\n",
      "File \u001b[0;32m~/anaconda3/lib/python3.11/site-packages/tensorflow/python/eager/polymorphic_function/concrete_function.py:1264\u001b[0m, in \u001b[0;36mConcreteFunction._call_flat\u001b[0;34m(self, tensor_inputs, captured_inputs)\u001b[0m\n\u001b[1;32m   1260\u001b[0m possible_gradient_type \u001b[38;5;241m=\u001b[39m gradients_util\u001b[38;5;241m.\u001b[39mPossibleTapeGradientTypes(args)\n\u001b[1;32m   1261\u001b[0m \u001b[38;5;28;01mif\u001b[39;00m (possible_gradient_type \u001b[38;5;241m==\u001b[39m gradients_util\u001b[38;5;241m.\u001b[39mPOSSIBLE_GRADIENT_TYPES_NONE\n\u001b[1;32m   1262\u001b[0m     \u001b[38;5;129;01mand\u001b[39;00m executing_eagerly):\n\u001b[1;32m   1263\u001b[0m   \u001b[38;5;66;03m# No tape is watching; skip to running the function.\u001b[39;00m\n\u001b[0;32m-> 1264\u001b[0m   \u001b[38;5;28;01mreturn\u001b[39;00m \u001b[38;5;28mself\u001b[39m\u001b[38;5;241m.\u001b[39m_inference_function\u001b[38;5;241m.\u001b[39mflat_call(args)\n\u001b[1;32m   1265\u001b[0m forward_backward \u001b[38;5;241m=\u001b[39m \u001b[38;5;28mself\u001b[39m\u001b[38;5;241m.\u001b[39m_select_forward_and_backward_functions(\n\u001b[1;32m   1266\u001b[0m     args,\n\u001b[1;32m   1267\u001b[0m     possible_gradient_type,\n\u001b[1;32m   1268\u001b[0m     executing_eagerly)\n\u001b[1;32m   1269\u001b[0m forward_function, args_with_tangents \u001b[38;5;241m=\u001b[39m forward_backward\u001b[38;5;241m.\u001b[39mforward()\n",
      "File \u001b[0;32m~/anaconda3/lib/python3.11/site-packages/tensorflow/python/eager/polymorphic_function/atomic_function.py:217\u001b[0m, in \u001b[0;36mAtomicFunction.flat_call\u001b[0;34m(self, args)\u001b[0m\n\u001b[1;32m    215\u001b[0m \u001b[38;5;28;01mdef\u001b[39;00m \u001b[38;5;21mflat_call\u001b[39m(\u001b[38;5;28mself\u001b[39m, args: Sequence[core\u001b[38;5;241m.\u001b[39mTensor]) \u001b[38;5;241m-\u001b[39m\u001b[38;5;241m>\u001b[39m Any:\n\u001b[1;32m    216\u001b[0m \u001b[38;5;250m  \u001b[39m\u001b[38;5;124;03m\"\"\"Calls with tensor inputs and returns the structured output.\"\"\"\u001b[39;00m\n\u001b[0;32m--> 217\u001b[0m   flat_outputs \u001b[38;5;241m=\u001b[39m \u001b[38;5;28mself\u001b[39m(\u001b[38;5;241m*\u001b[39margs)\n\u001b[1;32m    218\u001b[0m   \u001b[38;5;28;01mreturn\u001b[39;00m \u001b[38;5;28mself\u001b[39m\u001b[38;5;241m.\u001b[39mfunction_type\u001b[38;5;241m.\u001b[39mpack_output(flat_outputs)\n",
      "File \u001b[0;32m~/anaconda3/lib/python3.11/site-packages/tensorflow/python/eager/polymorphic_function/atomic_function.py:252\u001b[0m, in \u001b[0;36mAtomicFunction.__call__\u001b[0;34m(self, *args)\u001b[0m\n\u001b[1;32m    250\u001b[0m \u001b[38;5;28;01mwith\u001b[39;00m record\u001b[38;5;241m.\u001b[39mstop_recording():\n\u001b[1;32m    251\u001b[0m   \u001b[38;5;28;01mif\u001b[39;00m \u001b[38;5;28mself\u001b[39m\u001b[38;5;241m.\u001b[39m_bound_context\u001b[38;5;241m.\u001b[39mexecuting_eagerly():\n\u001b[0;32m--> 252\u001b[0m     outputs \u001b[38;5;241m=\u001b[39m \u001b[38;5;28mself\u001b[39m\u001b[38;5;241m.\u001b[39m_bound_context\u001b[38;5;241m.\u001b[39mcall_function(\n\u001b[1;32m    253\u001b[0m         \u001b[38;5;28mself\u001b[39m\u001b[38;5;241m.\u001b[39mname,\n\u001b[1;32m    254\u001b[0m         \u001b[38;5;28mlist\u001b[39m(args),\n\u001b[1;32m    255\u001b[0m         \u001b[38;5;28mlen\u001b[39m(\u001b[38;5;28mself\u001b[39m\u001b[38;5;241m.\u001b[39mfunction_type\u001b[38;5;241m.\u001b[39mflat_outputs),\n\u001b[1;32m    256\u001b[0m     )\n\u001b[1;32m    257\u001b[0m   \u001b[38;5;28;01melse\u001b[39;00m:\n\u001b[1;32m    258\u001b[0m     outputs \u001b[38;5;241m=\u001b[39m make_call_op_in_graph(\n\u001b[1;32m    259\u001b[0m         \u001b[38;5;28mself\u001b[39m,\n\u001b[1;32m    260\u001b[0m         \u001b[38;5;28mlist\u001b[39m(args),\n\u001b[1;32m    261\u001b[0m         \u001b[38;5;28mself\u001b[39m\u001b[38;5;241m.\u001b[39m_bound_context\u001b[38;5;241m.\u001b[39mfunction_call_options\u001b[38;5;241m.\u001b[39mas_attrs(),\n\u001b[1;32m    262\u001b[0m     )\n",
      "File \u001b[0;32m~/anaconda3/lib/python3.11/site-packages/tensorflow/python/eager/context.py:1479\u001b[0m, in \u001b[0;36mContext.call_function\u001b[0;34m(self, name, tensor_inputs, num_outputs)\u001b[0m\n\u001b[1;32m   1477\u001b[0m cancellation_context \u001b[38;5;241m=\u001b[39m cancellation\u001b[38;5;241m.\u001b[39mcontext()\n\u001b[1;32m   1478\u001b[0m \u001b[38;5;28;01mif\u001b[39;00m cancellation_context \u001b[38;5;129;01mis\u001b[39;00m \u001b[38;5;28;01mNone\u001b[39;00m:\n\u001b[0;32m-> 1479\u001b[0m   outputs \u001b[38;5;241m=\u001b[39m execute\u001b[38;5;241m.\u001b[39mexecute(\n\u001b[1;32m   1480\u001b[0m       name\u001b[38;5;241m.\u001b[39mdecode(\u001b[38;5;124m\"\u001b[39m\u001b[38;5;124mutf-8\u001b[39m\u001b[38;5;124m\"\u001b[39m),\n\u001b[1;32m   1481\u001b[0m       num_outputs\u001b[38;5;241m=\u001b[39mnum_outputs,\n\u001b[1;32m   1482\u001b[0m       inputs\u001b[38;5;241m=\u001b[39mtensor_inputs,\n\u001b[1;32m   1483\u001b[0m       attrs\u001b[38;5;241m=\u001b[39mattrs,\n\u001b[1;32m   1484\u001b[0m       ctx\u001b[38;5;241m=\u001b[39m\u001b[38;5;28mself\u001b[39m,\n\u001b[1;32m   1485\u001b[0m   )\n\u001b[1;32m   1486\u001b[0m \u001b[38;5;28;01melse\u001b[39;00m:\n\u001b[1;32m   1487\u001b[0m   outputs \u001b[38;5;241m=\u001b[39m execute\u001b[38;5;241m.\u001b[39mexecute_with_cancellation(\n\u001b[1;32m   1488\u001b[0m       name\u001b[38;5;241m.\u001b[39mdecode(\u001b[38;5;124m\"\u001b[39m\u001b[38;5;124mutf-8\u001b[39m\u001b[38;5;124m\"\u001b[39m),\n\u001b[1;32m   1489\u001b[0m       num_outputs\u001b[38;5;241m=\u001b[39mnum_outputs,\n\u001b[0;32m   (...)\u001b[0m\n\u001b[1;32m   1493\u001b[0m       cancellation_manager\u001b[38;5;241m=\u001b[39mcancellation_context,\n\u001b[1;32m   1494\u001b[0m   )\n",
      "File \u001b[0;32m~/anaconda3/lib/python3.11/site-packages/tensorflow/python/eager/execute.py:60\u001b[0m, in \u001b[0;36mquick_execute\u001b[0;34m(op_name, num_outputs, inputs, attrs, ctx, name)\u001b[0m\n\u001b[1;32m     53\u001b[0m   \u001b[38;5;66;03m# Convert any objects of type core_types.Tensor to Tensor.\u001b[39;00m\n\u001b[1;32m     54\u001b[0m   inputs \u001b[38;5;241m=\u001b[39m [\n\u001b[1;32m     55\u001b[0m       tensor_conversion_registry\u001b[38;5;241m.\u001b[39mconvert(t)\n\u001b[1;32m     56\u001b[0m       \u001b[38;5;28;01mif\u001b[39;00m \u001b[38;5;28misinstance\u001b[39m(t, core_types\u001b[38;5;241m.\u001b[39mTensor)\n\u001b[1;32m     57\u001b[0m       \u001b[38;5;28;01melse\u001b[39;00m t\n\u001b[1;32m     58\u001b[0m       \u001b[38;5;28;01mfor\u001b[39;00m t \u001b[38;5;129;01min\u001b[39;00m inputs\n\u001b[1;32m     59\u001b[0m   ]\n\u001b[0;32m---> 60\u001b[0m   tensors \u001b[38;5;241m=\u001b[39m pywrap_tfe\u001b[38;5;241m.\u001b[39mTFE_Py_Execute(ctx\u001b[38;5;241m.\u001b[39m_handle, device_name, op_name,\n\u001b[1;32m     61\u001b[0m                                       inputs, attrs, num_outputs)\n\u001b[1;32m     62\u001b[0m \u001b[38;5;28;01mexcept\u001b[39;00m core\u001b[38;5;241m.\u001b[39m_NotOkStatusException \u001b[38;5;28;01mas\u001b[39;00m e:\n\u001b[1;32m     63\u001b[0m   \u001b[38;5;28;01mif\u001b[39;00m name \u001b[38;5;129;01mis\u001b[39;00m \u001b[38;5;129;01mnot\u001b[39;00m \u001b[38;5;28;01mNone\u001b[39;00m:\n",
      "\u001b[0;31mKeyboardInterrupt\u001b[0m: "
     ]
    }
   ],
   "source": [
    "history = model.fit(\n",
    "    train,\n",
    "    validation_data=test,\n",
    "    epochs = 3\n",
    ")"
   ]
  },
  {
   "cell_type": "code",
   "execution_count": null,
   "id": "85b3a083-87fa-426d-92b9-03a78d2f70a9",
   "metadata": {},
   "outputs": [],
   "source": []
  }
 ],
 "metadata": {
  "kernelspec": {
   "display_name": "Python 3 (ipykernel)",
   "language": "python",
   "name": "python3"
  },
  "language_info": {
   "codemirror_mode": {
    "name": "ipython",
    "version": 3
   },
   "file_extension": ".py",
   "mimetype": "text/x-python",
   "name": "python",
   "nbconvert_exporter": "python",
   "pygments_lexer": "ipython3",
   "version": "3.11.7"
  }
 },
 "nbformat": 4,
 "nbformat_minor": 5
}
