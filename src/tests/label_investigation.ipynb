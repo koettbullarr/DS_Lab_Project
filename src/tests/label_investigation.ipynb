{
 "cells": [
  {
   "cell_type": "code",
   "execution_count": 1,
   "metadata": {},
   "outputs": [],
   "source": [
    "import pandas as pd"
   ]
  },
  {
   "cell_type": "code",
   "execution_count": 2,
   "metadata": {},
   "outputs": [],
   "source": [
    "prep = pd.read_csv(\"../prep_t.csv\")"
   ]
  },
  {
   "cell_type": "code",
   "execution_count": 7,
   "metadata": {},
   "outputs": [],
   "source": [
    "letter = prep[prep['labels'] == 'letter']\n",
    "interview = prep[prep['labels'] == 'interview']"
   ]
  },
  {
   "cell_type": "code",
   "execution_count": 9,
   "metadata": {},
   "outputs": [
    {
     "data": {
      "text/html": [
       "<div>\n",
       "<style scoped>\n",
       "    .dataframe tbody tr th:only-of-type {\n",
       "        vertical-align: middle;\n",
       "    }\n",
       "\n",
       "    .dataframe tbody tr th {\n",
       "        vertical-align: top;\n",
       "    }\n",
       "\n",
       "    .dataframe thead th {\n",
       "        text-align: right;\n",
       "    }\n",
       "</style>\n",
       "<table border=\"1\" class=\"dataframe\">\n",
       "  <thead>\n",
       "    <tr style=\"text-align: right;\">\n",
       "      <th></th>\n",
       "      <th>labels</th>\n",
       "      <th>text</th>\n",
       "      <th>unikey</th>\n",
       "      <th>recname</th>\n",
       "      <th>recstamp</th>\n",
       "      <th>label_ids</th>\n",
       "    </tr>\n",
       "  </thead>\n",
       "  <tbody>\n",
       "    <tr>\n",
       "      <th>159259</th>\n",
       "      <td>letter</td>\n",
       "      <td>leserbrief rechtsruck europa fast schockiert b...</td>\n",
       "      <td>1.508041e+19</td>\n",
       "      <td>KRONE_2023123129385220099</td>\n",
       "      <td>2023-12-31T00:00:00Z</td>\n",
       "      <td>2</td>\n",
       "    </tr>\n",
       "    <tr>\n",
       "      <th>159260</th>\n",
       "      <td>letter</td>\n",
       "      <td>leserbrief danke jahreswechsel möchte exekutiv...</td>\n",
       "      <td>1.449678e+19</td>\n",
       "      <td>KRONE_2023123129385220094</td>\n",
       "      <td>2023-12-31T00:00:00Z</td>\n",
       "      <td>2</td>\n",
       "    </tr>\n",
       "    <tr>\n",
       "      <th>159261</th>\n",
       "      <td>letter</td>\n",
       "      <td>leserbrief reiches land österreich behauptung ...</td>\n",
       "      <td>7.828960e+18</td>\n",
       "      <td>KRONE_2023123129385220093</td>\n",
       "      <td>2023-12-31T00:00:00Z</td>\n",
       "      <td>2</td>\n",
       "    </tr>\n",
       "    <tr>\n",
       "      <th>159262</th>\n",
       "      <td>letter</td>\n",
       "      <td>leserbrief jahreswechsel alte jahr gebeugt müd...</td>\n",
       "      <td>1.193146e+19</td>\n",
       "      <td>KRONE_2023123129385220100</td>\n",
       "      <td>2023-12-31T00:00:00Z</td>\n",
       "      <td>2</td>\n",
       "    </tr>\n",
       "    <tr>\n",
       "      <th>159263</th>\n",
       "      <td>letter</td>\n",
       "      <td>leserbrief fürs neue jahr weiterhin zuversicht...</td>\n",
       "      <td>3.758156e+18</td>\n",
       "      <td>KRONE_2023123129385220105</td>\n",
       "      <td>2023-12-31T00:00:00Z</td>\n",
       "      <td>2</td>\n",
       "    </tr>\n",
       "    <tr>\n",
       "      <th>...</th>\n",
       "      <td>...</td>\n",
       "      <td>...</td>\n",
       "      <td>...</td>\n",
       "      <td>...</td>\n",
       "      <td>...</td>\n",
       "      <td>...</td>\n",
       "    </tr>\n",
       "    <tr>\n",
       "      <th>169504</th>\n",
       "      <td>letter</td>\n",
       "      <td>leserpost leserbriefe bitte presse hainburger ...</td>\n",
       "      <td>1.051495e+19</td>\n",
       "      <td>PRESSE_20230722_96905189</td>\n",
       "      <td>2023-07-22T00:00:00Z</td>\n",
       "      <td>2</td>\n",
       "    </tr>\n",
       "    <tr>\n",
       "      <th>169505</th>\n",
       "      <td>letter</td>\n",
       "      <td>leserpost leserbriefe bitte presse hainburger ...</td>\n",
       "      <td>1.690374e+19</td>\n",
       "      <td>PRESSE_20230721_96886046</td>\n",
       "      <td>2023-07-21T00:00:00Z</td>\n",
       "      <td>2</td>\n",
       "    </tr>\n",
       "    <tr>\n",
       "      <th>169506</th>\n",
       "      <td>letter</td>\n",
       "      <td>leserpost leserbriefe bitte presse hainburger ...</td>\n",
       "      <td>3.697824e+18</td>\n",
       "      <td>PRESSE_20230720_96868412</td>\n",
       "      <td>2023-07-20T00:00:00Z</td>\n",
       "      <td>2</td>\n",
       "    </tr>\n",
       "    <tr>\n",
       "      <th>169507</th>\n",
       "      <td>letter</td>\n",
       "      <td>leserpost leserbriefe bitte presse hainburger ...</td>\n",
       "      <td>1.084238e+19</td>\n",
       "      <td>PRESSE_20230719_96850008</td>\n",
       "      <td>2023-07-19T00:00:00Z</td>\n",
       "      <td>2</td>\n",
       "    </tr>\n",
       "    <tr>\n",
       "      <th>169508</th>\n",
       "      <td>letter</td>\n",
       "      <td>leserpost privateigentum darf jemand besitzen ...</td>\n",
       "      <td>9.034457e+18</td>\n",
       "      <td>PRESSE_20230718_96827165</td>\n",
       "      <td>2023-07-18T00:00:00Z</td>\n",
       "      <td>2</td>\n",
       "    </tr>\n",
       "  </tbody>\n",
       "</table>\n",
       "<p>4050 rows × 6 columns</p>\n",
       "</div>"
      ],
      "text/plain": [
       "        labels                                               text  \\\n",
       "159259  letter  leserbrief rechtsruck europa fast schockiert b...   \n",
       "159260  letter  leserbrief danke jahreswechsel möchte exekutiv...   \n",
       "159261  letter  leserbrief reiches land österreich behauptung ...   \n",
       "159262  letter  leserbrief jahreswechsel alte jahr gebeugt müd...   \n",
       "159263  letter  leserbrief fürs neue jahr weiterhin zuversicht...   \n",
       "...        ...                                                ...   \n",
       "169504  letter  leserpost leserbriefe bitte presse hainburger ...   \n",
       "169505  letter  leserpost leserbriefe bitte presse hainburger ...   \n",
       "169506  letter  leserpost leserbriefe bitte presse hainburger ...   \n",
       "169507  letter  leserpost leserbriefe bitte presse hainburger ...   \n",
       "169508  letter  leserpost privateigentum darf jemand besitzen ...   \n",
       "\n",
       "              unikey                    recname              recstamp  \\\n",
       "159259  1.508041e+19  KRONE_2023123129385220099  2023-12-31T00:00:00Z   \n",
       "159260  1.449678e+19  KRONE_2023123129385220094  2023-12-31T00:00:00Z   \n",
       "159261  7.828960e+18  KRONE_2023123129385220093  2023-12-31T00:00:00Z   \n",
       "159262  1.193146e+19  KRONE_2023123129385220100  2023-12-31T00:00:00Z   \n",
       "159263  3.758156e+18  KRONE_2023123129385220105  2023-12-31T00:00:00Z   \n",
       "...              ...                        ...                   ...   \n",
       "169504  1.051495e+19   PRESSE_20230722_96905189  2023-07-22T00:00:00Z   \n",
       "169505  1.690374e+19   PRESSE_20230721_96886046  2023-07-21T00:00:00Z   \n",
       "169506  3.697824e+18   PRESSE_20230720_96868412  2023-07-20T00:00:00Z   \n",
       "169507  1.084238e+19   PRESSE_20230719_96850008  2023-07-19T00:00:00Z   \n",
       "169508  9.034457e+18   PRESSE_20230718_96827165  2023-07-18T00:00:00Z   \n",
       "\n",
       "        label_ids  \n",
       "159259          2  \n",
       "159260          2  \n",
       "159261          2  \n",
       "159262          2  \n",
       "159263          2  \n",
       "...           ...  \n",
       "169504          2  \n",
       "169505          2  \n",
       "169506          2  \n",
       "169507          2  \n",
       "169508          2  \n",
       "\n",
       "[4050 rows x 6 columns]"
      ]
     },
     "execution_count": 9,
     "metadata": {},
     "output_type": "execute_result"
    }
   ],
   "source": [
    "letter"
   ]
  },
  {
   "cell_type": "code",
   "execution_count": 18,
   "metadata": {},
   "outputs": [
    {
     "ename": "TypeError",
     "evalue": "'in <string>' requires string as left operand, not bool",
     "output_type": "error",
     "traceback": [
      "\u001b[0;31m---------------------------------------------------------------------------\u001b[0m",
      "\u001b[0;31mTypeError\u001b[0m                                 Traceback (most recent call last)",
      "Cell \u001b[0;32mIn[18], line 4\u001b[0m\n\u001b[1;32m      1\u001b[0m words \u001b[38;5;241m=\u001b[39m [\u001b[38;5;124m'\u001b[39m\u001b[38;5;124mleserbrief\u001b[39m\u001b[38;5;124m'\u001b[39m, \u001b[38;5;124m'\u001b[39m\u001b[38;5;124mleserpost\u001b[39m\u001b[38;5;124m'\u001b[39m]\n\u001b[1;32m      3\u001b[0m t \u001b[38;5;241m=\u001b[39m \u001b[38;5;124m\"\u001b[39m\u001b[38;5;124mhello world, it\u001b[39m\u001b[38;5;124m'\u001b[39m\u001b[38;5;124ms leserbrief:\u001b[39m\u001b[38;5;124m\"\u001b[39m\n\u001b[0;32m----> 4\u001b[0m a \u001b[38;5;241m=\u001b[39m [\u001b[38;5;28;01mTrue\u001b[39;00m \u001b[38;5;28;01mif\u001b[39;00m \u001b[38;5;28many\u001b[39m(w) \u001b[38;5;129;01min\u001b[39;00m t \u001b[38;5;28;01melse\u001b[39;00m \u001b[38;5;28;01mFalse\u001b[39;00m \u001b[38;5;28;01mfor\u001b[39;00m w \u001b[38;5;129;01min\u001b[39;00m words]\n",
      "Cell \u001b[0;32mIn[18], line 4\u001b[0m, in \u001b[0;36m<listcomp>\u001b[0;34m(.0)\u001b[0m\n\u001b[1;32m      1\u001b[0m words \u001b[38;5;241m=\u001b[39m [\u001b[38;5;124m'\u001b[39m\u001b[38;5;124mleserbrief\u001b[39m\u001b[38;5;124m'\u001b[39m, \u001b[38;5;124m'\u001b[39m\u001b[38;5;124mleserpost\u001b[39m\u001b[38;5;124m'\u001b[39m]\n\u001b[1;32m      3\u001b[0m t \u001b[38;5;241m=\u001b[39m \u001b[38;5;124m\"\u001b[39m\u001b[38;5;124mhello world, it\u001b[39m\u001b[38;5;124m'\u001b[39m\u001b[38;5;124ms leserbrief:\u001b[39m\u001b[38;5;124m\"\u001b[39m\n\u001b[0;32m----> 4\u001b[0m a \u001b[38;5;241m=\u001b[39m [\u001b[38;5;28;01mTrue\u001b[39;00m \u001b[38;5;28;01mif\u001b[39;00m \u001b[38;5;28many\u001b[39m(w) \u001b[38;5;129;01min\u001b[39;00m t \u001b[38;5;28;01melse\u001b[39;00m \u001b[38;5;28;01mFalse\u001b[39;00m \u001b[38;5;28;01mfor\u001b[39;00m w \u001b[38;5;129;01min\u001b[39;00m words]\n",
      "\u001b[0;31mTypeError\u001b[0m: 'in <string>' requires string as left operand, not bool"
     ]
    }
   ],
   "source": [
    "words = ['leserbrief', 'leserpost']\n",
    "\n",
    "t = \"hello world, it's leserbrief:\"\n",
    "a = [True if any(w) in t else False for w in words]"
   ]
  },
  {
   "cell_type": "code",
   "execution_count": 20,
   "metadata": {},
   "outputs": [
    {
     "name": "stderr",
     "output_type": "stream",
     "text": [
      "/var/folders/8c/_sr2kqv935l1jvwxjljct8680000gn/T/ipykernel_78499/1771308139.py:2: SettingWithCopyWarning: \n",
      "A value is trying to be set on a copy of a slice from a DataFrame.\n",
      "Try using .loc[row_indexer,col_indexer] = value instead\n",
      "\n",
      "See the caveats in the documentation: https://pandas.pydata.org/pandas-docs/stable/user_guide/indexing.html#returning-a-view-versus-a-copy\n",
      "  prep['is_present'] = prep['text'].apply(lambda x: any(word in x for word in words))\n"
     ]
    }
   ],
   "source": [
    "prep = prep.dropna()\n",
    "prep['is_present'] = prep['text'].apply(lambda x: any(word in x for word in words))"
   ]
  },
  {
   "cell_type": "code",
   "execution_count": 24,
   "metadata": {},
   "outputs": [
    {
     "data": {
      "text/plain": [
       "is_present\n",
       "False    172086\n",
       "True       4146\n",
       "Name: count, dtype: int64"
      ]
     },
     "execution_count": 24,
     "metadata": {},
     "output_type": "execute_result"
    }
   ],
   "source": [
    "for l in prep['labels'].unique():\n",
    "    print(prep[[l, 'is_present']])"
   ]
  },
  {
   "cell_type": "code",
   "execution_count": 26,
   "metadata": {},
   "outputs": [
    {
     "data": {
      "text/plain": [
       "'interview'"
      ]
     },
     "execution_count": 26,
     "metadata": {},
     "output_type": "execute_result"
    }
   ],
   "source": [
    "prep['labels'].unique()"
   ]
  },
  {
   "cell_type": "code",
   "execution_count": 29,
   "metadata": {},
   "outputs": [
    {
     "data": {
      "text/plain": [
       "labels       is_present\n",
       "NONRELEVANT  False         169515\n",
       "             True             149\n",
       "comment      False            626\n",
       "             True               3\n",
       "interview    False           1884\n",
       "             True               5\n",
       "letter       True            3989\n",
       "             False             61\n",
       "Name: count, dtype: int64"
      ]
     },
     "execution_count": 29,
     "metadata": {},
     "output_type": "execute_result"
    }
   ],
   "source": [
    "prep.groupby('labels')['is_present'].value_counts()"
   ]
  },
  {
   "cell_type": "code",
   "execution_count": null,
   "metadata": {},
   "outputs": [],
   "source": []
  }
 ],
 "metadata": {
  "kernelspec": {
   "display_name": "base",
   "language": "python",
   "name": "python3"
  },
  "language_info": {
   "codemirror_mode": {
    "name": "ipython",
    "version": 3
   },
   "file_extension": ".py",
   "mimetype": "text/x-python",
   "name": "python",
   "nbconvert_exporter": "python",
   "pygments_lexer": "ipython3",
   "version": "3.11.7"
  }
 },
 "nbformat": 4,
 "nbformat_minor": 2
}
