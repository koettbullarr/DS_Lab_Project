{
 "cells": [
  {
   "cell_type": "code",
   "execution_count": 1,
   "metadata": {},
   "outputs": [],
   "source": [
    "import numpy as np\n",
    "from sklearn.feature_extraction.text import TfidfVectorizer\n",
    "from sklearn.svm import SVC\n",
    "from sklearn.pipeline import make_pipeline\n",
    "from sklearn.model_selection import train_test_split\n",
    "from sklearn.metrics import classification_report\n",
    "import pandas as pd\n",
    "import sys\n",
    "sys.path.append(\"/Users/ibragimzhussup/Desktop/APA_Lab/src/modules\")\n",
    "from preprocess import PreprocessAPA\n",
    "from sklearn.metrics import classification_report"
   ]
  },
  {
   "cell_type": "code",
   "execution_count": 2,
   "metadata": {},
   "outputs": [],
   "source": [
    "df = pd.read_csv(\"/Users/ibragimzhussup/Desktop/APA_Lab/prep_t.csv\")\n",
    "df = df.dropna()"
   ]
  },
  {
   "cell_type": "code",
   "execution_count": 4,
   "metadata": {},
   "outputs": [],
   "source": [
    "prep = PreprocessAPA()\n",
    "train, test = prep.split_data(df, test_val=False, n_samples_train=500)"
   ]
  },
  {
   "cell_type": "code",
   "execution_count": 16,
   "metadata": {},
   "outputs": [],
   "source": [
    "# Assuming 'train' and 'test' are pandas DataFrames with columns 'text' for the features and 'label' for the labels\n",
    "X_train = train['text']\n",
    "y_train = train['labels']\n",
    "X_test = test['text']\n",
    "y_test = test['labels']\n",
    "\n",
    "# Step 1: Mapping the original labels for broad categorization\n",
    "y_train_step1 = y_train.replace({'interview': 'others', 'comment': 'others'})\n",
    "y_test_step1 = y_test.replace({'interview': 'others', 'comment': 'others'})"
   ]
  },
  {
   "cell_type": "code",
   "execution_count": 17,
   "metadata": {},
   "outputs": [],
   "source": [
    "# Pipeline for step 1: Broad categorization (letter, non_relevant, others)\n",
    "model_step1 = make_pipeline(TfidfVectorizer(use_idf=True, max_features=5000, norm='l2', sublinear_tf=True), \n",
    "                            SVC(kernel='linear', probability=True))\n",
    "model_step1.fit(X_train, y_train_step1)\n",
    "y_pred_step1 = model_step1.predict(X_test)"
   ]
  },
  {
   "cell_type": "code",
   "execution_count": 18,
   "metadata": {},
   "outputs": [
    {
     "name": "stdout",
     "output_type": "stream",
     "text": [
      "              precision    recall  f1-score   support\n",
      "\n",
      " NONRELEVANT       1.00      0.78      0.88    168485\n",
      "      letter       0.98      0.92      0.95      4050\n",
      "      others       0.04      0.98      0.08      1697\n",
      "\n",
      "    accuracy                           0.79    174232\n",
      "   macro avg       0.67      0.89      0.64    174232\n",
      "weighted avg       0.99      0.79      0.87    174232\n",
      "\n"
     ]
    }
   ],
   "source": [
    "print(classification_report(y_test_step1, y_pred_step1))"
   ]
  },
  {
   "cell_type": "code",
   "execution_count": 21,
   "metadata": {},
   "outputs": [],
   "source": [
    "# Step 2: Train a classifier for the 'others' category\n",
    "train_others = train[y_train.isin(['interview', 'comment'])]\n",
    "X_train_others = train_others['text']\n",
    "y_train_others = train_others['labels']\n",
    "\n",
    "test_others = test[y_pred_step1 == 'others']\n",
    "X_test_others = test_others['text']\n",
    "y_test_others = test_others['labels']"
   ]
  },
  {
   "cell_type": "code",
   "execution_count": 23,
   "metadata": {},
   "outputs": [
    {
     "data": {
      "text/plain": [
       "array(['comment', 'interview'], dtype=object)"
      ]
     },
     "execution_count": 23,
     "metadata": {},
     "output_type": "execute_result"
    }
   ],
   "source": [
    "y_train_others.unique()"
   ]
  },
  {
   "cell_type": "code",
   "execution_count": 25,
   "metadata": {},
   "outputs": [],
   "source": [
    "# Pipeline for step 2: Classification within 'others'\n",
    "model_step2 = make_pipeline(\n",
    "    TfidfVectorizer(use_idf=True, max_features=5000, norm='l2', sublinear_tf=True),\n",
    "    SVC(kernel='linear')\n",
    ")\n",
    "model_step2.fit(X_train_others, y_train_others)\n",
    "y_pred_step2 = model_step2.predict(X_test_others)"
   ]
  },
  {
   "cell_type": "code",
   "execution_count": 26,
   "metadata": {},
   "outputs": [],
   "source": [
    "# Combine predictions\n",
    "final_predictions = y_pred_step1.copy()\n",
    "final_predictions[test.index.isin(test_others.index)] = y_pred_step2"
   ]
  },
  {
   "cell_type": "code",
   "execution_count": 29,
   "metadata": {},
   "outputs": [
    {
     "name": "stdout",
     "output_type": "stream",
     "text": [
      "              precision    recall  f1-score   support\n",
      "\n",
      " NONRELEVANT       1.00      0.78      0.88    168485\n",
      "     comment       0.03      0.98      0.06       629\n",
      "   interview       0.06      0.94      0.11      1068\n",
      "      letter       0.98      0.92      0.95      4050\n",
      "\n",
      "    accuracy                           0.79    174232\n",
      "   macro avg       0.52      0.91      0.50    174232\n",
      "weighted avg       0.99      0.79      0.87    174232\n",
      "\n"
     ]
    }
   ],
   "source": [
    "print(classification_report(y_test, final_predictions))"
   ]
  },
  {
   "cell_type": "code",
   "execution_count": null,
   "metadata": {},
   "outputs": [],
   "source": []
  }
 ],
 "metadata": {
  "kernelspec": {
   "display_name": "base",
   "language": "python",
   "name": "python3"
  },
  "language_info": {
   "codemirror_mode": {
    "name": "ipython",
    "version": 3
   },
   "file_extension": ".py",
   "mimetype": "text/x-python",
   "name": "python",
   "nbconvert_exporter": "python",
   "pygments_lexer": "ipython3",
   "version": "3.11.7"
  }
 },
 "nbformat": 4,
 "nbformat_minor": 2
}
