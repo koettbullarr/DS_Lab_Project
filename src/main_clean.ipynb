{
 "cells": [
  {
   "cell_type": "markdown",
   "metadata": {},
   "source": [
    "# Data Science Lab Project SS24\n",
    "# APA-IT Informations Technologie GmbH\n",
    "# News article classification\n",
    "## Team members:\n",
    "- Nurzhanat Zhussup\n",
    "- Mariia\n",
    "- Gregor\n",
    "- Danylo\n",
    "\n",
    "### Data import and preprcoessing"
   ]
  },
  {
   "cell_type": "code",
   "execution_count": 1,
   "metadata": {},
   "outputs": [],
   "source": [
    "import pandas as pd\n",
    "import numpy as np\n",
    "import matplotlib.pyplot as plt\n",
    "import seaborn as sns\n",
    "%matplotlib inline\n",
    "from preprocess import PreprocessAPA\n"
   ]
  },
  {
   "cell_type": "code",
   "execution_count": 2,
   "metadata": {},
   "outputs": [],
   "source": [
    "preprocessor = PreprocessAPA(\n",
    "    './export_20240314/interview.jsonl', \n",
    "    './export_20240314/leserbrief.jsonl', \n",
    "    './export_20240314/meinung.jsonl'\n",
    ")\n",
    "\n",
    "interview, letters, comments = preprocessor.load_data()\n",
    "data = preprocessor.extract_labels([interview, letters, comments])\n",
    "data = preprocessor.filter_relevant(data)\n",
    "data = preprocessor.rewrite_labels(data)\n",
    "df = preprocessor.concat_data(data)\n",
    "df = preprocessor.preprocess_text(df)\n",
    "df = preprocessor.remove_punctuation(df=df, text_column=\"text\")\n",
    "df = preprocessor.remove_whitespace(df=df, text_column=\"text\")"
   ]
  },
  {
   "cell_type": "markdown",
   "metadata": {},
   "source": [
    "**2 types of ML preprocessing**"
   ]
  },
  {
   "cell_type": "code",
   "execution_count": 3,
   "metadata": {},
   "outputs": [],
   "source": [
    "full_ml = preprocessor.ml_text_preproc(df=df, text_column=\"text\",\n",
    "                                       label_column=\"labels\", full_preproc=False)[['text', 'label_ids', 'labels']]\n",
    "preproc_ml = preprocessor.ml_text_preproc(df=df, text_column=\"text\",\n",
    "                                       label_column=\"labels\", full_preproc=True)[['text', 'label_ids', 'labels']]"
   ]
  },
  {
   "cell_type": "code",
   "execution_count": 4,
   "metadata": {},
   "outputs": [
    {
     "name": "stdout",
     "output_type": "stream",
     "text": [
      "kinder lieben rasen untereinander messen thomas raffl leitet rafflfußballschule thomas gerade 100 kindern fußballcamp graz schreibt ergebnis kinder u6 u16altersklasse orientieren richtlinien öfb ergebnis unteren klassen registrieren spielen camp turniere kinder lieben rasen messen pokale gewinnen ralf rangnick recht decke komplett aufpassen kindern siegermentalität entwickelt beim unospielen geht ums gewinnen verlieren schule bereiche lebens mentalität mut kommst harten zeiten richtige öfb richtig gemacht reform druck kleinsten minimiert merke kindern großteils spaß geht merken eher wieviele tore geschossen endergebnis große druck kommt öfter eltern trainern ausbildung genau hinschauen niederlage lernt oft mehr sieg hängt grundsätzlich immer handelnden personen ab\n",
      "„die kinder lieben es sich auf dem rasen untereinander zu messen“ thomas raffl leitet die „rafflfußballschule“ thomas du bist gerade mit über 100 kindern auf fußballcamp in graz schreibt ihr jedes ergebnis mit wir haben kinder von der u6 bis zur u16altersklasse bei uns und orientieren uns an den richtlinien des öfb wo wir nicht jedes ergebnis in den unteren klassen registrieren aber wir spielen in unserem camp turniere denn kinder lieben es sich auf dem rasen zu messen pokale zu gewinnen hat ralf rangnick recht ich decke mich nicht komplett mit ihm aber man muss auch aufpassen dass man bei kindern eine siegermentalität entwickelt beim unospielen geht es auch ums gewinnen und verlieren das ist eine schule für alle bereiche des lebens denn durch mentalität und mut kommst du in harten zeiten weiter was ist der richtige weg der öfb hat es richtig gemacht indem er durch die reform den druck auf die kleinsten minimiert ich merke selbst dass es kindern großteils um den spaß geht sie merken sich eher wieviele tore sie selbst geschossen haben als das endergebnis der große druck kommt öfter von eltern oder trainern man muss in der ausbildung genau hinschauen denn aus einer niederlage lernt man oft mehr als nach einem sieg es hängt grundsätzlich immer von den handelnden personen ab \n"
     ]
    }
   ],
   "source": [
    "# This as made to compare 2 preprocessing and see what will be better\n",
    "\n",
    "print(preproc_ml.iloc[777]['text']),\n",
    "print(full_ml.iloc[777]['text'])"
   ]
  },
  {
   "cell_type": "markdown",
   "metadata": {},
   "source": [
    "### Machine Learning Models\n",
    "\n",
    "#### PREPROCESSED TEXT"
   ]
  },
  {
   "cell_type": "code",
   "execution_count": 168,
   "metadata": {},
   "outputs": [],
   "source": [
    "from ML_models import ML_Models\n",
    "ml_modeling = ML_Models()"
   ]
  },
  {
   "cell_type": "code",
   "execution_count": 169,
   "metadata": {},
   "outputs": [
    {
     "name": "stdout",
     "output_type": "stream",
     "text": [
      "Logistic Regression\n",
      "              precision    recall  f1-score   support\n",
      "\n",
      "           0       0.90      0.80      0.85       412\n",
      "           1       0.82      0.98      0.90       805\n",
      "           2       0.70      0.12      0.20       135\n",
      "\n",
      "    accuracy                           0.84      1352\n",
      "   macro avg       0.81      0.64      0.65      1352\n",
      "weighted avg       0.83      0.84      0.81      1352\n",
      "\n",
      "\n",
      "Random Forest\n",
      "              precision    recall  f1-score   support\n",
      "\n",
      "           0       0.86      0.70      0.77       412\n",
      "           1       0.77      0.96      0.85       805\n",
      "           2       0.00      0.00      0.00       135\n",
      "\n",
      "    accuracy                           0.79      1352\n",
      "   macro avg       0.54      0.55      0.54      1352\n",
      "weighted avg       0.72      0.79      0.74      1352\n",
      "\n",
      "\n",
      "Naive Bayes\n",
      "              precision    recall  f1-score   support\n",
      "\n",
      "           0       0.94      0.60      0.74       412\n",
      "           1       0.74      0.99      0.85       805\n",
      "           2       0.00      0.00      0.00       135\n",
      "\n",
      "    accuracy                           0.78      1352\n",
      "   macro avg       0.56      0.53      0.53      1352\n",
      "weighted avg       0.72      0.78      0.73      1352\n",
      "\n",
      "\n"
     ]
    },
    {
     "name": "stderr",
     "output_type": "stream",
     "text": [
      "/Users/ibragimzhussup/anaconda3/lib/python3.11/site-packages/sklearn/metrics/_classification.py:1509: UndefinedMetricWarning: Precision is ill-defined and being set to 0.0 in labels with no predicted samples. Use `zero_division` parameter to control this behavior.\n",
      "  _warn_prf(average, modifier, f\"{metric.capitalize()} is\", len(result))\n",
      "/Users/ibragimzhussup/anaconda3/lib/python3.11/site-packages/sklearn/metrics/_classification.py:1509: UndefinedMetricWarning: Precision is ill-defined and being set to 0.0 in labels with no predicted samples. Use `zero_division` parameter to control this behavior.\n",
      "  _warn_prf(average, modifier, f\"{metric.capitalize()} is\", len(result))\n",
      "/Users/ibragimzhussup/anaconda3/lib/python3.11/site-packages/sklearn/metrics/_classification.py:1509: UndefinedMetricWarning: Precision is ill-defined and being set to 0.0 in labels with no predicted samples. Use `zero_division` parameter to control this behavior.\n",
      "  _warn_prf(average, modifier, f\"{metric.capitalize()} is\", len(result))\n",
      "/Users/ibragimzhussup/anaconda3/lib/python3.11/site-packages/sklearn/metrics/_classification.py:1509: UndefinedMetricWarning: Precision is ill-defined and being set to 0.0 in labels with no predicted samples. Use `zero_division` parameter to control this behavior.\n",
      "  _warn_prf(average, modifier, f\"{metric.capitalize()} is\", len(result))\n"
     ]
    },
    {
     "name": "stdout",
     "output_type": "stream",
     "text": [
      "Support Vector Classifer\n",
      "              precision    recall  f1-score   support\n",
      "\n",
      "           0       0.92      0.78      0.84       412\n",
      "           1       0.80      0.98      0.88       805\n",
      "           2       0.35      0.04      0.08       135\n",
      "\n",
      "    accuracy                           0.83      1352\n",
      "   macro avg       0.69      0.60      0.60      1352\n",
      "weighted avg       0.79      0.83      0.79      1352\n",
      "\n",
      "\n",
      "Decision Tree Classifier\n",
      "              precision    recall  f1-score   support\n",
      "\n",
      "           0       0.74      0.67      0.71       412\n",
      "           1       0.81      0.88      0.84       805\n",
      "           2       0.38      0.28      0.32       135\n",
      "\n",
      "    accuracy                           0.76      1352\n",
      "   macro avg       0.64      0.61      0.62      1352\n",
      "weighted avg       0.75      0.76      0.75      1352\n",
      "\n",
      "\n"
     ]
    }
   ],
   "source": [
    "preprocessed_df_performance = ml_modeling.run(preproc_ml)"
   ]
  },
  {
   "cell_type": "code",
   "execution_count": 170,
   "metadata": {},
   "outputs": [
    {
     "data": {
      "image/png": "[encoded data removed]",
      "text/plain": [
       "<Figure size 800x800 with 4 Axes>"
      ]
     },
     "metadata": {},
     "output_type": "display_data"
    }
   ],
   "source": [
    "ml_modeling.plot_performance(preprocessed_df_performance)"
   ]
  },
  {
   "cell_type": "markdown",
   "metadata": {},
   "source": [
    "#### FULL TEXT"
   ]
  },
  {
   "cell_type": "code",
   "execution_count": 171,
   "metadata": {},
   "outputs": [
    {
     "name": "stdout",
     "output_type": "stream",
     "text": [
      "Logistic Regression\n",
      "              precision    recall  f1-score   support\n",
      "\n",
      "           0       0.88      0.86      0.87       412\n",
      "           1       0.86      0.97      0.91       805\n",
      "           2       0.89      0.23      0.36       135\n",
      "\n",
      "    accuracy                           0.86      1352\n",
      "   macro avg       0.87      0.69      0.71      1352\n",
      "weighted avg       0.87      0.86      0.84      1352\n",
      "\n",
      "\n",
      "Random Forest\n",
      "              precision    recall  f1-score   support\n",
      "\n",
      "           0       0.86      0.73      0.79       412\n",
      "           1       0.78      0.96      0.86       805\n",
      "           2       0.00      0.00      0.00       135\n",
      "\n",
      "    accuracy                           0.79      1352\n",
      "   macro avg       0.55      0.56      0.55      1352\n",
      "weighted avg       0.73      0.79      0.75      1352\n",
      "\n",
      "\n",
      "Naive Bayes\n",
      "              precision    recall  f1-score   support\n",
      "\n",
      "           0       0.96      0.52      0.68       412\n",
      "           1       0.71      1.00      0.83       805\n",
      "           2       0.00      0.00      0.00       135\n",
      "\n",
      "    accuracy                           0.76      1352\n",
      "   macro avg       0.56      0.51      0.50      1352\n",
      "weighted avg       0.72      0.76      0.70      1352\n",
      "\n",
      "\n"
     ]
    },
    {
     "name": "stderr",
     "output_type": "stream",
     "text": [
      "/Users/ibragimzhussup/anaconda3/lib/python3.11/site-packages/sklearn/metrics/_classification.py:1509: UndefinedMetricWarning: Precision is ill-defined and being set to 0.0 in labels with no predicted samples. Use `zero_division` parameter to control this behavior.\n",
      "  _warn_prf(average, modifier, f\"{metric.capitalize()} is\", len(result))\n",
      "/Users/ibragimzhussup/anaconda3/lib/python3.11/site-packages/sklearn/metrics/_classification.py:1509: UndefinedMetricWarning: Precision is ill-defined and being set to 0.0 in labels with no predicted samples. Use `zero_division` parameter to control this behavior.\n",
      "  _warn_prf(average, modifier, f\"{metric.capitalize()} is\", len(result))\n",
      "/Users/ibragimzhussup/anaconda3/lib/python3.11/site-packages/sklearn/metrics/_classification.py:1509: UndefinedMetricWarning: Precision is ill-defined and being set to 0.0 in labels with no predicted samples. Use `zero_division` parameter to control this behavior.\n",
      "  _warn_prf(average, modifier, f\"{metric.capitalize()} is\", len(result))\n",
      "/Users/ibragimzhussup/anaconda3/lib/python3.11/site-packages/sklearn/metrics/_classification.py:1509: UndefinedMetricWarning: Precision is ill-defined and being set to 0.0 in labels with no predicted samples. Use `zero_division` parameter to control this behavior.\n",
      "  _warn_prf(average, modifier, f\"{metric.capitalize()} is\", len(result))\n"
     ]
    },
    {
     "name": "stdout",
     "output_type": "stream",
     "text": [
      "Support Vector Classifer\n",
      "              precision    recall  f1-score   support\n",
      "\n",
      "           0       0.90      0.84      0.87       412\n",
      "           1       0.85      0.98      0.91       805\n",
      "           2       0.71      0.21      0.33       135\n",
      "\n",
      "    accuracy                           0.86      1352\n",
      "   macro avg       0.82      0.68      0.70      1352\n",
      "weighted avg       0.85      0.86      0.84      1352\n",
      "\n",
      "\n",
      "Decision Tree Classifier\n",
      "              precision    recall  f1-score   support\n",
      "\n",
      "           0       0.75      0.76      0.76       412\n",
      "           1       0.84      0.85      0.85       805\n",
      "           2       0.44      0.40      0.42       135\n",
      "\n",
      "    accuracy                           0.78      1352\n",
      "   macro avg       0.68      0.67      0.67      1352\n",
      "weighted avg       0.77      0.78      0.78      1352\n",
      "\n",
      "\n"
     ]
    }
   ],
   "source": [
    "full_df_performance = ml_modeling.run(full_ml)"
   ]
  },
  {
   "cell_type": "code",
   "execution_count": 172,
   "metadata": {},
   "outputs": [
    {
     "data": {
      "image/png": "[encoded data removed]",
      "text/plain": [
       "<Figure size 800x800 with 4 Axes>"
      ]
     },
     "metadata": {},
     "output_type": "display_data"
    }
   ],
   "source": [
    "ml_modeling.plot_performance(full_df_performance)"
   ]
  },
  {
   "cell_type": "markdown",
   "metadata": {},
   "source": [
    "**Training the models on full text is better descision because the F1 score of label 2 has increased significantly.**\n",
    "\n",
    "**All models have no problem in predicting labels 0 and 1. So the best model in next steps will be the model that maximizes F1 score of label 2**"
   ]
  },
  {
   "cell_type": "code",
   "execution_count": 10,
   "metadata": {},
   "outputs": [
    {
     "data": {
      "text/html": [
       "<div>\n",
       "<style scoped>\n",
       "    .dataframe tbody tr th:only-of-type {\n",
       "        vertical-align: middle;\n",
       "    }\n",
       "\n",
       "    .dataframe tbody tr th {\n",
       "        vertical-align: top;\n",
       "    }\n",
       "\n",
       "    .dataframe thead th {\n",
       "        text-align: right;\n",
       "    }\n",
       "</style>\n",
       "<table border=\"1\" class=\"dataframe\">\n",
       "  <thead>\n",
       "    <tr style=\"text-align: right;\">\n",
       "      <th></th>\n",
       "      <th>label_ids</th>\n",
       "      <th>labels</th>\n",
       "    </tr>\n",
       "  </thead>\n",
       "  <tbody>\n",
       "    <tr>\n",
       "      <th>0</th>\n",
       "      <td>0</td>\n",
       "      <td>interview</td>\n",
       "    </tr>\n",
       "    <tr>\n",
       "      <th>1985</th>\n",
       "      <td>1</td>\n",
       "      <td>letter</td>\n",
       "    </tr>\n",
       "    <tr>\n",
       "      <th>6095</th>\n",
       "      <td>2</td>\n",
       "      <td>comment</td>\n",
       "    </tr>\n",
       "  </tbody>\n",
       "</table>\n",
       "</div>"
      ],
      "text/plain": [
       "      label_ids     labels\n",
       "0             0  interview\n",
       "1985          1     letter\n",
       "6095          2    comment"
      ]
     },
     "execution_count": 10,
     "metadata": {},
     "output_type": "execute_result"
    }
   ],
   "source": [
    "full_ml.drop('text', axis=1).drop_duplicates()"
   ]
  },
  {
   "cell_type": "markdown",
   "metadata": {},
   "source": [
    "**Label 2 is comment**"
   ]
  },
  {
   "cell_type": "code",
   "execution_count": 11,
   "metadata": {},
   "outputs": [
    {
     "name": "stderr",
     "output_type": "stream",
     "text": [
      "/Users/ibragimzhussup/anaconda3/lib/python3.11/site-packages/sklearn/linear_model/_sag.py:350: ConvergenceWarning: The max_iter was reached which means the coef_ did not converge\n",
      "  warnings.warn(\n",
      "/Users/ibragimzhussup/anaconda3/lib/python3.11/site-packages/sklearn/linear_model/_sag.py:350: ConvergenceWarning: The max_iter was reached which means the coef_ did not converge\n",
      "  warnings.warn(\n",
      "/Users/ibragimzhussup/anaconda3/lib/python3.11/site-packages/sklearn/linear_model/_sag.py:350: ConvergenceWarning: The max_iter was reached which means the coef_ did not converge\n",
      "  warnings.warn(\n",
      "/Users/ibragimzhussup/anaconda3/lib/python3.11/site-packages/sklearn/linear_model/_sag.py:350: ConvergenceWarning: The max_iter was reached which means the coef_ did not converge\n",
      "  warnings.warn(\n",
      "/Users/ibragimzhussup/anaconda3/lib/python3.11/site-packages/sklearn/linear_model/_sag.py:350: ConvergenceWarning: The max_iter was reached which means the coef_ did not converge\n",
      "  warnings.warn(\n"
     ]
    },
    {
     "name": "stdout",
     "output_type": "stream",
     "text": [
      "Best Parameters for Logistic Regression: {'C': 40.65557684124517, 'max_iter': 682, 'penalty': 'l1', 'solver': 'saga'}\n",
      "Best Accuracy Score for Logistic Regression: 0.8962662079508089\n",
      "Total runtime: 0:04:24\n"
     ]
    }
   ],
   "source": [
    "lr_bestparams = ml_modeling.fine_tune(\"logreg\", use_all_CPUs=True,\n",
    "                                      number_of_iterations=50, num_cv=5)"
   ]
  },
  {
   "cell_type": "code",
   "execution_count": 12,
   "metadata": {},
   "outputs": [
    {
     "data": {
      "text/plain": [
       "{'C': 40.65557684124517, 'max_iter': 682, 'penalty': 'l1', 'solver': 'saga'}"
      ]
     },
     "execution_count": 12,
     "metadata": {},
     "output_type": "execute_result"
    }
   ],
   "source": [
    "lr_bestparams"
   ]
  },
  {
   "cell_type": "code",
   "execution_count": 13,
   "metadata": {},
   "outputs": [
    {
     "name": "stdout",
     "output_type": "stream",
     "text": [
      "Best Parameters for SVC: {'C': 1.2686679007539894, 'degree': 4, 'gamma': 'scale', 'kernel': 'rbf'}\n",
      "Best Accuracy Score for SVC: 0.8600236653608541\n",
      "Total runtime: 0:05:48\n"
     ]
    }
   ],
   "source": [
    "svc_bestparams = ml_modeling.fine_tune(\"svc\", use_all_CPUs=True,\n",
    "                                       number_of_iterations=10, num_cv=5)"
   ]
  },
  {
   "cell_type": "code",
   "execution_count": 14,
   "metadata": {},
   "outputs": [
    {
     "data": {
      "text/plain": [
       "{'C': 1.2686679007539894, 'degree': 4, 'gamma': 'scale', 'kernel': 'rbf'}"
      ]
     },
     "execution_count": 14,
     "metadata": {},
     "output_type": "execute_result"
    }
   ],
   "source": [
    "svc_bestparams"
   ]
  },
  {
   "cell_type": "code",
   "execution_count": 4,
   "metadata": {},
   "outputs": [],
   "source": [
    "from sklearn.svm import SVC\n",
    "from sklearn.linear_model import LogisticRegression\n",
    "from sklearn.metrics import classification_report"
   ]
  },
  {
   "cell_type": "code",
   "execution_count": 16,
   "metadata": {},
   "outputs": [
    {
     "name": "stderr",
     "output_type": "stream",
     "text": [
      "/Users/ibragimzhussup/anaconda3/lib/python3.11/site-packages/sklearn/linear_model/_sag.py:350: ConvergenceWarning: The max_iter was reached which means the coef_ did not converge\n",
      "  warnings.warn(\n"
     ]
    },
    {
     "data": {
      "text/html": [
       "<style>#sk-container-id-1 {\n",
       "  /* Definition of color scheme common for light and dark mode */\n",
       "  --sklearn-color-text: black;\n",
       "  --sklearn-color-line: gray;\n",
       "  /* Definition of color scheme for unfitted estimators */\n",
       "  --sklearn-color-unfitted-level-0: #fff5e6;\n",
       "  --sklearn-color-unfitted-level-1: #f6e4d2;\n",
       "  --sklearn-color-unfitted-level-2: #ffe0b3;\n",
       "  --sklearn-color-unfitted-level-3: chocolate;\n",
       "  /* Definition of color scheme for fitted estimators */\n",
       "  --sklearn-color-fitted-level-0: #f0f8ff;\n",
       "  --sklearn-color-fitted-level-1: #d4ebff;\n",
       "  --sklearn-color-fitted-level-2: #b3dbfd;\n",
       "  --sklearn-color-fitted-level-3: cornflowerblue;\n",
       "\n",
       "  /* Specific color for light theme */\n",
       "  --sklearn-color-text-on-default-background: var(--sg-text-color, var(--theme-code-foreground, var(--jp-content-font-color1, black)));\n",
       "  --sklearn-color-background: var(--sg-background-color, var(--theme-background, var(--jp-layout-color0, white)));\n",
       "  --sklearn-color-border-box: var(--sg-text-color, var(--theme-code-foreground, var(--jp-content-font-color1, black)));\n",
       "  --sklearn-color-icon: #696969;\n",
       "\n",
       "  @media (prefers-color-scheme: dark) {\n",
       "    /* Redefinition of color scheme for dark theme */\n",
       "    --sklearn-color-text-on-default-background: var(--sg-text-color, var(--theme-code-foreground, var(--jp-content-font-color1, white)));\n",
       "    --sklearn-color-background: var(--sg-background-color, var(--theme-background, var(--jp-layout-color0, #111)));\n",
       "    --sklearn-color-border-box: var(--sg-text-color, var(--theme-code-foreground, var(--jp-content-font-color1, white)));\n",
       "    --sklearn-color-icon: #878787;\n",
       "  }\n",
       "}\n",
       "\n",
       "#sk-container-id-1 {\n",
       "  color: var(--sklearn-color-text);\n",
       "}\n",
       "\n",
       "#sk-container-id-1 pre {\n",
       "  padding: 0;\n",
       "}\n",
       "\n",
       "#sk-container-id-1 input.sk-hidden--visually {\n",
       "  border: 0;\n",
       "  clip: rect(1px 1px 1px 1px);\n",
       "  clip: rect(1px, 1px, 1px, 1px);\n",
       "  height: 1px;\n",
       "  margin: -1px;\n",
       "  overflow: hidden;\n",
       "  padding: 0;\n",
       "  position: absolute;\n",
       "  width: 1px;\n",
       "}\n",
       "\n",
       "#sk-container-id-1 div.sk-dashed-wrapped {\n",
       "  border: 1px dashed var(--sklearn-color-line);\n",
       "  margin: 0 0.4em 0.5em 0.4em;\n",
       "  box-sizing: border-box;\n",
       "  padding-bottom: 0.4em;\n",
       "  background-color: var(--sklearn-color-background);\n",
       "}\n",
       "\n",
       "#sk-container-id-1 div.sk-container {\n",
       "  /* jupyter's `normalize.less` sets `[hidden] { display: none; }`\n",
       "     but bootstrap.min.css set `[hidden] { display: none !important; }`\n",
       "     so we also need the `!important` here to be able to override the\n",
       "     default hidden behavior on the sphinx rendered scikit-learn.org.\n",
       "     See: https://github.com/scikit-learn/scikit-learn/issues/21755 */\n",
       "  display: inline-block !important;\n",
       "  position: relative;\n",
       "}\n",
       "\n",
       "#sk-container-id-1 div.sk-text-repr-fallback {\n",
       "  display: none;\n",
       "}\n",
       "\n",
       "div.sk-parallel-item,\n",
       "div.sk-serial,\n",
       "div.sk-item {\n",
       "  /* draw centered vertical line to link estimators */\n",
       "  background-image: linear-gradient(var(--sklearn-color-text-on-default-background), var(--sklearn-color-text-on-default-background));\n",
       "  background-size: 2px 100%;\n",
       "  background-repeat: no-repeat;\n",
       "  background-position: center center;\n",
       "}\n",
       "\n",
       "/* Parallel-specific style estimator block */\n",
       "\n",
       "#sk-container-id-1 div.sk-parallel-item::after {\n",
       "  content: \"\";\n",
       "  width: 100%;\n",
       "  border-bottom: 2px solid var(--sklearn-color-text-on-default-background);\n",
       "  flex-grow: 1;\n",
       "}\n",
       "\n",
       "#sk-container-id-1 div.sk-parallel {\n",
       "  display: flex;\n",
       "  align-items: stretch;\n",
       "  justify-content: center;\n",
       "  background-color: var(--sklearn-color-background);\n",
       "  position: relative;\n",
       "}\n",
       "\n",
       "#sk-container-id-1 div.sk-parallel-item {\n",
       "  display: flex;\n",
       "  flex-direction: column;\n",
       "}\n",
       "\n",
       "#sk-container-id-1 div.sk-parallel-item:first-child::after {\n",
       "  align-self: flex-end;\n",
       "  width: 50%;\n",
       "}\n",
       "\n",
       "#sk-container-id-1 div.sk-parallel-item:last-child::after {\n",
       "  align-self: flex-start;\n",
       "  width: 50%;\n",
       "}\n",
       "\n",
       "#sk-container-id-1 div.sk-parallel-item:only-child::after {\n",
       "  width: 0;\n",
       "}\n",
       "\n",
       "/* Serial-specific style estimator block */\n",
       "\n",
       "#sk-container-id-1 div.sk-serial {\n",
       "  display: flex;\n",
       "  flex-direction: column;\n",
       "  align-items: center;\n",
       "  background-color: var(--sklearn-color-background);\n",
       "  padding-right: 1em;\n",
       "  padding-left: 1em;\n",
       "}\n",
       "\n",
       "\n",
       "/* Toggleable style: style used for estimator/Pipeline/ColumnTransformer box that is\n",
       "clickable and can be expanded/collapsed.\n",
       "- Pipeline and ColumnTransformer use this feature and define the default style\n",
       "- Estimators will overwrite some part of the style using the `sk-estimator` class\n",
       "*/\n",
       "\n",
       "/* Pipeline and ColumnTransformer style (default) */\n",
       "\n",
       "#sk-container-id-1 div.sk-toggleable {\n",
       "  /* Default theme specific background. It is overwritten whether we have a\n",
       "  specific estimator or a Pipeline/ColumnTransformer */\n",
       "  background-color: var(--sklearn-color-background);\n",
       "}\n",
       "\n",
       "/* Toggleable label */\n",
       "#sk-container-id-1 label.sk-toggleable__label {\n",
       "  cursor: pointer;\n",
       "  display: block;\n",
       "  width: 100%;\n",
       "  margin-bottom: 0;\n",
       "  padding: 0.5em;\n",
       "  box-sizing: border-box;\n",
       "  text-align: center;\n",
       "}\n",
       "\n",
       "#sk-container-id-1 label.sk-toggleable__label-arrow:before {\n",
       "  /* Arrow on the left of the label */\n",
       "  content: \"▸\";\n",
       "  float: left;\n",
       "  margin-right: 0.25em;\n",
       "  color: var(--sklearn-color-icon);\n",
       "}\n",
       "\n",
       "#sk-container-id-1 label.sk-toggleable__label-arrow:hover:before {\n",
       "  color: var(--sklearn-color-text);\n",
       "}\n",
       "\n",
       "/* Toggleable content - dropdown */\n",
       "\n",
       "#sk-container-id-1 div.sk-toggleable__content {\n",
       "  max-height: 0;\n",
       "  max-width: 0;\n",
       "  overflow: hidden;\n",
       "  text-align: left;\n",
       "  /* unfitted */\n",
       "  background-color: var(--sklearn-color-unfitted-level-0);\n",
       "}\n",
       "\n",
       "#sk-container-id-1 div.sk-toggleable__content.fitted {\n",
       "  /* fitted */\n",
       "  background-color: var(--sklearn-color-fitted-level-0);\n",
       "}\n",
       "\n",
       "#sk-container-id-1 div.sk-toggleable__content pre {\n",
       "  margin: 0.2em;\n",
       "  border-radius: 0.25em;\n",
       "  color: var(--sklearn-color-text);\n",
       "  /* unfitted */\n",
       "  background-color: var(--sklearn-color-unfitted-level-0);\n",
       "}\n",
       "\n",
       "#sk-container-id-1 div.sk-toggleable__content.fitted pre {\n",
       "  /* unfitted */\n",
       "  background-color: var(--sklearn-color-fitted-level-0);\n",
       "}\n",
       "\n",
       "#sk-container-id-1 input.sk-toggleable__control:checked~div.sk-toggleable__content {\n",
       "  /* Expand drop-down */\n",
       "  max-height: 200px;\n",
       "  max-width: 100%;\n",
       "  overflow: auto;\n",
       "}\n",
       "\n",
       "#sk-container-id-1 input.sk-toggleable__control:checked~label.sk-toggleable__label-arrow:before {\n",
       "  content: \"▾\";\n",
       "}\n",
       "\n",
       "/* Pipeline/ColumnTransformer-specific style */\n",
       "\n",
       "#sk-container-id-1 div.sk-label input.sk-toggleable__control:checked~label.sk-toggleable__label {\n",
       "  color: var(--sklearn-color-text);\n",
       "  background-color: var(--sklearn-color-unfitted-level-2);\n",
       "}\n",
       "\n",
       "#sk-container-id-1 div.sk-label.fitted input.sk-toggleable__control:checked~label.sk-toggleable__label {\n",
       "  background-color: var(--sklearn-color-fitted-level-2);\n",
       "}\n",
       "\n",
       "/* Estimator-specific style */\n",
       "\n",
       "/* Colorize estimator box */\n",
       "#sk-container-id-1 div.sk-estimator input.sk-toggleable__control:checked~label.sk-toggleable__label {\n",
       "  /* unfitted */\n",
       "  background-color: var(--sklearn-color-unfitted-level-2);\n",
       "}\n",
       "\n",
       "#sk-container-id-1 div.sk-estimator.fitted input.sk-toggleable__control:checked~label.sk-toggleable__label {\n",
       "  /* fitted */\n",
       "  background-color: var(--sklearn-color-fitted-level-2);\n",
       "}\n",
       "\n",
       "#sk-container-id-1 div.sk-label label.sk-toggleable__label,\n",
       "#sk-container-id-1 div.sk-label label {\n",
       "  /* The background is the default theme color */\n",
       "  color: var(--sklearn-color-text-on-default-background);\n",
       "}\n",
       "\n",
       "/* On hover, darken the color of the background */\n",
       "#sk-container-id-1 div.sk-label:hover label.sk-toggleable__label {\n",
       "  color: var(--sklearn-color-text);\n",
       "  background-color: var(--sklearn-color-unfitted-level-2);\n",
       "}\n",
       "\n",
       "/* Label box, darken color on hover, fitted */\n",
       "#sk-container-id-1 div.sk-label.fitted:hover label.sk-toggleable__label.fitted {\n",
       "  color: var(--sklearn-color-text);\n",
       "  background-color: var(--sklearn-color-fitted-level-2);\n",
       "}\n",
       "\n",
       "/* Estimator label */\n",
       "\n",
       "#sk-container-id-1 div.sk-label label {\n",
       "  font-family: monospace;\n",
       "  font-weight: bold;\n",
       "  display: inline-block;\n",
       "  line-height: 1.2em;\n",
       "}\n",
       "\n",
       "#sk-container-id-1 div.sk-label-container {\n",
       "  text-align: center;\n",
       "}\n",
       "\n",
       "/* Estimator-specific */\n",
       "#sk-container-id-1 div.sk-estimator {\n",
       "  font-family: monospace;\n",
       "  border: 1px dotted var(--sklearn-color-border-box);\n",
       "  border-radius: 0.25em;\n",
       "  box-sizing: border-box;\n",
       "  margin-bottom: 0.5em;\n",
       "  /* unfitted */\n",
       "  background-color: var(--sklearn-color-unfitted-level-0);\n",
       "}\n",
       "\n",
       "#sk-container-id-1 div.sk-estimator.fitted {\n",
       "  /* fitted */\n",
       "  background-color: var(--sklearn-color-fitted-level-0);\n",
       "}\n",
       "\n",
       "/* on hover */\n",
       "#sk-container-id-1 div.sk-estimator:hover {\n",
       "  /* unfitted */\n",
       "  background-color: var(--sklearn-color-unfitted-level-2);\n",
       "}\n",
       "\n",
       "#sk-container-id-1 div.sk-estimator.fitted:hover {\n",
       "  /* fitted */\n",
       "  background-color: var(--sklearn-color-fitted-level-2);\n",
       "}\n",
       "\n",
       "/* Specification for estimator info (e.g. \"i\" and \"?\") */\n",
       "\n",
       "/* Common style for \"i\" and \"?\" */\n",
       "\n",
       ".sk-estimator-doc-link,\n",
       "a:link.sk-estimator-doc-link,\n",
       "a:visited.sk-estimator-doc-link {\n",
       "  float: right;\n",
       "  font-size: smaller;\n",
       "  line-height: 1em;\n",
       "  font-family: monospace;\n",
       "  background-color: var(--sklearn-color-background);\n",
       "  border-radius: 1em;\n",
       "  height: 1em;\n",
       "  width: 1em;\n",
       "  text-decoration: none !important;\n",
       "  margin-left: 1ex;\n",
       "  /* unfitted */\n",
       "  border: var(--sklearn-color-unfitted-level-1) 1pt solid;\n",
       "  color: var(--sklearn-color-unfitted-level-1);\n",
       "}\n",
       "\n",
       ".sk-estimator-doc-link.fitted,\n",
       "a:link.sk-estimator-doc-link.fitted,\n",
       "a:visited.sk-estimator-doc-link.fitted {\n",
       "  /* fitted */\n",
       "  border: var(--sklearn-color-fitted-level-1) 1pt solid;\n",
       "  color: var(--sklearn-color-fitted-level-1);\n",
       "}\n",
       "\n",
       "/* On hover */\n",
       "div.sk-estimator:hover .sk-estimator-doc-link:hover,\n",
       ".sk-estimator-doc-link:hover,\n",
       "div.sk-label-container:hover .sk-estimator-doc-link:hover,\n",
       ".sk-estimator-doc-link:hover {\n",
       "  /* unfitted */\n",
       "  background-color: var(--sklearn-color-unfitted-level-3);\n",
       "  color: var(--sklearn-color-background);\n",
       "  text-decoration: none;\n",
       "}\n",
       "\n",
       "div.sk-estimator.fitted:hover .sk-estimator-doc-link.fitted:hover,\n",
       ".sk-estimator-doc-link.fitted:hover,\n",
       "div.sk-label-container:hover .sk-estimator-doc-link.fitted:hover,\n",
       ".sk-estimator-doc-link.fitted:hover {\n",
       "  /* fitted */\n",
       "  background-color: var(--sklearn-color-fitted-level-3);\n",
       "  color: var(--sklearn-color-background);\n",
       "  text-decoration: none;\n",
       "}\n",
       "\n",
       "/* Span, style for the box shown on hovering the info icon */\n",
       ".sk-estimator-doc-link span {\n",
       "  display: none;\n",
       "  z-index: 9999;\n",
       "  position: relative;\n",
       "  font-weight: normal;\n",
       "  right: .2ex;\n",
       "  padding: .5ex;\n",
       "  margin: .5ex;\n",
       "  width: min-content;\n",
       "  min-width: 20ex;\n",
       "  max-width: 50ex;\n",
       "  color: var(--sklearn-color-text);\n",
       "  box-shadow: 2pt 2pt 4pt #999;\n",
       "  /* unfitted */\n",
       "  background: var(--sklearn-color-unfitted-level-0);\n",
       "  border: .5pt solid var(--sklearn-color-unfitted-level-3);\n",
       "}\n",
       "\n",
       ".sk-estimator-doc-link.fitted span {\n",
       "  /* fitted */\n",
       "  background: var(--sklearn-color-fitted-level-0);\n",
       "  border: var(--sklearn-color-fitted-level-3);\n",
       "}\n",
       "\n",
       ".sk-estimator-doc-link:hover span {\n",
       "  display: block;\n",
       "}\n",
       "\n",
       "/* \"?\"-specific style due to the `<a>` HTML tag */\n",
       "\n",
       "#sk-container-id-1 a.estimator_doc_link {\n",
       "  float: right;\n",
       "  font-size: 1rem;\n",
       "  line-height: 1em;\n",
       "  font-family: monospace;\n",
       "  background-color: var(--sklearn-color-background);\n",
       "  border-radius: 1rem;\n",
       "  height: 1rem;\n",
       "  width: 1rem;\n",
       "  text-decoration: none;\n",
       "  /* unfitted */\n",
       "  color: var(--sklearn-color-unfitted-level-1);\n",
       "  border: var(--sklearn-color-unfitted-level-1) 1pt solid;\n",
       "}\n",
       "\n",
       "#sk-container-id-1 a.estimator_doc_link.fitted {\n",
       "  /* fitted */\n",
       "  border: var(--sklearn-color-fitted-level-1) 1pt solid;\n",
       "  color: var(--sklearn-color-fitted-level-1);\n",
       "}\n",
       "\n",
       "/* On hover */\n",
       "#sk-container-id-1 a.estimator_doc_link:hover {\n",
       "  /* unfitted */\n",
       "  background-color: var(--sklearn-color-unfitted-level-3);\n",
       "  color: var(--sklearn-color-background);\n",
       "  text-decoration: none;\n",
       "}\n",
       "\n",
       "#sk-container-id-1 a.estimator_doc_link.fitted:hover {\n",
       "  /* fitted */\n",
       "  background-color: var(--sklearn-color-fitted-level-3);\n",
       "}\n",
       "</style><div id=\"sk-container-id-1\" class=\"sk-top-container\"><div class=\"sk-text-repr-fallback\"><pre>SVC(C=1.2686679007539894, degree=4)</pre><b>In a Jupyter environment, please rerun this cell to show the HTML representation or trust the notebook. <br />On GitHub, the HTML representation is unable to render, please try loading this page with nbviewer.org.</b></div><div class=\"sk-container\" hidden><div class=\"sk-item\"><div class=\"sk-estimator fitted sk-toggleable\"><input class=\"sk-toggleable__control sk-hidden--visually\" id=\"sk-estimator-id-1\" type=\"checkbox\" checked><label for=\"sk-estimator-id-1\" class=\"sk-toggleable__label fitted sk-toggleable__label-arrow fitted\">&nbsp;&nbsp;SVC<a class=\"sk-estimator-doc-link fitted\" rel=\"noreferrer\" target=\"_blank\" href=\"https://scikit-learn.org/1.4/modules/generated/sklearn.svm.SVC.html\">?<span>Documentation for SVC</span></a><span class=\"sk-estimator-doc-link fitted\">i<span>Fitted</span></span></label><div class=\"sk-toggleable__content fitted\"><pre>SVC(C=1.2686679007539894, degree=4)</pre></div> </div></div></div></div>"
      ],
      "text/plain": [
       "SVC(C=1.2686679007539894, degree=4)"
      ]
     },
     "execution_count": 16,
     "metadata": {},
     "output_type": "execute_result"
    }
   ],
   "source": [
    "lr_finetuned = LogisticRegression(**lr_bestparams)\n",
    "lr_finetuned.fit(ml_modeling.X_train_vectorized, ml_modeling.y_train)\n",
    "svc_finetuned = SVC(**svc_bestparams)\n",
    "svc_finetuned.fit(ml_modeling.X_train_vectorized, ml_modeling.y_train)\n"
   ]
  },
  {
   "cell_type": "code",
   "execution_count": 17,
   "metadata": {},
   "outputs": [
    {
     "name": "stdout",
     "output_type": "stream",
     "text": [
      "FT LogReg: \n",
      "              precision    recall  f1-score   support\n",
      "\n",
      "           0       0.87      0.88      0.87       412\n",
      "           1       0.92      0.94      0.93       805\n",
      "           2       0.77      0.66      0.71       135\n",
      "\n",
      "    accuracy                           0.89      1352\n",
      "   macro avg       0.86      0.83      0.84      1352\n",
      "weighted avg       0.89      0.89      0.89      1352\n",
      "\n",
      "FT SVC: \n",
      "              precision    recall  f1-score   support\n",
      "\n",
      "           0       0.89      0.84      0.87       412\n",
      "           1       0.86      0.97      0.91       805\n",
      "           2       0.75      0.30      0.43       135\n",
      "\n",
      "    accuracy                           0.87      1352\n",
      "   macro avg       0.83      0.70      0.73      1352\n",
      "weighted avg       0.86      0.87      0.85      1352\n",
      "\n"
     ]
    }
   ],
   "source": [
    "lr_preds = lr_finetuned.predict(ml_modeling.X_test_vectorized)\n",
    "svc_preds = svc_finetuned.predict(ml_modeling.X_test_vectorized)\n",
    "\n",
    "print(f\"FT LogReg: \\n{classification_report(ml_modeling.y_test, lr_preds)}\")\n",
    "print(f\"FT SVC: \\n{classification_report(ml_modeling.y_test, svc_preds)}\")"
   ]
  },
  {
   "cell_type": "markdown",
   "metadata": {},
   "source": [
    "**Huge improvement with Logistic Regression in predicting label 2**\n",
    "\n",
    "**Another interesting model to look into would be Decision Tree, because it has the best F1 score for label 2 as a basic model**\n",
    "\n",
    "**Let's try finetuning it and see the results**"
   ]
  },
  {
   "cell_type": "code",
   "execution_count": 18,
   "metadata": {},
   "outputs": [
    {
     "name": "stdout",
     "output_type": "stream",
     "text": [
      "Best Parameters for Decision Tree: {'criterion': 'gini', 'max_depth': 6, 'min_samples_leaf': 4, 'min_samples_split': 7, 'splitter': 'random'}\n",
      "Best Accuracy Score for Decision Tree: 0.8150885484618371\n",
      "Total runtime: 232.93222284317017 seconds\n"
     ]
    },
    {
     "data": {
      "text/plain": [
       "{'criterion': 'gini',\n",
       " 'max_depth': 6,\n",
       " 'min_samples_leaf': 4,\n",
       " 'min_samples_split': 7,\n",
       " 'splitter': 'random'}"
      ]
     },
     "execution_count": 18,
     "metadata": {},
     "output_type": "execute_result"
    }
   ],
   "source": [
    "dt_bestparams = ml_modeling.fine_tune(\"dt\", use_all_CPUs=True,\n",
    "                                       number_of_iterations=100, num_cv=5)\n",
    "dt_bestparams"
   ]
  },
  {
   "cell_type": "code",
   "execution_count": 19,
   "metadata": {},
   "outputs": [
    {
     "name": "stdout",
     "output_type": "stream",
     "text": [
      "FT DT: \n",
      "              precision    recall  f1-score   support\n",
      "\n",
      "           0       0.78      0.69      0.73       412\n",
      "           1       0.79      0.93      0.86       805\n",
      "           2       0.73      0.22      0.34       135\n",
      "\n",
      "    accuracy                           0.79      1352\n",
      "   macro avg       0.77      0.61      0.64      1352\n",
      "weighted avg       0.78      0.79      0.77      1352\n",
      "\n"
     ]
    }
   ],
   "source": [
    "from sklearn.tree import DecisionTreeClassifier\n",
    "dt_finetuned = DecisionTreeClassifier(**dt_bestparams)\n",
    "dt_finetuned.fit(ml_modeling.X_train_vectorized, ml_modeling.y_train)\n",
    "dt_preds = dt_finetuned.predict(ml_modeling.X_test_vectorized)\n",
    "print(f\"FT DT: \\n{classification_report(ml_modeling.y_test, dt_preds)}\")"
   ]
  },
  {
   "cell_type": "markdown",
   "metadata": {},
   "source": [
    "**The situation got even worse for label 2.**\n",
    "\n",
    "**We will stick with the best model in Machine Learning section so far, the Logistic Regression!**"
   ]
  },
  {
   "cell_type": "markdown",
   "metadata": {},
   "source": [
    "### Deep Learning Models\n",
    "\n",
    "**As we saw before, training on full text is way much better than training on preprocessed text. Therefore, we will train our deepl learning models on full text**\n",
    "\n",
    "**The only thing we are going to experiment with is the embedding layer. Other layers will stay the same. The best combination of layers in our opinion was found in the test_notebook.ipynb with the iteration method.**\n",
    "\n",
    "#### Recurrent Neural Networks (LSTM)\n",
    "\n",
    "##### Simple tensorflow Embedding"
   ]
  },
  {
   "cell_type": "code",
   "execution_count": 5,
   "metadata": {},
   "outputs": [
    {
     "name": "stderr",
     "output_type": "stream",
     "text": [
      "2024-04-05 21:45:31.734960: I tensorflow/core/platform/cpu_feature_guard.cc:182] This TensorFlow binary is optimized to use available CPU instructions in performance-critical operations.\n",
      "To enable the following instructions: AVX2 FMA, in other operations, rebuild TensorFlow with the appropriate compiler flags.\n"
     ]
    }
   ],
   "source": [
    "from DL_models import RNN, CNN"
   ]
  },
  {
   "cell_type": "code",
   "execution_count": 21,
   "metadata": {},
   "outputs": [
    {
     "name": "stdout",
     "output_type": "stream",
     "text": [
      "Attributes updated, use <self.X_train> etc. to use values\n",
      "Attributes updated, use <self.train_seq> etc. to use values\n",
      "Using basic embedding\n",
      "Model: \"sequential\"\n",
      "_________________________________________________________________\n",
      " Layer (type)                Output Shape              Param #   \n",
      "=================================================================\n",
      " embedding (Embedding)       (None, 500, 200)          2000000   \n",
      "                                                                 \n",
      " bidirectional (Bidirection  (None, 500, 256)          336896    \n",
      " al)                                                             \n",
      "                                                                 \n",
      " dropout (Dropout)           (None, 500, 256)          0         \n",
      "                                                                 \n",
      " global_max_pooling1d (Glob  (None, 256)               0         \n",
      " alMaxPooling1D)                                                 \n",
      "                                                                 \n",
      " dropout_1 (Dropout)         (None, 256)               0         \n",
      "                                                                 \n",
      " dense (Dense)               (None, 256)               65792     \n",
      "                                                                 \n",
      " dropout_2 (Dropout)         (None, 256)               0         \n",
      "                                                                 \n",
      " dense_1 (Dense)             (None, 128)               32896     \n",
      "                                                                 \n",
      " dropout_3 (Dropout)         (None, 128)               0         \n",
      "                                                                 \n",
      " dense_2 (Dense)             (None, 3)                 387       \n",
      "                                                                 \n",
      "=================================================================\n",
      "Total params: 2435971 (9.29 MB)\n",
      "Trainable params: 2435971 (9.29 MB)\n",
      "Non-trainable params: 0 (0.00 Byte)\n",
      "_________________________________________________________________\n",
      "None\n"
     ]
    }
   ],
   "source": [
    "lstm = RNN()\n",
    "lstm.train_test(full_ml, 'text', 'label_ids')\n",
    "lstm.tokenize()\n",
    "X_train, X_test, y_train, y_test = lstm.pad_and_label_preproc()\n",
    "lstm_model, early_stop = lstm.build_model(use_basic_embed=True)"
   ]
  },
  {
   "cell_type": "code",
   "execution_count": 22,
   "metadata": {},
   "outputs": [
    {
     "name": "stdout",
     "output_type": "stream",
     "text": [
      "Epoch 1/100\n",
      "85/85 [==============================] - 119s 1s/step - loss: 0.6983 - accuracy: 0.7518 - val_loss: 0.5247 - val_accuracy: 0.8358\n",
      "Epoch 2/100\n",
      "85/85 [==============================] - 108s 1s/step - loss: 0.4297 - accuracy: 0.8469 - val_loss: 0.5628 - val_accuracy: 0.8240\n",
      "Epoch 3/100\n",
      "85/85 [==============================] - 104s 1s/step - loss: 0.2811 - accuracy: 0.8976 - val_loss: 0.4063 - val_accuracy: 0.8565\n",
      "Epoch 4/100\n",
      "85/85 [==============================] - 101s 1s/step - loss: 0.2229 - accuracy: 0.9186 - val_loss: 0.3914 - val_accuracy: 0.8484\n",
      "Epoch 5/100\n",
      "85/85 [==============================] - 102s 1s/step - loss: 0.1572 - accuracy: 0.9554 - val_loss: 0.4059 - val_accuracy: 0.8373\n",
      "Epoch 6/100\n",
      "85/85 [==============================] - 103s 1s/step - loss: 0.1103 - accuracy: 0.9671 - val_loss: 0.3485 - val_accuracy: 0.8706\n",
      "Epoch 7/100\n",
      "85/85 [==============================] - 103s 1s/step - loss: 0.0769 - accuracy: 0.9765 - val_loss: 0.3854 - val_accuracy: 0.8772\n",
      "Epoch 8/100\n",
      "85/85 [==============================] - 105s 1s/step - loss: 0.0792 - accuracy: 0.9750 - val_loss: 0.3850 - val_accuracy: 0.8713\n",
      "Epoch 9/100\n",
      "85/85 [==============================] - 104s 1s/step - loss: 0.0562 - accuracy: 0.9806 - val_loss: 0.3822 - val_accuracy: 0.8617\n"
     ]
    },
    {
     "data": {
      "text/plain": [
       "<keras.src.callbacks.History at 0x14aebae90>"
      ]
     },
     "execution_count": 22,
     "metadata": {},
     "output_type": "execute_result"
    }
   ],
   "source": [
    "lstm_model.fit(X_train, y_train, batch_size=64,\n",
    "               epochs=100, callbacks=[early_stop], validation_data=(X_test,\n",
    "                                                                    y_test))"
   ]
  },
  {
   "cell_type": "code",
   "execution_count": 23,
   "metadata": {},
   "outputs": [
    {
     "data": {
      "text/plain": [
       "<Axes: >"
      ]
     },
     "execution_count": 23,
     "metadata": {},
     "output_type": "execute_result"
    },
    {
     "data": {
      "image/png": "[encoded data removed]",
      "text/plain": [
       "<Figure size 500x500 with 2 Axes>"
      ]
     },
     "metadata": {},
     "output_type": "display_data"
    }
   ],
   "source": [
    "fig, ax = plt.subplots(nrows=2, figsize=(5,5))\n",
    "data = pd.DataFrame(lstm_model.history.history)\n",
    "data[['loss', 'val_loss']].plot(ax=ax[0])\n",
    "data[['accuracy', 'val_accuracy']].plot(ax=ax[1])"
   ]
  },
  {
   "cell_type": "code",
   "execution_count": 24,
   "metadata": {},
   "outputs": [
    {
     "name": "stdout",
     "output_type": "stream",
     "text": [
      "43/43 [==============================] - 8s 164ms/step\n",
      "              precision    recall  f1-score   support\n",
      "\n",
      "           0       0.87      0.90      0.88       412\n",
      "           1       0.93      0.89      0.91       805\n",
      "           2       0.58      0.66      0.62       135\n",
      "\n",
      "    accuracy                           0.87      1352\n",
      "   macro avg       0.79      0.82      0.80      1352\n",
      "weighted avg       0.88      0.87      0.87      1352\n",
      "\n"
     ]
    }
   ],
   "source": [
    "lstm_preds = lstm_model.predict(X_test)\n",
    "print(classification_report(np.argmax(y_test, axis=1), np.argmax(lstm_preds, axis=1)))"
   ]
  },
  {
   "cell_type": "markdown",
   "metadata": {},
   "source": [
    "##### Using pretrained embeddings\n",
    "\n",
    "##### Google NNLM 50 Dimensions (German Language)\n",
    "\n",
    "**Token based text embeddings trained on various Google News datasets**"
   ]
  },
  {
   "cell_type": "code",
   "execution_count": 8,
   "metadata": {},
   "outputs": [],
   "source": [
    "import tensorflow_hub as hub\n",
    "import tensorflow as tf"
   ]
  },
  {
   "cell_type": "code",
   "execution_count": 53,
   "metadata": {},
   "outputs": [],
   "source": [
    "hub_layer_de_50 = hub.KerasLayer(\"https://www.kaggle.com/models/google/nnlm/frameworks/TensorFlow2/variations/de-dim50/versions/1\",\n",
    "                            dtype=tf.string, trainable=False, input_shape=[])\n",
    "hub_layer_de_128 = hub.KerasLayer(\"https://www.kaggle.com/models/google/nnlm/frameworks/TensorFlow2/variations/de-dim128/versions/1\",\n",
    "                            dtype=tf.string, trainable=False, input_shape=[])"
   ]
  },
  {
   "cell_type": "code",
   "execution_count": 54,
   "metadata": {},
   "outputs": [
    {
     "name": "stdout",
     "output_type": "stream",
     "text": [
      "Attributes updated, use <self.X_train> etc. to use values\n",
      "Model: \"sequential_14\"\n",
      "_________________________________________________________________\n",
      " Layer (type)                Output Shape              Param #   \n",
      "=================================================================\n",
      " keras_layer_8 (KerasLayer)  (None, 50)                48948250  \n",
      "                                                                 \n",
      " reshape_13 (Reshape)        (None, 1, 50)             0         \n",
      "                                                                 \n",
      " bidirectional (Bidirection  (None, 1, 256)            183296    \n",
      " al)                                                             \n",
      "                                                                 \n",
      " dropout_28 (Dropout)        (None, 1, 256)            0         \n",
      "                                                                 \n",
      " global_max_pooling1d_10 (G  (None, 256)               0         \n",
      " lobalMaxPooling1D)                                              \n",
      "                                                                 \n",
      " dropout_29 (Dropout)        (None, 256)               0         \n",
      "                                                                 \n",
      " dense_28 (Dense)            (None, 256)               65792     \n",
      "                                                                 \n",
      " dropout_30 (Dropout)        (None, 256)               0         \n",
      "                                                                 \n",
      " dense_29 (Dense)            (None, 128)               32896     \n",
      "                                                                 \n",
      " dropout_31 (Dropout)        (None, 128)               0         \n",
      "                                                                 \n",
      " dense_30 (Dense)            (None, 3)                 387       \n",
      "                                                                 \n",
      "=================================================================\n",
      "Total params: 49230621 (187.80 MB)\n",
      "Trainable params: 282371 (1.08 MB)\n",
      "Non-trainable params: 48948250 (186.72 MB)\n",
      "_________________________________________________________________\n",
      "None\n"
     ]
    }
   ],
   "source": [
    "lstm = RNN()\n",
    "lstm.embedding = hub_layer_de_50\n",
    "lstm.train_test(full_ml, 'text', 'label_ids')\n",
    "lstm_model, early_stop = lstm.build_model(use_basic_embed=False)"
   ]
  },
  {
   "cell_type": "code",
   "execution_count": 55,
   "metadata": {},
   "outputs": [
    {
     "name": "stdout",
     "output_type": "stream",
     "text": [
      "Epoch 1/100\n"
     ]
    },
    {
     "name": "stdout",
     "output_type": "stream",
     "text": [
      "169/169 - 8s - loss: 0.6558 - accuracy: 0.7587 - val_loss: 0.4659 - val_accuracy: 0.8284 - 8s/epoch - 45ms/step\n",
      "Epoch 2/100\n",
      "169/169 - 2s - loss: 0.4604 - accuracy: 0.8256 - val_loss: 0.4087 - val_accuracy: 0.8417 - 2s/epoch - 11ms/step\n",
      "Epoch 3/100\n",
      "169/169 - 2s - loss: 0.4244 - accuracy: 0.8351 - val_loss: 0.3707 - val_accuracy: 0.8476 - 2s/epoch - 11ms/step\n",
      "Epoch 4/100\n",
      "169/169 - 2s - loss: 0.4087 - accuracy: 0.8419 - val_loss: 0.3653 - val_accuracy: 0.8550 - 2s/epoch - 10ms/step\n",
      "Epoch 5/100\n",
      "169/169 - 2s - loss: 0.3807 - accuracy: 0.8534 - val_loss: 0.3576 - val_accuracy: 0.8587 - 2s/epoch - 11ms/step\n",
      "Epoch 6/100\n",
      "169/169 - 2s - loss: 0.3777 - accuracy: 0.8524 - val_loss: 0.3431 - val_accuracy: 0.8654 - 2s/epoch - 13ms/step\n",
      "Epoch 7/100\n",
      "169/169 - 2s - loss: 0.3675 - accuracy: 0.8600 - val_loss: 0.3438 - val_accuracy: 0.8646 - 2s/epoch - 9ms/step\n",
      "Epoch 8/100\n",
      "169/169 - 1s - loss: 0.3514 - accuracy: 0.8643 - val_loss: 0.3487 - val_accuracy: 0.8528 - 1s/epoch - 9ms/step\n",
      "Epoch 9/100\n",
      "169/169 - 2s - loss: 0.3519 - accuracy: 0.8650 - val_loss: 0.3294 - val_accuracy: 0.8683 - 2s/epoch - 12ms/step\n",
      "Epoch 10/100\n",
      "169/169 - 2s - loss: 0.3411 - accuracy: 0.8687 - val_loss: 0.3290 - val_accuracy: 0.8661 - 2s/epoch - 11ms/step\n",
      "Epoch 11/100\n",
      "169/169 - 2s - loss: 0.3438 - accuracy: 0.8693 - val_loss: 0.3226 - val_accuracy: 0.8654 - 2s/epoch - 10ms/step\n",
      "Epoch 12/100\n",
      "169/169 - 2s - loss: 0.3323 - accuracy: 0.8728 - val_loss: 0.3155 - val_accuracy: 0.8735 - 2s/epoch - 12ms/step\n",
      "Epoch 13/100\n",
      "169/169 - 2s - loss: 0.3312 - accuracy: 0.8763 - val_loss: 0.3108 - val_accuracy: 0.8780 - 2s/epoch - 11ms/step\n",
      "Epoch 14/100\n",
      "169/169 - 3s - loss: 0.3262 - accuracy: 0.8794 - val_loss: 0.3139 - val_accuracy: 0.8765 - 3s/epoch - 17ms/step\n",
      "Epoch 15/100\n",
      "169/169 - 2s - loss: 0.3238 - accuracy: 0.8774 - val_loss: 0.3010 - val_accuracy: 0.8891 - 2s/epoch - 15ms/step\n",
      "Epoch 16/100\n",
      "169/169 - 2s - loss: 0.3288 - accuracy: 0.8761 - val_loss: 0.3065 - val_accuracy: 0.8794 - 2s/epoch - 10ms/step\n",
      "Epoch 17/100\n",
      "169/169 - 2s - loss: 0.3090 - accuracy: 0.8822 - val_loss: 0.3010 - val_accuracy: 0.8831 - 2s/epoch - 10ms/step\n",
      "Epoch 18/100\n",
      "169/169 - 2s - loss: 0.3211 - accuracy: 0.8783 - val_loss: 0.3138 - val_accuracy: 0.8757 - 2s/epoch - 14ms/step\n"
     ]
    },
    {
     "data": {
      "text/plain": [
       "<keras.src.callbacks.History at 0x15e2fee90>"
      ]
     },
     "execution_count": 55,
     "metadata": {},
     "output_type": "execute_result"
    }
   ],
   "source": [
    "lstm_model.fit(lstm.X_train, y_train, epochs=100, verbose = 2,\n",
    "               callbacks=[early_stop], validation_data=(lstm.X_test, y_test))"
   ]
  },
  {
   "cell_type": "code",
   "execution_count": 56,
   "metadata": {},
   "outputs": [
    {
     "name": "stdout",
     "output_type": "stream",
     "text": [
      "43/43 [==============================] - 1s 5ms/step\n",
      "              precision    recall  f1-score   support\n",
      "\n",
      "           0       0.93      0.86      0.89       412\n",
      "           1       0.90      0.95      0.92       805\n",
      "           2       0.69      0.63      0.66       135\n",
      "\n",
      "    accuracy                           0.89      1352\n",
      "   macro avg       0.84      0.81      0.82      1352\n",
      "weighted avg       0.89      0.89      0.89      1352\n",
      "\n"
     ]
    }
   ],
   "source": [
    "lstm_preds = lstm_model.predict(lstm.X_test)\n",
    "print(classification_report(lstm.y_test, np.argmax(lstm_preds, axis=1)))"
   ]
  },
  {
   "cell_type": "markdown",
   "metadata": {},
   "source": [
    "##### Google NNLM 128 Dimensions (German Language)\n",
    "\n",
    "**Token based text embeddings trained on various Google News datasets**"
   ]
  },
  {
   "cell_type": "code",
   "execution_count": 57,
   "metadata": {},
   "outputs": [
    {
     "name": "stdout",
     "output_type": "stream",
     "text": [
      "Attributes updated, use <self.X_train> etc. to use values\n"
     ]
    },
    {
     "name": "stdout",
     "output_type": "stream",
     "text": [
      "Model: \"sequential_15\"\n",
      "_________________________________________________________________\n",
      " Layer (type)                Output Shape              Param #   \n",
      "=================================================================\n",
      " keras_layer_9 (KerasLayer)  (None, 128)               125307520 \n",
      "                                                                 \n",
      " reshape_14 (Reshape)        (None, 1, 128)            0         \n",
      "                                                                 \n",
      " bidirectional_1 (Bidirecti  (None, 1, 256)            263168    \n",
      " onal)                                                           \n",
      "                                                                 \n",
      " dropout_32 (Dropout)        (None, 1, 256)            0         \n",
      "                                                                 \n",
      " global_max_pooling1d_11 (G  (None, 256)               0         \n",
      " lobalMaxPooling1D)                                              \n",
      "                                                                 \n",
      " dropout_33 (Dropout)        (None, 256)               0         \n",
      "                                                                 \n",
      " dense_31 (Dense)            (None, 256)               65792     \n",
      "                                                                 \n",
      " dropout_34 (Dropout)        (None, 256)               0         \n",
      "                                                                 \n",
      " dense_32 (Dense)            (None, 128)               32896     \n",
      "                                                                 \n",
      " dropout_35 (Dropout)        (None, 128)               0         \n",
      "                                                                 \n",
      " dense_33 (Dense)            (None, 3)                 387       \n",
      "                                                                 \n",
      "=================================================================\n",
      "Total params: 125669763 (479.39 MB)\n",
      "Trainable params: 362243 (1.38 MB)\n",
      "Non-trainable params: 125307520 (478.01 MB)\n",
      "_________________________________________________________________\n",
      "None\n"
     ]
    }
   ],
   "source": [
    "lstm = RNN()\n",
    "lstm.embedding = hub_layer_de_128\n",
    "lstm.train_test(full_ml, 'text', 'label_ids')\n",
    "lstm_model, early_stop = lstm.build_model(use_basic_embed=False, reshape=128)"
   ]
  },
  {
   "cell_type": "code",
   "execution_count": 58,
   "metadata": {},
   "outputs": [
    {
     "name": "stdout",
     "output_type": "stream",
     "text": [
      "Epoch 1/100\n",
      "169/169 - 9s - loss: 0.6258 - accuracy: 0.7766 - val_loss: 0.4248 - val_accuracy: 0.8328 - 9s/epoch - 55ms/step\n",
      "Epoch 2/100\n",
      "169/169 - 2s - loss: 0.4441 - accuracy: 0.8364 - val_loss: 0.3852 - val_accuracy: 0.8491 - 2s/epoch - 13ms/step\n",
      "Epoch 3/100\n",
      "169/169 - 2s - loss: 0.4052 - accuracy: 0.8449 - val_loss: 0.3439 - val_accuracy: 0.8676 - 2s/epoch - 13ms/step\n",
      "Epoch 4/100\n",
      "169/169 - 2s - loss: 0.3742 - accuracy: 0.8585 - val_loss: 0.3471 - val_accuracy: 0.8550 - 2s/epoch - 12ms/step\n",
      "Epoch 5/100\n",
      "169/169 - 3s - loss: 0.3556 - accuracy: 0.8659 - val_loss: 0.3465 - val_accuracy: 0.8646 - 3s/epoch - 16ms/step\n",
      "Epoch 6/100\n",
      "169/169 - 2s - loss: 0.3553 - accuracy: 0.8632 - val_loss: 0.3107 - val_accuracy: 0.8735 - 2s/epoch - 14ms/step\n",
      "Epoch 7/100\n",
      "169/169 - 2s - loss: 0.3341 - accuracy: 0.8707 - val_loss: 0.2994 - val_accuracy: 0.8757 - 2s/epoch - 12ms/step\n",
      "Epoch 8/100\n",
      "169/169 - 2s - loss: 0.3335 - accuracy: 0.8724 - val_loss: 0.3406 - val_accuracy: 0.8602 - 2s/epoch - 10ms/step\n",
      "Epoch 9/100\n",
      "169/169 - 2s - loss: 0.3191 - accuracy: 0.8807 - val_loss: 0.2912 - val_accuracy: 0.8787 - 2s/epoch - 11ms/step\n",
      "Epoch 10/100\n",
      "169/169 - 2s - loss: 0.3180 - accuracy: 0.8774 - val_loss: 0.2964 - val_accuracy: 0.8743 - 2s/epoch - 10ms/step\n",
      "Epoch 11/100\n",
      "169/169 - 3s - loss: 0.3112 - accuracy: 0.8855 - val_loss: 0.2848 - val_accuracy: 0.8787 - 3s/epoch - 15ms/step\n",
      "Epoch 12/100\n",
      "169/169 - 3s - loss: 0.3073 - accuracy: 0.8837 - val_loss: 0.2832 - val_accuracy: 0.8854 - 3s/epoch - 17ms/step\n",
      "Epoch 13/100\n",
      "169/169 - 3s - loss: 0.2881 - accuracy: 0.8876 - val_loss: 0.2717 - val_accuracy: 0.8868 - 3s/epoch - 20ms/step\n",
      "Epoch 14/100\n",
      "169/169 - 2s - loss: 0.2871 - accuracy: 0.8937 - val_loss: 0.2727 - val_accuracy: 0.8854 - 2s/epoch - 12ms/step\n",
      "Epoch 15/100\n",
      "169/169 - 2s - loss: 0.2826 - accuracy: 0.8903 - val_loss: 0.2703 - val_accuracy: 0.8920 - 2s/epoch - 14ms/step\n",
      "Epoch 16/100\n",
      "169/169 - 3s - loss: 0.2844 - accuracy: 0.8929 - val_loss: 0.2716 - val_accuracy: 0.8898 - 3s/epoch - 15ms/step\n",
      "Epoch 17/100\n",
      "169/169 - 2s - loss: 0.2760 - accuracy: 0.8937 - val_loss: 0.2623 - val_accuracy: 0.8928 - 2s/epoch - 13ms/step\n",
      "Epoch 18/100\n",
      "169/169 - 2s - loss: 0.2787 - accuracy: 0.8952 - val_loss: 0.2818 - val_accuracy: 0.8905 - 2s/epoch - 11ms/step\n",
      "Epoch 19/100\n",
      "169/169 - 2s - loss: 0.2732 - accuracy: 0.9020 - val_loss: 0.2627 - val_accuracy: 0.8891 - 2s/epoch - 13ms/step\n",
      "Epoch 20/100\n",
      "169/169 - 3s - loss: 0.2708 - accuracy: 0.8985 - val_loss: 0.2657 - val_accuracy: 0.8942 - 3s/epoch - 16ms/step\n"
     ]
    },
    {
     "data": {
      "text/plain": [
       "<keras.src.callbacks.History at 0x15ee89a90>"
      ]
     },
     "execution_count": 58,
     "metadata": {},
     "output_type": "execute_result"
    }
   ],
   "source": [
    "lstm_model.fit(lstm.X_train, y_train, epochs=100, verbose=2,\n",
    "               callbacks=[early_stop], validation_data=(lstm.X_test, y_test))"
   ]
  },
  {
   "cell_type": "code",
   "execution_count": 59,
   "metadata": {},
   "outputs": [
    {
     "name": "stdout",
     "output_type": "stream",
     "text": [
      "43/43 [==============================] - 1s 5ms/step\n",
      "              precision    recall  f1-score   support\n",
      "\n",
      "           0       0.93      0.88      0.90       412\n",
      "           1       0.90      0.95      0.93       805\n",
      "           2       0.68      0.59      0.63       135\n",
      "\n",
      "    accuracy                           0.89      1352\n",
      "   macro avg       0.84      0.80      0.82      1352\n",
      "weighted avg       0.89      0.89      0.89      1352\n",
      "\n"
     ]
    }
   ],
   "source": [
    "lstm_preds = lstm_model.predict(lstm.X_test)\n",
    "print(classification_report(lstm.y_test, np.argmax(lstm_preds, axis=1)))"
   ]
  },
  {
   "cell_type": "markdown",
   "metadata": {},
   "source": [
    "#### Convolutional Neural Networks\n",
    "##### Simple tensorflow Embedding"
   ]
  },
  {
   "cell_type": "code",
   "execution_count": 13,
   "metadata": {},
   "outputs": [
    {
     "name": "stdout",
     "output_type": "stream",
     "text": [
      "Attributes updated, use <self.X_train> etc. to use values\n",
      "Attributes updated, use <self.train_seq> etc. to use values\n",
      "Using basic embedding\n",
      "Model: \"sequential_1\"\n",
      "_________________________________________________________________\n",
      " Layer (type)                Output Shape              Param #   \n",
      "=================================================================\n",
      " embedding (Embedding)       (None, 500, 200)          2000000   \n",
      "                                                                 \n",
      " dropout_2 (Dropout)         (None, 500, 200)          0         \n",
      "                                                                 \n",
      " conv1d_3 (Conv1D)           (None, 500, 128)          76928     \n",
      "                                                                 \n",
      " max_pooling1d (MaxPooling1  (None, 250, 128)          0         \n",
      " D)                                                              \n",
      "                                                                 \n",
      " conv1d_4 (Conv1D)           (None, 250, 64)           24640     \n",
      "                                                                 \n",
      " max_pooling1d_1 (MaxPoolin  (None, 125, 64)           0         \n",
      " g1D)                                                            \n",
      "                                                                 \n",
      " conv1d_5 (Conv1D)           (None, 125, 32)           6176      \n",
      "                                                                 \n",
      " max_pooling1d_2 (MaxPoolin  (None, 62, 32)            0         \n",
      " g1D)                                                            \n",
      "                                                                 \n",
      " flatten_1 (Flatten)         (None, 1984)              0         \n",
      "                                                                 \n",
      " dense_2 (Dense)             (None, 256)               508160    \n",
      "                                                                 \n",
      " dropout_3 (Dropout)         (None, 256)               0         \n",
      "                                                                 \n",
      " dense_3 (Dense)             (None, 3)                 771       \n",
      "                                                                 \n",
      "=================================================================\n",
      "Total params: 2616675 (9.98 MB)\n",
      "Trainable params: 2616675 (9.98 MB)\n",
      "Non-trainable params: 0 (0.00 Byte)\n",
      "_________________________________________________________________\n",
      "None\n"
     ]
    }
   ],
   "source": [
    "cnn = CNN()\n",
    "cnn.train_test(full_ml, 'text', 'label_ids')\n",
    "cnn.tokenize()\n",
    "X_train, X_test, y_train, y_test = cnn.pad_and_label_preproc()\n",
    "cnn_model, early_stop = cnn.build_model(use_basic_embed=True)"
   ]
  },
  {
   "cell_type": "code",
   "execution_count": 14,
   "metadata": {},
   "outputs": [
    {
     "name": "stdout",
     "output_type": "stream",
     "text": [
      "Epoch 1/100\n",
      "169/169 [==============================] - 33s 189ms/step - loss: 0.4736 - accuracy: 0.8097 - val_loss: 0.3515 - val_accuracy: 0.8536\n",
      "Epoch 2/100\n",
      "169/169 [==============================] - 30s 180ms/step - loss: 0.2781 - accuracy: 0.8964 - val_loss: 0.3264 - val_accuracy: 0.8661\n",
      "Epoch 3/100\n",
      "169/169 [==============================] - 28s 166ms/step - loss: 0.1642 - accuracy: 0.9482 - val_loss: 0.3318 - val_accuracy: 0.8706\n",
      "Epoch 4/100\n",
      "169/169 [==============================] - 26s 151ms/step - loss: 0.1054 - accuracy: 0.9663 - val_loss: 0.3836 - val_accuracy: 0.8624\n",
      "Epoch 5/100\n",
      "169/169 [==============================] - 25s 147ms/step - loss: 0.0702 - accuracy: 0.9763 - val_loss: 0.4642 - val_accuracy: 0.8861\n"
     ]
    },
    {
     "data": {
      "text/plain": [
       "<keras.src.callbacks.History at 0x152d7e5d0>"
      ]
     },
     "execution_count": 14,
     "metadata": {},
     "output_type": "execute_result"
    }
   ],
   "source": [
    "cnn_model.fit(X_train, y_train, epochs=100,\n",
    "               callbacks=[early_stop], validation_data=(X_test, y_test))"
   ]
  },
  {
   "cell_type": "code",
   "execution_count": 15,
   "metadata": {},
   "outputs": [
    {
     "name": "stdout",
     "output_type": "stream",
     "text": [
      "43/43 [==============================] - 1s 29ms/step\n",
      "              precision    recall  f1-score   support\n",
      "\n",
      "           0       0.95      0.79      0.86       412\n",
      "           1       0.90      0.95      0.93       805\n",
      "           2       0.50      0.58      0.54       135\n",
      "\n",
      "    accuracy                           0.87      1352\n",
      "   macro avg       0.78      0.77      0.78      1352\n",
      "weighted avg       0.87      0.87      0.87      1352\n",
      "\n"
     ]
    }
   ],
   "source": [
    "cnn_preds = cnn_model.predict(X_test)\n",
    "print(classification_report(cnn.y_test, np.argmax(cnn_preds, axis=1)))"
   ]
  },
  {
   "cell_type": "markdown",
   "metadata": {},
   "source": [
    "##### Google NNLM 50 Dimensions (German Language)\n",
    "\n",
    "**Token based text embeddings trained on various Google News datasets**"
   ]
  },
  {
   "cell_type": "code",
   "execution_count": 60,
   "metadata": {},
   "outputs": [
    {
     "name": "stdout",
     "output_type": "stream",
     "text": [
      "Attributes updated, use <self.X_train> etc. to use values\n",
      "Using custom embedding\n",
      "Model: \"sequential_16\"\n",
      "_________________________________________________________________\n",
      " Layer (type)                Output Shape              Param #   \n",
      "=================================================================\n",
      " keras_layer_8 (KerasLayer)  (None, 50)                48948250  \n",
      "                                                                 \n",
      " reshape_15 (Reshape)        (None, 1, 50)             0         \n",
      "                                                                 \n",
      " dropout_36 (Dropout)        (None, 1, 50)             0         \n",
      "                                                                 \n",
      " conv1d_42 (Conv1D)          (None, 1, 128)            19328     \n",
      "                                                                 \n",
      " conv1d_43 (Conv1D)          (None, 1, 64)             24640     \n",
      "                                                                 \n",
      " conv1d_44 (Conv1D)          (None, 1, 32)             6176      \n",
      "                                                                 \n",
      " flatten_14 (Flatten)        (None, 32)                0         \n",
      "                                                                 \n",
      " dense_34 (Dense)            (None, 256)               8448      \n",
      "                                                                 \n",
      " dropout_37 (Dropout)        (None, 256)               0         \n",
      "                                                                 \n",
      " dense_35 (Dense)            (None, 3)                 771       \n",
      "                                                                 \n",
      "=================================================================\n",
      "Total params: 49007613 (186.95 MB)\n",
      "Trainable params: 59363 (231.89 KB)\n",
      "Non-trainable params: 48948250 (186.72 MB)\n",
      "_________________________________________________________________\n",
      "None\n"
     ]
    }
   ],
   "source": [
    "cnn = CNN()\n",
    "cnn.embedding = hub_layer_de_50\n",
    "cnn.train_test(full_ml, 'text', 'label_ids')\n",
    "cnn_model, early_stop = cnn.build_model(use_basic_embed=False, reshape=50, add_globalmaxpool=False)"
   ]
  },
  {
   "cell_type": "code",
   "execution_count": 61,
   "metadata": {},
   "outputs": [
    {
     "name": "stdout",
     "output_type": "stream",
     "text": [
      "Epoch 1/100\n"
     ]
    },
    {
     "name": "stdout",
     "output_type": "stream",
     "text": [
      "169/169 - 3s - loss: 0.6535 - accuracy: 0.7568 - val_loss: 0.4679 - val_accuracy: 0.8254 - 3s/epoch - 18ms/step\n",
      "Epoch 2/100\n",
      "169/169 - 1s - loss: 0.4845 - accuracy: 0.8188 - val_loss: 0.4850 - val_accuracy: 0.8166 - 957ms/epoch - 6ms/step\n",
      "Epoch 3/100\n",
      "169/169 - 1s - loss: 0.4625 - accuracy: 0.8180 - val_loss: 0.4745 - val_accuracy: 0.8188 - 963ms/epoch - 6ms/step\n",
      "Epoch 4/100\n",
      "169/169 - 1s - loss: 0.4349 - accuracy: 0.8260 - val_loss: 0.4201 - val_accuracy: 0.8262 - 1s/epoch - 6ms/step\n",
      "Epoch 5/100\n",
      "169/169 - 1s - loss: 0.4285 - accuracy: 0.8245 - val_loss: 0.4478 - val_accuracy: 0.8277 - 966ms/epoch - 6ms/step\n",
      "Epoch 6/100\n",
      "169/169 - 1s - loss: 0.4221 - accuracy: 0.8328 - val_loss: 0.4419 - val_accuracy: 0.8284 - 986ms/epoch - 6ms/step\n",
      "Epoch 7/100\n",
      "169/169 - 1s - loss: 0.4205 - accuracy: 0.8258 - val_loss: 0.5188 - val_accuracy: 0.8084 - 1s/epoch - 7ms/step\n"
     ]
    },
    {
     "data": {
      "text/plain": [
       "<keras.src.callbacks.History at 0x1705f6050>"
      ]
     },
     "execution_count": 61,
     "metadata": {},
     "output_type": "execute_result"
    }
   ],
   "source": [
    "cnn_model.fit(cnn.X_train, y_train, epochs=100, verbose=2,\n",
    "               callbacks=[early_stop], validation_data=(cnn.X_test, y_test))"
   ]
  },
  {
   "cell_type": "code",
   "execution_count": 62,
   "metadata": {},
   "outputs": [
    {
     "name": "stdout",
     "output_type": "stream",
     "text": [
      "43/43 [==============================] - 0s 4ms/step\n",
      "              precision    recall  f1-score   support\n",
      "\n",
      "           0       0.95      0.77      0.85       412\n",
      "           1       0.79      0.98      0.88       805\n",
      "           2       0.44      0.05      0.09       135\n",
      "\n",
      "    accuracy                           0.83      1352\n",
      "   macro avg       0.73      0.60      0.61      1352\n",
      "weighted avg       0.80      0.83      0.79      1352\n",
      "\n"
     ]
    }
   ],
   "source": [
    "cnn_preds = cnn_model.predict(cnn.X_test)\n",
    "print(classification_report(cnn.y_test, np.argmax(cnn_preds, axis=1)))"
   ]
  },
  {
   "cell_type": "markdown",
   "metadata": {},
   "source": [
    "##### Google NNLM 128 Dimensions (German Language)\n",
    "\n",
    "**Token based text embeddings trained on various Google News datasets**"
   ]
  },
  {
   "cell_type": "code",
   "execution_count": 63,
   "metadata": {},
   "outputs": [
    {
     "name": "stdout",
     "output_type": "stream",
     "text": [
      "Attributes updated, use <self.X_train> etc. to use values\n",
      "Using custom embedding\n",
      "Model: \"sequential_17\"\n",
      "_________________________________________________________________\n",
      " Layer (type)                Output Shape              Param #   \n",
      "=================================================================\n",
      " keras_layer_9 (KerasLayer)  (None, 128)               125307520 \n",
      "                                                                 \n",
      " reshape_16 (Reshape)        (None, 1, 128)            0         \n",
      "                                                                 \n",
      " dropout_38 (Dropout)        (None, 1, 128)            0         \n",
      "                                                                 \n",
      " conv1d_45 (Conv1D)          (None, 1, 128)            49280     \n",
      "                                                                 \n",
      " conv1d_46 (Conv1D)          (None, 1, 64)             24640     \n",
      "                                                                 \n",
      " conv1d_47 (Conv1D)          (None, 1, 32)             6176      \n",
      "                                                                 \n",
      " flatten_15 (Flatten)        (None, 32)                0         \n",
      "                                                                 \n",
      " dense_36 (Dense)            (None, 256)               8448      \n",
      "                                                                 \n",
      " dropout_39 (Dropout)        (None, 256)               0         \n",
      "                                                                 \n",
      " dense_37 (Dense)            (None, 3)                 771       \n",
      "                                                                 \n",
      "=================================================================\n",
      "Total params: 125396835 (478.35 MB)\n",
      "Trainable params: 89315 (348.89 KB)\n",
      "Non-trainable params: 125307520 (478.01 MB)\n",
      "_________________________________________________________________\n",
      "None\n"
     ]
    }
   ],
   "source": [
    "cnn = CNN()\n",
    "cnn.embedding = hub_layer_de_128\n",
    "cnn.train_test(full_ml, 'text', 'label_ids')\n",
    "cnn_model, early_stop = cnn.build_model(use_basic_embed=False, reshape=128, add_globalmaxpool=False)"
   ]
  },
  {
   "cell_type": "code",
   "execution_count": 64,
   "metadata": {},
   "outputs": [
    {
     "name": "stdout",
     "output_type": "stream",
     "text": [
      "Epoch 1/100\n"
     ]
    },
    {
     "name": "stdout",
     "output_type": "stream",
     "text": [
      "169/169 - 3s - loss: 0.6343 - accuracy: 0.7844 - val_loss: 0.4409 - val_accuracy: 0.8291 - 3s/epoch - 20ms/step\n",
      "Epoch 2/100\n",
      "169/169 - 1s - loss: 0.4403 - accuracy: 0.8330 - val_loss: 0.4334 - val_accuracy: 0.8247 - 1s/epoch - 9ms/step\n",
      "Epoch 3/100\n",
      "169/169 - 1s - loss: 0.4079 - accuracy: 0.8397 - val_loss: 0.3556 - val_accuracy: 0.8491 - 1s/epoch - 8ms/step\n",
      "Epoch 4/100\n",
      "169/169 - 2s - loss: 0.3957 - accuracy: 0.8436 - val_loss: 0.3490 - val_accuracy: 0.8558 - 2s/epoch - 9ms/step\n",
      "Epoch 5/100\n",
      "169/169 - 1s - loss: 0.3776 - accuracy: 0.8545 - val_loss: 0.3766 - val_accuracy: 0.8528 - 1s/epoch - 6ms/step\n",
      "Epoch 6/100\n",
      "169/169 - 1s - loss: 0.3696 - accuracy: 0.8534 - val_loss: 0.3171 - val_accuracy: 0.8728 - 1s/epoch - 8ms/step\n",
      "Epoch 7/100\n",
      "169/169 - 1s - loss: 0.3686 - accuracy: 0.8536 - val_loss: 0.3401 - val_accuracy: 0.8698 - 1s/epoch - 6ms/step\n",
      "Epoch 8/100\n",
      "169/169 - 1s - loss: 0.3501 - accuracy: 0.8630 - val_loss: 0.3285 - val_accuracy: 0.8609 - 1s/epoch - 6ms/step\n",
      "Epoch 9/100\n",
      "169/169 - 2s - loss: 0.3391 - accuracy: 0.8654 - val_loss: 0.2901 - val_accuracy: 0.8846 - 2s/epoch - 9ms/step\n",
      "Epoch 10/100\n",
      "169/169 - 1s - loss: 0.3363 - accuracy: 0.8698 - val_loss: 0.2842 - val_accuracy: 0.8868 - 1s/epoch - 8ms/step\n",
      "Epoch 11/100\n",
      "169/169 - 1s - loss: 0.3298 - accuracy: 0.8761 - val_loss: 0.2855 - val_accuracy: 0.8824 - 1s/epoch - 6ms/step\n",
      "Epoch 12/100\n",
      "169/169 - 1s - loss: 0.3111 - accuracy: 0.8776 - val_loss: 0.3194 - val_accuracy: 0.8794 - 1s/epoch - 6ms/step\n",
      "Epoch 13/100\n",
      "169/169 - 2s - loss: 0.3102 - accuracy: 0.8839 - val_loss: 0.3309 - val_accuracy: 0.8654 - 2s/epoch - 9ms/step\n"
     ]
    },
    {
     "data": {
      "text/plain": [
       "<keras.src.callbacks.History at 0x17079a710>"
      ]
     },
     "execution_count": 64,
     "metadata": {},
     "output_type": "execute_result"
    }
   ],
   "source": [
    "cnn_model.fit(cnn.X_train, y_train, epochs=100, verbose=2,\n",
    "               callbacks=[early_stop], validation_data=(cnn.X_test, y_test))"
   ]
  },
  {
   "cell_type": "code",
   "execution_count": 65,
   "metadata": {},
   "outputs": [
    {
     "name": "stdout",
     "output_type": "stream",
     "text": [
      "43/43 [==============================] - 0s 5ms/step\n",
      "              precision    recall  f1-score   support\n",
      "\n",
      "           0       0.94      0.88      0.91       412\n",
      "           1       0.89      0.94      0.92       805\n",
      "           2       0.67      0.59      0.62       135\n",
      "\n",
      "    accuracy                           0.89      1352\n",
      "   macro avg       0.83      0.80      0.82      1352\n",
      "weighted avg       0.88      0.89      0.88      1352\n",
      "\n"
     ]
    }
   ],
   "source": [
    "cnn_preds = cnn_model.predict(cnn.X_test)\n",
    "print(classification_report(cnn.y_test, np.argmax(cnn_preds, axis=1)))"
   ]
  },
  {
   "cell_type": "markdown",
   "metadata": {},
   "source": [
    "##### 128 Dimensional Embedding Layer with Additional GlobalMaxPooling1D Layer"
   ]
  },
  {
   "cell_type": "code",
   "execution_count": 72,
   "metadata": {},
   "outputs": [
    {
     "name": "stdout",
     "output_type": "stream",
     "text": [
      "Attributes updated, use <self.X_train> etc. to use values\n",
      "Using custom embedding\n",
      "Model: \"sequential_21\"\n",
      "_________________________________________________________________\n",
      " Layer (type)                Output Shape              Param #   \n",
      "=================================================================\n",
      " keras_layer_9 (KerasLayer)  (None, 128)               125307520 \n",
      "                                                                 \n",
      " reshape_20 (Reshape)        (None, 1, 128)            0         \n",
      "                                                                 \n",
      " dropout_46 (Dropout)        (None, 1, 128)            0         \n",
      "                                                                 \n",
      " conv1d_57 (Conv1D)          (None, 1, 128)            49280     \n",
      "                                                                 \n",
      " conv1d_58 (Conv1D)          (None, 1, 64)             24640     \n",
      "                                                                 \n",
      " conv1d_59 (Conv1D)          (None, 1, 32)             6176      \n",
      "                                                                 \n",
      " global_max_pooling1d_15 (G  (None, 32)                0         \n",
      " lobalMaxPooling1D)                                              \n",
      "                                                                 \n",
      " flatten_19 (Flatten)        (None, 32)                0         \n",
      "                                                                 \n",
      " dense_44 (Dense)            (None, 256)               8448      \n",
      "                                                                 \n",
      " dropout_47 (Dropout)        (None, 256)               0         \n",
      "                                                                 \n",
      " dense_45 (Dense)            (None, 3)                 771       \n",
      "                                                                 \n",
      "=================================================================\n",
      "Total params: 125396835 (478.35 MB)\n",
      "Trainable params: 89315 (348.89 KB)\n",
      "Non-trainable params: 125307520 (478.01 MB)\n",
      "_________________________________________________________________\n",
      "None\n"
     ]
    },
    {
     "data": {
      "text/plain": [
       "<Axes: >"
      ]
     },
     "execution_count": 72,
     "metadata": {},
     "output_type": "execute_result"
    },
    {
     "data": {
      "image/png": "[encoded data removed]",
      "text/plain": [
       "<Figure size 500x500 with 2 Axes>"
      ]
     },
     "metadata": {},
     "output_type": "display_data"
    }
   ],
   "source": [
    "cnn = CNN()\n",
    "cnn.embedding = hub_layer_de_128\n",
    "cnn.train_test(full_ml, 'text', 'label_ids')\n",
    "cnn_model, early_stop = cnn.build_model(use_basic_embed=False, reshape=128, add_globalmaxpool=True)\n",
    "cnn_model.fit(cnn.X_train, y_train, epochs=100, verbose=0,\n",
    "               callbacks=[early_stop], validation_data=(cnn.X_test, y_test))\n",
    "fig, ax = plt.subplots(nrows=2, figsize=(5,5))\n",
    "data = pd.DataFrame(cnn_model.history.history)\n",
    "data[['loss', 'val_loss']].plot(ax=ax[0])\n",
    "data[['accuracy', 'val_accuracy']].plot(ax=ax[1])"
   ]
  },
  {
   "cell_type": "code",
   "execution_count": 73,
   "metadata": {},
   "outputs": [
    {
     "name": "stdout",
     "output_type": "stream",
     "text": [
      "43/43 [==============================] - 0s 4ms/step\n",
      "              precision    recall  f1-score   support\n",
      "\n",
      "           0       0.95      0.89      0.92       412\n",
      "           1       0.90      0.96      0.93       805\n",
      "           2       0.73      0.57      0.64       135\n",
      "\n",
      "    accuracy                           0.90      1352\n",
      "   macro avg       0.86      0.81      0.83      1352\n",
      "weighted avg       0.90      0.90      0.89      1352\n",
      "\n"
     ]
    }
   ],
   "source": [
    "cnn_preds = cnn_model.predict(cnn.X_test)\n",
    "print(classification_report(cnn.y_test, np.argmax(cnn_preds, axis=1)))"
   ]
  },
  {
   "cell_type": "markdown",
   "metadata": {},
   "source": [
    "##### Logistic Regression and Embeddings Integration\n",
    "\n",
    "**Because the Logistic Regression was the best model in the ML section and DL models with external embedding typically perform better, here we integrate the embedding layer with Logistic Regression to see if the results get better**"
   ]
  },
  {
   "cell_type": "code",
   "execution_count": 104,
   "metadata": {},
   "outputs": [],
   "source": [
    "# Define a custom transformer to integrate TensorFlow Hub with scikit-learn\n",
    "class TFHubEmbeddingTransformer():\n",
    "    def __init__(self, model_url):\n",
    "        self.model_url = model_url\n",
    "        self.embed = hub.load(model_url)\n",
    "\n",
    "    def transform(self, X):\n",
    "        return self.embed(X).numpy()\n",
    "\n",
    "model_url = \"https://www.kaggle.com/models/google/nnlm/frameworks/TensorFlow2/variations/de-dim128/versions/1\"\n",
    "\n",
    "transformer = TFHubEmbeddingTransformer(model_url=model_url)\n",
    "X_train_transformed = transformer.transform(cnn.X_train)\n",
    "X_test_transformed = transformer.transform(cnn.X_test)"
   ]
  },
  {
   "cell_type": "code",
   "execution_count": 105,
   "metadata": {},
   "outputs": [
    {
     "name": "stdout",
     "output_type": "stream",
     "text": [
      "              precision    recall  f1-score   support\n",
      "\n",
      "           0       0.91      0.86      0.88       412\n",
      "           1       0.87      0.95      0.91       805\n",
      "           2       0.65      0.38      0.48       135\n",
      "\n",
      "    accuracy                           0.87      1352\n",
      "   macro avg       0.81      0.73      0.76      1352\n",
      "weighted avg       0.86      0.87      0.86      1352\n",
      "\n"
     ]
    },
    {
     "name": "stderr",
     "output_type": "stream",
     "text": [
      "/Users/ibragimzhussup/anaconda3/lib/python3.11/site-packages/sklearn/linear_model/_sag.py:350: ConvergenceWarning: The max_iter was reached which means the coef_ did not converge\n",
      "  warnings.warn(\n"
     ]
    }
   ],
   "source": [
    "logreg = LogisticRegression(**lr_bestparams)\n",
    "logreg.fit(X_train_transformed, cnn.y_train)\n",
    "y_pred = logreg.predict(X_test_transformed)\n",
    "print(classification_report(cnn.y_test, y_pred))"
   ]
  },
  {
   "cell_type": "code",
   "execution_count": 111,
   "metadata": {},
   "outputs": [
    {
     "name": "stdout",
     "output_type": "stream",
     "text": [
      "              precision    recall  f1-score   support\n",
      "\n",
      "           0       0.87      0.88      0.87       412\n",
      "           1       0.92      0.94      0.93       805\n",
      "           2       0.77      0.66      0.71       135\n",
      "\n",
      "    accuracy                           0.89      1352\n",
      "   macro avg       0.86      0.83      0.84      1352\n",
      "weighted avg       0.89      0.89      0.89      1352\n",
      "\n"
     ]
    },
    {
     "name": "stderr",
     "output_type": "stream",
     "text": [
      "/Users/ibragimzhussup/anaconda3/lib/python3.11/site-packages/sklearn/linear_model/_sag.py:350: ConvergenceWarning: The max_iter was reached which means the coef_ did not converge\n",
      "  warnings.warn(\n"
     ]
    }
   ],
   "source": [
    "logreg = LogisticRegression(**lr_bestparams)\n",
    "logreg.fit(ml_modeling.X_train_vectorized, cnn.y_train)\n",
    "y_pred = logreg.predict(ml_modeling.X_test_vectorized)\n",
    "print(classification_report(cnn.y_test, y_pred))"
   ]
  },
  {
   "cell_type": "markdown",
   "metadata": {},
   "source": [
    "### LLM Section"
   ]
  },
  {
   "cell_type": "code",
   "execution_count": 113,
   "metadata": {},
   "outputs": [],
   "source": [
    "import pandas as pd\n",
    "import numpy as np\n",
    "from tqdm.auto import tqdm\n",
    "import tensorflow as tf\n",
    "from transformers import BertTokenizer"
   ]
  },
  {
   "cell_type": "code",
   "execution_count": 115,
   "metadata": {},
   "outputs": [
    {
     "data": {
      "application/vnd.jupyter.widget-view+json": {
       "model_id": "1fdb3b57e28d4c0c8d6424b6333e2988",
       "version_major": 2,
       "version_minor": 0
      },
      "text/plain": [
       "Downloading vocab.txt:   0%|          | 0.00/213k [00:00<?, ?B/s]"
      ]
     },
     "metadata": {},
     "output_type": "display_data"
    },
    {
     "data": {
      "application/vnd.jupyter.widget-view+json": {
       "model_id": "d98f8c12770d4e39bf99d6ae37487271",
       "version_major": 2,
       "version_minor": 0
      },
      "text/plain": [
       "Downloading tokenizer_config.json:   0%|          | 0.00/49.0 [00:00<?, ?B/s]"
      ]
     },
     "metadata": {},
     "output_type": "display_data"
    },
    {
     "data": {
      "application/vnd.jupyter.widget-view+json": {
       "model_id": "01e0ca0ef0c54e3d84c4a7f3d22360b9",
       "version_major": 2,
       "version_minor": 0
      },
      "text/plain": [
       "Downloading config.json:   0%|          | 0.00/570 [00:00<?, ?B/s]"
      ]
     },
     "metadata": {},
     "output_type": "display_data"
    }
   ],
   "source": [
    "tokenizer = BertTokenizer.from_pretrained('bert-base-cased')"
   ]
  },
  {
   "cell_type": "code",
   "execution_count": 124,
   "metadata": {},
   "outputs": [],
   "source": [
    "token = tokenizer.encode_plus(\n",
    "    full_ml['text'].iloc[0],\n",
    "    max_length = 500,\n",
    "    truncation=True,\n",
    "    padding ='max_length',\n",
    "    add_special_tokens=True,\n",
    "    return_tensors='tf'\n",
    ")"
   ]
  },
  {
   "cell_type": "code",
   "execution_count": 126,
   "metadata": {},
   "outputs": [],
   "source": [
    "X_input_ids = np.zeros((len(full_ml), 500))\n",
    "X_attn_masks = np.zeros((len(full_ml), 500))"
   ]
  },
  {
   "cell_type": "code",
   "execution_count": 127,
   "metadata": {},
   "outputs": [],
   "source": [
    "def generate_training_data(df, ids, masks, tokenizer):\n",
    "    for i, text in tqdm(enumerate(full_ml['text'])):\n",
    "        tokenized_text = tokenizer.encode_plus(\n",
    "            text,\n",
    "            max_length = 500,\n",
    "            truncation=True,\n",
    "            padding ='max_length',\n",
    "            add_special_tokens=True,\n",
    "            return_tensors='tf'\n",
    "        )\n",
    "        ids[i,:] = tokenized_text.input_ids\n",
    "        masks[i,:] = tokenized_text.attention_mask\n",
    "    return ids, masks"
   ]
  },
  {
   "cell_type": "code",
   "execution_count": 128,
   "metadata": {},
   "outputs": [
    {
     "data": {
      "application/vnd.jupyter.widget-view+json": {
       "model_id": "b1fdcb3e085649c1a0dc0f9696348b1e",
       "version_major": 2,
       "version_minor": 0
      },
      "text/plain": [
       "0it [00:00, ?it/s]"
      ]
     },
     "metadata": {},
     "output_type": "display_data"
    }
   ],
   "source": [
    "X_input_ids, X_attn_masks = generate_training_data(full_ml,\n",
    "                                                   X_input_ids,\n",
    "                                                   X_attn_masks,\n",
    "                                                   tokenizer)"
   ]
  },
  {
   "cell_type": "code",
   "execution_count": 135,
   "metadata": {},
   "outputs": [],
   "source": [
    "labels = np.zeros((len(full_ml), 3))\n",
    "labels[np.arange(len(full_ml)), full_ml['label_ids'].values] = 1"
   ]
  },
  {
   "cell_type": "code",
   "execution_count": 136,
   "metadata": {},
   "outputs": [],
   "source": [
    "dataset = tf.data.Dataset.from_tensor_slices((X_input_ids, X_attn_masks, labels))"
   ]
  },
  {
   "cell_type": "code",
   "execution_count": 137,
   "metadata": {},
   "outputs": [
    {
     "data": {
      "text/plain": [
       "<_TakeDataset element_spec=(TensorSpec(shape=(500,), dtype=tf.float64, name=None), TensorSpec(shape=(500,), dtype=tf.float64, name=None), TensorSpec(shape=(3,), dtype=tf.float64, name=None))>"
      ]
     },
     "execution_count": 137,
     "metadata": {},
     "output_type": "execute_result"
    }
   ],
   "source": [
    "dataset.take(1)"
   ]
  },
  {
   "cell_type": "code",
   "execution_count": 138,
   "metadata": {},
   "outputs": [],
   "source": [
    "dataset = dataset.shuffle(10000).batch(16, drop_remainder=True)"
   ]
  },
  {
   "cell_type": "code",
   "execution_count": 139,
   "metadata": {},
   "outputs": [],
   "source": [
    "p = 0.8\n",
    "train_size = int((len(full_ml)//16)*p)"
   ]
  },
  {
   "cell_type": "code",
   "execution_count": 141,
   "metadata": {},
   "outputs": [],
   "source": [
    "train_dataset = dataset.take(train_size)\n",
    "test_dataset = dataset.skip(train_size)"
   ]
  },
  {
   "cell_type": "code",
   "execution_count": 155,
   "metadata": {},
   "outputs": [],
   "source": [
    "def map_example_to_dict(input_ids, attention_masks, label):\n",
    "    return {\n",
    "        'input_ids': input_ids,\n",
    "        'attention_mask': attention_masks\n",
    "    }, label\n",
    "\n",
    "train_dataset = train_dataset.map(map_example_to_dict)\n",
    "test_dataset = test_dataset.map(map_example_to_dict)"
   ]
  },
  {
   "cell_type": "code",
   "execution_count": 156,
   "metadata": {},
   "outputs": [],
   "source": [
    "from transformers import TFBertModel"
   ]
  },
  {
   "cell_type": "code",
   "execution_count": 161,
   "metadata": {},
   "outputs": [
    {
     "name": "stderr",
     "output_type": "stream",
     "text": [
      "Some weights of the PyTorch model were not used when initializing the TF 2.0 model TFBertModel: ['cls.seq_relationship.weight', 'cls.predictions.transform.dense.bias', 'cls.predictions.transform.LayerNorm.bias', 'cls.predictions.bias', 'cls.predictions.transform.dense.weight', 'cls.predictions.transform.LayerNorm.weight', 'cls.seq_relationship.bias']\n",
      "- This IS expected if you are initializing TFBertModel from a PyTorch model trained on another task or with another architecture (e.g. initializing a TFBertForSequenceClassification model from a BertForPreTraining model).\n",
      "- This IS NOT expected if you are initializing TFBertModel from a PyTorch model that you expect to be exactly identical (e.g. initializing a TFBertForSequenceClassification model from a BertForSequenceClassification model).\n",
      "All the weights of TFBertModel were initialized from the PyTorch model.\n",
      "If your task is similar to the task the model of the checkpoint was trained on, you can already use TFBertModel for predictions without further training.\n"
     ]
    }
   ],
   "source": [
    "bert_model = TFBertModel.from_pretrained('bert-base-cased')\n",
    "bert_model.trainable = False"
   ]
  },
  {
   "cell_type": "code",
   "execution_count": 162,
   "metadata": {},
   "outputs": [
    {
     "name": "stdout",
     "output_type": "stream",
     "text": [
      "Model: \"model_5\"\n",
      "__________________________________________________________________________________________________\n",
      " Layer (type)                Output Shape                 Param #   Connected to                  \n",
      "==================================================================================================\n",
      " input_ids (InputLayer)      [(None, 500)]                0         []                            \n",
      "                                                                                                  \n",
      " attention_mask (InputLayer  [(None, 500)]                0         []                            \n",
      " )                                                                                                \n",
      "                                                                                                  \n",
      " bert (TFBertMainLayer)      TFBaseModelOutputWithPooli   1083102   ['input_ids[0][0]',           \n",
      "                             ngAndCrossAttentions(last_   72         'attention_mask[0][0]']      \n",
      "                             hidden_state=(None, 500, 7                                           \n",
      "                             68),                                                                 \n",
      "                              pooler_output=(None, 768)                                           \n",
      "                             , past_key_values=None, hi                                           \n",
      "                             dden_states=None, attentio                                           \n",
      "                             ns=None, cross_attentions=                                           \n",
      "                             None)                                                                \n",
      "                                                                                                  \n",
      " hidden_layer (Dense)        (None, 512)                  393728    ['bert[0][1]']                \n",
      "                                                                                                  \n",
      " output_layer (Dense)        (None, 3)                    1539      ['hidden_layer[0][0]']        \n",
      "                                                                                                  \n",
      "==================================================================================================\n",
      "Total params: 108705539 (414.68 MB)\n",
      "Trainable params: 395267 (1.51 MB)\n",
      "Non-trainable params: 108310272 (413.17 MB)\n",
      "__________________________________________________________________________________________________\n"
     ]
    }
   ],
   "source": [
    "input_ids = tf.keras.layers.Input(shape=(500,), name='input_ids', dtype='int32')\n",
    "attention_masks = tf.keras.layers.Input(shape=(500,), name='attention_mask', dtype='int32')\n",
    "\n",
    "bert_embds = bert_model.bert(input_ids, attention_mask=attention_masks)[1]\n",
    "hidden_layer = tf.keras.layers.Dense(512, activation = 'relu', name='hidden_layer')(bert_embds)\n",
    "output_layer = tf.keras.layers.Dense(3, activation ='softmax', name='output_layer')(hidden_layer)\n",
    "\n",
    "model = tf.keras.Model(inputs=[input_ids, attention_masks], outputs=output_layer)\n",
    "model.summary()"
   ]
  },
  {
   "cell_type": "code",
   "execution_count": 163,
   "metadata": {},
   "outputs": [],
   "source": [
    "optimizer = tf.keras.optimizers.Adam(learning_rate=0.001)\n",
    "loss_func = tf.keras.losses.CategoricalCrossentropy()\n",
    "acc = tf.keras.metrics.CategoricalAccuracy('accuracy')\n",
    "\n",
    "model.compile(optimizer=optimizer, loss=loss_func, metrics=[acc])"
   ]
  },
  {
   "cell_type": "code",
   "execution_count": 164,
   "metadata": {},
   "outputs": [
    {
     "name": "stdout",
     "output_type": "stream",
     "text": [
      "Epoch 1/3\n",
      "337/337 [==============================] - 5266s 16s/step - loss: 0.8753 - accuracy: 0.6161 - val_loss: 0.8362 - val_accuracy: 0.6051\n",
      "Epoch 2/3\n",
      "337/337 [==============================] - 4994s 15s/step - loss: 0.7630 - accuracy: 0.6500 - val_loss: 0.7981 - val_accuracy: 0.7015\n",
      "Epoch 3/3\n",
      "337/337 [==============================] - 4958s 15s/step - loss: 0.7446 - accuracy: 0.6625 - val_loss: 0.7367 - val_accuracy: 0.6640\n"
     ]
    }
   ],
   "source": [
    "hist = model.fit(train_dataset, validation_data=test_dataset, epochs=3)"
   ]
  },
  {
   "cell_type": "code",
   "execution_count": 165,
   "metadata": {},
   "outputs": [
    {
     "name": "stdout",
     "output_type": "stream",
     "text": [
      "INFO:tensorflow:Assets written to: finetuned_bert/assets\n"
     ]
    },
    {
     "name": "stderr",
     "output_type": "stream",
     "text": [
      "INFO:tensorflow:Assets written to: finetuned_bert/assets\n"
     ]
    }
   ],
   "source": [
    "model.save(\"finetuned_bert\")"
   ]
  },
  {
   "cell_type": "code",
   "execution_count": 167,
   "metadata": {},
   "outputs": [
    {
     "name": "stdout",
     "output_type": "stream",
     "text": [
      " 1/85 [..............................] - ETA: 16:03 - loss: 0.6978 - accuracy: 0.6875"
     ]
    },
    {
     "ename": "KeyboardInterrupt",
     "evalue": "",
     "output_type": "error",
     "traceback": [
      "\u001b[0;31m---------------------------------------------------------------------------\u001b[0m",
      "\u001b[0;31mKeyboardInterrupt\u001b[0m                         Traceback (most recent call last)",
      "Cell \u001b[0;32mIn[167], line 1\u001b[0m\n\u001b[0;32m----> 1\u001b[0m model\u001b[38;5;241m.\u001b[39mevaluate(test_dataset)\n",
      "File \u001b[0;32m~/anaconda3/lib/python3.11/site-packages/keras/src/utils/traceback_utils.py:65\u001b[0m, in \u001b[0;36mfilter_traceback.<locals>.error_handler\u001b[0;34m(*args, **kwargs)\u001b[0m\n\u001b[1;32m     63\u001b[0m filtered_tb \u001b[38;5;241m=\u001b[39m \u001b[38;5;28;01mNone\u001b[39;00m\n\u001b[1;32m     64\u001b[0m \u001b[38;5;28;01mtry\u001b[39;00m:\n\u001b[0;32m---> 65\u001b[0m     \u001b[38;5;28;01mreturn\u001b[39;00m fn(\u001b[38;5;241m*\u001b[39margs, \u001b[38;5;241m*\u001b[39m\u001b[38;5;241m*\u001b[39mkwargs)\n\u001b[1;32m     66\u001b[0m \u001b[38;5;28;01mexcept\u001b[39;00m \u001b[38;5;167;01mException\u001b[39;00m \u001b[38;5;28;01mas\u001b[39;00m e:\n\u001b[1;32m     67\u001b[0m     filtered_tb \u001b[38;5;241m=\u001b[39m _process_traceback_frames(e\u001b[38;5;241m.\u001b[39m__traceback__)\n",
      "File \u001b[0;32m~/anaconda3/lib/python3.11/site-packages/keras/src/engine/training.py:2272\u001b[0m, in \u001b[0;36mModel.evaluate\u001b[0;34m(self, x, y, batch_size, verbose, sample_weight, steps, callbacks, max_queue_size, workers, use_multiprocessing, return_dict, **kwargs)\u001b[0m\n\u001b[1;32m   2268\u001b[0m             \u001b[38;5;28;01mwith\u001b[39;00m tf\u001b[38;5;241m.\u001b[39mprofiler\u001b[38;5;241m.\u001b[39mexperimental\u001b[38;5;241m.\u001b[39mTrace(\n\u001b[1;32m   2269\u001b[0m                 \u001b[38;5;124m\"\u001b[39m\u001b[38;5;124mtest\u001b[39m\u001b[38;5;124m\"\u001b[39m, step_num\u001b[38;5;241m=\u001b[39mstep, _r\u001b[38;5;241m=\u001b[39m\u001b[38;5;241m1\u001b[39m\n\u001b[1;32m   2270\u001b[0m             ):\n\u001b[1;32m   2271\u001b[0m                 callbacks\u001b[38;5;241m.\u001b[39mon_test_batch_begin(step)\n\u001b[0;32m-> 2272\u001b[0m                 logs \u001b[38;5;241m=\u001b[39m test_function_runner\u001b[38;5;241m.\u001b[39mrun_step(\n\u001b[1;32m   2273\u001b[0m                     dataset_or_iterator,\n\u001b[1;32m   2274\u001b[0m                     data_handler,\n\u001b[1;32m   2275\u001b[0m                     step,\n\u001b[1;32m   2276\u001b[0m                     \u001b[38;5;28mself\u001b[39m\u001b[38;5;241m.\u001b[39m_pss_evaluation_shards,\n\u001b[1;32m   2277\u001b[0m                 )\n\u001b[1;32m   2279\u001b[0m logs \u001b[38;5;241m=\u001b[39m tf_utils\u001b[38;5;241m.\u001b[39msync_to_numpy_or_python_type(logs)\n\u001b[1;32m   2280\u001b[0m \u001b[38;5;66;03m# Override with model metrics instead of last step logs\u001b[39;00m\n",
      "File \u001b[0;32m~/anaconda3/lib/python3.11/site-packages/keras/src/engine/training.py:4079\u001b[0m, in \u001b[0;36m_TestFunction.run_step\u001b[0;34m(self, dataset_or_iterator, data_handler, step, unused_shards)\u001b[0m\n\u001b[1;32m   4078\u001b[0m \u001b[38;5;28;01mdef\u001b[39;00m \u001b[38;5;21mrun_step\u001b[39m(\u001b[38;5;28mself\u001b[39m, dataset_or_iterator, data_handler, step, unused_shards):\n\u001b[0;32m-> 4079\u001b[0m     tmp_logs \u001b[38;5;241m=\u001b[39m \u001b[38;5;28mself\u001b[39m\u001b[38;5;241m.\u001b[39m_function(dataset_or_iterator)\n\u001b[1;32m   4080\u001b[0m     \u001b[38;5;28;01mif\u001b[39;00m data_handler\u001b[38;5;241m.\u001b[39mshould_sync:\n\u001b[1;32m   4081\u001b[0m         context\u001b[38;5;241m.\u001b[39masync_wait()\n",
      "File \u001b[0;32m~/anaconda3/lib/python3.11/site-packages/tensorflow/python/util/traceback_utils.py:150\u001b[0m, in \u001b[0;36mfilter_traceback.<locals>.error_handler\u001b[0;34m(*args, **kwargs)\u001b[0m\n\u001b[1;32m    148\u001b[0m filtered_tb \u001b[38;5;241m=\u001b[39m \u001b[38;5;28;01mNone\u001b[39;00m\n\u001b[1;32m    149\u001b[0m \u001b[38;5;28;01mtry\u001b[39;00m:\n\u001b[0;32m--> 150\u001b[0m   \u001b[38;5;28;01mreturn\u001b[39;00m fn(\u001b[38;5;241m*\u001b[39margs, \u001b[38;5;241m*\u001b[39m\u001b[38;5;241m*\u001b[39mkwargs)\n\u001b[1;32m    151\u001b[0m \u001b[38;5;28;01mexcept\u001b[39;00m \u001b[38;5;167;01mException\u001b[39;00m \u001b[38;5;28;01mas\u001b[39;00m e:\n\u001b[1;32m    152\u001b[0m   filtered_tb \u001b[38;5;241m=\u001b[39m _process_traceback_frames(e\u001b[38;5;241m.\u001b[39m__traceback__)\n",
      "File \u001b[0;32m~/anaconda3/lib/python3.11/site-packages/tensorflow/python/eager/polymorphic_function/polymorphic_function.py:831\u001b[0m, in \u001b[0;36mFunction.__call__\u001b[0;34m(self, *args, **kwds)\u001b[0m\n\u001b[1;32m    828\u001b[0m compiler \u001b[38;5;241m=\u001b[39m \u001b[38;5;124m\"\u001b[39m\u001b[38;5;124mxla\u001b[39m\u001b[38;5;124m\"\u001b[39m \u001b[38;5;28;01mif\u001b[39;00m \u001b[38;5;28mself\u001b[39m\u001b[38;5;241m.\u001b[39m_jit_compile \u001b[38;5;28;01melse\u001b[39;00m \u001b[38;5;124m\"\u001b[39m\u001b[38;5;124mnonXla\u001b[39m\u001b[38;5;124m\"\u001b[39m\n\u001b[1;32m    830\u001b[0m \u001b[38;5;28;01mwith\u001b[39;00m OptionalXlaContext(\u001b[38;5;28mself\u001b[39m\u001b[38;5;241m.\u001b[39m_jit_compile):\n\u001b[0;32m--> 831\u001b[0m   result \u001b[38;5;241m=\u001b[39m \u001b[38;5;28mself\u001b[39m\u001b[38;5;241m.\u001b[39m_call(\u001b[38;5;241m*\u001b[39margs, \u001b[38;5;241m*\u001b[39m\u001b[38;5;241m*\u001b[39mkwds)\n\u001b[1;32m    833\u001b[0m new_tracing_count \u001b[38;5;241m=\u001b[39m \u001b[38;5;28mself\u001b[39m\u001b[38;5;241m.\u001b[39mexperimental_get_tracing_count()\n\u001b[1;32m    834\u001b[0m without_tracing \u001b[38;5;241m=\u001b[39m (tracing_count \u001b[38;5;241m==\u001b[39m new_tracing_count)\n",
      "File \u001b[0;32m~/anaconda3/lib/python3.11/site-packages/tensorflow/python/eager/polymorphic_function/polymorphic_function.py:876\u001b[0m, in \u001b[0;36mFunction._call\u001b[0;34m(self, *args, **kwds)\u001b[0m\n\u001b[1;32m    873\u001b[0m \u001b[38;5;28mself\u001b[39m\u001b[38;5;241m.\u001b[39m_lock\u001b[38;5;241m.\u001b[39mrelease()\n\u001b[1;32m    874\u001b[0m \u001b[38;5;66;03m# In this case we have not created variables on the first call. So we can\u001b[39;00m\n\u001b[1;32m    875\u001b[0m \u001b[38;5;66;03m# run the first trace but we should fail if variables are created.\u001b[39;00m\n\u001b[0;32m--> 876\u001b[0m results \u001b[38;5;241m=\u001b[39m tracing_compilation\u001b[38;5;241m.\u001b[39mcall_function(\n\u001b[1;32m    877\u001b[0m     args, kwds, \u001b[38;5;28mself\u001b[39m\u001b[38;5;241m.\u001b[39m_variable_creation_config\n\u001b[1;32m    878\u001b[0m )\n\u001b[1;32m    879\u001b[0m \u001b[38;5;28;01mif\u001b[39;00m \u001b[38;5;28mself\u001b[39m\u001b[38;5;241m.\u001b[39m_created_variables:\n\u001b[1;32m    880\u001b[0m   \u001b[38;5;28;01mraise\u001b[39;00m \u001b[38;5;167;01mValueError\u001b[39;00m(\u001b[38;5;124m\"\u001b[39m\u001b[38;5;124mCreating variables on a non-first call to a function\u001b[39m\u001b[38;5;124m\"\u001b[39m\n\u001b[1;32m    881\u001b[0m                    \u001b[38;5;124m\"\u001b[39m\u001b[38;5;124m decorated with tf.function.\u001b[39m\u001b[38;5;124m\"\u001b[39m)\n",
      "File \u001b[0;32m~/anaconda3/lib/python3.11/site-packages/tensorflow/python/eager/polymorphic_function/tracing_compilation.py:139\u001b[0m, in \u001b[0;36mcall_function\u001b[0;34m(args, kwargs, tracing_options)\u001b[0m\n\u001b[1;32m    137\u001b[0m bound_args \u001b[38;5;241m=\u001b[39m function\u001b[38;5;241m.\u001b[39mfunction_type\u001b[38;5;241m.\u001b[39mbind(\u001b[38;5;241m*\u001b[39margs, \u001b[38;5;241m*\u001b[39m\u001b[38;5;241m*\u001b[39mkwargs)\n\u001b[1;32m    138\u001b[0m flat_inputs \u001b[38;5;241m=\u001b[39m function\u001b[38;5;241m.\u001b[39mfunction_type\u001b[38;5;241m.\u001b[39munpack_inputs(bound_args)\n\u001b[0;32m--> 139\u001b[0m \u001b[38;5;28;01mreturn\u001b[39;00m function\u001b[38;5;241m.\u001b[39m_call_flat(  \u001b[38;5;66;03m# pylint: disable=protected-access\u001b[39;00m\n\u001b[1;32m    140\u001b[0m     flat_inputs, captured_inputs\u001b[38;5;241m=\u001b[39mfunction\u001b[38;5;241m.\u001b[39mcaptured_inputs\n\u001b[1;32m    141\u001b[0m )\n",
      "File \u001b[0;32m~/anaconda3/lib/python3.11/site-packages/tensorflow/python/eager/polymorphic_function/concrete_function.py:1264\u001b[0m, in \u001b[0;36mConcreteFunction._call_flat\u001b[0;34m(self, tensor_inputs, captured_inputs)\u001b[0m\n\u001b[1;32m   1260\u001b[0m possible_gradient_type \u001b[38;5;241m=\u001b[39m gradients_util\u001b[38;5;241m.\u001b[39mPossibleTapeGradientTypes(args)\n\u001b[1;32m   1261\u001b[0m \u001b[38;5;28;01mif\u001b[39;00m (possible_gradient_type \u001b[38;5;241m==\u001b[39m gradients_util\u001b[38;5;241m.\u001b[39mPOSSIBLE_GRADIENT_TYPES_NONE\n\u001b[1;32m   1262\u001b[0m     \u001b[38;5;129;01mand\u001b[39;00m executing_eagerly):\n\u001b[1;32m   1263\u001b[0m   \u001b[38;5;66;03m# No tape is watching; skip to running the function.\u001b[39;00m\n\u001b[0;32m-> 1264\u001b[0m   \u001b[38;5;28;01mreturn\u001b[39;00m \u001b[38;5;28mself\u001b[39m\u001b[38;5;241m.\u001b[39m_inference_function\u001b[38;5;241m.\u001b[39mflat_call(args)\n\u001b[1;32m   1265\u001b[0m forward_backward \u001b[38;5;241m=\u001b[39m \u001b[38;5;28mself\u001b[39m\u001b[38;5;241m.\u001b[39m_select_forward_and_backward_functions(\n\u001b[1;32m   1266\u001b[0m     args,\n\u001b[1;32m   1267\u001b[0m     possible_gradient_type,\n\u001b[1;32m   1268\u001b[0m     executing_eagerly)\n\u001b[1;32m   1269\u001b[0m forward_function, args_with_tangents \u001b[38;5;241m=\u001b[39m forward_backward\u001b[38;5;241m.\u001b[39mforward()\n",
      "File \u001b[0;32m~/anaconda3/lib/python3.11/site-packages/tensorflow/python/eager/polymorphic_function/atomic_function.py:217\u001b[0m, in \u001b[0;36mAtomicFunction.flat_call\u001b[0;34m(self, args)\u001b[0m\n\u001b[1;32m    215\u001b[0m \u001b[38;5;28;01mdef\u001b[39;00m \u001b[38;5;21mflat_call\u001b[39m(\u001b[38;5;28mself\u001b[39m, args: Sequence[core\u001b[38;5;241m.\u001b[39mTensor]) \u001b[38;5;241m-\u001b[39m\u001b[38;5;241m>\u001b[39m Any:\n\u001b[1;32m    216\u001b[0m \u001b[38;5;250m  \u001b[39m\u001b[38;5;124;03m\"\"\"Calls with tensor inputs and returns the structured output.\"\"\"\u001b[39;00m\n\u001b[0;32m--> 217\u001b[0m   flat_outputs \u001b[38;5;241m=\u001b[39m \u001b[38;5;28mself\u001b[39m(\u001b[38;5;241m*\u001b[39margs)\n\u001b[1;32m    218\u001b[0m   \u001b[38;5;28;01mreturn\u001b[39;00m \u001b[38;5;28mself\u001b[39m\u001b[38;5;241m.\u001b[39mfunction_type\u001b[38;5;241m.\u001b[39mpack_output(flat_outputs)\n",
      "File \u001b[0;32m~/anaconda3/lib/python3.11/site-packages/tensorflow/python/eager/polymorphic_function/atomic_function.py:252\u001b[0m, in \u001b[0;36mAtomicFunction.__call__\u001b[0;34m(self, *args)\u001b[0m\n\u001b[1;32m    250\u001b[0m \u001b[38;5;28;01mwith\u001b[39;00m record\u001b[38;5;241m.\u001b[39mstop_recording():\n\u001b[1;32m    251\u001b[0m   \u001b[38;5;28;01mif\u001b[39;00m \u001b[38;5;28mself\u001b[39m\u001b[38;5;241m.\u001b[39m_bound_context\u001b[38;5;241m.\u001b[39mexecuting_eagerly():\n\u001b[0;32m--> 252\u001b[0m     outputs \u001b[38;5;241m=\u001b[39m \u001b[38;5;28mself\u001b[39m\u001b[38;5;241m.\u001b[39m_bound_context\u001b[38;5;241m.\u001b[39mcall_function(\n\u001b[1;32m    253\u001b[0m         \u001b[38;5;28mself\u001b[39m\u001b[38;5;241m.\u001b[39mname,\n\u001b[1;32m    254\u001b[0m         \u001b[38;5;28mlist\u001b[39m(args),\n\u001b[1;32m    255\u001b[0m         \u001b[38;5;28mlen\u001b[39m(\u001b[38;5;28mself\u001b[39m\u001b[38;5;241m.\u001b[39mfunction_type\u001b[38;5;241m.\u001b[39mflat_outputs),\n\u001b[1;32m    256\u001b[0m     )\n\u001b[1;32m    257\u001b[0m   \u001b[38;5;28;01melse\u001b[39;00m:\n\u001b[1;32m    258\u001b[0m     outputs \u001b[38;5;241m=\u001b[39m make_call_op_in_graph(\n\u001b[1;32m    259\u001b[0m         \u001b[38;5;28mself\u001b[39m,\n\u001b[1;32m    260\u001b[0m         \u001b[38;5;28mlist\u001b[39m(args),\n\u001b[1;32m    261\u001b[0m         \u001b[38;5;28mself\u001b[39m\u001b[38;5;241m.\u001b[39m_bound_context\u001b[38;5;241m.\u001b[39mfunction_call_options\u001b[38;5;241m.\u001b[39mas_attrs(),\n\u001b[1;32m    262\u001b[0m     )\n",
      "File \u001b[0;32m~/anaconda3/lib/python3.11/site-packages/tensorflow/python/eager/context.py:1479\u001b[0m, in \u001b[0;36mContext.call_function\u001b[0;34m(self, name, tensor_inputs, num_outputs)\u001b[0m\n\u001b[1;32m   1477\u001b[0m cancellation_context \u001b[38;5;241m=\u001b[39m cancellation\u001b[38;5;241m.\u001b[39mcontext()\n\u001b[1;32m   1478\u001b[0m \u001b[38;5;28;01mif\u001b[39;00m cancellation_context \u001b[38;5;129;01mis\u001b[39;00m \u001b[38;5;28;01mNone\u001b[39;00m:\n\u001b[0;32m-> 1479\u001b[0m   outputs \u001b[38;5;241m=\u001b[39m execute\u001b[38;5;241m.\u001b[39mexecute(\n\u001b[1;32m   1480\u001b[0m       name\u001b[38;5;241m.\u001b[39mdecode(\u001b[38;5;124m\"\u001b[39m\u001b[38;5;124mutf-8\u001b[39m\u001b[38;5;124m\"\u001b[39m),\n\u001b[1;32m   1481\u001b[0m       num_outputs\u001b[38;5;241m=\u001b[39mnum_outputs,\n\u001b[1;32m   1482\u001b[0m       inputs\u001b[38;5;241m=\u001b[39mtensor_inputs,\n\u001b[1;32m   1483\u001b[0m       attrs\u001b[38;5;241m=\u001b[39mattrs,\n\u001b[1;32m   1484\u001b[0m       ctx\u001b[38;5;241m=\u001b[39m\u001b[38;5;28mself\u001b[39m,\n\u001b[1;32m   1485\u001b[0m   )\n\u001b[1;32m   1486\u001b[0m \u001b[38;5;28;01melse\u001b[39;00m:\n\u001b[1;32m   1487\u001b[0m   outputs \u001b[38;5;241m=\u001b[39m execute\u001b[38;5;241m.\u001b[39mexecute_with_cancellation(\n\u001b[1;32m   1488\u001b[0m       name\u001b[38;5;241m.\u001b[39mdecode(\u001b[38;5;124m\"\u001b[39m\u001b[38;5;124mutf-8\u001b[39m\u001b[38;5;124m\"\u001b[39m),\n\u001b[1;32m   1489\u001b[0m       num_outputs\u001b[38;5;241m=\u001b[39mnum_outputs,\n\u001b[0;32m   (...)\u001b[0m\n\u001b[1;32m   1493\u001b[0m       cancellation_manager\u001b[38;5;241m=\u001b[39mcancellation_context,\n\u001b[1;32m   1494\u001b[0m   )\n",
      "File \u001b[0;32m~/anaconda3/lib/python3.11/site-packages/tensorflow/python/eager/execute.py:60\u001b[0m, in \u001b[0;36mquick_execute\u001b[0;34m(op_name, num_outputs, inputs, attrs, ctx, name)\u001b[0m\n\u001b[1;32m     53\u001b[0m   \u001b[38;5;66;03m# Convert any objects of type core_types.Tensor to Tensor.\u001b[39;00m\n\u001b[1;32m     54\u001b[0m   inputs \u001b[38;5;241m=\u001b[39m [\n\u001b[1;32m     55\u001b[0m       tensor_conversion_registry\u001b[38;5;241m.\u001b[39mconvert(t)\n\u001b[1;32m     56\u001b[0m       \u001b[38;5;28;01mif\u001b[39;00m \u001b[38;5;28misinstance\u001b[39m(t, core_types\u001b[38;5;241m.\u001b[39mTensor)\n\u001b[1;32m     57\u001b[0m       \u001b[38;5;28;01melse\u001b[39;00m t\n\u001b[1;32m     58\u001b[0m       \u001b[38;5;28;01mfor\u001b[39;00m t \u001b[38;5;129;01min\u001b[39;00m inputs\n\u001b[1;32m     59\u001b[0m   ]\n\u001b[0;32m---> 60\u001b[0m   tensors \u001b[38;5;241m=\u001b[39m pywrap_tfe\u001b[38;5;241m.\u001b[39mTFE_Py_Execute(ctx\u001b[38;5;241m.\u001b[39m_handle, device_name, op_name,\n\u001b[1;32m     61\u001b[0m                                       inputs, attrs, num_outputs)\n\u001b[1;32m     62\u001b[0m \u001b[38;5;28;01mexcept\u001b[39;00m core\u001b[38;5;241m.\u001b[39m_NotOkStatusException \u001b[38;5;28;01mas\u001b[39;00m e:\n\u001b[1;32m     63\u001b[0m   \u001b[38;5;28;01mif\u001b[39;00m name \u001b[38;5;129;01mis\u001b[39;00m \u001b[38;5;129;01mnot\u001b[39;00m \u001b[38;5;28;01mNone\u001b[39;00m:\n",
      "\u001b[0;31mKeyboardInterrupt\u001b[0m: "
     ]
    }
   ],
   "source": [
    "model.evaluate(test_dataset)"
   ]
  },
  {
   "cell_type": "code",
   "execution_count": null,
   "metadata": {},
   "outputs": [],
   "source": []
  }
 ],
 "metadata": {
  "kernelspec": {
   "display_name": "base",
   "language": "python",
   "name": "python3"
  },
  "language_info": {
   "codemirror_mode": {
    "name": "ipython",
    "version": 3
   },
   "file_extension": ".py",
   "mimetype": "text/x-python",
   "name": "python",
   "nbconvert_exporter": "python",
   "pygments_lexer": "ipython3",
   "version": "3.11.7"
  }
 },
 "nbformat": 4,
 "nbformat_minor": 2
}
