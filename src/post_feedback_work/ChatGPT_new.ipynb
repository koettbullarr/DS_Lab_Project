{
 "cells": [
  {
   "cell_type": "code",
   "execution_count": null,
   "id": "17f50f7d-fcfe-464c-a72c-a91d73a124e0",
   "metadata": {},
   "outputs": [],
   "source": [
    "pip install openai==0.28"
   ]
  },
  {
   "cell_type": "code",
   "execution_count": 5,
   "id": "e803e7d8-aea2-425e-bf48-d48c665fd835",
   "metadata": {},
   "outputs": [],
   "source": [
    "import pandas as pd\n",
    "import numpy as np\n",
    "import sys\n",
    "sys.path.append(\"/Users/rolme/Documents/GitHub/DS_Lab_Project/src/modules\")\n",
    "from SECRETS import OPENAI_API_KEY\n",
    "from openAI import OpenAI\n",
    "from sklearn.model_selection import train_test_split\n",
    "from sklearn.metrics import accuracy_score, confusion_matrix\n",
    "from sklearn.metrics import precision_recall_fscore_support as score\n",
    "from sklearn.metrics import classification_report\n",
    "import matplotlib.pyplot as plt"
   ]
  },
  {
   "cell_type": "code",
   "execution_count": 6,
   "id": "443e6298-e224-4e69-a94b-5beb57461e32",
   "metadata": {},
   "outputs": [
    {
     "data": {
      "text/html": [
       "<div>\n",
       "<style scoped>\n",
       "    .dataframe tbody tr th:only-of-type {\n",
       "        vertical-align: middle;\n",
       "    }\n",
       "\n",
       "    .dataframe tbody tr th {\n",
       "        vertical-align: top;\n",
       "    }\n",
       "\n",
       "    .dataframe thead th {\n",
       "        text-align: right;\n",
       "    }\n",
       "</style>\n",
       "<table border=\"1\" class=\"dataframe\">\n",
       "  <thead>\n",
       "    <tr style=\"text-align: right;\">\n",
       "      <th></th>\n",
       "      <th>newlabels</th>\n",
       "      <th>text</th>\n",
       "      <th>unikey</th>\n",
       "      <th>word_count</th>\n",
       "      <th>token_count</th>\n",
       "    </tr>\n",
       "  </thead>\n",
       "  <tbody>\n",
       "    <tr>\n",
       "      <th>0</th>\n",
       "      <td>3</td>\n",
       "      <td>Die Rückkehr der PLO\\n\\nDer Krieg ist noch lan...</td>\n",
       "      <td>10204657208183514369</td>\n",
       "      <td>206</td>\n",
       "      <td>563</td>\n",
       "    </tr>\n",
       "    <tr>\n",
       "      <th>1</th>\n",
       "      <td>3</td>\n",
       "      <td>Sind Klimakleber gemeinnützig?\\n\\nDie Regierun...</td>\n",
       "      <td>2526031540661575257</td>\n",
       "      <td>396</td>\n",
       "      <td>1024</td>\n",
       "    </tr>\n",
       "    <tr>\n",
       "      <th>2</th>\n",
       "      <td>3</td>\n",
       "      <td>Ein teures Befriedigend\\n\\nÖsterreich kommt be...</td>\n",
       "      <td>16957518691286955469</td>\n",
       "      <td>362</td>\n",
       "      <td>1024</td>\n",
       "    </tr>\n",
       "    <tr>\n",
       "      <th>3</th>\n",
       "      <td>3</td>\n",
       "      <td>Klimagipfel auf Kollisionskurs\\n\\nWeder die EU...</td>\n",
       "      <td>4066950822119821616</td>\n",
       "      <td>404</td>\n",
       "      <td>1024</td>\n",
       "    </tr>\n",
       "    <tr>\n",
       "      <th>4</th>\n",
       "      <td>3</td>\n",
       "      <td>Was der Justiz fehlt\\n\\nDie BUWOG zeigt: Bei d...</td>\n",
       "      <td>11134605341473389507</td>\n",
       "      <td>392</td>\n",
       "      <td>1024</td>\n",
       "    </tr>\n",
       "  </tbody>\n",
       "</table>\n",
       "</div>"
      ],
      "text/plain": [
       "   newlabels                                               text  \\\n",
       "0          3  Die Rückkehr der PLO\\n\\nDer Krieg ist noch lan...   \n",
       "1          3  Sind Klimakleber gemeinnützig?\\n\\nDie Regierun...   \n",
       "2          3  Ein teures Befriedigend\\n\\nÖsterreich kommt be...   \n",
       "3          3  Klimagipfel auf Kollisionskurs\\n\\nWeder die EU...   \n",
       "4          3  Was der Justiz fehlt\\n\\nDie BUWOG zeigt: Bei d...   \n",
       "\n",
       "                 unikey  word_count  token_count  \n",
       "0  10204657208183514369         206          563  \n",
       "1   2526031540661575257         396         1024  \n",
       "2  16957518691286955469         362         1024  \n",
       "3   4066950822119821616         404         1024  \n",
       "4  11134605341473389507         392         1024  "
      ]
     },
     "execution_count": 6,
     "metadata": {},
     "output_type": "execute_result"
    }
   ],
   "source": [
    "df = pd.read_csv(\"../data/chatgpt_df.csv\")\n",
    "df.head()"
   ]
  },
  {
   "cell_type": "code",
   "execution_count": 7,
   "id": "eab28eb2-b05f-45c0-baea-d4e1d3594744",
   "metadata": {},
   "outputs": [],
   "source": [
    "gpt = OpenAI(SECRETS.OPENAI_API_KEY)"
   ]
  },
  {
   "cell_type": "code",
   "execution_count": 8,
   "id": "3d512e4d-73cc-4f3d-a3aa-94693a2cd92d",
   "metadata": {},
   "outputs": [],
   "source": [
    "df_sampled, _ = train_test_split(df, train_size=0.05, random_state=123)"
   ]
  },
  {
   "cell_type": "code",
   "execution_count": 10,
   "id": "d24c8b47-b5f6-46c1-ba66-aea6591e6bd7",
   "metadata": {},
   "outputs": [
    {
     "data": {
      "text/plain": [
       "<Axes: title={'center': 'sampled df'}, ylabel='count'>"
      ]
     },
     "execution_count": 10,
     "metadata": {},
     "output_type": "execute_result"
    },
    {
     "data": {
      "image/png": "[encoded data removed]",
      "text/plain": [
       "<Figure size 800x400 with 2 Axes>"
      ]
     },
     "metadata": {},
     "output_type": "display_data"
    }
   ],
   "source": [
    "fig, ax = plt.subplots(ncols = 2, figsize=(8,4))\n",
    "\n",
    "df['newlabels'].value_counts().plot(kind='pie', ax=ax[0], title=\"original df\")\n",
    "df_sampled['newlabels'].value_counts().plot(kind='pie', ax=ax[1], title=\"sampled df\")"
   ]
  },
  {
   "cell_type": "code",
   "execution_count": 11,
   "id": "6ab3527c-af95-40ca-8bff-901a859f526b",
   "metadata": {},
   "outputs": [
    {
     "data": {
      "text/plain": [
       "newlabels\n",
       "0    8499\n",
       "2     198\n",
       "1      93\n",
       "3      34\n",
       "Name: count, dtype: int64"
      ]
     },
     "execution_count": 11,
     "metadata": {},
     "output_type": "execute_result"
    }
   ],
   "source": [
    "label_counts = df_sampled['newlabels'].value_counts()\n",
    "label_counts"
   ]
  },
  {
   "cell_type": "code",
   "execution_count": 12,
   "id": "1427d94f-1404-475a-aabd-fcb6442afc4a",
   "metadata": {},
   "outputs": [],
   "source": [
    "def safe_classify(text):\n",
    "    try:\n",
    "        return gpt.classify_openai(text)\n",
    "    except Exception as e:\n",
    "        print(f\"Error classifying text: {text}. Error: {e}\")\n",
    "        return \"Error\"\n",
    "\n",
    "df_sampled['classification'] = df_sampled['text'].apply(safe_classify)"
   ]
  },
  {
   "cell_type": "code",
   "execution_count": 13,
   "id": "d981ddcb-666d-48d7-bcf0-c2312e45e855",
   "metadata": {},
   "outputs": [
    {
     "data": {
      "text/plain": [
       "classification\n",
       "0     5238\n",
       "3     2226\n",
       "1      868\n",
       "2      491\n",
       "1.       1\n",
       "Name: count, dtype: int64"
      ]
     },
     "execution_count": 13,
     "metadata": {},
     "output_type": "execute_result"
    }
   ],
   "source": [
    "label_counts = df_sampled['classification'].value_counts()\n",
    "label_counts"
   ]
  },
  {
   "cell_type": "code",
   "execution_count": 15,
   "id": "f3fba12b-9528-4aed-b16a-493807b7cfb1",
   "metadata": {},
   "outputs": [
    {
     "name": "stdout",
     "output_type": "stream",
     "text": [
      "              precision    recall  f1-score   support\n",
      "\n",
      "           0       1.00      0.62      0.76      8498\n",
      "           1       0.07      0.67      0.13        93\n",
      "           2       0.40      0.98      0.56       198\n",
      "           3       0.01      0.91      0.03        34\n",
      "\n",
      "    accuracy                           0.63      8823\n",
      "   macro avg       0.37      0.79      0.37      8823\n",
      "weighted avg       0.97      0.63      0.75      8823\n",
      "\n"
     ]
    }
   ],
   "source": [
    "# Ensure 'classification' and 'newlabels' are of the same type\n",
    "df_sampled['classification'] = df_sampled['classification'].astype(str)\n",
    "df_sampled['newlabels'] = df_sampled['newlabels'].astype(str)\n",
    "\n",
    "# Define valid labels\n",
    "valid_labels = {'0', '1', '2', '3'}\n",
    "\n",
    "# Filter out rows with invalid 'classification' labels\n",
    "df_sampled = df_sampled[df_sampled['classification'].isin(valid_labels)]\n",
    "\n",
    "# Generate the classification report\n",
    "report = classification_report(df_sampled['newlabels'], df_sampled['classification'], target_names=['0', '1', '2', '3'])\n",
    "\n",
    "# Print the classification report\n",
    "print(report)"
   ]
  },
  {
   "cell_type": "markdown",
   "id": "422d2310-d178-44aa-8599-d425f74eb7a5",
   "metadata": {},
   "source": [
    "#### Comparing gpt-3.5 with 4o"
   ]
  },
  {
   "cell_type": "code",
   "execution_count": 20,
   "id": "00222479-aaee-4ff9-82f6-ce54bc8ee954",
   "metadata": {},
   "outputs": [],
   "source": [
    "# Ensure 'newlabels' column is of type string\n",
    "df['newlabels'] = df['newlabels'].astype(str)\n",
    "\n",
    "# Define the number of samples per label\n",
    "num_samples_per_label = 250\n",
    "\n",
    "# Define a function to sample data for each label\n",
    "def sample_data(df, label, num_samples):\n",
    "    return df[df['newlabels'] == label].sample(n=num_samples, random_state=1)\n",
    "\n",
    "# Sample data for each label\n",
    "sampled_0 = sample_data(df, '0', num_samples_per_label)\n",
    "sampled_1 = sample_data(df, '1', num_samples_per_label)\n",
    "sampled_2 = sample_data(df, '2', num_samples_per_label)\n",
    "sampled_3 = sample_data(df, '3', num_samples_per_label)\n",
    "\n",
    "# Combine the sampled data\n",
    "compare_df = pd.concat([sampled_0, sampled_1, sampled_2, sampled_3])\n",
    "\n",
    "# Select only the 'newlabels' and 'text' columns\n",
    "compare_df = compare_df[['newlabels', 'text']]"
   ]
  },
  {
   "cell_type": "code",
   "execution_count": 22,
   "id": "9b325b64-0073-460d-80a2-1b27994329aa",
   "metadata": {},
   "outputs": [],
   "source": [
    "compare_df['classification35'] = compare_df['text'].apply(safe_classify)"
   ]
  },
  {
   "cell_type": "code",
   "execution_count": 29,
   "id": "17d48568-5744-4810-8d2c-8490d3ef6d0c",
   "metadata": {},
   "outputs": [],
   "source": [
    "def safe_classify2(text):\n",
    "    try:\n",
    "        return gpt.classify_openai_gpt4o(text)\n",
    "    except Exception as e:\n",
    "        print(f\"Error classifying text: {text}. Error: {e}\")\n",
    "        return \"Error\"\n",
    "\n",
    "compare_df['classification4o'] = compare_df['text'].apply(safe_classify2)"
   ]
  },
  {
   "cell_type": "code",
   "execution_count": 31,
   "id": "f209793a-ab14-463a-850d-a9aa35e70e1c",
   "metadata": {},
   "outputs": [
    {
     "name": "stdout",
     "output_type": "stream",
     "text": [
      "              precision    recall  f1-score   support\n",
      "\n",
      "           0       0.89      0.60      0.72       250\n",
      "           1       0.86      0.63      0.73       250\n",
      "           2       0.90      0.99      0.94       250\n",
      "           3       0.61      0.91      0.73       250\n",
      "\n",
      "    accuracy                           0.78      1000\n",
      "   macro avg       0.82      0.78      0.78      1000\n",
      "weighted avg       0.82      0.78      0.78      1000\n",
      "\n"
     ]
    }
   ],
   "source": [
    "# Ensure 'classification' and 'newlabels' are of the same type\n",
    "compare_df['classification35'] = compare_df['classification35'].astype(str)\n",
    "compare_df['classification4o'] = compare_df['classification4o'].astype(str)\n",
    "compare_df['newlabels'] = compare_df['newlabels'].astype(str)\n",
    "\n",
    "# Define valid labels\n",
    "valid_labels = {'0', '1', '2', '3'}\n",
    "\n",
    "# Filter out rows with invalid 'classification' labels\n",
    "compare_df_35 = compare_df[compare_df['classification35'].isin(valid_labels)]\n",
    "compare_df_4o = compare_df[compare_df['classification4o'].isin(valid_labels)]\n",
    "\n",
    "# Generate the classification report\n",
    "report_35 = classification_report(compare_df['newlabels'], compare_df_35['classification35'], target_names=['0', '1', '2', '3'])\n",
    "\n",
    "# Print the classification report\n",
    "print(report_35)"
   ]
  },
  {
   "cell_type": "code",
   "execution_count": 32,
   "id": "23b5bbea-2612-488f-82fa-60be15438ed4",
   "metadata": {},
   "outputs": [
    {
     "name": "stdout",
     "output_type": "stream",
     "text": [
      "              precision    recall  f1-score   support\n",
      "\n",
      "           0       0.78      0.91      0.84       250\n",
      "           1       0.93      0.81      0.87       250\n",
      "           2       0.87      1.00      0.93       250\n",
      "           3       0.91      0.74      0.82       250\n",
      "\n",
      "    accuracy                           0.86      1000\n",
      "   macro avg       0.87      0.86      0.86      1000\n",
      "weighted avg       0.87      0.86      0.86      1000\n",
      "\n"
     ]
    }
   ],
   "source": [
    "# Generate the classification report\n",
    "report_4o = classification_report(compare_df['newlabels'], compare_df_4o['classification4o'], target_names=['0', '1', '2', '3'])\n",
    "\n",
    "# Print the classification report\n",
    "print(report_4o)"
   ]
  },
  {
   "cell_type": "code",
   "execution_count": null,
   "id": "ffb43db7-f25a-4040-84fe-657b2c1bd8c5",
   "metadata": {},
   "outputs": [],
   "source": []
  }
 ],
 "metadata": {
  "kernelspec": {
   "display_name": "Python 3 (ipykernel)",
   "language": "python",
   "name": "python3"
  },
  "language_info": {
   "codemirror_mode": {
    "name": "ipython",
    "version": 3
   },
   "file_extension": ".py",
   "mimetype": "text/x-python",
   "name": "python",
   "nbconvert_exporter": "python",
   "pygments_lexer": "ipython3",
   "version": "3.10.14"
  }
 },
 "nbformat": 4,
 "nbformat_minor": 5
}
