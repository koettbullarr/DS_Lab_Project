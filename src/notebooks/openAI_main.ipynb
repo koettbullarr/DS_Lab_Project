{
 "cells": [
  {
   "cell_type": "code",
   "execution_count": 1,
   "id": "b14ff058",
   "metadata": {
    "scrolled": true
   },
   "outputs": [
    {
     "name": "stdout",
     "output_type": "stream",
     "text": [
      "Requirement already satisfied: openai==0.28 in /Users/ibragimzhussup/anaconda3/lib/python3.11/site-packages (0.28.0)\n",
      "Requirement already satisfied: requests>=2.20 in /Users/ibragimzhussup/anaconda3/lib/python3.11/site-packages (from openai==0.28) (2.31.0)\n",
      "Requirement already satisfied: tqdm in /Users/ibragimzhussup/anaconda3/lib/python3.11/site-packages (from openai==0.28) (4.65.0)\n",
      "Requirement already satisfied: aiohttp in /Users/ibragimzhussup/anaconda3/lib/python3.11/site-packages (from openai==0.28) (3.9.0)\n",
      "Requirement already satisfied: charset-normalizer<4,>=2 in /Users/ibragimzhussup/anaconda3/lib/python3.11/site-packages (from requests>=2.20->openai==0.28) (3.3.2)\n",
      "Requirement already satisfied: idna<4,>=2.5 in /Users/ibragimzhussup/anaconda3/lib/python3.11/site-packages (from requests>=2.20->openai==0.28) (3.6)\n",
      "Requirement already satisfied: urllib3<3,>=1.21.1 in /Users/ibragimzhussup/anaconda3/lib/python3.11/site-packages (from requests>=2.20->openai==0.28) (2.1.0)\n",
      "Requirement already satisfied: certifi>=2017.4.17 in /Users/ibragimzhussup/anaconda3/lib/python3.11/site-packages (from requests>=2.20->openai==0.28) (2023.11.17)\n",
      "Requirement already satisfied: attrs>=17.3.0 in /Users/ibragimzhussup/anaconda3/lib/python3.11/site-packages (from aiohttp->openai==0.28) (23.1.0)\n",
      "Requirement already satisfied: multidict<7.0,>=4.5 in /Users/ibragimzhussup/anaconda3/lib/python3.11/site-packages (from aiohttp->openai==0.28) (6.0.4)\n",
      "Requirement already satisfied: yarl<2.0,>=1.0 in /Users/ibragimzhussup/anaconda3/lib/python3.11/site-packages (from aiohttp->openai==0.28) (1.9.3)\n",
      "Requirement already satisfied: frozenlist>=1.1.1 in /Users/ibragimzhussup/anaconda3/lib/python3.11/site-packages (from aiohttp->openai==0.28) (1.4.0)\n",
      "Requirement already satisfied: aiosignal>=1.1.2 in /Users/ibragimzhussup/anaconda3/lib/python3.11/site-packages (from aiohttp->openai==0.28) (1.2.0)\n",
      "Note: you may need to restart the kernel to use updated packages.\n"
     ]
    }
   ],
   "source": [
    "pip install openai==0.28\n",
    "import SECRETS"
   ]
  },
  {
   "cell_type": "code",
   "execution_count": 5,
   "id": "2679140c",
   "metadata": {},
   "outputs": [],
   "source": [
    "import pandas as pd\n",
    "from openAI import OpenAI  # Adjust the import statement according to your project structure\n",
    "\n",
    "# Initializing the OpenAI classifier with APA API key\n",
    "classifier = OpenAI(SECRETS.API_KEY)\n",
    "\n",
    "# Loading the sampled data CSV, constaining 250 text samples from every label\n",
    "df = pd.read_csv('sampled_data.csv')"
   ]
  },
  {
   "cell_type": "code",
   "execution_count": 7,
   "id": "09b12c35",
   "metadata": {},
   "outputs": [],
   "source": [
    "# Function to safely classify text and handle potential errors\n",
    "def safe_classify(text):\n",
    "    try:\n",
    "        return classifier.classify_openai(text)\n",
    "    except Exception as e:\n",
    "        print(f\"Error classifying text: {text}. Error: {e}\")\n",
    "        return \"Error\"  # Return a default or error indicator\n",
    "\n",
    "# Apply the classification function to each text in the DataFrame\n",
    "df['classification'] = df['text'].apply(safe_classify)"
   ]
  },
  {
   "cell_type": "code",
   "execution_count": 5,
   "id": "a6d59d51",
   "metadata": {},
   "outputs": [],
   "source": [
    "# Saving the updated DataFrame back to CSV\n",
    "df.to_csv('classified_data35.csv', index=False)"
   ]
  },
  {
   "cell_type": "code",
   "execution_count": 6,
   "id": "0e80b361",
   "metadata": {},
   "outputs": [
    {
     "data": {
      "text/html": [
       "<div>\n",
       "<style scoped>\n",
       "    .dataframe tbody tr th:only-of-type {\n",
       "        vertical-align: middle;\n",
       "    }\n",
       "\n",
       "    .dataframe tbody tr th {\n",
       "        vertical-align: top;\n",
       "    }\n",
       "\n",
       "    .dataframe thead th {\n",
       "        text-align: right;\n",
       "    }\n",
       "</style>\n",
       "<table border=\"1\" class=\"dataframe\">\n",
       "  <thead>\n",
       "    <tr style=\"text-align: right;\">\n",
       "      <th></th>\n",
       "      <th>newlabels</th>\n",
       "      <th>text</th>\n",
       "      <th>unikey</th>\n",
       "      <th>classification</th>\n",
       "    </tr>\n",
       "  </thead>\n",
       "  <tbody>\n",
       "    <tr>\n",
       "      <th>0</th>\n",
       "      <td>0</td>\n",
       "      <td>Baustelle beendet: Die U4 fährt wieder durch V...</td>\n",
       "      <td>6053033342970432378</td>\n",
       "      <td>0</td>\n",
       "    </tr>\n",
       "    <tr>\n",
       "      <th>1</th>\n",
       "      <td>0</td>\n",
       "      <td>Das ist der neue Albertina-Chef Ralph Gleis wi...</td>\n",
       "      <td>7940722851744635373</td>\n",
       "      <td>3</td>\n",
       "    </tr>\n",
       "    <tr>\n",
       "      <th>2</th>\n",
       "      <td>0</td>\n",
       "      <td>Ein Fußbad mit Thymian Vorbeugend gegen Infekt...</td>\n",
       "      <td>15362306225343275194</td>\n",
       "      <td>3</td>\n",
       "    </tr>\n",
       "    <tr>\n",
       "      <th>3</th>\n",
       "      <td>0</td>\n",
       "      <td>Immer mehr künstliche Intelligenz im Alltag:.....</td>\n",
       "      <td>2260202472747209338</td>\n",
       "      <td>3</td>\n",
       "    </tr>\n",
       "    <tr>\n",
       "      <th>4</th>\n",
       "      <td>0</td>\n",
       "      <td>gefunden wurde dieser junge Amstaff-Rüde in Gu...</td>\n",
       "      <td>1217519113130961336</td>\n",
       "      <td>0 (keine dieser Kategorien)</td>\n",
       "    </tr>\n",
       "  </tbody>\n",
       "</table>\n",
       "</div>"
      ],
      "text/plain": [
       "   newlabels                                               text  \\\n",
       "0          0  Baustelle beendet: Die U4 fährt wieder durch V...   \n",
       "1          0  Das ist der neue Albertina-Chef Ralph Gleis wi...   \n",
       "2          0  Ein Fußbad mit Thymian Vorbeugend gegen Infekt...   \n",
       "3          0  Immer mehr künstliche Intelligenz im Alltag:.....   \n",
       "4          0  gefunden wurde dieser junge Amstaff-Rüde in Gu...   \n",
       "\n",
       "                 unikey               classification  \n",
       "0   6053033342970432378                            0  \n",
       "1   7940722851744635373                            3  \n",
       "2  15362306225343275194                            3  \n",
       "3   2260202472747209338                            3  \n",
       "4   1217519113130961336  0 (keine dieser Kategorien)  "
      ]
     },
     "execution_count": 6,
     "metadata": {},
     "output_type": "execute_result"
    }
   ],
   "source": [
    "df.head()"
   ]
  },
  {
   "cell_type": "code",
   "execution_count": 4,
   "id": "82b639a5",
   "metadata": {},
   "outputs": [
    {
     "data": {
      "text/plain": [
       "classification\n",
       "3                                                                                         622\n",
       "0                                                                                         194\n",
       "1                                                                                          76\n",
       "2                                                                                          65\n",
       "Kommentar                                                                                  26\n",
       "Dieser Text gehört zur Kategorie 'Kommentar' (3).                                           2\n",
       "Das ist ein Interview.                                                                      2\n",
       "1.                                                                                          1\n",
       "Kommentar.                                                                                  1\n",
       "Leserbriefe                                                                                 1\n",
       "Das ist ein Leserbrief (2).                                                                 1\n",
       "Dieser Text gehört in die Kategorie '2' - Leserbrief.                                       1\n",
       "Die Kategorie ist '2' (Leserbriefe).                                                        1\n",
       "Dieser Text ist ein Interview.                                                              1\n",
       "Dieser Text ist ein Kommentar.                                                              1\n",
       "Das ist kein Interview, kein Leserbrief und auch kein Kommentar. Bitte wählen Sie '0'.      1\n",
       "Dieser Text könnte als Interview kategorisiert werden (1).                                  1\n",
       "Das ist kein Interview.                                                                     1\n",
       "0 (keine dieser Kategorien)                                                                 1\n",
       "Das ist ein Kommentar.                                                                      1\n",
       "Name: count, dtype: int64"
      ]
     },
     "execution_count": 4,
     "metadata": {},
     "output_type": "execute_result"
    }
   ],
   "source": [
    "#checking labels returned from chatGPT, there are some reply exclusions\n",
    "label_counts = df['classification'].value_counts()\n",
    "label_counts"
   ]
  },
  {
   "cell_type": "code",
   "execution_count": 10,
   "id": "2efc51fd",
   "metadata": {},
   "outputs": [],
   "source": [
    "#setting function for cleaning dataset from reply exclusions\n",
    "def clean_classification(value):\n",
    "    valid_classifications = {'0', '1', '2', '3'}  # Set of valid classification values\n",
    "    if value.strip() in valid_classifications:\n",
    "        return value.strip()\n",
    "    else:\n",
    "        return 'Invalid'\n",
    "\n",
    "# Apply this function to the dataset\n",
    "df['classification'] = df['classification'].apply(clean_classification)"
   ]
  },
  {
   "cell_type": "code",
   "execution_count": 9,
   "id": "582661f7",
   "metadata": {},
   "outputs": [
    {
     "data": {
      "text/plain": [
       "classification\n",
       "3          622\n",
       "0          194\n",
       "1           76\n",
       "2           65\n",
       "Invalid     43\n",
       "Name: count, dtype: int64"
      ]
     },
     "execution_count": 9,
     "metadata": {},
     "output_type": "execute_result"
    }
   ],
   "source": [
    "label_counts = df['classification'].value_counts()\n",
    "label_counts"
   ]
  },
  {
   "cell_type": "code",
   "execution_count": 10,
   "id": "4674ccf6",
   "metadata": {},
   "outputs": [],
   "source": [
    "# Removing all rows where 'classification' is 'Invalid'\n",
    "df = df[df['classification'] != 'Invalid']"
   ]
  },
  {
   "cell_type": "code",
   "execution_count": 11,
   "id": "a46e116c",
   "metadata": {},
   "outputs": [
    {
     "data": {
      "text/plain": [
       "classification\n",
       "3    622\n",
       "0    194\n",
       "1     76\n",
       "2     65\n",
       "Name: count, dtype: int64"
      ]
     },
     "execution_count": 11,
     "metadata": {},
     "output_type": "execute_result"
    }
   ],
   "source": [
    "label_counts = df['classification'].value_counts()\n",
    "label_counts"
   ]
  },
  {
   "cell_type": "code",
   "execution_count": 12,
   "id": "eb6887f7",
   "metadata": {},
   "outputs": [
    {
     "name": "stdout",
     "output_type": "stream",
     "text": [
      "Requirement already satisfied: scikit-learn in c:\\anaconda\\lib\\site-packages (1.3.0)\n",
      "Requirement already satisfied: numpy>=1.17.3 in c:\\anaconda\\lib\\site-packages (from scikit-learn) (1.24.3)\n",
      "Requirement already satisfied: scipy>=1.5.0 in c:\\anaconda\\lib\\site-packages (from scikit-learn) (1.11.1)\n",
      "Requirement already satisfied: joblib>=1.1.1 in c:\\anaconda\\lib\\site-packages (from scikit-learn) (1.2.0)\n",
      "Requirement already satisfied: threadpoolctl>=2.0.0 in c:\\anaconda\\lib\\site-packages (from scikit-learn) (2.2.0)\n",
      "Note: you may need to restart the kernel to use updated packages.\n"
     ]
    }
   ],
   "source": [
    "pip install scikit-learn"
   ]
  },
  {
   "cell_type": "code",
   "execution_count": 13,
   "id": "88a3ad2f",
   "metadata": {},
   "outputs": [],
   "source": [
    "df.to_csv('classified_data35_clean.csv', index=False)"
   ]
  },
  {
   "cell_type": "code",
   "execution_count": 12,
   "id": "626587a3",
   "metadata": {},
   "outputs": [],
   "source": [
    "from sklearn.metrics import accuracy_score, precision_recall_fscore_support, confusion_matrix\n",
    "import pandas as pd"
   ]
  },
  {
   "cell_type": "code",
   "execution_count": 2,
   "id": "acae2645",
   "metadata": {},
   "outputs": [],
   "source": [
    "df = pd.read_csv('classified_data35_clean.csv')"
   ]
  },
  {
   "cell_type": "code",
   "execution_count": 3,
   "id": "6a3aa01e",
   "metadata": {},
   "outputs": [],
   "source": [
    "df['newlabels'] = df['newlabels'].astype(str)\n",
    "df['classification'] = df['classification'].astype(str)"
   ]
  },
  {
   "cell_type": "code",
   "execution_count": 4,
   "id": "d803b592",
   "metadata": {},
   "outputs": [
    {
     "name": "stdout",
     "output_type": "stream",
     "text": [
      "Accuracy: 0.477533960292581\n"
     ]
    }
   ],
   "source": [
    "# Calculating accuracy\n",
    "accuracy = accuracy_score(df['newlabels'], df['classification'])\n",
    "print(f\"Accuracy: {accuracy}\")"
   ]
  },
  {
   "cell_type": "code",
   "execution_count": 5,
   "id": "0abce5f7",
   "metadata": {},
   "outputs": [
    {
     "name": "stdout",
     "output_type": "stream",
     "text": [
      "Precision: 0.6195798793429245\n",
      "Recall: 0.477533960292581\n",
      "F1 Score: 0.44995161450729937\n"
     ]
    }
   ],
   "source": [
    "# Calculating precision, recall, and F1-score\n",
    "precision, recall, f1, _ = precision_recall_fscore_support(df['newlabels'], df['classification'], average='weighted')\n",
    "print(f\"Precision: {precision}\")\n",
    "print(f\"Recall: {recall}\")\n",
    "print(f\"F1 Score: {f1}\")"
   ]
  },
  {
   "cell_type": "code",
   "execution_count": 6,
   "id": "385e0541",
   "metadata": {},
   "outputs": [
    {
     "name": "stdout",
     "output_type": "stream",
     "text": [
      "Confusion Matrix:\n",
      "[[139   2   3  93]\n",
      " [ 24  71  12 136]\n",
      " [ 25   2  31 177]\n",
      " [  6   1  19 216]]\n"
     ]
    }
   ],
   "source": [
    "# Generating confusion matrix\n",
    "conf_matrix = confusion_matrix(df['newlabels'], df['classification'], labels=['0', '1', '2', '3'])\n",
    "print(\"Confusion Matrix:\")\n",
    "print(conf_matrix)"
   ]
  },
  {
   "cell_type": "code",
   "execution_count": 6,
   "id": "afc5e3db",
   "metadata": {},
   "outputs": [],
   "source": [
    "df2 = pd.read_csv('sampled_data.csv')"
   ]
  },
  {
   "cell_type": "code",
   "execution_count": 8,
   "id": "6e51fd13",
   "metadata": {},
   "outputs": [],
   "source": [
    "df2['classification'] = df2['text'].apply(safe_classify)"
   ]
  },
  {
   "cell_type": "code",
   "execution_count": 9,
   "id": "23fece96",
   "metadata": {},
   "outputs": [
    {
     "data": {
      "text/plain": [
       "classification\n",
       "3                                                                                                                                                                                                                                                                                                                                                                                                                                                                                                                                                                                                                                                             515\n",
       "2                                                                                                                                                                                                                                                                                                                                                                                                                                                                                                                                                                                                                                                             243\n",
       "0                                                                                                                                                                                                                                                                                                                                                                                                                                                                                                                                                                                                                                                             122\n",
       "1                                                                                                                                                                                                                                                                                                                                                                                                                                                                                                                                                                                                                                                              94\n",
       "Kommentar                                                                                                                                                                                                                                                                                                                                                                                                                                                                                                                                                                                                                                                       5\n",
       "Das ist ein Interview.                                                                                                                                                                                                                                                                                                                                                                                                                                                                                                                                                                                                                                          3\n",
       "Der Text \"„Lieber nicht als schlecht regieren“... „Lieber nicht als schlecht regieren“ „Olaf Scholz sucht einen Kurs aus der Misere“, von Christoph Zotter, 7.9.\" scheint ein Kommentar zu sein, da der Autor seine Meinung zu aktuellen politischen Entwicklungen äußert.                                                                                                                                                                                                                                                                                                                                                                                      1\n",
       "Bitte ordnen Sie den folgenden Text einer dieser Kategorien zu: Interview, Leserbrief, Kommentar oder keine von drei. Bei Interview geht es hauptsächlich um die Beantwortung von Fragen, oft über sich selbst, manchmal auch in Form eines Dialogs. Ein Leserbrief ist eine Meinungsäußerung auf den Inhalt eines Artikels, oft länger als ein Kommentar. Ein Kommentar ist oft ein kurzer Meinungsbeitrag. Zu keiner der drei Kategorien können einfache Informationen gehören. Als Antwort geben Sie nur den Wert '1', wenn das ein Interview ist, '2', wenn ein Leserbrief, '3', wenn ein Kommentar oder '0', wenn keine der drei Kategorien zutrifft.      1\n",
       "Die Einordnung des Textes lautet: 3. (Kommentar)                                                                                                                                                                                                                                                                                                                                                                                                                                                                                                                                                                                                                1\n",
       "Das ist ein Kommentar.                                                                                                                                                                                                                                                                                                                                                                                                                                                                                                                                                                                                                                          1\n",
       "Der Text gehört zur Kategorie 'Kommentar'.                                                                                                                                                                                                                                                                                                                                                                                                                                                                                                                                                                                                                      1\n",
       "Dieser Text gehört zur Kategorie 'Leserbrief'.                                                                                                                                                                                                                                                                                                                                                                                                                                                                                                                                                                                                                  1\n",
       "'2' Leserbrief                                                                                                                                                                                                                                                                                                                                                                                                                                                                                                                                                                                                                                                  1\n",
       "Wert: 1                                                                                                                                                                                                                                                                                                                                                                                                                                                                                                                                                                                                                                                         1\n",
       "Das ist kein Interview.                                                                                                                                                                                                                                                                                                                                                                                                                                                                                                                                                                                                                                         1\n",
       "Dieser Text könnte der Kategorie 'Interview' zugeordnet werden.                                                                                                                                                                                                                                                                                                                                                                                                                                                                                                                                                                                                 1\n",
       "Interview                                                                                                                                                                                                                                                                                                                                                                                                                                                                                                                                                                                                                                                       1\n",
       "Keine von drei.                                                                                                                                                                                                                                                                                                                                                                                                                                                                                                                                                                                                                                                 1\n",
       "Das ist keine von drei Kategorien.                                                                                                                                                                                                                                                                                                                                                                                                                                                                                                                                                                                                                              1\n",
       "3 (Kommentar)                                                                                                                                                                                                                                                                                                                                                                                                                                                                                                                                                                                                                                                   1\n",
       "kommentar                                                                                                                                                                                                                                                                                                                                                                                                                                                                                                                                                                                                                                                       1\n",
       "Das ist kein Leserbrief, kein Kommentar und kein Interview.                                                                                                                                                                                                                                                                                                                                                                                                                                                                                                                                                                                                     1\n",
       "Da der gegebene Text keiner der Kategorien Interview, Leserbrief oder Kommentar entspricht, ordne ich ihn keiner der drei Kategorien zu. Meine Antwort ist daher '0'.                                                                                                                                                                                                                                                                                                                                                                                                                                                                                           1\n",
       "Kommentar.                                                                                                                                                                                                                                                                                                                                                                                                                                                                                                                                                                                                                                                      1\n",
       "Name: count, dtype: int64"
      ]
     },
     "execution_count": 9,
     "metadata": {},
     "output_type": "execute_result"
    }
   ],
   "source": [
    "#checking labels returned from chatGPT, there are some reply exclusions\n",
    "label_counts2 = df2['classification'].value_counts()\n",
    "label_counts2"
   ]
  },
  {
   "cell_type": "code",
   "execution_count": 11,
   "id": "82cf7f82",
   "metadata": {},
   "outputs": [
    {
     "data": {
      "text/plain": [
       "classification\n",
       "3    515\n",
       "2    243\n",
       "0    122\n",
       "1     94\n",
       "Name: count, dtype: int64"
      ]
     },
     "execution_count": 11,
     "metadata": {},
     "output_type": "execute_result"
    }
   ],
   "source": [
    "df2['classification'] = df2['classification'].apply(clean_classification)\n",
    "df2 = df2[df2['classification'] != 'Invalid']\n",
    "label_counts2 = df2['classification'].value_counts()\n",
    "label_counts2"
   ]
  },
  {
   "cell_type": "code",
   "execution_count": 13,
   "id": "721c65a2",
   "metadata": {},
   "outputs": [],
   "source": [
    "df2['newlabels'] = df2['newlabels'].astype(str)\n",
    "df2['classification'] = df2['classification'].astype(str)"
   ]
  },
  {
   "cell_type": "code",
   "execution_count": 14,
   "id": "39ed86fd",
   "metadata": {},
   "outputs": [
    {
     "name": "stdout",
     "output_type": "stream",
     "text": [
      "Accuracy: 0.48254620123203285\n"
     ]
    }
   ],
   "source": [
    "accuracy = accuracy_score(df2['newlabels'], df2['classification'])\n",
    "print(f\"Accuracy: {accuracy}\")"
   ]
  },
  {
   "cell_type": "code",
   "execution_count": 15,
   "id": "491928ad",
   "metadata": {},
   "outputs": [
    {
     "name": "stdout",
     "output_type": "stream",
     "text": [
      "Precision: 0.5934192251183218\n",
      "Recall: 0.48254620123203285\n",
      "F1 Score: 0.4766869299536646\n"
     ]
    }
   ],
   "source": [
    "precision, recall, f1, _ = precision_recall_fscore_support(df2['newlabels'], df2['classification'], average='weighted')\n",
    "print(f\"Precision: {precision}\")\n",
    "print(f\"Recall: {recall}\")\n",
    "print(f\"F1 Score: {f1}\")"
   ]
  },
  {
   "cell_type": "code",
   "execution_count": null,
   "id": "db20b612",
   "metadata": {},
   "outputs": [],
   "source": []
  }
 ],
 "metadata": {
  "kernelspec": {
   "display_name": "Python 3 (ipykernel)",
   "language": "python",
   "name": "python3"
  },
  "language_info": {
   "codemirror_mode": {
    "name": "ipython",
    "version": 3
   },
   "file_extension": ".py",
   "mimetype": "text/x-python",
   "name": "python",
   "nbconvert_exporter": "python",
   "pygments_lexer": "ipython3",
   "version": "3.11.7"
  }
 },
 "nbformat": 4,
 "nbformat_minor": 5
}
