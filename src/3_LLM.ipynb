{
 "cells": [
  {
   "cell_type": "markdown",
   "metadata": {},
   "source": [
    "# Large Language Models Section\n",
    "\n",
    "**section description.......**"
   ]
  },
  {
   "cell_type": "code",
   "execution_count": 1,
   "metadata": {},
   "outputs": [
    {
     "name": "stdout",
     "output_type": "stream",
     "text": [
      "Requirement already satisfied: openai==0.28 in c:\\anaconda\\lib\\site-packages (0.28.0)\n",
      "Requirement already satisfied: requests>=2.20 in c:\\anaconda\\lib\\site-packages (from openai==0.28) (2.31.0)\n",
      "Requirement already satisfied: tqdm in c:\\anaconda\\lib\\site-packages (from openai==0.28) (4.65.0)\n",
      "Requirement already satisfied: aiohttp in c:\\anaconda\\lib\\site-packages (from openai==0.28) (3.8.5)\n",
      "Requirement already satisfied: charset-normalizer<4,>=2 in c:\\anaconda\\lib\\site-packages (from requests>=2.20->openai==0.28) (2.0.4)\n",
      "Requirement already satisfied: idna<4,>=2.5 in c:\\anaconda\\lib\\site-packages (from requests>=2.20->openai==0.28) (3.4)\n",
      "Requirement already satisfied: urllib3<3,>=1.21.1 in c:\\anaconda\\lib\\site-packages (from requests>=2.20->openai==0.28) (1.26.16)\n",
      "Requirement already satisfied: certifi>=2017.4.17 in c:\\anaconda\\lib\\site-packages (from requests>=2.20->openai==0.28) (2023.7.22)\n",
      "Requirement already satisfied: attrs>=17.3.0 in c:\\anaconda\\lib\\site-packages (from aiohttp->openai==0.28) (22.1.0)\n",
      "Requirement already satisfied: multidict<7.0,>=4.5 in c:\\anaconda\\lib\\site-packages (from aiohttp->openai==0.28) (6.0.2)\n",
      "Requirement already satisfied: async-timeout<5.0,>=4.0.0a3 in c:\\anaconda\\lib\\site-packages (from aiohttp->openai==0.28) (4.0.2)\n",
      "Requirement already satisfied: yarl<2.0,>=1.0 in c:\\anaconda\\lib\\site-packages (from aiohttp->openai==0.28) (1.8.1)\n",
      "Requirement already satisfied: frozenlist>=1.1.1 in c:\\anaconda\\lib\\site-packages (from aiohttp->openai==0.28) (1.3.3)\n",
      "Requirement already satisfied: aiosignal>=1.1.2 in c:\\anaconda\\lib\\site-packages (from aiohttp->openai==0.28) (1.2.0)\n",
      "Requirement already satisfied: colorama in c:\\anaconda\\lib\\site-packages (from tqdm->openai==0.28) (0.4.6)\n",
      "Note: you may need to restart the kernel to use updated packages.\n"
     ]
    }
   ],
   "source": [
    "pip install openai==0.28"
   ]
  },
  {
   "cell_type": "code",
   "execution_count": 12,
   "metadata": {},
   "outputs": [],
   "source": [
    "import pandas as pd\n",
    "import numpy as np\n",
    "from modules import SECRETS\n",
    "from modules.openAI import OpenAI\n",
    "from sklearn.model_selection import train_test_split\n",
    "from sklearn.metrics import accuracy_score, confusion_matrix\n",
    "from sklearn.metrics import precision_recall_fscore_support as score\n",
    "import matplotlib.pyplot as plt"
   ]
  },
  {
   "cell_type": "markdown",
   "metadata": {},
   "source": [
    "## Open AI ChatGPT"
   ]
  },
  {
   "cell_type": "code",
   "execution_count": 2,
   "metadata": {},
   "outputs": [],
   "source": [
    "gpt = OpenAI(SECRETS.OPENAI_API_KEY)\n",
    "df = pd.read_csv(\"data/full_text.csv\")"
   ]
  },
  {
   "cell_type": "code",
   "execution_count": 3,
   "metadata": {},
   "outputs": [],
   "source": [
    "df_sampled, _ = train_test_split(df, train_size=0.05, random_state=123)"
   ]
  },
  {
   "cell_type": "code",
   "execution_count": 4,
   "metadata": {},
   "outputs": [
    {
     "data": {
      "text/plain": [
       "<Axes: title={'center': 'sampled df'}, ylabel='count'>"
      ]
     },
     "execution_count": 4,
     "metadata": {},
     "output_type": "execute_result"
    },
    {
     "data": {
      "image/png": "[encoded data removed]",
      "text/plain": [
       "<Figure size 800x400 with 2 Axes>"
      ]
     },
     "metadata": {},
     "output_type": "display_data"
    }
   ],
   "source": [
    "fig, ax = plt.subplots(ncols = 2, figsize=(8,4))\n",
    "\n",
    "df['label_ids'].value_counts().plot(kind='pie', ax=ax[0], title=\"original df\")\n",
    "df_sampled['label_ids'].value_counts().plot(kind='pie', ax=ax[1], title=\"sampled df\")"
   ]
  },
  {
   "cell_type": "markdown",
   "metadata": {},
   "source": [
    "**The distribution of the labels are the same. So the sampled df can represent the reality correctly**"
   ]
  },
  {
   "cell_type": "code",
   "execution_count": 6,
   "metadata": {},
   "outputs": [
    {
     "data": {
      "text/plain": [
       "label_ids\n",
       "1    8500\n",
       "2     187\n",
       "0     103\n",
       "3      29\n",
       "Name: count, dtype: int64"
      ]
     },
     "execution_count": 6,
     "metadata": {},
     "output_type": "execute_result"
    }
   ],
   "source": [
    "label_counts = df_sampled['label_ids'].value_counts()\n",
    "label_counts"
   ]
  },
  {
   "cell_type": "code",
   "execution_count": 7,
   "metadata": {},
   "outputs": [],
   "source": [
    "def safe_classify(text):\n",
    "    try:\n",
    "        return gpt.classify_openai(text)\n",
    "    except Exception as e:\n",
    "        print(f\"Error classifying text: {text}. Error: {e}\")\n",
    "        return \"Error\"\n",
    "\n",
    "df_sampled['classification'] = df_sampled['text'].apply(safe_classify)"
   ]
  },
  {
   "cell_type": "code",
   "execution_count": 9,
   "metadata": {},
   "outputs": [
    {
     "data": {
      "text/plain": [
       "classification\n",
       "3                                                                                                                                                                                                                                                                                                                                                                                                                                                                                                                                                                                                                                                         4081\n",
       "0                                                                                                                                                                                                                                                                                                                                                                                                                                                                                                                                                                                                                                                         3384\n",
       "2                                                                                                                                                                                                                                                                                                                                                                                                                                                                                                                                                                                                                                                          975\n",
       "1                                                                                                                                                                                                                                                                                                                                                                                                                                                                                                                                                                                                                                                          155\n",
       "Kommentar                                                                                                                                                                                                                                                                                                                                                                                                                                                                                                                                                                                                                                                  117\n",
       "Das ist ein Kommentar.                                                                                                                                                                                                                                                                                                                                                                                                                                                                                                                                                                                                                                      15\n",
       "Das ist keine von drei Kategorien.                                                                                                                                                                                                                                                                                                                                                                                                                                                                                                                                                                                                                           8\n",
       "Keine von drei                                                                                                                                                                                                                                                                                                                                                                                                                                                                                                                                                                                                                                               6\n",
       "Das ist kein Interview, Leserbrief oder Kommentar.                                                                                                                                                                                                                                                                                                                                                                                                                                                                                                                                                                                                           6\n",
       "Leserbrief                                                                                                                                                                                                                                                                                                                                                                                                                                                                                                                                                                                                                                                   5\n",
       "Keine von drei.                                                                                                                                                                                                                                                                                                                                                                                                                                                                                                                                                                                                                                              5\n",
       "Das ist keine von drei.                                                                                                                                                                                                                                                                                                                                                                                                                                                                                                                                                                                                                                      3\n",
       "Dieser Text gehört zur Kategorie 'Kommentar'.                                                                                                                                                                                                                                                                                                                                                                                                                                                                                                                                                                                                                3\n",
       "3.                                                                                                                                                                                                                                                                                                                                                                                                                                                                                                                                                                                                                                                           3\n",
       "Interview                                                                                                                                                                                                                                                                                                                                                                                                                                                                                                                                                                                                                                                    3\n",
       "Das ist keine von diesen Kategorien.                                                                                                                                                                                                                                                                                                                                                                                                                                                                                                                                                                                                                         2\n",
       "Das ist ein Interview.                                                                                                                                                                                                                                                                                                                                                                                                                                                                                                                                                                                                                                       2\n",
       "2 (Leserbrief)                                                                                                                                                                                                                                                                                                                                                                                                                                                                                                                                                                                                                                               2\n",
       "Kommentar (3)                                                                                                                                                                                                                                                                                                                                                                                                                                                                                                                                                                                                                                                2\n",
       "Kommentar.                                                                                                                                                                                                                                                                                                                                                                                                                                                                                                                                                                                                                                                   2\n",
       "Das ist am ehesten ein Kommentar.                                                                                                                                                                                                                                                                                                                                                                                                                                                                                                                                                                                                                            1\n",
       "Das ist keine der drei Kategorien (Interview, Leserbrief, Kommentar).                                                                                                                                                                                                                                                                                                                                                                                                                                                                                                                                                                                        1\n",
       "Dies ist kein von drei Texten.                                                                                                                                                                                                                                                                                                                                                                                                                                                                                                                                                                                                                               1\n",
       "Dieser Text gehört zur Kategorie \"Interview\" (1), da es sich um ein Gespräch mit der Person Eva Maria Marold handelt, in dem sie über verschiedene Themen spricht, persönliche Anekdoten teilt und Fragen beantwortet.                                                                                                                                                                                                                                                                                                                                                                                                                                       1\n",
       "Das ist keine von den drei Kategorien.                                                                                                                                                                                                                                                                                                                                                                                                                                                                                                                                                                                                                       1\n",
       "Das ist kein Leserbrief, Kommentar oder Interview.                                                                                                                                                                                                                                                                                                                                                                                                                                                                                                                                                                                                           1\n",
       "Der Text gehört zu der Kategorie 'Keine von drei'.                                                                                                                                                                                                                                                                                                                                                                                                                                                                                                                                                                                                           1\n",
       "Dieser Text fällt in die Kategorie 'Interview'.                                                                                                                                                                                                                                                                                                                                                                                                                                                                                                                                                                                                              1\n",
       "2. Leserbrief                                                                                                                                                                                                                                                                                                                                                                                                                                                                                                                                                                                                                                                1\n",
       "Das stimmt nicht mit den gegebenen Kategorien überein.                                                                                                                                                                                                                                                                                                                                                                                                                                                                                                                                                                                                       1\n",
       "Das ist kein Interview.                                                                                                                                                                                                                                                                                                                                                                                                                                                                                                                                                                                                                                      1\n",
       "Bitte ordnen Sie den folgenden Text einer dieser Kategorien zu: Interview, Leserbrief, Kommentar oder keine von drei.                                                                                                                                                                                                                                                                                                                                                                                                                                                                                                                                        1\n",
       "Das ist kein von zwei Kategorien.                                                                                                                                                                                                                                                                                                                                                                                                                                                                                                                                                                                                                            1\n",
       "Diese Passage könnte als Interview kategorisiert werden.                                                                                                                                                                                                                                                                                                                                                                                                                                                                                                                                                                                                     1\n",
       "Das Text ist ein Kommentar.                                                                                                                                                                                                                                                                                                                                                                                                                                                                                                                                                                                                                                  1\n",
       "Dieser Text gehört zur Kategorie: keiner von drei.                                                                                                                                                                                                                                                                                                                                                                                                                                                                                                                                                                                                           1\n",
       "Das ist kein Kommentar.                                                                                                                                                                                                                                                                                                                                                                                                                                                                                                                                                                                                                                      1\n",
       "Dieser Text passt am besten in die Kategorie \"Kommentar\".                                                                                                                                                                                                                                                                                                                                                                                                                                                                                                                                                                                                    1\n",
       "Dies scheint ein Kommentar zu sein.                                                                                                                                                                                                                                                                                                                                                                                                                                                                                                                                                                                                                          1\n",
       "Diese Textpassage passt am ehesten zur Kategorie \"keine von drei\", da es sich nicht um ein Interview, einen Leserbrief oder einen Kommentar handelt. Daher würde ich den Wert '0' angeben.                                                                                                                                                                                                                                                                                                                                                                                                                                                                   1\n",
       "'0'                                                                                                                                                                                                                                                                                                                                                                                                                                                                                                                                                                                                                                                          1\n",
       "keine von drei                                                                                                                                                                                                                                                                                                                                                                                                                                                                                                                                                                                                                                               1\n",
       "Dieser Text passt am besten in die Kategorie 'Kommentar'.                                                                                                                                                                                                                                                                                                                                                                                                                                                                                                                                                                                                    1\n",
       "Dieser Text kann keiner der drei Kategorien zugeordnet werden.                                                                                                                                                                                                                                                                                                                                                                                                                                                                                                                                                                                               1\n",
       "Dies ist ein Kommentar.                                                                                                                                                                                                                                                                                                                                                                                                                                                                                                                                                                                                                                      1\n",
       "Keine von den drei.                                                                                                                                                                                                                                                                                                                                                                                                                                                                                                                                                                                                                                          1\n",
       "3. Kommentar                                                                                                                                                                                                                                                                                                                                                                                                                                                                                                                                                                                                                                                 1\n",
       "Wahrscheinlich ein Kommentar.                                                                                                                                                                                                                                                                                                                                                                                                                                                                                                                                                                                                                                1\n",
       "Bitte ordnen Sie den folgenden Text einer dieser Kategorien zu: Interview, Leserbrief, Kommentar oder keine von drei. Bei Interview geht es hauptsächlich um die Beantwortung von Fragen, oft über sich selbst, manchmal auch in Form eines Dialogs. Ein Leserbrief ist eine Meinungsäußerung auf den Inhalt eines Artikels, oft länger als Kommentar. Kommentar ist oft ein kurzer Meinungsbeitrag. Zu keiner der drei Kategorien können einfache Infonachrichten gehören. Als Antwort geben Sie nur den Wert '1', wenn das ein Interview ist, '2', wenn ein Leserbrief, '3', wenn ein Kommentar oder '0', wenn keine von diesen Kategorien zutrifft.       1\n",
       "Dieser Text passt am ehesten in die Kategorie 'Interview' (Wert 1), da Informationen über die Person Bettina Prochaska dargestellt werden und ihre Ziele und Motivationen erläutert werden.                                                                                                                                                                                                                                                                                                                                                                                                                                                                  1\n",
       "Es handelt sich um ein Interview.                                                                                                                                                                                                                                                                                                                                                                                                                                                                                                                                                                                                                            1\n",
       "Dieser Text gehört keiner der drei Kategorien zu.                                                                                                                                                                                                                                                                                                                                                                                                                                                                                                                                                                                                            1\n",
       "Das ist kein Interview, Leserbrief oder Kommentar. Daher gebe ich '0' als Antwort.                                                                                                                                                                                                                                                                                                                                                                                                                                                                                                                                                                           1\n",
       "Da der Text verschiedene Empfehlungen und Erfahrungen mit verschiedenen Lokalen am Donauradweg enthält, ordne ich ihn der Kategorie **Kommentar** zu.                                                                                                                                                                                                                                                                                                                                                                                                                                                                                                        1\n",
       "Nein.                                                                                                                                                                                                                                                                                                                                                                                                                                                                                                                                                                                                                                                        1\n",
       "Der Text passt am besten in Kategorie 'keine von drei', da es sich um eine Zusammenfassung verschiedener Nachrichten handelt, ohne eine persönliche Meinung oder Diskussion zu enthalten. Daher gebe ich den Wert '0'.                                                                                                                                                                                                                                                                                                                                                                                                                                       1\n",
       "1.                                                                                                                                                                                                                                                                                                                                                                                                                                                                                                                                                                                                                                                           1\n",
       "Eine Leserbrief.                                                                                                                                                                                                                                                                                                                                                                                                                                                                                                                                                                                                                                             1\n",
       "Bitte entscheiden Sie, zu welcher der folgenden Kategorien der Text gehört: Interview, Leserbrief, Kommentar oder keine von drei.  \\n\\nAntwortmöglichkeiten:  \\n1 = Interview  \\n2 = Leserbrief  \\n3 = Kommentar  \\n0 = keine von drei                                                                                                                                                                                                                                                                                                                                                                                                                       1\n",
       "Dieser Text gehört zur Kategorie Kommentar.                                                                                                                                                                                                                                                                                                                                                                                                                                                                                                                                                                                                                  1\n",
       "Name: count, dtype: int64"
      ]
     },
     "execution_count": 9,
     "metadata": {},
     "output_type": "execute_result"
    }
   ],
   "source": [
    "#checking labels returned from chatGPT, there are some reply exclusions\n",
    "label_counts = df_sampled['classification'].value_counts()\n",
    "label_counts"
   ]
  },
  {
   "cell_type": "code",
   "execution_count": 10,
   "metadata": {},
   "outputs": [],
   "source": [
    "#setting function for cleaning dataset from reply exclusions\n",
    "def clean_classification(value):\n",
    "    valid_classifications = {'0', '1', '2', '3'}  # Set of valid classification values\n",
    "    if value.strip() in valid_classifications:\n",
    "        return value.strip()\n",
    "    else:\n",
    "        return 'Invalid'\n",
    "\n",
    "# Apply this function to the dataset\n",
    "df_sampled['classification'] = df_sampled['classification'].apply(clean_classification)"
   ]
  },
  {
   "cell_type": "code",
   "execution_count": 14,
   "metadata": {},
   "outputs": [
    {
     "name": "stdout",
     "output_type": "stream",
     "text": [
      "Accuracy: 0.024832747477038213\n"
     ]
    }
   ],
   "source": [
    "df_sampled['label_ids'] = df_sampled['label_ids'].astype(str)\n",
    "df_sampled['classification'] = df_sampled['classification'].astype(str)\n",
    "# Calculating accuracy\n",
    "accuracy = accuracy_score(df_sampled['label_ids'], df_sampled['classification'])\n",
    "print(f\"Accuracy: {accuracy}\")"
   ]
  },
  {
   "cell_type": "code",
   "execution_count": 15,
   "metadata": {},
   "outputs": [
    {
     "name": "stdout",
     "output_type": "stream",
     "text": [
      "Precision: 0.8096847672390789\n",
      "Recall: 0.024832747477038213\n",
      "F1 Score: 0.031171182914909643\n"
     ]
    },
    {
     "name": "stderr",
     "output_type": "stream",
     "text": [
      "C:\\anaconda\\Lib\\site-packages\\sklearn\\metrics\\_classification.py:1469: UndefinedMetricWarning: Recall and F-score are ill-defined and being set to 0.0 in labels with no true samples. Use `zero_division` parameter to control this behavior.\n",
      "  _warn_prf(average, modifier, msg_start, len(result))\n"
     ]
    }
   ],
   "source": [
    "# Calculating precision, recall, and F1-score\n",
    "precision, recall, f1, _ = score(df_sampled['label_ids'], df_sampled['classification'], average='weighted')\n",
    "print(f\"Precision: {precision}\")\n",
    "print(f\"Recall: {recall}\")\n",
    "print(f\"F1 Score: {f1}\")"
   ]
  },
  {
   "cell_type": "code",
   "execution_count": 16,
   "metadata": {},
   "outputs": [
    {
     "name": "stdout",
     "output_type": "stream",
     "text": [
      "Confusion Matrix:\n",
      "[[  10   20   38   32]\n",
      " [3362  130  872 3918]\n",
      " [  12    4   58  110]\n",
      " [   0    1    7   21]]\n"
     ]
    }
   ],
   "source": [
    "# Generating confusion matrix\n",
    "conf_matrix = confusion_matrix(df_sampled['label_ids'], df_sampled['classification'], labels=['0', '1', '2', '3'])\n",
    "print(\"Confusion Matrix:\")\n",
    "print(conf_matrix)"
   ]
  },
  {
   "cell_type": "code",
   "execution_count": null,
   "metadata": {},
   "outputs": [],
   "source": []
  }
 ],
 "metadata": {
  "kernelspec": {
   "display_name": "Python 3 (ipykernel)",
   "language": "python",
   "name": "python3"
  },
  "language_info": {
   "codemirror_mode": {
    "name": "ipython",
    "version": 3
   },
   "file_extension": ".py",
   "mimetype": "text/x-python",
   "name": "python",
   "nbconvert_exporter": "python",
   "pygments_lexer": "ipython3",
   "version": "3.11.5"
  }
 },
 "nbformat": 4,
 "nbformat_minor": 2
}
