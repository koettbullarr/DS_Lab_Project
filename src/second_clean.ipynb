{
 "cells": [
  {
   "cell_type": "code",
   "execution_count": 1,
   "metadata": {},
   "outputs": [],
   "source": [
    "import pandas as pd\n",
    "import numpy as np\n",
    "import matplotlib.pyplot as plt\n",
    "import seaborn as sns\n",
    "%matplotlib inline"
   ]
  },
  {
   "cell_type": "code",
   "execution_count": 2,
   "metadata": {},
   "outputs": [],
   "source": [
    "interview = pd.read_json('./export_20240314/interview.jsonl', lines=True)\n",
    "letters = pd.read_json('./export_20240314/leserbrief.jsonl', lines=True)\n",
    "comments = pd.read_json('./export_20240314/meinung.jsonl', lines=True)"
   ]
  },
  {
   "cell_type": "code",
   "execution_count": 6,
   "metadata": {},
   "outputs": [],
   "source": [
    "data = [interview, letters, comments]\n",
    "\n",
    "# Extract data from list values in \"labels\" column\n",
    "for i in range(len(data)):\n",
    "    data[i]['labels'] = data[i]['labels'].apply(lambda x: x[0])\n",
    "    \n",
    "interview = data[0]\n",
    "letters = data[1]\n",
    "comments = data[2]"
   ]
  },
  {
   "cell_type": "code",
   "execution_count": 10,
   "metadata": {},
   "outputs": [],
   "source": [
    "interview['labels'] = interview['labels'].apply(lambda x: \"interview\" if x == \"RELEVANT\" else x)\n",
    "letters['labels'] = letters['labels'].apply(lambda x: \"letter\" if x == \"RELEVANT\" else x)\n",
    "comments['labels'] = comments['labels'].apply(lambda x: \"comment\" if x == \"RELEVANT\" else x)"
   ]
  },
  {
   "cell_type": "code",
   "execution_count": 33,
   "metadata": {},
   "outputs": [
    {
     "data": {
      "text/html": [
       "<div>\n",
       "<style scoped>\n",
       "    .dataframe tbody tr th:only-of-type {\n",
       "        vertical-align: middle;\n",
       "    }\n",
       "\n",
       "    .dataframe tbody tr th {\n",
       "        vertical-align: top;\n",
       "    }\n",
       "\n",
       "    .dataframe thead th {\n",
       "        text-align: right;\n",
       "    }\n",
       "</style>\n",
       "<table border=\"1\" class=\"dataframe\">\n",
       "  <thead>\n",
       "    <tr style=\"text-align: right;\">\n",
       "      <th></th>\n",
       "      <th>labels</th>\n",
       "      <th>text</th>\n",
       "      <th>unikey</th>\n",
       "      <th>recname</th>\n",
       "      <th>recstamp</th>\n",
       "    </tr>\n",
       "  </thead>\n",
       "  <tbody>\n",
       "    <tr>\n",
       "      <th>0</th>\n",
       "      <td>interview</td>\n",
       "      <td>Zwei Jubiläen als Stresstest\\n\\ninterviewLento...</td>\n",
       "      <td>2.099312e+18</td>\n",
       "      <td>KRONE_2023123115001241154</td>\n",
       "      <td>2023-12-31T00:00:00Z</td>\n",
       "    </tr>\n",
       "    <tr>\n",
       "      <th>1</th>\n",
       "      <td>interview</td>\n",
       "      <td>Leserbrief: \"Klimawandel oder Klimakrise\"\\n\\n ...</td>\n",
       "      <td>6.326778e+18</td>\n",
       "      <td>KRONE_2023123115001241348</td>\n",
       "      <td>2023-12-31T00:00:00Z</td>\n",
       "    </tr>\n",
       "    <tr>\n",
       "      <th>2</th>\n",
       "      <td>interview</td>\n",
       "      <td>„Kaum eine Woche unter 80 Arbeitsstunden!“\\n\\n...</td>\n",
       "      <td>1.018152e+19</td>\n",
       "      <td>KRONE_2023123115001241763</td>\n",
       "      <td>2023-12-31T00:00:00Z</td>\n",
       "    </tr>\n",
       "    <tr>\n",
       "      <th>3</th>\n",
       "      <td>interview</td>\n",
       "      <td>„Check this out! This is paradise!“\\n\\nDer US-...</td>\n",
       "      <td>2.242322e+18</td>\n",
       "      <td>KRONE_2023123115001241958</td>\n",
       "      <td>2023-12-31T00:00:00Z</td>\n",
       "    </tr>\n",
       "    <tr>\n",
       "      <th>4</th>\n",
       "      <td>interview</td>\n",
       "      <td>„Es War eine extreme hochschaubahn“\\n\\n   Der ...</td>\n",
       "      <td>1.969262e+18</td>\n",
       "      <td>KRONE_2023123115001240272</td>\n",
       "      <td>2023-12-31T00:00:00Z</td>\n",
       "    </tr>\n",
       "    <tr>\n",
       "      <th>...</th>\n",
       "      <td>...</td>\n",
       "      <td>...</td>\n",
       "      <td>...</td>\n",
       "      <td>...</td>\n",
       "      <td>...</td>\n",
       "    </tr>\n",
       "    <tr>\n",
       "      <th>165209</th>\n",
       "      <td>NONRELEVANT</td>\n",
       "      <td>Leitartikel von Josef Urschitz ...\\n\\n   Leita...</td>\n",
       "      <td>5.762835e+18</td>\n",
       "      <td>PRESSE_2023072912051938357710005</td>\n",
       "      <td>2023-07-29T00:00:00Z</td>\n",
       "    </tr>\n",
       "    <tr>\n",
       "      <th>165210</th>\n",
       "      <td>NONRELEVANT</td>\n",
       "      <td>Die OMV schwimmt bald in Gas\\n\\n   Energie. De...</td>\n",
       "      <td>9.671982e+18</td>\n",
       "      <td>PRESSE_2023072912051938357710004</td>\n",
       "      <td>2023-07-29T00:00:00Z</td>\n",
       "    </tr>\n",
       "    <tr>\n",
       "      <th>165211</th>\n",
       "      <td>NONRELEVANT</td>\n",
       "      <td>Feuilleton...\\n\\n   Feuilleton\\n\\n\\n   Figaros...</td>\n",
       "      <td>7.641877e+18</td>\n",
       "      <td>PRESSE_2023072912051938357710003</td>\n",
       "      <td>2023-07-29T00:00:00Z</td>\n",
       "    </tr>\n",
       "    <tr>\n",
       "      <th>165212</th>\n",
       "      <td>NONRELEVANT</td>\n",
       "      <td>Radio &amp; TV...\\n\\n   Radio &amp; TV\\n\\n\\n   S. 8\\n\\...</td>\n",
       "      <td>2.516675e+18</td>\n",
       "      <td>PRESSE_2023072912051938357710002</td>\n",
       "      <td>2023-07-29T00:00:00Z</td>\n",
       "    </tr>\n",
       "    <tr>\n",
       "      <th>165213</th>\n",
       "      <td>NONRELEVANT</td>\n",
       "      <td>seit1848Samstag,29.Juli2023.Preis: 3,50 Euro.N...</td>\n",
       "      <td>1.502581e+19</td>\n",
       "      <td>PRESSE_2023072912051938357710001</td>\n",
       "      <td>2023-07-29T00:00:00Z</td>\n",
       "    </tr>\n",
       "  </tbody>\n",
       "</table>\n",
       "<p>165214 rows × 5 columns</p>\n",
       "</div>"
      ],
      "text/plain": [
       "             labels                                               text  \\\n",
       "0         interview  Zwei Jubiläen als Stresstest\\n\\ninterviewLento...   \n",
       "1         interview  Leserbrief: \"Klimawandel oder Klimakrise\"\\n\\n ...   \n",
       "2         interview  „Kaum eine Woche unter 80 Arbeitsstunden!“\\n\\n...   \n",
       "3         interview  „Check this out! This is paradise!“\\n\\nDer US-...   \n",
       "4         interview  „Es War eine extreme hochschaubahn“\\n\\n   Der ...   \n",
       "...             ...                                                ...   \n",
       "165209  NONRELEVANT  Leitartikel von Josef Urschitz ...\\n\\n   Leita...   \n",
       "165210  NONRELEVANT  Die OMV schwimmt bald in Gas\\n\\n   Energie. De...   \n",
       "165211  NONRELEVANT  Feuilleton...\\n\\n   Feuilleton\\n\\n\\n   Figaros...   \n",
       "165212  NONRELEVANT  Radio & TV...\\n\\n   Radio & TV\\n\\n\\n   S. 8\\n\\...   \n",
       "165213  NONRELEVANT  seit1848Samstag,29.Juli2023.Preis: 3,50 Euro.N...   \n",
       "\n",
       "              unikey                           recname              recstamp  \n",
       "0       2.099312e+18         KRONE_2023123115001241154  2023-12-31T00:00:00Z  \n",
       "1       6.326778e+18         KRONE_2023123115001241348  2023-12-31T00:00:00Z  \n",
       "2       1.018152e+19         KRONE_2023123115001241763  2023-12-31T00:00:00Z  \n",
       "3       2.242322e+18         KRONE_2023123115001241958  2023-12-31T00:00:00Z  \n",
       "4       1.969262e+18         KRONE_2023123115001240272  2023-12-31T00:00:00Z  \n",
       "...              ...                               ...                   ...  \n",
       "165209  5.762835e+18  PRESSE_2023072912051938357710005  2023-07-29T00:00:00Z  \n",
       "165210  9.671982e+18  PRESSE_2023072912051938357710004  2023-07-29T00:00:00Z  \n",
       "165211  7.641877e+18  PRESSE_2023072912051938357710003  2023-07-29T00:00:00Z  \n",
       "165212  2.516675e+18  PRESSE_2023072912051938357710002  2023-07-29T00:00:00Z  \n",
       "165213  1.502581e+19  PRESSE_2023072912051938357710001  2023-07-29T00:00:00Z  \n",
       "\n",
       "[165214 rows x 5 columns]"
      ]
     },
     "execution_count": 33,
     "metadata": {},
     "output_type": "execute_result"
    }
   ],
   "source": [
    "interview"
   ]
  },
  {
   "cell_type": "code",
   "execution_count": 62,
   "metadata": {},
   "outputs": [],
   "source": [
    "data = pd.concat([interview, letters, comments], ignore_index=True).drop_duplicates(subset=['labels', 'text'])"
   ]
  },
  {
   "cell_type": "code",
   "execution_count": 63,
   "metadata": {},
   "outputs": [
    {
     "name": "stdout",
     "output_type": "stream",
     "text": [
      "<class 'pandas.core.frame.DataFrame'>\n",
      "Index: 182918 entries, 0 to 505641\n",
      "Data columns (total 5 columns):\n",
      " #   Column    Non-Null Count   Dtype  \n",
      "---  ------    --------------   -----  \n",
      " 0   labels    182918 non-null  object \n",
      " 1   text      182918 non-null  object \n",
      " 2   unikey    182918 non-null  float64\n",
      " 3   recname   182918 non-null  object \n",
      " 4   recstamp  182918 non-null  object \n",
      "dtypes: float64(1), object(4)\n",
      "memory usage: 8.4+ MB\n"
     ]
    }
   ],
   "source": [
    "data.info()"
   ]
  },
  {
   "cell_type": "code",
   "execution_count": 70,
   "metadata": {},
   "outputs": [
    {
     "data": {
      "text/html": [
       "<div>\n",
       "<style scoped>\n",
       "    .dataframe tbody tr th:only-of-type {\n",
       "        vertical-align: middle;\n",
       "    }\n",
       "\n",
       "    .dataframe tbody tr th {\n",
       "        vertical-align: top;\n",
       "    }\n",
       "\n",
       "    .dataframe thead th {\n",
       "        text-align: right;\n",
       "    }\n",
       "</style>\n",
       "<table border=\"1\" class=\"dataframe\">\n",
       "  <thead>\n",
       "    <tr style=\"text-align: right;\">\n",
       "      <th></th>\n",
       "      <th>text</th>\n",
       "      <th>labels</th>\n",
       "      <th>len</th>\n",
       "    </tr>\n",
       "  </thead>\n",
       "  <tbody>\n",
       "    <tr>\n",
       "      <th>0</th>\n",
       "      <td>\"Immobilien-Kartenhaus\"\\n\\nWenn Otto Normalver...</td>\n",
       "      <td>[letter, NONRELEVANT]</td>\n",
       "      <td>2</td>\n",
       "    </tr>\n",
       "    <tr>\n",
       "      <th>1</th>\n",
       "      <td>\"Klimakleber\"\\n\\nDie jüngsten Wetterkapriolen ...</td>\n",
       "      <td>[letter, NONRELEVANT]</td>\n",
       "      <td>2</td>\n",
       "    </tr>\n",
       "    <tr>\n",
       "      <th>2</th>\n",
       "      <td>\"Schonungslose Finanz-Bilanz\"\\n\\nWer das verga...</td>\n",
       "      <td>[letter, NONRELEVANT]</td>\n",
       "      <td>2</td>\n",
       "    </tr>\n",
       "    <tr>\n",
       "      <th>3</th>\n",
       "      <td>\"Wiener Zeitung\" als Start-up ohne Mehrwert\\n\\...</td>\n",
       "      <td>[NONRELEVANT, comment]</td>\n",
       "      <td>2</td>\n",
       "    </tr>\n",
       "    <tr>\n",
       "      <th>4</th>\n",
       "      <td>\"Österreich, die Friedensmacht\"\\n\\nAuf der Wel...</td>\n",
       "      <td>[letter, NONRELEVANT]</td>\n",
       "      <td>2</td>\n",
       "    </tr>\n",
       "    <tr>\n",
       "      <th>...</th>\n",
       "      <td>...</td>\n",
       "      <td>...</td>\n",
       "      <td>...</td>\n",
       "    </tr>\n",
       "    <tr>\n",
       "      <th>6330</th>\n",
       "      <td>„Österreich ist zu teuer geworden“\\n\\nIntervie...</td>\n",
       "      <td>[interview, NONRELEVANT]</td>\n",
       "      <td>2</td>\n",
       "    </tr>\n",
       "    <tr>\n",
       "      <th>6331</th>\n",
       "      <td>„Österreichs Kultur war anfangs ein Schock“\\n\\...</td>\n",
       "      <td>[interview, NONRELEVANT]</td>\n",
       "      <td>2</td>\n",
       "    </tr>\n",
       "    <tr>\n",
       "      <th>6332</th>\n",
       "      <td>„Österreichs Position ist dieses Mal extrem“\\n...</td>\n",
       "      <td>[interview, NONRELEVANT]</td>\n",
       "      <td>2</td>\n",
       "    </tr>\n",
       "    <tr>\n",
       "      <th>6333</th>\n",
       "      <td>„Über Aufnahmetests fürs Medizin-Studium muss ...</td>\n",
       "      <td>[interview, NONRELEVANT]</td>\n",
       "      <td>2</td>\n",
       "    </tr>\n",
       "    <tr>\n",
       "      <th>6334</th>\n",
       "      <td>… dann wird der Wähler auf die Politik schimpf...</td>\n",
       "      <td>[interview, letter, NONRELEVANT]</td>\n",
       "      <td>3</td>\n",
       "    </tr>\n",
       "  </tbody>\n",
       "</table>\n",
       "<p>6335 rows × 3 columns</p>\n",
       "</div>"
      ],
      "text/plain": [
       "                                                   text  \\\n",
       "0     \"Immobilien-Kartenhaus\"\\n\\nWenn Otto Normalver...   \n",
       "1     \"Klimakleber\"\\n\\nDie jüngsten Wetterkapriolen ...   \n",
       "2     \"Schonungslose Finanz-Bilanz\"\\n\\nWer das verga...   \n",
       "3     \"Wiener Zeitung\" als Start-up ohne Mehrwert\\n\\...   \n",
       "4     \"Österreich, die Friedensmacht\"\\n\\nAuf der Wel...   \n",
       "...                                                 ...   \n",
       "6330  „Österreich ist zu teuer geworden“\\n\\nIntervie...   \n",
       "6331  „Österreichs Kultur war anfangs ein Schock“\\n\\...   \n",
       "6332  „Österreichs Position ist dieses Mal extrem“\\n...   \n",
       "6333  „Über Aufnahmetests fürs Medizin-Studium muss ...   \n",
       "6334  … dann wird der Wähler auf die Politik schimpf...   \n",
       "\n",
       "                                labels  len  \n",
       "0                [letter, NONRELEVANT]    2  \n",
       "1                [letter, NONRELEVANT]    2  \n",
       "2                [letter, NONRELEVANT]    2  \n",
       "3               [NONRELEVANT, comment]    2  \n",
       "4                [letter, NONRELEVANT]    2  \n",
       "...                                ...  ...  \n",
       "6330          [interview, NONRELEVANT]    2  \n",
       "6331          [interview, NONRELEVANT]    2  \n",
       "6332          [interview, NONRELEVANT]    2  \n",
       "6333          [interview, NONRELEVANT]    2  \n",
       "6334  [interview, letter, NONRELEVANT]    3  \n",
       "\n",
       "[6335 rows x 3 columns]"
      ]
     },
     "execution_count": 70,
     "metadata": {},
     "output_type": "execute_result"
    }
   ],
   "source": [
    "duplicates = data[data.duplicated(subset='text', keep=False)][['labels', 'text']].groupby('text')['labels'].apply(list).reset_index()\n",
    "duplicates['len'] = duplicates['labels'].apply(lambda x: len(x))\n",
    "duplicates"
   ]
  },
  {
   "cell_type": "code",
   "execution_count": 73,
   "metadata": {},
   "outputs": [
    {
     "data": {
      "text/html": [
       "<div>\n",
       "<style scoped>\n",
       "    .dataframe tbody tr th:only-of-type {\n",
       "        vertical-align: middle;\n",
       "    }\n",
       "\n",
       "    .dataframe tbody tr th {\n",
       "        vertical-align: top;\n",
       "    }\n",
       "\n",
       "    .dataframe thead th {\n",
       "        text-align: right;\n",
       "    }\n",
       "</style>\n",
       "<table border=\"1\" class=\"dataframe\">\n",
       "  <thead>\n",
       "    <tr style=\"text-align: right;\">\n",
       "      <th></th>\n",
       "      <th>text</th>\n",
       "      <th>labels</th>\n",
       "      <th>len</th>\n",
       "    </tr>\n",
       "  </thead>\n",
       "  <tbody>\n",
       "  </tbody>\n",
       "</table>\n",
       "</div>"
      ],
      "text/plain": [
       "Empty DataFrame\n",
       "Columns: [text, labels, len]\n",
       "Index: []"
      ]
     },
     "execution_count": 73,
     "metadata": {},
     "output_type": "execute_result"
    }
   ],
   "source": [
    "duplicates[duplicates['len'] == 4]"
   ]
  },
  {
   "cell_type": "code",
   "execution_count": 75,
   "metadata": {},
   "outputs": [
    {
     "data": {
      "text/html": [
       "<div>\n",
       "<style scoped>\n",
       "    .dataframe tbody tr th:only-of-type {\n",
       "        vertical-align: middle;\n",
       "    }\n",
       "\n",
       "    .dataframe tbody tr th {\n",
       "        vertical-align: top;\n",
       "    }\n",
       "\n",
       "    .dataframe thead th {\n",
       "        text-align: right;\n",
       "    }\n",
       "</style>\n",
       "<table border=\"1\" class=\"dataframe\">\n",
       "  <thead>\n",
       "    <tr style=\"text-align: right;\">\n",
       "      <th></th>\n",
       "      <th>text</th>\n",
       "      <th>labels</th>\n",
       "      <th>len</th>\n",
       "    </tr>\n",
       "  </thead>\n",
       "  <tbody>\n",
       "    <tr>\n",
       "      <th>15</th>\n",
       "      <td>2024!\\n\\n   Nein, ich werde NICHT von meinen W...</td>\n",
       "      <td>[interview, NONRELEVANT, comment]</td>\n",
       "      <td>3</td>\n",
       "    </tr>\n",
       "    <tr>\n",
       "      <th>26</th>\n",
       "      <td>A O H 1 9 9 6 !!!\\n\\n   ???\\n\\n\\n   Na, die Pi...</td>\n",
       "      <td>[interview, NONRELEVANT, comment]</td>\n",
       "      <td>3</td>\n",
       "    </tr>\n",
       "    <tr>\n",
       "      <th>28</th>\n",
       "      <td>A-l-a-b-a!\\n\\n   David Alaba.\\n\\n\\n   Gegenwär...</td>\n",
       "      <td>[interview, NONRELEVANT, comment]</td>\n",
       "      <td>3</td>\n",
       "    </tr>\n",
       "    <tr>\n",
       "      <th>38</th>\n",
       "      <td>Abstruse Groteske!\\n\\n   Absurder geht’s schwe...</td>\n",
       "      <td>[interview, NONRELEVANT, comment]</td>\n",
       "      <td>3</td>\n",
       "    </tr>\n",
       "    <tr>\n",
       "      <th>96</th>\n",
       "      <td>BLUTGELD, Herr Selmayr Martin?\\n\\n   Selten ha...</td>\n",
       "      <td>[interview, NONRELEVANT, comment]</td>\n",
       "      <td>3</td>\n",
       "    </tr>\n",
       "    <tr>\n",
       "      <th>...</th>\n",
       "      <td>...</td>\n",
       "      <td>...</td>\n",
       "      <td>...</td>\n",
       "    </tr>\n",
       "    <tr>\n",
       "      <th>5200</th>\n",
       "      <td>Weihnachten aus meiner Sicht!\\n\\n   Ich hab zw...</td>\n",
       "      <td>[interview, NONRELEVANT, comment]</td>\n",
       "      <td>3</td>\n",
       "    </tr>\n",
       "    <tr>\n",
       "      <th>5309</th>\n",
       "      <td>Zum Anspeiben!\\n\\n   So sagt man, wenn einem n...</td>\n",
       "      <td>[interview, NONRELEVANT, comment]</td>\n",
       "      <td>3</td>\n",
       "    </tr>\n",
       "    <tr>\n",
       "      <th>5321</th>\n",
       "      <td>an eine Staatsanwältin!\\n\\n   Nicht an irgende...</td>\n",
       "      <td>[interview, NONRELEVANT, comment]</td>\n",
       "      <td>3</td>\n",
       "    </tr>\n",
       "    <tr>\n",
       "      <th>5813</th>\n",
       "      <td>„Ich dachte, ich spinne!“\\n\\n   So kürzlich ei...</td>\n",
       "      <td>[interview, NONRELEVANT, comment]</td>\n",
       "      <td>3</td>\n",
       "    </tr>\n",
       "    <tr>\n",
       "      <th>6334</th>\n",
       "      <td>… dann wird der Wähler auf die Politik schimpf...</td>\n",
       "      <td>[interview, letter, NONRELEVANT]</td>\n",
       "      <td>3</td>\n",
       "    </tr>\n",
       "  </tbody>\n",
       "</table>\n",
       "<p>96 rows × 3 columns</p>\n",
       "</div>"
      ],
      "text/plain": [
       "                                                   text  \\\n",
       "15    2024!\\n\\n   Nein, ich werde NICHT von meinen W...   \n",
       "26    A O H 1 9 9 6 !!!\\n\\n   ???\\n\\n\\n   Na, die Pi...   \n",
       "28    A-l-a-b-a!\\n\\n   David Alaba.\\n\\n\\n   Gegenwär...   \n",
       "38    Abstruse Groteske!\\n\\n   Absurder geht’s schwe...   \n",
       "96    BLUTGELD, Herr Selmayr Martin?\\n\\n   Selten ha...   \n",
       "...                                                 ...   \n",
       "5200  Weihnachten aus meiner Sicht!\\n\\n   Ich hab zw...   \n",
       "5309  Zum Anspeiben!\\n\\n   So sagt man, wenn einem n...   \n",
       "5321  an eine Staatsanwältin!\\n\\n   Nicht an irgende...   \n",
       "5813  „Ich dachte, ich spinne!“\\n\\n   So kürzlich ei...   \n",
       "6334  … dann wird der Wähler auf die Politik schimpf...   \n",
       "\n",
       "                                 labels  len  \n",
       "15    [interview, NONRELEVANT, comment]    3  \n",
       "26    [interview, NONRELEVANT, comment]    3  \n",
       "28    [interview, NONRELEVANT, comment]    3  \n",
       "38    [interview, NONRELEVANT, comment]    3  \n",
       "96    [interview, NONRELEVANT, comment]    3  \n",
       "...                                 ...  ...  \n",
       "5200  [interview, NONRELEVANT, comment]    3  \n",
       "5309  [interview, NONRELEVANT, comment]    3  \n",
       "5321  [interview, NONRELEVANT, comment]    3  \n",
       "5813  [interview, NONRELEVANT, comment]    3  \n",
       "6334   [interview, letter, NONRELEVANT]    3  \n",
       "\n",
       "[96 rows x 3 columns]"
      ]
     },
     "execution_count": 75,
     "metadata": {},
     "output_type": "execute_result"
    }
   ],
   "source": [
    "tripple_duplicates = duplicates[duplicates['len'] == 3]\n",
    "tripple_duplicates"
   ]
  },
  {
   "cell_type": "code",
   "execution_count": 76,
   "metadata": {},
   "outputs": [
    {
     "name": "stdout",
     "output_type": "stream",
     "text": [
      "<class 'pandas.core.frame.DataFrame'>\n",
      "Index: 182918 entries, 0 to 505641\n",
      "Data columns (total 5 columns):\n",
      " #   Column    Non-Null Count   Dtype  \n",
      "---  ------    --------------   -----  \n",
      " 0   labels    182918 non-null  object \n",
      " 1   text      182918 non-null  object \n",
      " 2   unikey    182918 non-null  float64\n",
      " 3   recname   182918 non-null  object \n",
      " 4   recstamp  182918 non-null  object \n",
      "dtypes: float64(1), object(4)\n",
      "memory usage: 8.4+ MB\n"
     ]
    }
   ],
   "source": [
    "data.info()"
   ]
  },
  {
   "cell_type": "code",
   "execution_count": 77,
   "metadata": {},
   "outputs": [],
   "source": [
    "data = data[~data['text'].isin(tripple_duplicates['text'])]\n"
   ]
  },
  {
   "cell_type": "code",
   "execution_count": 80,
   "metadata": {},
   "outputs": [
    {
     "data": {
      "text/html": [
       "<div>\n",
       "<style scoped>\n",
       "    .dataframe tbody tr th:only-of-type {\n",
       "        vertical-align: middle;\n",
       "    }\n",
       "\n",
       "    .dataframe tbody tr th {\n",
       "        vertical-align: top;\n",
       "    }\n",
       "\n",
       "    .dataframe thead th {\n",
       "        text-align: right;\n",
       "    }\n",
       "</style>\n",
       "<table border=\"1\" class=\"dataframe\">\n",
       "  <thead>\n",
       "    <tr style=\"text-align: right;\">\n",
       "      <th></th>\n",
       "      <th>text</th>\n",
       "      <th>labels</th>\n",
       "      <th>len</th>\n",
       "    </tr>\n",
       "  </thead>\n",
       "  <tbody>\n",
       "    <tr>\n",
       "      <th>0</th>\n",
       "      <td>\"Immobilien-Kartenhaus\"\\n\\nWenn Otto Normalver...</td>\n",
       "      <td>[letter, NONRELEVANT]</td>\n",
       "      <td>2</td>\n",
       "    </tr>\n",
       "    <tr>\n",
       "      <th>1</th>\n",
       "      <td>\"Klimakleber\"\\n\\nDie jüngsten Wetterkapriolen ...</td>\n",
       "      <td>[letter, NONRELEVANT]</td>\n",
       "      <td>2</td>\n",
       "    </tr>\n",
       "    <tr>\n",
       "      <th>2</th>\n",
       "      <td>\"Schonungslose Finanz-Bilanz\"\\n\\nWer das verga...</td>\n",
       "      <td>[letter, NONRELEVANT]</td>\n",
       "      <td>2</td>\n",
       "    </tr>\n",
       "    <tr>\n",
       "      <th>3</th>\n",
       "      <td>\"Wiener Zeitung\" als Start-up ohne Mehrwert\\n\\...</td>\n",
       "      <td>[NONRELEVANT, comment]</td>\n",
       "      <td>2</td>\n",
       "    </tr>\n",
       "    <tr>\n",
       "      <th>4</th>\n",
       "      <td>\"Österreich, die Friedensmacht\"\\n\\nAuf der Wel...</td>\n",
       "      <td>[letter, NONRELEVANT]</td>\n",
       "      <td>2</td>\n",
       "    </tr>\n",
       "    <tr>\n",
       "      <th>...</th>\n",
       "      <td>...</td>\n",
       "      <td>...</td>\n",
       "      <td>...</td>\n",
       "    </tr>\n",
       "    <tr>\n",
       "      <th>6329</th>\n",
       "      <td>„Österreich ist entspannter“\\n\\nLachen, weinen...</td>\n",
       "      <td>[interview, NONRELEVANT]</td>\n",
       "      <td>2</td>\n",
       "    </tr>\n",
       "    <tr>\n",
       "      <th>6330</th>\n",
       "      <td>„Österreich ist zu teuer geworden“\\n\\nIntervie...</td>\n",
       "      <td>[interview, NONRELEVANT]</td>\n",
       "      <td>2</td>\n",
       "    </tr>\n",
       "    <tr>\n",
       "      <th>6331</th>\n",
       "      <td>„Österreichs Kultur war anfangs ein Schock“\\n\\...</td>\n",
       "      <td>[interview, NONRELEVANT]</td>\n",
       "      <td>2</td>\n",
       "    </tr>\n",
       "    <tr>\n",
       "      <th>6332</th>\n",
       "      <td>„Österreichs Position ist dieses Mal extrem“\\n...</td>\n",
       "      <td>[interview, NONRELEVANT]</td>\n",
       "      <td>2</td>\n",
       "    </tr>\n",
       "    <tr>\n",
       "      <th>6333</th>\n",
       "      <td>„Über Aufnahmetests fürs Medizin-Studium muss ...</td>\n",
       "      <td>[interview, NONRELEVANT]</td>\n",
       "      <td>2</td>\n",
       "    </tr>\n",
       "  </tbody>\n",
       "</table>\n",
       "<p>6239 rows × 3 columns</p>\n",
       "</div>"
      ],
      "text/plain": [
       "                                                   text  \\\n",
       "0     \"Immobilien-Kartenhaus\"\\n\\nWenn Otto Normalver...   \n",
       "1     \"Klimakleber\"\\n\\nDie jüngsten Wetterkapriolen ...   \n",
       "2     \"Schonungslose Finanz-Bilanz\"\\n\\nWer das verga...   \n",
       "3     \"Wiener Zeitung\" als Start-up ohne Mehrwert\\n\\...   \n",
       "4     \"Österreich, die Friedensmacht\"\\n\\nAuf der Wel...   \n",
       "...                                                 ...   \n",
       "6329  „Österreich ist entspannter“\\n\\nLachen, weinen...   \n",
       "6330  „Österreich ist zu teuer geworden“\\n\\nIntervie...   \n",
       "6331  „Österreichs Kultur war anfangs ein Schock“\\n\\...   \n",
       "6332  „Österreichs Position ist dieses Mal extrem“\\n...   \n",
       "6333  „Über Aufnahmetests fürs Medizin-Studium muss ...   \n",
       "\n",
       "                        labels  len  \n",
       "0        [letter, NONRELEVANT]    2  \n",
       "1        [letter, NONRELEVANT]    2  \n",
       "2        [letter, NONRELEVANT]    2  \n",
       "3       [NONRELEVANT, comment]    2  \n",
       "4        [letter, NONRELEVANT]    2  \n",
       "...                        ...  ...  \n",
       "6329  [interview, NONRELEVANT]    2  \n",
       "6330  [interview, NONRELEVANT]    2  \n",
       "6331  [interview, NONRELEVANT]    2  \n",
       "6332  [interview, NONRELEVANT]    2  \n",
       "6333  [interview, NONRELEVANT]    2  \n",
       "\n",
       "[6239 rows x 3 columns]"
      ]
     },
     "execution_count": 80,
     "metadata": {},
     "output_type": "execute_result"
    }
   ],
   "source": [
    "double_duplicates = duplicates[duplicates['len']==2]\n",
    "double_duplicates"
   ]
  },
  {
   "cell_type": "code",
   "execution_count": 81,
   "metadata": {},
   "outputs": [
    {
     "name": "stderr",
     "output_type": "stream",
     "text": [
      "/var/folders/8c/_sr2kqv935l1jvwxjljct8680000gn/T/ipykernel_15747/145104926.py:1: SettingWithCopyWarning: \n",
      "A value is trying to be set on a copy of a slice from a DataFrame.\n",
      "Try using .loc[row_indexer,col_indexer] = value instead\n",
      "\n",
      "See the caveats in the documentation: https://pandas.pydata.org/pandas-docs/stable/user_guide/indexing.html#returning-a-view-versus-a-copy\n",
      "  double_duplicates['NONRELEVANT_isin'] = double_duplicates['labels'].apply(lambda x: True if \"NONRELEVANT\" in x else False)\n"
     ]
    }
   ],
   "source": [
    "double_duplicates['NONRELEVANT_isin'] = double_duplicates['labels'].apply(lambda x: True if \"NONRELEVANT\" in x else False)"
   ]
  },
  {
   "cell_type": "code",
   "execution_count": 83,
   "metadata": {},
   "outputs": [
    {
     "data": {
      "text/plain": [
       "NONRELEVANT_isin\n",
       "True    6239\n",
       "Name: count, dtype: int64"
      ]
     },
     "execution_count": 83,
     "metadata": {},
     "output_type": "execute_result"
    }
   ],
   "source": [
    "double_duplicates['NONRELEVANT_isin'].value_counts()"
   ]
  },
  {
   "cell_type": "markdown",
   "metadata": {},
   "source": [
    "Non relevant is in every row so we only take the valid label"
   ]
  },
  {
   "cell_type": "code",
   "execution_count": 90,
   "metadata": {},
   "outputs": [],
   "source": [
    "# Identify rows in data that match conditions in double_duplicates\n",
    "rows_to_remove = double_duplicates.apply(lambda row: (row['text'] in data['text']) and ('non-relevant' in row['label']), axis=1)\n",
    "\n",
    "# # Remove identified rows from data\n",
    "# filtered_data = data[~rows_to_remove]\n",
    "\n",
    "# # Display the filtered DataFrame\n",
    "# print(filtered_data)\n"
   ]
  },
  {
   "cell_type": "code",
   "execution_count": 98,
   "metadata": {},
   "outputs": [],
   "source": [
    "to_delete = data['text'].isin(double_duplicates[double_duplicates['labels'].apply(lambda x: 'NONRELEVANT' in x)]['text'])"
   ]
  },
  {
   "cell_type": "code",
   "execution_count": 118,
   "metadata": {},
   "outputs": [
    {
     "name": "stderr",
     "output_type": "stream",
     "text": [
      "/var/folders/8c/_sr2kqv935l1jvwxjljct8680000gn/T/ipykernel_15747/2356065782.py:1: UserWarning: Boolean Series key will be reindexed to match DataFrame index.\n",
      "  to_delete = data[data['text'].isin(double_duplicates['text'])][data['labels']=='NONRELEVANT']\n"
     ]
    }
   ],
   "source": [
    "to_delete = data[data['text'].isin(double_duplicates['text'])][data['labels']=='NONRELEVANT']\n",
    "to_delete_indicies = to_delete.index"
   ]
  },
  {
   "cell_type": "code",
   "execution_count": 121,
   "metadata": {},
   "outputs": [],
   "source": [
    "data = data.drop(to_delete_indicies)"
   ]
  },
  {
   "cell_type": "code",
   "execution_count": 123,
   "metadata": {},
   "outputs": [
    {
     "data": {
      "text/html": [
       "<div>\n",
       "<style scoped>\n",
       "    .dataframe tbody tr th:only-of-type {\n",
       "        vertical-align: middle;\n",
       "    }\n",
       "\n",
       "    .dataframe tbody tr th {\n",
       "        vertical-align: top;\n",
       "    }\n",
       "\n",
       "    .dataframe thead th {\n",
       "        text-align: right;\n",
       "    }\n",
       "</style>\n",
       "<table border=\"1\" class=\"dataframe\">\n",
       "  <thead>\n",
       "    <tr style=\"text-align: right;\">\n",
       "      <th></th>\n",
       "      <th>labels</th>\n",
       "      <th>text</th>\n",
       "      <th>unikey</th>\n",
       "      <th>recname</th>\n",
       "      <th>recstamp</th>\n",
       "    </tr>\n",
       "  </thead>\n",
       "  <tbody>\n",
       "  </tbody>\n",
       "</table>\n",
       "</div>"
      ],
      "text/plain": [
       "Empty DataFrame\n",
       "Columns: [labels, text, unikey, recname, recstamp]\n",
       "Index: []"
      ]
     },
     "execution_count": 123,
     "metadata": {},
     "output_type": "execute_result"
    }
   ],
   "source": [
    "data[data.duplicated(subset='text')]"
   ]
  },
  {
   "cell_type": "code",
   "execution_count": 125,
   "metadata": {},
   "outputs": [
    {
     "data": {
      "text/plain": [
       "<Axes: ylabel='count'>"
      ]
     },
     "execution_count": 125,
     "metadata": {},
     "output_type": "execute_result"
    },
    {
     "data": {
      "image/png": "[encoded data removed]",
      "text/plain": [
       "<Figure size 640x480 with 1 Axes>"
      ]
     },
     "metadata": {},
     "output_type": "display_data"
    }
   ],
   "source": [
    "data['labels'].value_counts().plot(kind='pie', autopct='%1.1f%%')"
   ]
  },
  {
   "cell_type": "code",
   "execution_count": 140,
   "metadata": {},
   "outputs": [],
   "source": [
    "from preprocess import PreprocessAPA\n",
    "preprocessor = PreprocessAPA(\".\",\".\",\".\")"
   ]
  },
  {
   "cell_type": "code",
   "execution_count": 143,
   "metadata": {},
   "outputs": [],
   "source": [
    "df = data.copy()\n",
    "words = ['leserpost', 'leserbrief']\n",
    "\n",
    "def word_remover(text):\n",
    "    text = text.lower()\n",
    "    for word in words:\n",
    "        text = text.replace(word,'')\n",
    "    return text\n",
    "\n",
    "df['text'] = df['text'].apply(word_remover)"
   ]
  },
  {
   "cell_type": "code",
   "execution_count": 144,
   "metadata": {},
   "outputs": [],
   "source": [
    "df = preprocessor.remove_punctuation(df, 'text')\n",
    "df = preprocessor.remove_whitespace(df, 'text')\n",
    "df = preprocessor.ml_text_preproc(df, 'text', 'labels', full_preproc=False)"
   ]
  },
  {
   "cell_type": "code",
   "execution_count": 146,
   "metadata": {},
   "outputs": [
    {
     "data": {
      "text/html": [
       "<div>\n",
       "<style scoped>\n",
       "    .dataframe tbody tr th:only-of-type {\n",
       "        vertical-align: middle;\n",
       "    }\n",
       "\n",
       "    .dataframe tbody tr th {\n",
       "        vertical-align: top;\n",
       "    }\n",
       "\n",
       "    .dataframe thead th {\n",
       "        text-align: right;\n",
       "    }\n",
       "</style>\n",
       "<table border=\"1\" class=\"dataframe\">\n",
       "  <thead>\n",
       "    <tr style=\"text-align: right;\">\n",
       "      <th></th>\n",
       "      <th>labels</th>\n",
       "      <th>label_ids</th>\n",
       "    </tr>\n",
       "  </thead>\n",
       "  <tbody>\n",
       "    <tr>\n",
       "      <th>0</th>\n",
       "      <td>interview</td>\n",
       "      <td>0</td>\n",
       "    </tr>\n",
       "    <tr>\n",
       "      <th>911</th>\n",
       "      <td>NONRELEVANT</td>\n",
       "      <td>1</td>\n",
       "    </tr>\n",
       "    <tr>\n",
       "      <th>165228</th>\n",
       "      <td>letter</td>\n",
       "      <td>2</td>\n",
       "    </tr>\n",
       "    <tr>\n",
       "      <th>336408</th>\n",
       "      <td>comment</td>\n",
       "      <td>3</td>\n",
       "    </tr>\n",
       "  </tbody>\n",
       "</table>\n",
       "</div>"
      ],
      "text/plain": [
       "             labels  label_ids\n",
       "0         interview          0\n",
       "911     NONRELEVANT          1\n",
       "165228       letter          2\n",
       "336408      comment          3"
      ]
     },
     "execution_count": 146,
     "metadata": {},
     "output_type": "execute_result"
    }
   ],
   "source": [
    "df = df[['text', 'label_ids', 'labels']]\n",
    "df[['labels', 'label_ids']].drop_duplicates()"
   ]
  },
  {
   "cell_type": "code",
   "execution_count": 147,
   "metadata": {},
   "outputs": [],
   "source": [
    "from ML_models import ML_Models"
   ]
  },
  {
   "cell_type": "code",
   "execution_count": 148,
   "metadata": {},
   "outputs": [],
   "source": [
    "model = ML_Models()"
   ]
  },
  {
   "cell_type": "code",
   "execution_count": 150,
   "metadata": {},
   "outputs": [
    {
     "name": "stdout",
     "output_type": "stream",
     "text": [
      "Logistic Regression\n",
      "              precision    recall  f1-score   support\n",
      "\n",
      "           0       0.72      0.40      0.52       395\n",
      "           1       0.97      1.00      0.99     33957\n",
      "           2       0.80      0.27      0.40       726\n",
      "           3       0.00      0.00      0.00       114\n",
      "\n",
      "    accuracy                           0.97     35192\n",
      "   macro avg       0.62      0.42      0.48     35192\n",
      "weighted avg       0.97      0.97      0.97     35192\n",
      "\n",
      "\n"
     ]
    }
   ],
   "source": [
    "model_performance = model.run(df)"
   ]
  },
  {
   "cell_type": "code",
   "execution_count": null,
   "metadata": {},
   "outputs": [],
   "source": []
  }
 ],
 "metadata": {
  "kernelspec": {
   "display_name": "base",
   "language": "python",
   "name": "python3"
  },
  "language_info": {
   "codemirror_mode": {
    "name": "ipython",
    "version": 3
   },
   "file_extension": ".py",
   "mimetype": "text/x-python",
   "name": "python",
   "nbconvert_exporter": "python",
   "pygments_lexer": "ipython3",
   "version": "3.11.7"
  }
 },
 "nbformat": 4,
 "nbformat_minor": 2
}
